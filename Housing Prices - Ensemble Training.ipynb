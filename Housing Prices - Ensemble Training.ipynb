{
 "cells": [
  {
   "cell_type": "code",
   "execution_count": 39,
   "metadata": {},
   "outputs": [],
   "source": [
    "import numpy as np\n",
    "import pandas as pd\n",
    "from sklearn.metrics import mean_squared_log_error\n",
    "\n",
    "train_df_full = pd.read_csv(\"new_train_1h.csv\")\n",
    "test_df = pd.read_csv(\"new_test_1h.csv\")"
   ]
  },
  {
   "cell_type": "code",
   "execution_count": 40,
   "metadata": {},
   "outputs": [],
   "source": [
    "train_df = train_df_full.sample(frac=0.6,random_state=200)\n",
    "evaluate_df = train_df_full.drop(train_df.index)\n",
    "\n",
    "X_train = train_df.drop(['Id','SalePrice'], axis=1)\n",
    "Y_train = train_df[\"SalePrice\"]\n",
    "X_train_full = train_df_full.drop(['Id','SalePrice'], axis=1)\n",
    "Y_train_full = train_df_full[\"SalePrice\"]\n",
    "X_eval  = evaluate_df.drop(['Id','SalePrice'], axis=1)\n",
    "Y_eval  = evaluate_df[\"SalePrice\"]\n",
    "X_test = test_df.drop('Id', axis=1)"
   ]
  },
  {
   "cell_type": "markdown",
   "metadata": {},
   "source": [
    "## Drop Columns (list from House Prices - Column Selection)"
   ]
  },
  {
   "cell_type": "code",
   "execution_count": 41,
   "metadata": {},
   "outputs": [],
   "source": [
    "orig_drop_list = ['Neighborhood', 'QuarterMean', 'MonthMean']\n",
    "\n",
    "X_train.drop(orig_drop_list, axis=1, inplace=True)\n",
    "X_eval.drop(orig_drop_list, axis=1, inplace=True)\n",
    "X_train_full.drop(orig_drop_list, axis=1, inplace=True)\n",
    "X_test.drop(orig_drop_list, axis=1, inplace=True)\n",
    "\n",
    "drop_list = ['BldgType_4', 'Neighborhood_3', 'Foundation_4', 'Neighborhood_2', \\\n",
    "              'Foundation_3', 'Foundation_2', 'Foundation_1', 'GarageType_4', \\\n",
    "              'GarageType_3', 'GarageType_2', 'GarageType_1', 'LotConfig_2', \\\n",
    "              'LotConfig_5', 'GarageFinish_3', 'GarageFinish_2', 'Neighborhood_23', \\\n",
    "              'BedroomAbvGr', 'LotConfig_3', 'KitchenAbvGr', 'Neighborhood_24', \\\n",
    "              'GarageFinish_1', 'Neighborhood_21', 'LotConfig_4', 'Neighborhood_6', \\\n",
    "              'Neighborhood_20', 'BsmtHalfBath', 'Neighborhood_9', 'Neighborhood_18', \\\n",
    "              'BldgType_3', 'Neighborhood_19', 'Neighborhood_22', 'HeatingQC', \\\n",
    "              'LowQualFinSF', 'Neighborhood_15', 'Neighborhood_16', 'Neighborhood_25', \\\n",
    "              'SaleCondition_2', 'PavedDrive', 'BsmtFinSF2', 'Neighborhood_14', \\\n",
    "              'BldgType_5', 'Neighborhood_12', 'Neighborhood_17', 'GarageQual', \\\n",
    "              'Neighborhood_13', 'BsmtFinType2', 'HouseStyle_2', 'BsmtCond', \\\n",
    "              'Neighborhood_10', 'Neighborhood_11', 'Neighborhood_7', 'Neighborhood_8', \\\n",
    "              'BldgType_2', 'Neighborhood_5', 'HouseStyle_8', 'Fireplaces', \\\n",
    "              'HouseStyle_7', 'HouseStyle_6', 'HouseStyle_5', 'HouseStyle_4', \\\n",
    "              'HouseStyle_3', 'ExterCond']\n",
    "drop_list = ['BldgType_4', 'Neighborhood_3', 'Foundation_4', 'Neighborhood_2', \\\n",
    "             'Foundation_3', 'Foundation_2', 'Foundation_1', 'GarageType_4', \\\n",
    "             'GarageType_3', 'GarageType_2', 'GarageType_1', 'LotConfig_2']\n",
    "\n",
    "X_train.drop(drop_list, axis=1,inplace=True)\n",
    "X_eval.drop(drop_list, axis=1,inplace=True)\n",
    "X_train_full.drop(drop_list, axis=1,inplace=True)\n",
    "X_test.drop(drop_list, axis=1,inplace=True)\n",
    "\n",
    "\n",
    "# new_column_list = ['QuarterMeanNorm', 'MonthMeanNorm', 'AdjRemodAdd', \\\n",
    "#                    'OverallQualNCond', 'TotalSquareFeet', 'GarageCars', \\\n",
    "#                    'TotRmsAbvGrd', 'LotArea', 'Neighborhood', \\\n",
    "#                    'FullBath', 'BedroomAbvGr', 'KitchenQual', \\\n",
    "#                    'BsmtQual', 'ExterQual']\n",
    "# X_train = X_train[new_column_list]\n",
    "# X_eval = X_eval[new_column_list]\n",
    "# X_train_full = X_train_full[new_column_list]\n",
    "# X_test = X_test[new_column_list]"
   ]
  },
  {
   "cell_type": "markdown",
   "metadata": {},
   "source": [
    "## Ensemble NFOLDS cross-validation and XGBoost"
   ]
  },
  {
   "cell_type": "code",
   "execution_count": 42,
   "metadata": {},
   "outputs": [],
   "source": [
    "X_ens_train = X_train\n",
    "y_ens_train = Y_train\n",
    "X_ens_test = X_eval\n",
    "\n",
    "# X_ens_train = X_train_full\n",
    "# y_ens_train = Y_train_full\n",
    "# X_ens_test = X_test"
   ]
  },
  {
   "cell_type": "code",
   "execution_count": 43,
   "metadata": {},
   "outputs": [],
   "source": [
    "from sklearn.model_selection import KFold\n",
    "from sklearn.ensemble import RandomForestRegressor\n",
    "from sklearn.ensemble import GradientBoostingRegressor\n",
    "from sklearn.ensemble import ExtraTreesRegressor\n",
    "from sklearn.ensemble import AdaBoostRegressor\n",
    "\n",
    "ntrain = X_ens_train.shape[0]\n",
    "ntest = X_ens_test.shape[0]\n",
    "num_folds = 5\n",
    "seed = 300\n",
    "num_est = 100\n",
    "\n",
    "kf = KFold(n_splits=num_folds, random_state=seed, shuffle=True)\n",
    "\n",
    "class SklearnHelper(object):\n",
    "    def __init__(self, clf, seed=0, params=None):\n",
    "        params['random_state'] = seed\n",
    "        self.clf = clf(**params)\n",
    "\n",
    "    def train(self, x_train, y_train):\n",
    "        self.clf.fit(x_train, y_train)\n",
    "\n",
    "    def predict(self, x):\n",
    "        return self.clf.predict(x)\n",
    "    \n",
    "    def fit(self,x,y):\n",
    "        return self.clf.fit(x,y)\n",
    "    \n",
    "    def feature_importances(self,x,y):\n",
    "        return self.clf.fit(x,y).feature_importances_\n",
    "#         print(self.clf.fit(x,y).feature_importances_)\n",
    "\n",
    "\n",
    "def get_oof(clf, x_train, y_train, x_test):\n",
    "    oof_train = np.zeros((ntrain,))\n",
    "    oof_test = np.zeros((ntest,))\n",
    "    oof_test_skf = np.empty((num_folds, ntest))\n",
    "\n",
    "    for i, (train_index, test_index) in enumerate(kf.split(x_train)):\n",
    "#         x_tr = x_train[train_index]\n",
    "#         y_tr = y_train[train_index]\n",
    "#         x_te = x_train[test_index]\n",
    "        x_tr = x_train.iloc[list(train_index)]\n",
    "        y_tr = y_train.iloc[list(train_index)]\n",
    "        x_te = x_train.iloc[list(test_index)]\n",
    "\n",
    "        clf.train(x_tr, y_tr)\n",
    "\n",
    "        oof_train[test_index] = clf.predict(x_te)\n",
    "        oof_test_skf[i, :] = clf.predict(x_test)\n",
    "\n",
    "    oof_test[:] = oof_test_skf.mean(axis=0)\n",
    "    return oof_train.reshape(-1, 1), oof_test.reshape(-1, 1)\n",
    "\n",
    "rf_params = {\n",
    "    'n_jobs': 10,\n",
    "    'n_estimators': 2000, #100 = .1449, 1000= .1443 , 2000= .1440\n",
    "    #'warm_start': True, \n",
    "    'max_features': 0.3, #na = .1543, 0.3= .1464\n",
    "    'max_depth': 15, #na = .1464, 10 = 0.1463, 20 = .1461, 15 = 0.1449\n",
    "    #'min_samples_leaf': 1, #na = 0.1449\n",
    "    #'max_features' : 'sqrt',\n",
    "    #'verbose': 0\n",
    "}\n",
    "\n",
    "# Extra Trees Parameters\n",
    "et_params = {\n",
    "    #'n_jobs': -1,\n",
    "    'n_estimators':60,\n",
    "    #'max_features': 0.9,\n",
    "    'max_depth': 10,\n",
    "    #'min_samples_leaf': 4,\n",
    "    #'verbose': 1\n",
    "}\n",
    "\n",
    "# AdaBoost parameters\n",
    "ad_params = {\n",
    "    'n_estimators': 100, #100 = 0.1799\n",
    "    #learning_rate' : 3 #na = 0.1799, 0.75=0.182\n",
    "}\n",
    "\n",
    "# Gradient Boosting parameters\n",
    "gb_params = {\n",
    "    'n_estimators': 500, #100 = 0.1442, 200 = 0.1415, 500 = 0.1407, 1000 = 0.1409\n",
    "    'max_features': 0.3, #0.2 = 0.1371, 0.3 = 0.1344, 0.4 = 0.1358\n",
    "    #'max_depth': 3,\n",
    "    #'min_samples_leaf': 5,\n",
    "    #'verbose': 0\n",
    "}\n",
    "\n",
    "\n",
    "rf = SklearnHelper(clf=RandomForestRegressor, seed=seed, params=rf_params)\n",
    "et = SklearnHelper(clf=ExtraTreesRegressor, seed=seed, params=et_params)\n",
    "ad = SklearnHelper(clf=AdaBoostRegressor, seed=seed, params=ad_params)\n",
    "gb = SklearnHelper(clf=GradientBoostingRegressor, seed=seed, params=gb_params)"
   ]
  },
  {
   "cell_type": "code",
   "execution_count": 44,
   "metadata": {},
   "outputs": [],
   "source": [
    "# et_params = {\n",
    "#     #'n_jobs': -1,\n",
    "#     'n_estimators':60,\n",
    "#     #'max_features': 0.9,\n",
    "#     'max_depth': 10,\n",
    "#     #'min_samples_leaf': 4,\n",
    "#     #'verbose': 1\n",
    "# }\n",
    "\n",
    "# et = SklearnHelper(clf=ExtraTreesRegressor, seed=seed, params=et_params)\n",
    "# et_oof_train, et_oof_test = get_oof(et, X_ens_train, y_ens_train, X_ens_test) # Extra Trees\n",
    "# acc_train = np.sqrt(mean_squared_log_error(y_ens_train, et.predict(X_ens_train)))\n",
    "# acc_eval = np.sqrt(mean_squared_log_error(Y_eval, et.predict(X_ens_test)))\n",
    "# print (f'ET: Train = {acc_train}  Evaluate = {acc_eval}')"
   ]
  },
  {
   "cell_type": "code",
   "execution_count": 45,
   "metadata": {},
   "outputs": [],
   "source": [
    "# rf_params = {\n",
    "#     'n_jobs': 10,\n",
    "#     'n_estimators': 2000, #100 = .1449, 1000= .1443 , 2000= .1440\n",
    "#     #'warm_start': True, \n",
    "#     'max_features': 0.3, #na = .1543, 0.3= .1464\n",
    "#     'max_depth': 15, #na = .1464, 10 = 0.1463, 20 = .1461, 15 = 0.1449\n",
    "#     #'min_samples_leaf': 1, #na = 0.1449\n",
    "#     #'max_features' : 'sqrt',\n",
    "#     #'verbose': 0\n",
    "# }\n",
    "\n",
    "# rf = SklearnHelper(clf=RandomForestRegressor, seed=seed, params=rf_params)\n",
    "\n",
    "# rf_oof_train, rf_oof_test = get_oof(rf, X_ens_train, y_ens_train, X_ens_test) # Random Forest\n",
    "# acc_train = np.sqrt(mean_squared_log_error(y_ens_train, rf.predict(X_ens_train)))\n",
    "# acc_eval = np.sqrt(mean_squared_log_error(Y_eval, rf.predict(X_ens_test)))\n",
    "# print (f'RF: Train = {acc_train}  Evaluate = {acc_eval}')"
   ]
  },
  {
   "cell_type": "code",
   "execution_count": 46,
   "metadata": {},
   "outputs": [],
   "source": [
    "# ad_params = {\n",
    "#     'n_estimators': 100, #100 = 0.1799\n",
    "#     #learning_rate' : 3 #na = 0.1799, 0.75=0.182\n",
    "# }\n",
    "\n",
    "# ad = SklearnHelper(clf=AdaBoostRegressor, seed=seed, params=ad_params)\n",
    "\n",
    "# ad_oof_train, ad_oof_test = get_oof(ad, X_ens_train, y_ens_train, X_ens_test) # AdaBoost\n",
    "# acc_train = np.sqrt(mean_squared_log_error(y_ens_train, ad.predict(X_ens_train)))\n",
    "# acc_eval = np.sqrt(mean_squared_log_error(Y_eval, ad.predict(X_ens_test)))\n",
    "# print (f'AD: Train = {acc_train}  Evaluate = {acc_eval}')"
   ]
  },
  {
   "cell_type": "code",
   "execution_count": 47,
   "metadata": {},
   "outputs": [],
   "source": [
    "# gb_params = {\n",
    "#     'n_estimators': 500, #100 = 0.1442, 200 = 0.1415, 500 = 0.1407, 1000 = 0.1409\n",
    "#     'max_features': 0.3, #0.2 = 0.1371, 0.3 = 0.1344, 0.4 = 0.1358\n",
    "#     #'max_depth': 3,\n",
    "#     #'min_samples_leaf': 5,\n",
    "#     #'verbose': 0\n",
    "# }\n",
    "\n",
    "# gb = SklearnHelper(clf=GradientBoostingRegressor, seed=seed, params=gb_params)\n",
    "# gb_oof_train, gb_oof_test = get_oof(gb, X_ens_train, y_ens_train, X_ens_test) # Gradient Boost\n",
    "# acc_train = np.sqrt(mean_squared_log_error(y_ens_train, gb.predict(X_ens_train)))\n",
    "# acc_eval = np.sqrt(mean_squared_log_error(Y_eval, gb.predict(X_ens_test)))\n",
    "# print (f'GB: Train = {acc_train}  Evaluate = {acc_eval}')"
   ]
  },
  {
   "cell_type": "code",
   "execution_count": 48,
   "metadata": {},
   "outputs": [
    {
     "name": "stdout",
     "output_type": "stream",
     "text": [
      "Training is complete\n"
     ]
    }
   ],
   "source": [
    "rf_oof_train, rf_oof_test = get_oof(rf, X_ens_train, y_ens_train, X_ens_test) # Random Forest\n",
    "et_oof_train, et_oof_test = get_oof(et, X_ens_train, y_ens_train, X_ens_test) # Extra Trees\n",
    "ad_oof_train, ad_oof_test = get_oof(ad, X_ens_train, y_ens_train, X_ens_test) # AdaBoost \n",
    "gb_oof_train, gb_oof_test = get_oof(gb, X_ens_train, y_ens_train, X_ens_test) # Gradient Boost\n",
    "\n",
    "print(\"Training is complete\")"
   ]
  },
  {
   "cell_type": "markdown",
   "metadata": {},
   "source": [
    "### Evaluation of trainers"
   ]
  },
  {
   "cell_type": "code",
   "execution_count": 49,
   "metadata": {},
   "outputs": [
    {
     "name": "stdout",
     "output_type": "stream",
     "text": [
      "ET: Train = 0.06612530712862164  Evaluate = 0.13979548348912774\n",
      "RF: Train = 0.0767037179452672  Evaluate = 0.1439309764319522\n",
      "AD: Train = 0.15423272069653246  Evaluate = 0.18155088198510075\n",
      "GB: Train = 0.06560919622504459  Evaluate = 0.1366891392196188\n"
     ]
    }
   ],
   "source": [
    "acc_train = np.sqrt(mean_squared_log_error(y_ens_train, et.predict(X_ens_train)))\n",
    "acc_eval = np.sqrt(mean_squared_log_error(Y_eval, et.predict(X_ens_test)))\n",
    "print (f'ET: Train = {acc_train}  Evaluate = {acc_eval}')\n",
    "\n",
    "acc_train = np.sqrt(mean_squared_log_error(y_ens_train, rf.predict(X_ens_train)))\n",
    "acc_eval = np.sqrt(mean_squared_log_error(Y_eval, rf.predict(X_ens_test)))\n",
    "print (f'RF: Train = {acc_train}  Evaluate = {acc_eval}')\n",
    "\n",
    "acc_train = np.sqrt(mean_squared_log_error(y_ens_train, ad.predict(X_ens_train)))\n",
    "acc_eval = np.sqrt(mean_squared_log_error(Y_eval, ad.predict(X_ens_test)))\n",
    "print (f'AD: Train = {acc_train}  Evaluate = {acc_eval}')\n",
    "\n",
    "acc_train = np.sqrt(mean_squared_log_error(y_ens_train, gb.predict(X_ens_train)))\n",
    "acc_eval = np.sqrt(mean_squared_log_error(Y_eval, gb.predict(X_ens_test)))\n",
    "print (f'GB: Train = {acc_train}  Evaluate = {acc_eval}')"
   ]
  },
  {
   "cell_type": "markdown",
   "metadata": {},
   "source": [
    "### Feature data"
   ]
  },
  {
   "cell_type": "code",
   "execution_count": 50,
   "metadata": {},
   "outputs": [],
   "source": [
    "rf_features = rf.feature_importances(X_ens_train,y_ens_train)\n",
    "et_features = et.feature_importances(X_ens_train,y_ens_train)\n",
    "ad_features = ad.feature_importances(X_ens_train,y_ens_train)\n",
    "gb_features = gb.feature_importances(X_ens_train,y_ens_train)\n",
    "\n",
    "cols = X_ens_train.columns.values\n",
    "# Create a dataframe with features\n",
    "feature_dataframe = pd.DataFrame( {'features': cols,\n",
    "     'Random Forest feature importances': rf_features,\n",
    "     'Extra Trees  feature importances': et_features,\n",
    "      'AdaBoost feature importances': ad_features,\n",
    "    'Gradient Boost feature importances': gb_features\n",
    "    })"
   ]
  },
  {
   "cell_type": "code",
   "execution_count": 51,
   "metadata": {},
   "outputs": [
    {
     "data": {
      "text/html": [
       "        <script type=\"text/javascript\">\n",
       "        window.PlotlyConfig = {MathJaxConfig: 'local'};\n",
       "        if (window.MathJax) {MathJax.Hub.Config({SVG: {font: \"STIX-Web\"}});}\n",
       "        if (typeof require !== 'undefined') {\n",
       "        require.undef(\"plotly\");\n",
       "        requirejs.config({\n",
       "            paths: {\n",
       "                'plotly': ['https://cdn.plot.ly/plotly-latest.min']\n",
       "            }\n",
       "        });\n",
       "        require(['plotly'], function(Plotly) {\n",
       "            window._Plotly = Plotly;\n",
       "        });\n",
       "        }\n",
       "        </script>\n",
       "        "
      ]
     },
     "metadata": {},
     "output_type": "display_data"
    },
    {
     "data": {
      "application/vnd.plotly.v1+json": {
       "config": {
        "linkText": "Export to plot.ly",
        "plotlyServerURL": "https://plot.ly",
        "showLink": false
       },
       "data": [
        {
         "marker": {
          "color": [
           0.0033387098717547,
           0.006884778831378363,
           0.1250673709476114,
           0.0022077655462823284,
           0.006177118683883478,
           0.02614764118805084,
           0.00041997413297537457,
           0.020326214801315853,
           0.0005218276036130622,
           0.002088391703640164,
           0.0020680491087941033,
           0.01058651341222573,
           0.00025464833609730895,
           0.00033588502905753916,
           0.005301830197839219,
           0.025886384192150624,
           0.0010148575124552643,
           0.0008477541706282109,
           0.02162828399286666,
           0.010910453575553388,
           7.388259968330987e-05,
           0.044245124595702214,
           0.0011746384977443223,
           0.0012137807848252307,
           0.007221936416431096,
           0.0011230363757323129,
           0.0018555914689378943,
           0.0003441923604804162,
           0.010256932311487244,
           0.010468081609509574,
           0.0021562692221889198,
           0.0040886782227610545,
           0.025831490204742638,
           0.016762062713338927,
           0.0004940377956275073,
           0.0005971165734898286,
           0.0002817270868001021,
           0.0027275098194087413,
           0.004160108230679807,
           0.007875920732691555,
           0.07748848296645475,
           0.2695756257934133,
           0.05182345466278735,
           0.01111361520535273,
           0.14841902647802904,
           0.008736351503556998,
           0.002918727237075031,
           0.0033824895910267204,
           0.0005034533315870209,
           0.0002609025518033434,
           0.00048188227554529035,
           9.429689689609631e-05,
           2.914144324536908e-07,
           2.7140954161664065e-05,
           1.9475952587163537e-06,
           0.0001669851674670269,
           9.221327455120033e-05,
           0.00018733576945979767,
           0.00011077087436793743,
           0.00016229123431277538,
           3.0334020258929182e-05,
           0.00019444910417835103,
           0.00020469188663455466,
           7.691287220653045e-05,
           0.00017899112232346934,
           2.781073012431902e-05,
           0.00012044802188774368,
           0.0006363337395812055,
           0.00027448721593710263,
           0.0005019047510616803,
           0.0006032643948024107,
           7.387151285322274e-07,
           0.0003037906635379608,
           0.00014473971627794823,
           3.4628109315036204e-05,
           0.0003538621687921819,
           2.5226291025276454e-05,
           0.00016852295888940033,
           9.273428660656713e-05,
           0.00013913859619365228,
           0.0006505437179203673,
           0.0006765008263314669,
           4.99856831044888e-05,
           0.0003832926283738878,
           0.0007974531432982199,
           0.0007239556842082689,
           0.0007209234399532613,
           0.0005138097703815329,
           0.0008566705036902006
          ],
          "colorscale": [
           [
            0,
            "rgb(12,51,131)"
           ],
           [
            0.25,
            "rgb(10,136,186)"
           ],
           [
            0.5,
            "rgb(242,211,56)"
           ],
           [
            0.75,
            "rgb(242,143,56)"
           ],
           [
            1,
            "rgb(217,30,30)"
           ]
          ],
          "showscale": true,
          "size": 25,
          "sizemode": "diameter",
          "sizeref": 1
         },
         "mode": "markers",
         "text": [
          "LotFrontage",
          "LotArea",
          "OverallQual",
          "OverallCond",
          "MasVnrArea",
          "ExterQual",
          "ExterCond",
          "BsmtQual",
          "BsmtCond",
          "BsmtExposure",
          "BsmtFinType1",
          "BsmtFinSF1",
          "BsmtFinType2",
          "BsmtFinSF2",
          "BsmtUnfSF",
          "TotalBsmtSF",
          "HeatingQC",
          "CentralAir",
          "1stFlrSF",
          "2ndFlrSF",
          "LowQualFinSF",
          "GrLivArea",
          "BsmtFullBath",
          "BsmtHalfBath",
          "FullBath",
          "HalfBath",
          "BedroomAbvGr",
          "KitchenAbvGr",
          "KitchenQual",
          "TotRmsAbvGrd",
          "Fireplaces",
          "FireplaceQu",
          "GarageCars",
          "GarageArea",
          "GarageQual",
          "GarageCond",
          "PavedDrive",
          "WoodDeckSF",
          "OpenPorchSF",
          "NeighborhoodLotArea",
          "NeighborhoodBldgType",
          "TotalSquareFeet",
          "NeighborhoodHouseStyle",
          "OverallQualNCond",
          "NeighborhoodOverallQualNCond",
          "AdjRemodAdd",
          "QuarterMeanNorm",
          "MonthMeanNorm",
          "Neighborhood_4",
          "Neighborhood_5",
          "Neighborhood_6",
          "Neighborhood_7",
          "Neighborhood_8",
          "Neighborhood_9",
          "Neighborhood_10",
          "Neighborhood_11",
          "Neighborhood_12",
          "Neighborhood_13",
          "Neighborhood_14",
          "Neighborhood_15",
          "Neighborhood_16",
          "Neighborhood_17",
          "Neighborhood_18",
          "Neighborhood_19",
          "Neighborhood_20",
          "Neighborhood_21",
          "Neighborhood_22",
          "Neighborhood_23",
          "Neighborhood_24",
          "Neighborhood_25",
          "LotConfig_3",
          "LotConfig_4",
          "LotConfig_5",
          "BldgType_2",
          "BldgType_3",
          "BldgType_5",
          "HouseStyle_2",
          "HouseStyle_3",
          "HouseStyle_4",
          "HouseStyle_5",
          "HouseStyle_6",
          "HouseStyle_7",
          "HouseStyle_8",
          "SaleCondition_1",
          "SaleCondition_2",
          "SaleCondition_3",
          "GarageFinish_1",
          "GarageFinish_2",
          "GarageFinish_3"
         ],
         "type": "scatter",
         "x": [
          "LotFrontage",
          "LotArea",
          "OverallQual",
          "OverallCond",
          "MasVnrArea",
          "ExterQual",
          "ExterCond",
          "BsmtQual",
          "BsmtCond",
          "BsmtExposure",
          "BsmtFinType1",
          "BsmtFinSF1",
          "BsmtFinType2",
          "BsmtFinSF2",
          "BsmtUnfSF",
          "TotalBsmtSF",
          "HeatingQC",
          "CentralAir",
          "1stFlrSF",
          "2ndFlrSF",
          "LowQualFinSF",
          "GrLivArea",
          "BsmtFullBath",
          "BsmtHalfBath",
          "FullBath",
          "HalfBath",
          "BedroomAbvGr",
          "KitchenAbvGr",
          "KitchenQual",
          "TotRmsAbvGrd",
          "Fireplaces",
          "FireplaceQu",
          "GarageCars",
          "GarageArea",
          "GarageQual",
          "GarageCond",
          "PavedDrive",
          "WoodDeckSF",
          "OpenPorchSF",
          "NeighborhoodLotArea",
          "NeighborhoodBldgType",
          "TotalSquareFeet",
          "NeighborhoodHouseStyle",
          "OverallQualNCond",
          "NeighborhoodOverallQualNCond",
          "AdjRemodAdd",
          "QuarterMeanNorm",
          "MonthMeanNorm",
          "Neighborhood_4",
          "Neighborhood_5",
          "Neighborhood_6",
          "Neighborhood_7",
          "Neighborhood_8",
          "Neighborhood_9",
          "Neighborhood_10",
          "Neighborhood_11",
          "Neighborhood_12",
          "Neighborhood_13",
          "Neighborhood_14",
          "Neighborhood_15",
          "Neighborhood_16",
          "Neighborhood_17",
          "Neighborhood_18",
          "Neighborhood_19",
          "Neighborhood_20",
          "Neighborhood_21",
          "Neighborhood_22",
          "Neighborhood_23",
          "Neighborhood_24",
          "Neighborhood_25",
          "LotConfig_3",
          "LotConfig_4",
          "LotConfig_5",
          "BldgType_2",
          "BldgType_3",
          "BldgType_5",
          "HouseStyle_2",
          "HouseStyle_3",
          "HouseStyle_4",
          "HouseStyle_5",
          "HouseStyle_6",
          "HouseStyle_7",
          "HouseStyle_8",
          "SaleCondition_1",
          "SaleCondition_2",
          "SaleCondition_3",
          "GarageFinish_1",
          "GarageFinish_2",
          "GarageFinish_3"
         ],
         "y": [
          0.0033387098717547,
          0.006884778831378363,
          0.1250673709476114,
          0.0022077655462823284,
          0.006177118683883478,
          0.02614764118805084,
          0.00041997413297537457,
          0.020326214801315853,
          0.0005218276036130622,
          0.002088391703640164,
          0.0020680491087941033,
          0.01058651341222573,
          0.00025464833609730895,
          0.00033588502905753916,
          0.005301830197839219,
          0.025886384192150624,
          0.0010148575124552643,
          0.0008477541706282109,
          0.02162828399286666,
          0.010910453575553388,
          7.388259968330987e-05,
          0.044245124595702214,
          0.0011746384977443223,
          0.0012137807848252307,
          0.007221936416431096,
          0.0011230363757323129,
          0.0018555914689378943,
          0.0003441923604804162,
          0.010256932311487244,
          0.010468081609509574,
          0.0021562692221889198,
          0.0040886782227610545,
          0.025831490204742638,
          0.016762062713338927,
          0.0004940377956275073,
          0.0005971165734898286,
          0.0002817270868001021,
          0.0027275098194087413,
          0.004160108230679807,
          0.007875920732691555,
          0.07748848296645475,
          0.2695756257934133,
          0.05182345466278735,
          0.01111361520535273,
          0.14841902647802904,
          0.008736351503556998,
          0.002918727237075031,
          0.0033824895910267204,
          0.0005034533315870209,
          0.0002609025518033434,
          0.00048188227554529035,
          9.429689689609631e-05,
          2.914144324536908e-07,
          2.7140954161664065e-05,
          1.9475952587163537e-06,
          0.0001669851674670269,
          9.221327455120033e-05,
          0.00018733576945979767,
          0.00011077087436793743,
          0.00016229123431277538,
          3.0334020258929182e-05,
          0.00019444910417835103,
          0.00020469188663455466,
          7.691287220653045e-05,
          0.00017899112232346934,
          2.781073012431902e-05,
          0.00012044802188774368,
          0.0006363337395812055,
          0.00027448721593710263,
          0.0005019047510616803,
          0.0006032643948024107,
          7.387151285322274e-07,
          0.0003037906635379608,
          0.00014473971627794823,
          3.4628109315036204e-05,
          0.0003538621687921819,
          2.5226291025276454e-05,
          0.00016852295888940033,
          9.273428660656713e-05,
          0.00013913859619365228,
          0.0006505437179203673,
          0.0006765008263314669,
          4.99856831044888e-05,
          0.0003832926283738878,
          0.0007974531432982199,
          0.0007239556842082689,
          0.0007209234399532613,
          0.0005138097703815329,
          0.0008566705036902006
         ]
        }
       ],
       "layout": {
        "autosize": true,
        "hovermode": "closest",
        "showlegend": false,
        "template": {
         "data": {
          "bar": [
           {
            "error_x": {
             "color": "#2a3f5f"
            },
            "error_y": {
             "color": "#2a3f5f"
            },
            "marker": {
             "line": {
              "color": "#E5ECF6",
              "width": 0.5
             }
            },
            "type": "bar"
           }
          ],
          "barpolar": [
           {
            "marker": {
             "line": {
              "color": "#E5ECF6",
              "width": 0.5
             }
            },
            "type": "barpolar"
           }
          ],
          "carpet": [
           {
            "aaxis": {
             "endlinecolor": "#2a3f5f",
             "gridcolor": "white",
             "linecolor": "white",
             "minorgridcolor": "white",
             "startlinecolor": "#2a3f5f"
            },
            "baxis": {
             "endlinecolor": "#2a3f5f",
             "gridcolor": "white",
             "linecolor": "white",
             "minorgridcolor": "white",
             "startlinecolor": "#2a3f5f"
            },
            "type": "carpet"
           }
          ],
          "choropleth": [
           {
            "colorbar": {
             "outlinewidth": 0,
             "ticks": ""
            },
            "type": "choropleth"
           }
          ],
          "contour": [
           {
            "colorbar": {
             "outlinewidth": 0,
             "ticks": ""
            },
            "colorscale": [
             [
              0,
              "#0d0887"
             ],
             [
              0.1111111111111111,
              "#46039f"
             ],
             [
              0.2222222222222222,
              "#7201a8"
             ],
             [
              0.3333333333333333,
              "#9c179e"
             ],
             [
              0.4444444444444444,
              "#bd3786"
             ],
             [
              0.5555555555555556,
              "#d8576b"
             ],
             [
              0.6666666666666666,
              "#ed7953"
             ],
             [
              0.7777777777777778,
              "#fb9f3a"
             ],
             [
              0.8888888888888888,
              "#fdca26"
             ],
             [
              1,
              "#f0f921"
             ]
            ],
            "type": "contour"
           }
          ],
          "contourcarpet": [
           {
            "colorbar": {
             "outlinewidth": 0,
             "ticks": ""
            },
            "type": "contourcarpet"
           }
          ],
          "heatmap": [
           {
            "colorbar": {
             "outlinewidth": 0,
             "ticks": ""
            },
            "colorscale": [
             [
              0,
              "#0d0887"
             ],
             [
              0.1111111111111111,
              "#46039f"
             ],
             [
              0.2222222222222222,
              "#7201a8"
             ],
             [
              0.3333333333333333,
              "#9c179e"
             ],
             [
              0.4444444444444444,
              "#bd3786"
             ],
             [
              0.5555555555555556,
              "#d8576b"
             ],
             [
              0.6666666666666666,
              "#ed7953"
             ],
             [
              0.7777777777777778,
              "#fb9f3a"
             ],
             [
              0.8888888888888888,
              "#fdca26"
             ],
             [
              1,
              "#f0f921"
             ]
            ],
            "type": "heatmap"
           }
          ],
          "heatmapgl": [
           {
            "colorbar": {
             "outlinewidth": 0,
             "ticks": ""
            },
            "colorscale": [
             [
              0,
              "#0d0887"
             ],
             [
              0.1111111111111111,
              "#46039f"
             ],
             [
              0.2222222222222222,
              "#7201a8"
             ],
             [
              0.3333333333333333,
              "#9c179e"
             ],
             [
              0.4444444444444444,
              "#bd3786"
             ],
             [
              0.5555555555555556,
              "#d8576b"
             ],
             [
              0.6666666666666666,
              "#ed7953"
             ],
             [
              0.7777777777777778,
              "#fb9f3a"
             ],
             [
              0.8888888888888888,
              "#fdca26"
             ],
             [
              1,
              "#f0f921"
             ]
            ],
            "type": "heatmapgl"
           }
          ],
          "histogram": [
           {
            "marker": {
             "colorbar": {
              "outlinewidth": 0,
              "ticks": ""
             }
            },
            "type": "histogram"
           }
          ],
          "histogram2d": [
           {
            "colorbar": {
             "outlinewidth": 0,
             "ticks": ""
            },
            "colorscale": [
             [
              0,
              "#0d0887"
             ],
             [
              0.1111111111111111,
              "#46039f"
             ],
             [
              0.2222222222222222,
              "#7201a8"
             ],
             [
              0.3333333333333333,
              "#9c179e"
             ],
             [
              0.4444444444444444,
              "#bd3786"
             ],
             [
              0.5555555555555556,
              "#d8576b"
             ],
             [
              0.6666666666666666,
              "#ed7953"
             ],
             [
              0.7777777777777778,
              "#fb9f3a"
             ],
             [
              0.8888888888888888,
              "#fdca26"
             ],
             [
              1,
              "#f0f921"
             ]
            ],
            "type": "histogram2d"
           }
          ],
          "histogram2dcontour": [
           {
            "colorbar": {
             "outlinewidth": 0,
             "ticks": ""
            },
            "colorscale": [
             [
              0,
              "#0d0887"
             ],
             [
              0.1111111111111111,
              "#46039f"
             ],
             [
              0.2222222222222222,
              "#7201a8"
             ],
             [
              0.3333333333333333,
              "#9c179e"
             ],
             [
              0.4444444444444444,
              "#bd3786"
             ],
             [
              0.5555555555555556,
              "#d8576b"
             ],
             [
              0.6666666666666666,
              "#ed7953"
             ],
             [
              0.7777777777777778,
              "#fb9f3a"
             ],
             [
              0.8888888888888888,
              "#fdca26"
             ],
             [
              1,
              "#f0f921"
             ]
            ],
            "type": "histogram2dcontour"
           }
          ],
          "mesh3d": [
           {
            "colorbar": {
             "outlinewidth": 0,
             "ticks": ""
            },
            "type": "mesh3d"
           }
          ],
          "parcoords": [
           {
            "line": {
             "colorbar": {
              "outlinewidth": 0,
              "ticks": ""
             }
            },
            "type": "parcoords"
           }
          ],
          "pie": [
           {
            "automargin": true,
            "type": "pie"
           }
          ],
          "scatter": [
           {
            "marker": {
             "colorbar": {
              "outlinewidth": 0,
              "ticks": ""
             }
            },
            "type": "scatter"
           }
          ],
          "scatter3d": [
           {
            "line": {
             "colorbar": {
              "outlinewidth": 0,
              "ticks": ""
             }
            },
            "marker": {
             "colorbar": {
              "outlinewidth": 0,
              "ticks": ""
             }
            },
            "type": "scatter3d"
           }
          ],
          "scattercarpet": [
           {
            "marker": {
             "colorbar": {
              "outlinewidth": 0,
              "ticks": ""
             }
            },
            "type": "scattercarpet"
           }
          ],
          "scattergeo": [
           {
            "marker": {
             "colorbar": {
              "outlinewidth": 0,
              "ticks": ""
             }
            },
            "type": "scattergeo"
           }
          ],
          "scattergl": [
           {
            "marker": {
             "colorbar": {
              "outlinewidth": 0,
              "ticks": ""
             }
            },
            "type": "scattergl"
           }
          ],
          "scattermapbox": [
           {
            "marker": {
             "colorbar": {
              "outlinewidth": 0,
              "ticks": ""
             }
            },
            "type": "scattermapbox"
           }
          ],
          "scatterpolar": [
           {
            "marker": {
             "colorbar": {
              "outlinewidth": 0,
              "ticks": ""
             }
            },
            "type": "scatterpolar"
           }
          ],
          "scatterpolargl": [
           {
            "marker": {
             "colorbar": {
              "outlinewidth": 0,
              "ticks": ""
             }
            },
            "type": "scatterpolargl"
           }
          ],
          "scatterternary": [
           {
            "marker": {
             "colorbar": {
              "outlinewidth": 0,
              "ticks": ""
             }
            },
            "type": "scatterternary"
           }
          ],
          "surface": [
           {
            "colorbar": {
             "outlinewidth": 0,
             "ticks": ""
            },
            "colorscale": [
             [
              0,
              "#0d0887"
             ],
             [
              0.1111111111111111,
              "#46039f"
             ],
             [
              0.2222222222222222,
              "#7201a8"
             ],
             [
              0.3333333333333333,
              "#9c179e"
             ],
             [
              0.4444444444444444,
              "#bd3786"
             ],
             [
              0.5555555555555556,
              "#d8576b"
             ],
             [
              0.6666666666666666,
              "#ed7953"
             ],
             [
              0.7777777777777778,
              "#fb9f3a"
             ],
             [
              0.8888888888888888,
              "#fdca26"
             ],
             [
              1,
              "#f0f921"
             ]
            ],
            "type": "surface"
           }
          ],
          "table": [
           {
            "cells": {
             "fill": {
              "color": "#EBF0F8"
             },
             "line": {
              "color": "white"
             }
            },
            "header": {
             "fill": {
              "color": "#C8D4E3"
             },
             "line": {
              "color": "white"
             }
            },
            "type": "table"
           }
          ]
         },
         "layout": {
          "annotationdefaults": {
           "arrowcolor": "#2a3f5f",
           "arrowhead": 0,
           "arrowwidth": 1
          },
          "coloraxis": {
           "colorbar": {
            "outlinewidth": 0,
            "ticks": ""
           }
          },
          "colorscale": {
           "diverging": [
            [
             0,
             "#8e0152"
            ],
            [
             0.1,
             "#c51b7d"
            ],
            [
             0.2,
             "#de77ae"
            ],
            [
             0.3,
             "#f1b6da"
            ],
            [
             0.4,
             "#fde0ef"
            ],
            [
             0.5,
             "#f7f7f7"
            ],
            [
             0.6,
             "#e6f5d0"
            ],
            [
             0.7,
             "#b8e186"
            ],
            [
             0.8,
             "#7fbc41"
            ],
            [
             0.9,
             "#4d9221"
            ],
            [
             1,
             "#276419"
            ]
           ],
           "sequential": [
            [
             0,
             "#0d0887"
            ],
            [
             0.1111111111111111,
             "#46039f"
            ],
            [
             0.2222222222222222,
             "#7201a8"
            ],
            [
             0.3333333333333333,
             "#9c179e"
            ],
            [
             0.4444444444444444,
             "#bd3786"
            ],
            [
             0.5555555555555556,
             "#d8576b"
            ],
            [
             0.6666666666666666,
             "#ed7953"
            ],
            [
             0.7777777777777778,
             "#fb9f3a"
            ],
            [
             0.8888888888888888,
             "#fdca26"
            ],
            [
             1,
             "#f0f921"
            ]
           ],
           "sequentialminus": [
            [
             0,
             "#0d0887"
            ],
            [
             0.1111111111111111,
             "#46039f"
            ],
            [
             0.2222222222222222,
             "#7201a8"
            ],
            [
             0.3333333333333333,
             "#9c179e"
            ],
            [
             0.4444444444444444,
             "#bd3786"
            ],
            [
             0.5555555555555556,
             "#d8576b"
            ],
            [
             0.6666666666666666,
             "#ed7953"
            ],
            [
             0.7777777777777778,
             "#fb9f3a"
            ],
            [
             0.8888888888888888,
             "#fdca26"
            ],
            [
             1,
             "#f0f921"
            ]
           ]
          },
          "colorway": [
           "#636efa",
           "#EF553B",
           "#00cc96",
           "#ab63fa",
           "#FFA15A",
           "#19d3f3",
           "#FF6692",
           "#B6E880",
           "#FF97FF",
           "#FECB52"
          ],
          "font": {
           "color": "#2a3f5f"
          },
          "geo": {
           "bgcolor": "white",
           "lakecolor": "white",
           "landcolor": "#E5ECF6",
           "showlakes": true,
           "showland": true,
           "subunitcolor": "white"
          },
          "hoverlabel": {
           "align": "left"
          },
          "hovermode": "closest",
          "mapbox": {
           "style": "light"
          },
          "paper_bgcolor": "white",
          "plot_bgcolor": "#E5ECF6",
          "polar": {
           "angularaxis": {
            "gridcolor": "white",
            "linecolor": "white",
            "ticks": ""
           },
           "bgcolor": "#E5ECF6",
           "radialaxis": {
            "gridcolor": "white",
            "linecolor": "white",
            "ticks": ""
           }
          },
          "scene": {
           "xaxis": {
            "backgroundcolor": "#E5ECF6",
            "gridcolor": "white",
            "gridwidth": 2,
            "linecolor": "white",
            "showbackground": true,
            "ticks": "",
            "zerolinecolor": "white"
           },
           "yaxis": {
            "backgroundcolor": "#E5ECF6",
            "gridcolor": "white",
            "gridwidth": 2,
            "linecolor": "white",
            "showbackground": true,
            "ticks": "",
            "zerolinecolor": "white"
           },
           "zaxis": {
            "backgroundcolor": "#E5ECF6",
            "gridcolor": "white",
            "gridwidth": 2,
            "linecolor": "white",
            "showbackground": true,
            "ticks": "",
            "zerolinecolor": "white"
           }
          },
          "shapedefaults": {
           "line": {
            "color": "#2a3f5f"
           }
          },
          "ternary": {
           "aaxis": {
            "gridcolor": "white",
            "linecolor": "white",
            "ticks": ""
           },
           "baxis": {
            "gridcolor": "white",
            "linecolor": "white",
            "ticks": ""
           },
           "bgcolor": "#E5ECF6",
           "caxis": {
            "gridcolor": "white",
            "linecolor": "white",
            "ticks": ""
           }
          },
          "title": {
           "x": 0.05
          },
          "xaxis": {
           "automargin": true,
           "gridcolor": "white",
           "linecolor": "white",
           "ticks": "",
           "title": {
            "standoff": 15
           },
           "zerolinecolor": "white",
           "zerolinewidth": 2
          },
          "yaxis": {
           "automargin": true,
           "gridcolor": "white",
           "linecolor": "white",
           "ticks": "",
           "title": {
            "standoff": 15
           },
           "zerolinecolor": "white",
           "zerolinewidth": 2
          }
         }
        },
        "title": {
         "text": "Random Forest Feature Importance"
        },
        "yaxis": {
         "gridwidth": 2,
         "ticklen": 5,
         "title": {
          "text": "Feature Importance"
         }
        }
       }
      },
      "text/html": [
       "<div>\n",
       "        \n",
       "        \n",
       "            <div id=\"eb758a94-77fc-4f0b-8939-384023defa8e\" class=\"plotly-graph-div\" style=\"height:525px; width:100%;\"></div>\n",
       "            <script type=\"text/javascript\">\n",
       "                require([\"plotly\"], function(Plotly) {\n",
       "                    window.PLOTLYENV=window.PLOTLYENV || {};\n",
       "                    \n",
       "                if (document.getElementById(\"eb758a94-77fc-4f0b-8939-384023defa8e\")) {\n",
       "                    Plotly.newPlot(\n",
       "                        'eb758a94-77fc-4f0b-8939-384023defa8e',\n",
       "                        [{\"marker\": {\"color\": [0.0033387098717547, 0.006884778831378363, 0.1250673709476114, 0.0022077655462823284, 0.006177118683883478, 0.02614764118805084, 0.00041997413297537457, 0.020326214801315853, 0.0005218276036130622, 0.002088391703640164, 0.0020680491087941033, 0.01058651341222573, 0.00025464833609730895, 0.00033588502905753916, 0.005301830197839219, 0.025886384192150624, 0.0010148575124552643, 0.0008477541706282109, 0.02162828399286666, 0.010910453575553388, 7.388259968330987e-05, 0.044245124595702214, 0.0011746384977443223, 0.0012137807848252307, 0.007221936416431096, 0.0011230363757323129, 0.0018555914689378943, 0.0003441923604804162, 0.010256932311487244, 0.010468081609509574, 0.0021562692221889198, 0.0040886782227610545, 0.025831490204742638, 0.016762062713338927, 0.0004940377956275073, 0.0005971165734898286, 0.0002817270868001021, 0.0027275098194087413, 0.004160108230679807, 0.007875920732691555, 0.07748848296645475, 0.2695756257934133, 0.05182345466278735, 0.01111361520535273, 0.14841902647802904, 0.008736351503556998, 0.002918727237075031, 0.0033824895910267204, 0.0005034533315870209, 0.0002609025518033434, 0.00048188227554529035, 9.429689689609631e-05, 2.914144324536908e-07, 2.7140954161664065e-05, 1.9475952587163537e-06, 0.0001669851674670269, 9.221327455120033e-05, 0.00018733576945979767, 0.00011077087436793743, 0.00016229123431277538, 3.0334020258929182e-05, 0.00019444910417835103, 0.00020469188663455466, 7.691287220653045e-05, 0.00017899112232346934, 2.781073012431902e-05, 0.00012044802188774368, 0.0006363337395812055, 0.00027448721593710263, 0.0005019047510616803, 0.0006032643948024107, 7.387151285322274e-07, 0.0003037906635379608, 0.00014473971627794823, 3.4628109315036204e-05, 0.0003538621687921819, 2.5226291025276454e-05, 0.00016852295888940033, 9.273428660656713e-05, 0.00013913859619365228, 0.0006505437179203673, 0.0006765008263314669, 4.99856831044888e-05, 0.0003832926283738878, 0.0007974531432982199, 0.0007239556842082689, 0.0007209234399532613, 0.0005138097703815329, 0.0008566705036902006], \"colorscale\": [[0.0, \"rgb(12,51,131)\"], [0.25, \"rgb(10,136,186)\"], [0.5, \"rgb(242,211,56)\"], [0.75, \"rgb(242,143,56)\"], [1.0, \"rgb(217,30,30)\"]], \"showscale\": true, \"size\": 25, \"sizemode\": \"diameter\", \"sizeref\": 1}, \"mode\": \"markers\", \"text\": [\"LotFrontage\", \"LotArea\", \"OverallQual\", \"OverallCond\", \"MasVnrArea\", \"ExterQual\", \"ExterCond\", \"BsmtQual\", \"BsmtCond\", \"BsmtExposure\", \"BsmtFinType1\", \"BsmtFinSF1\", \"BsmtFinType2\", \"BsmtFinSF2\", \"BsmtUnfSF\", \"TotalBsmtSF\", \"HeatingQC\", \"CentralAir\", \"1stFlrSF\", \"2ndFlrSF\", \"LowQualFinSF\", \"GrLivArea\", \"BsmtFullBath\", \"BsmtHalfBath\", \"FullBath\", \"HalfBath\", \"BedroomAbvGr\", \"KitchenAbvGr\", \"KitchenQual\", \"TotRmsAbvGrd\", \"Fireplaces\", \"FireplaceQu\", \"GarageCars\", \"GarageArea\", \"GarageQual\", \"GarageCond\", \"PavedDrive\", \"WoodDeckSF\", \"OpenPorchSF\", \"NeighborhoodLotArea\", \"NeighborhoodBldgType\", \"TotalSquareFeet\", \"NeighborhoodHouseStyle\", \"OverallQualNCond\", \"NeighborhoodOverallQualNCond\", \"AdjRemodAdd\", \"QuarterMeanNorm\", \"MonthMeanNorm\", \"Neighborhood_4\", \"Neighborhood_5\", \"Neighborhood_6\", \"Neighborhood_7\", \"Neighborhood_8\", \"Neighborhood_9\", \"Neighborhood_10\", \"Neighborhood_11\", \"Neighborhood_12\", \"Neighborhood_13\", \"Neighborhood_14\", \"Neighborhood_15\", \"Neighborhood_16\", \"Neighborhood_17\", \"Neighborhood_18\", \"Neighborhood_19\", \"Neighborhood_20\", \"Neighborhood_21\", \"Neighborhood_22\", \"Neighborhood_23\", \"Neighborhood_24\", \"Neighborhood_25\", \"LotConfig_3\", \"LotConfig_4\", \"LotConfig_5\", \"BldgType_2\", \"BldgType_3\", \"BldgType_5\", \"HouseStyle_2\", \"HouseStyle_3\", \"HouseStyle_4\", \"HouseStyle_5\", \"HouseStyle_6\", \"HouseStyle_7\", \"HouseStyle_8\", \"SaleCondition_1\", \"SaleCondition_2\", \"SaleCondition_3\", \"GarageFinish_1\", \"GarageFinish_2\", \"GarageFinish_3\"], \"type\": \"scatter\", \"x\": [\"LotFrontage\", \"LotArea\", \"OverallQual\", \"OverallCond\", \"MasVnrArea\", \"ExterQual\", \"ExterCond\", \"BsmtQual\", \"BsmtCond\", \"BsmtExposure\", \"BsmtFinType1\", \"BsmtFinSF1\", \"BsmtFinType2\", \"BsmtFinSF2\", \"BsmtUnfSF\", \"TotalBsmtSF\", \"HeatingQC\", \"CentralAir\", \"1stFlrSF\", \"2ndFlrSF\", \"LowQualFinSF\", \"GrLivArea\", \"BsmtFullBath\", \"BsmtHalfBath\", \"FullBath\", \"HalfBath\", \"BedroomAbvGr\", \"KitchenAbvGr\", \"KitchenQual\", \"TotRmsAbvGrd\", \"Fireplaces\", \"FireplaceQu\", \"GarageCars\", \"GarageArea\", \"GarageQual\", \"GarageCond\", \"PavedDrive\", \"WoodDeckSF\", \"OpenPorchSF\", \"NeighborhoodLotArea\", \"NeighborhoodBldgType\", \"TotalSquareFeet\", \"NeighborhoodHouseStyle\", \"OverallQualNCond\", \"NeighborhoodOverallQualNCond\", \"AdjRemodAdd\", \"QuarterMeanNorm\", \"MonthMeanNorm\", \"Neighborhood_4\", \"Neighborhood_5\", \"Neighborhood_6\", \"Neighborhood_7\", \"Neighborhood_8\", \"Neighborhood_9\", \"Neighborhood_10\", \"Neighborhood_11\", \"Neighborhood_12\", \"Neighborhood_13\", \"Neighborhood_14\", \"Neighborhood_15\", \"Neighborhood_16\", \"Neighborhood_17\", \"Neighborhood_18\", \"Neighborhood_19\", \"Neighborhood_20\", \"Neighborhood_21\", \"Neighborhood_22\", \"Neighborhood_23\", \"Neighborhood_24\", \"Neighborhood_25\", \"LotConfig_3\", \"LotConfig_4\", \"LotConfig_5\", \"BldgType_2\", \"BldgType_3\", \"BldgType_5\", \"HouseStyle_2\", \"HouseStyle_3\", \"HouseStyle_4\", \"HouseStyle_5\", \"HouseStyle_6\", \"HouseStyle_7\", \"HouseStyle_8\", \"SaleCondition_1\", \"SaleCondition_2\", \"SaleCondition_3\", \"GarageFinish_1\", \"GarageFinish_2\", \"GarageFinish_3\"], \"y\": [0.0033387098717547, 0.006884778831378363, 0.1250673709476114, 0.0022077655462823284, 0.006177118683883478, 0.02614764118805084, 0.00041997413297537457, 0.020326214801315853, 0.0005218276036130622, 0.002088391703640164, 0.0020680491087941033, 0.01058651341222573, 0.00025464833609730895, 0.00033588502905753916, 0.005301830197839219, 0.025886384192150624, 0.0010148575124552643, 0.0008477541706282109, 0.02162828399286666, 0.010910453575553388, 7.388259968330987e-05, 0.044245124595702214, 0.0011746384977443223, 0.0012137807848252307, 0.007221936416431096, 0.0011230363757323129, 0.0018555914689378943, 0.0003441923604804162, 0.010256932311487244, 0.010468081609509574, 0.0021562692221889198, 0.0040886782227610545, 0.025831490204742638, 0.016762062713338927, 0.0004940377956275073, 0.0005971165734898286, 0.0002817270868001021, 0.0027275098194087413, 0.004160108230679807, 0.007875920732691555, 0.07748848296645475, 0.2695756257934133, 0.05182345466278735, 0.01111361520535273, 0.14841902647802904, 0.008736351503556998, 0.002918727237075031, 0.0033824895910267204, 0.0005034533315870209, 0.0002609025518033434, 0.00048188227554529035, 9.429689689609631e-05, 2.914144324536908e-07, 2.7140954161664065e-05, 1.9475952587163537e-06, 0.0001669851674670269, 9.221327455120033e-05, 0.00018733576945979767, 0.00011077087436793743, 0.00016229123431277538, 3.0334020258929182e-05, 0.00019444910417835103, 0.00020469188663455466, 7.691287220653045e-05, 0.00017899112232346934, 2.781073012431902e-05, 0.00012044802188774368, 0.0006363337395812055, 0.00027448721593710263, 0.0005019047510616803, 0.0006032643948024107, 7.387151285322274e-07, 0.0003037906635379608, 0.00014473971627794823, 3.4628109315036204e-05, 0.0003538621687921819, 2.5226291025276454e-05, 0.00016852295888940033, 9.273428660656713e-05, 0.00013913859619365228, 0.0006505437179203673, 0.0006765008263314669, 4.99856831044888e-05, 0.0003832926283738878, 0.0007974531432982199, 0.0007239556842082689, 0.0007209234399532613, 0.0005138097703815329, 0.0008566705036902006]}],\n",
       "                        {\"autosize\": true, \"hovermode\": \"closest\", \"showlegend\": false, \"template\": {\"data\": {\"bar\": [{\"error_x\": {\"color\": \"#2a3f5f\"}, \"error_y\": {\"color\": \"#2a3f5f\"}, \"marker\": {\"line\": {\"color\": \"#E5ECF6\", \"width\": 0.5}}, \"type\": \"bar\"}], \"barpolar\": [{\"marker\": {\"line\": {\"color\": \"#E5ECF6\", \"width\": 0.5}}, \"type\": \"barpolar\"}], \"carpet\": [{\"aaxis\": {\"endlinecolor\": \"#2a3f5f\", \"gridcolor\": \"white\", \"linecolor\": \"white\", \"minorgridcolor\": \"white\", \"startlinecolor\": \"#2a3f5f\"}, \"baxis\": {\"endlinecolor\": \"#2a3f5f\", \"gridcolor\": \"white\", \"linecolor\": \"white\", \"minorgridcolor\": \"white\", \"startlinecolor\": \"#2a3f5f\"}, \"type\": \"carpet\"}], \"choropleth\": [{\"colorbar\": {\"outlinewidth\": 0, \"ticks\": \"\"}, \"type\": \"choropleth\"}], \"contour\": [{\"colorbar\": {\"outlinewidth\": 0, \"ticks\": \"\"}, \"colorscale\": [[0.0, \"#0d0887\"], [0.1111111111111111, \"#46039f\"], [0.2222222222222222, \"#7201a8\"], [0.3333333333333333, \"#9c179e\"], [0.4444444444444444, \"#bd3786\"], [0.5555555555555556, \"#d8576b\"], [0.6666666666666666, \"#ed7953\"], [0.7777777777777778, \"#fb9f3a\"], [0.8888888888888888, \"#fdca26\"], [1.0, \"#f0f921\"]], \"type\": \"contour\"}], \"contourcarpet\": [{\"colorbar\": {\"outlinewidth\": 0, \"ticks\": \"\"}, \"type\": \"contourcarpet\"}], \"heatmap\": [{\"colorbar\": {\"outlinewidth\": 0, \"ticks\": \"\"}, \"colorscale\": [[0.0, \"#0d0887\"], [0.1111111111111111, \"#46039f\"], [0.2222222222222222, \"#7201a8\"], [0.3333333333333333, \"#9c179e\"], [0.4444444444444444, \"#bd3786\"], [0.5555555555555556, \"#d8576b\"], [0.6666666666666666, \"#ed7953\"], [0.7777777777777778, \"#fb9f3a\"], [0.8888888888888888, \"#fdca26\"], [1.0, \"#f0f921\"]], \"type\": \"heatmap\"}], \"heatmapgl\": [{\"colorbar\": {\"outlinewidth\": 0, \"ticks\": \"\"}, \"colorscale\": [[0.0, \"#0d0887\"], [0.1111111111111111, \"#46039f\"], [0.2222222222222222, \"#7201a8\"], [0.3333333333333333, \"#9c179e\"], [0.4444444444444444, \"#bd3786\"], [0.5555555555555556, \"#d8576b\"], [0.6666666666666666, \"#ed7953\"], [0.7777777777777778, \"#fb9f3a\"], [0.8888888888888888, \"#fdca26\"], [1.0, \"#f0f921\"]], \"type\": \"heatmapgl\"}], \"histogram\": [{\"marker\": {\"colorbar\": {\"outlinewidth\": 0, \"ticks\": \"\"}}, \"type\": \"histogram\"}], \"histogram2d\": [{\"colorbar\": {\"outlinewidth\": 0, \"ticks\": \"\"}, \"colorscale\": [[0.0, \"#0d0887\"], [0.1111111111111111, \"#46039f\"], [0.2222222222222222, \"#7201a8\"], [0.3333333333333333, \"#9c179e\"], [0.4444444444444444, \"#bd3786\"], [0.5555555555555556, \"#d8576b\"], [0.6666666666666666, \"#ed7953\"], [0.7777777777777778, \"#fb9f3a\"], [0.8888888888888888, \"#fdca26\"], [1.0, \"#f0f921\"]], \"type\": \"histogram2d\"}], \"histogram2dcontour\": [{\"colorbar\": {\"outlinewidth\": 0, \"ticks\": \"\"}, \"colorscale\": [[0.0, \"#0d0887\"], [0.1111111111111111, \"#46039f\"], [0.2222222222222222, \"#7201a8\"], [0.3333333333333333, \"#9c179e\"], [0.4444444444444444, \"#bd3786\"], [0.5555555555555556, \"#d8576b\"], [0.6666666666666666, \"#ed7953\"], [0.7777777777777778, \"#fb9f3a\"], [0.8888888888888888, \"#fdca26\"], [1.0, \"#f0f921\"]], \"type\": \"histogram2dcontour\"}], \"mesh3d\": [{\"colorbar\": {\"outlinewidth\": 0, \"ticks\": \"\"}, \"type\": \"mesh3d\"}], \"parcoords\": [{\"line\": {\"colorbar\": {\"outlinewidth\": 0, \"ticks\": \"\"}}, \"type\": \"parcoords\"}], \"pie\": [{\"automargin\": true, \"type\": \"pie\"}], \"scatter\": [{\"marker\": {\"colorbar\": {\"outlinewidth\": 0, \"ticks\": \"\"}}, \"type\": \"scatter\"}], \"scatter3d\": [{\"line\": {\"colorbar\": {\"outlinewidth\": 0, \"ticks\": \"\"}}, \"marker\": {\"colorbar\": {\"outlinewidth\": 0, \"ticks\": \"\"}}, \"type\": \"scatter3d\"}], \"scattercarpet\": [{\"marker\": {\"colorbar\": {\"outlinewidth\": 0, \"ticks\": \"\"}}, \"type\": \"scattercarpet\"}], \"scattergeo\": [{\"marker\": {\"colorbar\": {\"outlinewidth\": 0, \"ticks\": \"\"}}, \"type\": \"scattergeo\"}], \"scattergl\": [{\"marker\": {\"colorbar\": {\"outlinewidth\": 0, \"ticks\": \"\"}}, \"type\": \"scattergl\"}], \"scattermapbox\": [{\"marker\": {\"colorbar\": {\"outlinewidth\": 0, \"ticks\": \"\"}}, \"type\": \"scattermapbox\"}], \"scatterpolar\": [{\"marker\": {\"colorbar\": {\"outlinewidth\": 0, \"ticks\": \"\"}}, \"type\": \"scatterpolar\"}], \"scatterpolargl\": [{\"marker\": {\"colorbar\": {\"outlinewidth\": 0, \"ticks\": \"\"}}, \"type\": \"scatterpolargl\"}], \"scatterternary\": [{\"marker\": {\"colorbar\": {\"outlinewidth\": 0, \"ticks\": \"\"}}, \"type\": \"scatterternary\"}], \"surface\": [{\"colorbar\": {\"outlinewidth\": 0, \"ticks\": \"\"}, \"colorscale\": [[0.0, \"#0d0887\"], [0.1111111111111111, \"#46039f\"], [0.2222222222222222, \"#7201a8\"], [0.3333333333333333, \"#9c179e\"], [0.4444444444444444, \"#bd3786\"], [0.5555555555555556, \"#d8576b\"], [0.6666666666666666, \"#ed7953\"], [0.7777777777777778, \"#fb9f3a\"], [0.8888888888888888, \"#fdca26\"], [1.0, \"#f0f921\"]], \"type\": \"surface\"}], \"table\": [{\"cells\": {\"fill\": {\"color\": \"#EBF0F8\"}, \"line\": {\"color\": \"white\"}}, \"header\": {\"fill\": {\"color\": \"#C8D4E3\"}, \"line\": {\"color\": \"white\"}}, \"type\": \"table\"}]}, \"layout\": {\"annotationdefaults\": {\"arrowcolor\": \"#2a3f5f\", \"arrowhead\": 0, \"arrowwidth\": 1}, \"coloraxis\": {\"colorbar\": {\"outlinewidth\": 0, \"ticks\": \"\"}}, \"colorscale\": {\"diverging\": [[0, \"#8e0152\"], [0.1, \"#c51b7d\"], [0.2, \"#de77ae\"], [0.3, \"#f1b6da\"], [0.4, \"#fde0ef\"], [0.5, \"#f7f7f7\"], [0.6, \"#e6f5d0\"], [0.7, \"#b8e186\"], [0.8, \"#7fbc41\"], [0.9, \"#4d9221\"], [1, \"#276419\"]], \"sequential\": [[0.0, \"#0d0887\"], [0.1111111111111111, \"#46039f\"], [0.2222222222222222, \"#7201a8\"], [0.3333333333333333, \"#9c179e\"], [0.4444444444444444, \"#bd3786\"], [0.5555555555555556, \"#d8576b\"], [0.6666666666666666, \"#ed7953\"], [0.7777777777777778, \"#fb9f3a\"], [0.8888888888888888, \"#fdca26\"], [1.0, \"#f0f921\"]], \"sequentialminus\": [[0.0, \"#0d0887\"], [0.1111111111111111, \"#46039f\"], [0.2222222222222222, \"#7201a8\"], [0.3333333333333333, \"#9c179e\"], [0.4444444444444444, \"#bd3786\"], [0.5555555555555556, \"#d8576b\"], [0.6666666666666666, \"#ed7953\"], [0.7777777777777778, \"#fb9f3a\"], [0.8888888888888888, \"#fdca26\"], [1.0, \"#f0f921\"]]}, \"colorway\": [\"#636efa\", \"#EF553B\", \"#00cc96\", \"#ab63fa\", \"#FFA15A\", \"#19d3f3\", \"#FF6692\", \"#B6E880\", \"#FF97FF\", \"#FECB52\"], \"font\": {\"color\": \"#2a3f5f\"}, \"geo\": {\"bgcolor\": \"white\", \"lakecolor\": \"white\", \"landcolor\": \"#E5ECF6\", \"showlakes\": true, \"showland\": true, \"subunitcolor\": \"white\"}, \"hoverlabel\": {\"align\": \"left\"}, \"hovermode\": \"closest\", \"mapbox\": {\"style\": \"light\"}, \"paper_bgcolor\": \"white\", \"plot_bgcolor\": \"#E5ECF6\", \"polar\": {\"angularaxis\": {\"gridcolor\": \"white\", \"linecolor\": \"white\", \"ticks\": \"\"}, \"bgcolor\": \"#E5ECF6\", \"radialaxis\": {\"gridcolor\": \"white\", \"linecolor\": \"white\", \"ticks\": \"\"}}, \"scene\": {\"xaxis\": {\"backgroundcolor\": \"#E5ECF6\", \"gridcolor\": \"white\", \"gridwidth\": 2, \"linecolor\": \"white\", \"showbackground\": true, \"ticks\": \"\", \"zerolinecolor\": \"white\"}, \"yaxis\": {\"backgroundcolor\": \"#E5ECF6\", \"gridcolor\": \"white\", \"gridwidth\": 2, \"linecolor\": \"white\", \"showbackground\": true, \"ticks\": \"\", \"zerolinecolor\": \"white\"}, \"zaxis\": {\"backgroundcolor\": \"#E5ECF6\", \"gridcolor\": \"white\", \"gridwidth\": 2, \"linecolor\": \"white\", \"showbackground\": true, \"ticks\": \"\", \"zerolinecolor\": \"white\"}}, \"shapedefaults\": {\"line\": {\"color\": \"#2a3f5f\"}}, \"ternary\": {\"aaxis\": {\"gridcolor\": \"white\", \"linecolor\": \"white\", \"ticks\": \"\"}, \"baxis\": {\"gridcolor\": \"white\", \"linecolor\": \"white\", \"ticks\": \"\"}, \"bgcolor\": \"#E5ECF6\", \"caxis\": {\"gridcolor\": \"white\", \"linecolor\": \"white\", \"ticks\": \"\"}}, \"title\": {\"x\": 0.05}, \"xaxis\": {\"automargin\": true, \"gridcolor\": \"white\", \"linecolor\": \"white\", \"ticks\": \"\", \"title\": {\"standoff\": 15}, \"zerolinecolor\": \"white\", \"zerolinewidth\": 2}, \"yaxis\": {\"automargin\": true, \"gridcolor\": \"white\", \"linecolor\": \"white\", \"ticks\": \"\", \"title\": {\"standoff\": 15}, \"zerolinecolor\": \"white\", \"zerolinewidth\": 2}}}, \"title\": {\"text\": \"Random Forest Feature Importance\"}, \"yaxis\": {\"gridwidth\": 2, \"ticklen\": 5, \"title\": {\"text\": \"Feature Importance\"}}},\n",
       "                        {\"responsive\": true}\n",
       "                    ).then(function(){\n",
       "                            \n",
       "var gd = document.getElementById('eb758a94-77fc-4f0b-8939-384023defa8e');\n",
       "var x = new MutationObserver(function (mutations, observer) {{\n",
       "        var display = window.getComputedStyle(gd).display;\n",
       "        if (!display || display === 'none') {{\n",
       "            console.log([gd, 'removed!']);\n",
       "            Plotly.purge(gd);\n",
       "            observer.disconnect();\n",
       "        }}\n",
       "}});\n",
       "\n",
       "// Listen for the removal of the full notebook cells\n",
       "var notebookContainer = gd.closest('#notebook-container');\n",
       "if (notebookContainer) {{\n",
       "    x.observe(notebookContainer, {childList: true});\n",
       "}}\n",
       "\n",
       "// Listen for the clearing of the current output cell\n",
       "var outputEl = gd.closest('.output');\n",
       "if (outputEl) {{\n",
       "    x.observe(outputEl, {childList: true});\n",
       "}}\n",
       "\n",
       "                        })\n",
       "                };\n",
       "                });\n",
       "            </script>\n",
       "        </div>"
      ]
     },
     "metadata": {},
     "output_type": "display_data"
    },
    {
     "data": {
      "application/vnd.plotly.v1+json": {
       "config": {
        "linkText": "Export to plot.ly",
        "plotlyServerURL": "https://plot.ly",
        "showLink": false
       },
       "data": [
        {
         "marker": {
          "color": [
           0.0015362787745642787,
           0.003137550418419068,
           0.14318893364267685,
           0.005806696648143066,
           0.0037658198062044397,
           0.09250689159730402,
           0.0007911164935170666,
           0.044591420984630856,
           0.0009209103682209177,
           0.0030982067376424294,
           0.002000177971372545,
           0.005960819630517702,
           0.0003630627908218874,
           0.00043289083563408776,
           0.0025079835465860174,
           0.011299704546825225,
           0.0009655055860340702,
           0.002476645189793534,
           0.012806531588539694,
           0.003987840381930814,
           0.00011223306198111322,
           0.03152801264051036,
           0.0019235638313386124,
           0.002348431148767777,
           0.014573095600950457,
           0.0021061638080827946,
           0.0020141108569671383,
           0.0006754367074032641,
           0.015102107787134188,
           0.012371618719363982,
           0.004526024031894926,
           0.009696209714336818,
           0.03408867773897721,
           0.005334177647271312,
           0.0005650554533263651,
           0.0008338026149679327,
           0.0004902662883248482,
           0.0015087260150724268,
           0.0021800751341956694,
           0.002303841118964847,
           0.07551903649727383,
           0.22622120384048414,
           0.03953464367752669,
           0.00829062424254197,
           0.1302772851276662,
           0.004189001864793703,
           0.0011189364177344612,
           0.0014922210412933864,
           0.001205930569447603,
           0.0007907303448801861,
           0.001198516278839888,
           0.0002287038748728604,
           2.1657576344524923e-07,
           5.002706342374908e-05,
           9.949142778953996e-06,
           0.0005183816281657483,
           0.0002265415020663768,
           0.0006200785039728632,
           0.000268976734580803,
           0.00020501537039028343,
           4.651753998131144e-05,
           0.00043635823660125684,
           0.00044704891280367625,
           0.0001078746465398565,
           0.000631550497182078,
           9.069242151034044e-05,
           0.00036517299671793977,
           0.001558984421106226,
           0.00022586197140190032,
           0.0022678154635693403,
           0.0011061204737384865,
           0,
           0.0008966237509617793,
           0.00011298355589138872,
           9.464975227124711e-05,
           0.0009264501828951297,
           5.869922490825312e-05,
           0.0004633506930726963,
           0.0002888633652402255,
           0.0003159600824635537,
           0.0010375583693075455,
           0.0019095074825767639,
           0.00021183047471656782,
           0.0007903388770751499,
           0.0011981247303246478,
           0.0016157812929111165,
           0.00167065445343421,
           0.0009606224620222934,
           0.0017713659110672251
          ],
          "colorscale": [
           [
            0,
            "rgb(12,51,131)"
           ],
           [
            0.25,
            "rgb(10,136,186)"
           ],
           [
            0.5,
            "rgb(242,211,56)"
           ],
           [
            0.75,
            "rgb(242,143,56)"
           ],
           [
            1,
            "rgb(217,30,30)"
           ]
          ],
          "showscale": true,
          "size": 25,
          "sizemode": "diameter",
          "sizeref": 1
         },
         "mode": "markers",
         "text": [
          "LotFrontage",
          "LotArea",
          "OverallQual",
          "OverallCond",
          "MasVnrArea",
          "ExterQual",
          "ExterCond",
          "BsmtQual",
          "BsmtCond",
          "BsmtExposure",
          "BsmtFinType1",
          "BsmtFinSF1",
          "BsmtFinType2",
          "BsmtFinSF2",
          "BsmtUnfSF",
          "TotalBsmtSF",
          "HeatingQC",
          "CentralAir",
          "1stFlrSF",
          "2ndFlrSF",
          "LowQualFinSF",
          "GrLivArea",
          "BsmtFullBath",
          "BsmtHalfBath",
          "FullBath",
          "HalfBath",
          "BedroomAbvGr",
          "KitchenAbvGr",
          "KitchenQual",
          "TotRmsAbvGrd",
          "Fireplaces",
          "FireplaceQu",
          "GarageCars",
          "GarageArea",
          "GarageQual",
          "GarageCond",
          "PavedDrive",
          "WoodDeckSF",
          "OpenPorchSF",
          "NeighborhoodLotArea",
          "NeighborhoodBldgType",
          "TotalSquareFeet",
          "NeighborhoodHouseStyle",
          "OverallQualNCond",
          "NeighborhoodOverallQualNCond",
          "AdjRemodAdd",
          "QuarterMeanNorm",
          "MonthMeanNorm",
          "Neighborhood_4",
          "Neighborhood_5",
          "Neighborhood_6",
          "Neighborhood_7",
          "Neighborhood_8",
          "Neighborhood_9",
          "Neighborhood_10",
          "Neighborhood_11",
          "Neighborhood_12",
          "Neighborhood_13",
          "Neighborhood_14",
          "Neighborhood_15",
          "Neighborhood_16",
          "Neighborhood_17",
          "Neighborhood_18",
          "Neighborhood_19",
          "Neighborhood_20",
          "Neighborhood_21",
          "Neighborhood_22",
          "Neighborhood_23",
          "Neighborhood_24",
          "Neighborhood_25",
          "LotConfig_3",
          "LotConfig_4",
          "LotConfig_5",
          "BldgType_2",
          "BldgType_3",
          "BldgType_5",
          "HouseStyle_2",
          "HouseStyle_3",
          "HouseStyle_4",
          "HouseStyle_5",
          "HouseStyle_6",
          "HouseStyle_7",
          "HouseStyle_8",
          "SaleCondition_1",
          "SaleCondition_2",
          "SaleCondition_3",
          "GarageFinish_1",
          "GarageFinish_2",
          "GarageFinish_3"
         ],
         "type": "scatter",
         "x": [
          "LotFrontage",
          "LotArea",
          "OverallQual",
          "OverallCond",
          "MasVnrArea",
          "ExterQual",
          "ExterCond",
          "BsmtQual",
          "BsmtCond",
          "BsmtExposure",
          "BsmtFinType1",
          "BsmtFinSF1",
          "BsmtFinType2",
          "BsmtFinSF2",
          "BsmtUnfSF",
          "TotalBsmtSF",
          "HeatingQC",
          "CentralAir",
          "1stFlrSF",
          "2ndFlrSF",
          "LowQualFinSF",
          "GrLivArea",
          "BsmtFullBath",
          "BsmtHalfBath",
          "FullBath",
          "HalfBath",
          "BedroomAbvGr",
          "KitchenAbvGr",
          "KitchenQual",
          "TotRmsAbvGrd",
          "Fireplaces",
          "FireplaceQu",
          "GarageCars",
          "GarageArea",
          "GarageQual",
          "GarageCond",
          "PavedDrive",
          "WoodDeckSF",
          "OpenPorchSF",
          "NeighborhoodLotArea",
          "NeighborhoodBldgType",
          "TotalSquareFeet",
          "NeighborhoodHouseStyle",
          "OverallQualNCond",
          "NeighborhoodOverallQualNCond",
          "AdjRemodAdd",
          "QuarterMeanNorm",
          "MonthMeanNorm",
          "Neighborhood_4",
          "Neighborhood_5",
          "Neighborhood_6",
          "Neighborhood_7",
          "Neighborhood_8",
          "Neighborhood_9",
          "Neighborhood_10",
          "Neighborhood_11",
          "Neighborhood_12",
          "Neighborhood_13",
          "Neighborhood_14",
          "Neighborhood_15",
          "Neighborhood_16",
          "Neighborhood_17",
          "Neighborhood_18",
          "Neighborhood_19",
          "Neighborhood_20",
          "Neighborhood_21",
          "Neighborhood_22",
          "Neighborhood_23",
          "Neighborhood_24",
          "Neighborhood_25",
          "LotConfig_3",
          "LotConfig_4",
          "LotConfig_5",
          "BldgType_2",
          "BldgType_3",
          "BldgType_5",
          "HouseStyle_2",
          "HouseStyle_3",
          "HouseStyle_4",
          "HouseStyle_5",
          "HouseStyle_6",
          "HouseStyle_7",
          "HouseStyle_8",
          "SaleCondition_1",
          "SaleCondition_2",
          "SaleCondition_3",
          "GarageFinish_1",
          "GarageFinish_2",
          "GarageFinish_3"
         ],
         "y": [
          0.0015362787745642787,
          0.003137550418419068,
          0.14318893364267685,
          0.005806696648143066,
          0.0037658198062044397,
          0.09250689159730402,
          0.0007911164935170666,
          0.044591420984630856,
          0.0009209103682209177,
          0.0030982067376424294,
          0.002000177971372545,
          0.005960819630517702,
          0.0003630627908218874,
          0.00043289083563408776,
          0.0025079835465860174,
          0.011299704546825225,
          0.0009655055860340702,
          0.002476645189793534,
          0.012806531588539694,
          0.003987840381930814,
          0.00011223306198111322,
          0.03152801264051036,
          0.0019235638313386124,
          0.002348431148767777,
          0.014573095600950457,
          0.0021061638080827946,
          0.0020141108569671383,
          0.0006754367074032641,
          0.015102107787134188,
          0.012371618719363982,
          0.004526024031894926,
          0.009696209714336818,
          0.03408867773897721,
          0.005334177647271312,
          0.0005650554533263651,
          0.0008338026149679327,
          0.0004902662883248482,
          0.0015087260150724268,
          0.0021800751341956694,
          0.002303841118964847,
          0.07551903649727383,
          0.22622120384048414,
          0.03953464367752669,
          0.00829062424254197,
          0.1302772851276662,
          0.004189001864793703,
          0.0011189364177344612,
          0.0014922210412933864,
          0.001205930569447603,
          0.0007907303448801861,
          0.001198516278839888,
          0.0002287038748728604,
          2.1657576344524923e-07,
          5.002706342374908e-05,
          9.949142778953996e-06,
          0.0005183816281657483,
          0.0002265415020663768,
          0.0006200785039728632,
          0.000268976734580803,
          0.00020501537039028343,
          4.651753998131144e-05,
          0.00043635823660125684,
          0.00044704891280367625,
          0.0001078746465398565,
          0.000631550497182078,
          9.069242151034044e-05,
          0.00036517299671793977,
          0.001558984421106226,
          0.00022586197140190032,
          0.0022678154635693403,
          0.0011061204737384865,
          0,
          0.0008966237509617793,
          0.00011298355589138872,
          9.464975227124711e-05,
          0.0009264501828951297,
          5.869922490825312e-05,
          0.0004633506930726963,
          0.0002888633652402255,
          0.0003159600824635537,
          0.0010375583693075455,
          0.0019095074825767639,
          0.00021183047471656782,
          0.0007903388770751499,
          0.0011981247303246478,
          0.0016157812929111165,
          0.00167065445343421,
          0.0009606224620222934,
          0.0017713659110672251
         ]
        }
       ],
       "layout": {
        "autosize": true,
        "hovermode": "closest",
        "showlegend": false,
        "template": {
         "data": {
          "bar": [
           {
            "error_x": {
             "color": "#2a3f5f"
            },
            "error_y": {
             "color": "#2a3f5f"
            },
            "marker": {
             "line": {
              "color": "#E5ECF6",
              "width": 0.5
             }
            },
            "type": "bar"
           }
          ],
          "barpolar": [
           {
            "marker": {
             "line": {
              "color": "#E5ECF6",
              "width": 0.5
             }
            },
            "type": "barpolar"
           }
          ],
          "carpet": [
           {
            "aaxis": {
             "endlinecolor": "#2a3f5f",
             "gridcolor": "white",
             "linecolor": "white",
             "minorgridcolor": "white",
             "startlinecolor": "#2a3f5f"
            },
            "baxis": {
             "endlinecolor": "#2a3f5f",
             "gridcolor": "white",
             "linecolor": "white",
             "minorgridcolor": "white",
             "startlinecolor": "#2a3f5f"
            },
            "type": "carpet"
           }
          ],
          "choropleth": [
           {
            "colorbar": {
             "outlinewidth": 0,
             "ticks": ""
            },
            "type": "choropleth"
           }
          ],
          "contour": [
           {
            "colorbar": {
             "outlinewidth": 0,
             "ticks": ""
            },
            "colorscale": [
             [
              0,
              "#0d0887"
             ],
             [
              0.1111111111111111,
              "#46039f"
             ],
             [
              0.2222222222222222,
              "#7201a8"
             ],
             [
              0.3333333333333333,
              "#9c179e"
             ],
             [
              0.4444444444444444,
              "#bd3786"
             ],
             [
              0.5555555555555556,
              "#d8576b"
             ],
             [
              0.6666666666666666,
              "#ed7953"
             ],
             [
              0.7777777777777778,
              "#fb9f3a"
             ],
             [
              0.8888888888888888,
              "#fdca26"
             ],
             [
              1,
              "#f0f921"
             ]
            ],
            "type": "contour"
           }
          ],
          "contourcarpet": [
           {
            "colorbar": {
             "outlinewidth": 0,
             "ticks": ""
            },
            "type": "contourcarpet"
           }
          ],
          "heatmap": [
           {
            "colorbar": {
             "outlinewidth": 0,
             "ticks": ""
            },
            "colorscale": [
             [
              0,
              "#0d0887"
             ],
             [
              0.1111111111111111,
              "#46039f"
             ],
             [
              0.2222222222222222,
              "#7201a8"
             ],
             [
              0.3333333333333333,
              "#9c179e"
             ],
             [
              0.4444444444444444,
              "#bd3786"
             ],
             [
              0.5555555555555556,
              "#d8576b"
             ],
             [
              0.6666666666666666,
              "#ed7953"
             ],
             [
              0.7777777777777778,
              "#fb9f3a"
             ],
             [
              0.8888888888888888,
              "#fdca26"
             ],
             [
              1,
              "#f0f921"
             ]
            ],
            "type": "heatmap"
           }
          ],
          "heatmapgl": [
           {
            "colorbar": {
             "outlinewidth": 0,
             "ticks": ""
            },
            "colorscale": [
             [
              0,
              "#0d0887"
             ],
             [
              0.1111111111111111,
              "#46039f"
             ],
             [
              0.2222222222222222,
              "#7201a8"
             ],
             [
              0.3333333333333333,
              "#9c179e"
             ],
             [
              0.4444444444444444,
              "#bd3786"
             ],
             [
              0.5555555555555556,
              "#d8576b"
             ],
             [
              0.6666666666666666,
              "#ed7953"
             ],
             [
              0.7777777777777778,
              "#fb9f3a"
             ],
             [
              0.8888888888888888,
              "#fdca26"
             ],
             [
              1,
              "#f0f921"
             ]
            ],
            "type": "heatmapgl"
           }
          ],
          "histogram": [
           {
            "marker": {
             "colorbar": {
              "outlinewidth": 0,
              "ticks": ""
             }
            },
            "type": "histogram"
           }
          ],
          "histogram2d": [
           {
            "colorbar": {
             "outlinewidth": 0,
             "ticks": ""
            },
            "colorscale": [
             [
              0,
              "#0d0887"
             ],
             [
              0.1111111111111111,
              "#46039f"
             ],
             [
              0.2222222222222222,
              "#7201a8"
             ],
             [
              0.3333333333333333,
              "#9c179e"
             ],
             [
              0.4444444444444444,
              "#bd3786"
             ],
             [
              0.5555555555555556,
              "#d8576b"
             ],
             [
              0.6666666666666666,
              "#ed7953"
             ],
             [
              0.7777777777777778,
              "#fb9f3a"
             ],
             [
              0.8888888888888888,
              "#fdca26"
             ],
             [
              1,
              "#f0f921"
             ]
            ],
            "type": "histogram2d"
           }
          ],
          "histogram2dcontour": [
           {
            "colorbar": {
             "outlinewidth": 0,
             "ticks": ""
            },
            "colorscale": [
             [
              0,
              "#0d0887"
             ],
             [
              0.1111111111111111,
              "#46039f"
             ],
             [
              0.2222222222222222,
              "#7201a8"
             ],
             [
              0.3333333333333333,
              "#9c179e"
             ],
             [
              0.4444444444444444,
              "#bd3786"
             ],
             [
              0.5555555555555556,
              "#d8576b"
             ],
             [
              0.6666666666666666,
              "#ed7953"
             ],
             [
              0.7777777777777778,
              "#fb9f3a"
             ],
             [
              0.8888888888888888,
              "#fdca26"
             ],
             [
              1,
              "#f0f921"
             ]
            ],
            "type": "histogram2dcontour"
           }
          ],
          "mesh3d": [
           {
            "colorbar": {
             "outlinewidth": 0,
             "ticks": ""
            },
            "type": "mesh3d"
           }
          ],
          "parcoords": [
           {
            "line": {
             "colorbar": {
              "outlinewidth": 0,
              "ticks": ""
             }
            },
            "type": "parcoords"
           }
          ],
          "pie": [
           {
            "automargin": true,
            "type": "pie"
           }
          ],
          "scatter": [
           {
            "marker": {
             "colorbar": {
              "outlinewidth": 0,
              "ticks": ""
             }
            },
            "type": "scatter"
           }
          ],
          "scatter3d": [
           {
            "line": {
             "colorbar": {
              "outlinewidth": 0,
              "ticks": ""
             }
            },
            "marker": {
             "colorbar": {
              "outlinewidth": 0,
              "ticks": ""
             }
            },
            "type": "scatter3d"
           }
          ],
          "scattercarpet": [
           {
            "marker": {
             "colorbar": {
              "outlinewidth": 0,
              "ticks": ""
             }
            },
            "type": "scattercarpet"
           }
          ],
          "scattergeo": [
           {
            "marker": {
             "colorbar": {
              "outlinewidth": 0,
              "ticks": ""
             }
            },
            "type": "scattergeo"
           }
          ],
          "scattergl": [
           {
            "marker": {
             "colorbar": {
              "outlinewidth": 0,
              "ticks": ""
             }
            },
            "type": "scattergl"
           }
          ],
          "scattermapbox": [
           {
            "marker": {
             "colorbar": {
              "outlinewidth": 0,
              "ticks": ""
             }
            },
            "type": "scattermapbox"
           }
          ],
          "scatterpolar": [
           {
            "marker": {
             "colorbar": {
              "outlinewidth": 0,
              "ticks": ""
             }
            },
            "type": "scatterpolar"
           }
          ],
          "scatterpolargl": [
           {
            "marker": {
             "colorbar": {
              "outlinewidth": 0,
              "ticks": ""
             }
            },
            "type": "scatterpolargl"
           }
          ],
          "scatterternary": [
           {
            "marker": {
             "colorbar": {
              "outlinewidth": 0,
              "ticks": ""
             }
            },
            "type": "scatterternary"
           }
          ],
          "surface": [
           {
            "colorbar": {
             "outlinewidth": 0,
             "ticks": ""
            },
            "colorscale": [
             [
              0,
              "#0d0887"
             ],
             [
              0.1111111111111111,
              "#46039f"
             ],
             [
              0.2222222222222222,
              "#7201a8"
             ],
             [
              0.3333333333333333,
              "#9c179e"
             ],
             [
              0.4444444444444444,
              "#bd3786"
             ],
             [
              0.5555555555555556,
              "#d8576b"
             ],
             [
              0.6666666666666666,
              "#ed7953"
             ],
             [
              0.7777777777777778,
              "#fb9f3a"
             ],
             [
              0.8888888888888888,
              "#fdca26"
             ],
             [
              1,
              "#f0f921"
             ]
            ],
            "type": "surface"
           }
          ],
          "table": [
           {
            "cells": {
             "fill": {
              "color": "#EBF0F8"
             },
             "line": {
              "color": "white"
             }
            },
            "header": {
             "fill": {
              "color": "#C8D4E3"
             },
             "line": {
              "color": "white"
             }
            },
            "type": "table"
           }
          ]
         },
         "layout": {
          "annotationdefaults": {
           "arrowcolor": "#2a3f5f",
           "arrowhead": 0,
           "arrowwidth": 1
          },
          "coloraxis": {
           "colorbar": {
            "outlinewidth": 0,
            "ticks": ""
           }
          },
          "colorscale": {
           "diverging": [
            [
             0,
             "#8e0152"
            ],
            [
             0.1,
             "#c51b7d"
            ],
            [
             0.2,
             "#de77ae"
            ],
            [
             0.3,
             "#f1b6da"
            ],
            [
             0.4,
             "#fde0ef"
            ],
            [
             0.5,
             "#f7f7f7"
            ],
            [
             0.6,
             "#e6f5d0"
            ],
            [
             0.7,
             "#b8e186"
            ],
            [
             0.8,
             "#7fbc41"
            ],
            [
             0.9,
             "#4d9221"
            ],
            [
             1,
             "#276419"
            ]
           ],
           "sequential": [
            [
             0,
             "#0d0887"
            ],
            [
             0.1111111111111111,
             "#46039f"
            ],
            [
             0.2222222222222222,
             "#7201a8"
            ],
            [
             0.3333333333333333,
             "#9c179e"
            ],
            [
             0.4444444444444444,
             "#bd3786"
            ],
            [
             0.5555555555555556,
             "#d8576b"
            ],
            [
             0.6666666666666666,
             "#ed7953"
            ],
            [
             0.7777777777777778,
             "#fb9f3a"
            ],
            [
             0.8888888888888888,
             "#fdca26"
            ],
            [
             1,
             "#f0f921"
            ]
           ],
           "sequentialminus": [
            [
             0,
             "#0d0887"
            ],
            [
             0.1111111111111111,
             "#46039f"
            ],
            [
             0.2222222222222222,
             "#7201a8"
            ],
            [
             0.3333333333333333,
             "#9c179e"
            ],
            [
             0.4444444444444444,
             "#bd3786"
            ],
            [
             0.5555555555555556,
             "#d8576b"
            ],
            [
             0.6666666666666666,
             "#ed7953"
            ],
            [
             0.7777777777777778,
             "#fb9f3a"
            ],
            [
             0.8888888888888888,
             "#fdca26"
            ],
            [
             1,
             "#f0f921"
            ]
           ]
          },
          "colorway": [
           "#636efa",
           "#EF553B",
           "#00cc96",
           "#ab63fa",
           "#FFA15A",
           "#19d3f3",
           "#FF6692",
           "#B6E880",
           "#FF97FF",
           "#FECB52"
          ],
          "font": {
           "color": "#2a3f5f"
          },
          "geo": {
           "bgcolor": "white",
           "lakecolor": "white",
           "landcolor": "#E5ECF6",
           "showlakes": true,
           "showland": true,
           "subunitcolor": "white"
          },
          "hoverlabel": {
           "align": "left"
          },
          "hovermode": "closest",
          "mapbox": {
           "style": "light"
          },
          "paper_bgcolor": "white",
          "plot_bgcolor": "#E5ECF6",
          "polar": {
           "angularaxis": {
            "gridcolor": "white",
            "linecolor": "white",
            "ticks": ""
           },
           "bgcolor": "#E5ECF6",
           "radialaxis": {
            "gridcolor": "white",
            "linecolor": "white",
            "ticks": ""
           }
          },
          "scene": {
           "xaxis": {
            "backgroundcolor": "#E5ECF6",
            "gridcolor": "white",
            "gridwidth": 2,
            "linecolor": "white",
            "showbackground": true,
            "ticks": "",
            "zerolinecolor": "white"
           },
           "yaxis": {
            "backgroundcolor": "#E5ECF6",
            "gridcolor": "white",
            "gridwidth": 2,
            "linecolor": "white",
            "showbackground": true,
            "ticks": "",
            "zerolinecolor": "white"
           },
           "zaxis": {
            "backgroundcolor": "#E5ECF6",
            "gridcolor": "white",
            "gridwidth": 2,
            "linecolor": "white",
            "showbackground": true,
            "ticks": "",
            "zerolinecolor": "white"
           }
          },
          "shapedefaults": {
           "line": {
            "color": "#2a3f5f"
           }
          },
          "ternary": {
           "aaxis": {
            "gridcolor": "white",
            "linecolor": "white",
            "ticks": ""
           },
           "baxis": {
            "gridcolor": "white",
            "linecolor": "white",
            "ticks": ""
           },
           "bgcolor": "#E5ECF6",
           "caxis": {
            "gridcolor": "white",
            "linecolor": "white",
            "ticks": ""
           }
          },
          "title": {
           "x": 0.05
          },
          "xaxis": {
           "automargin": true,
           "gridcolor": "white",
           "linecolor": "white",
           "ticks": "",
           "title": {
            "standoff": 15
           },
           "zerolinecolor": "white",
           "zerolinewidth": 2
          },
          "yaxis": {
           "automargin": true,
           "gridcolor": "white",
           "linecolor": "white",
           "ticks": "",
           "title": {
            "standoff": 15
           },
           "zerolinecolor": "white",
           "zerolinewidth": 2
          }
         }
        },
        "title": {
         "text": "Extra Trees Feature Importance"
        },
        "yaxis": {
         "gridwidth": 2,
         "ticklen": 5,
         "title": {
          "text": "Feature Importance"
         }
        }
       }
      },
      "text/html": [
       "<div>\n",
       "        \n",
       "        \n",
       "            <div id=\"e24a0ec3-ecf6-48b8-8b1a-fed32b65b795\" class=\"plotly-graph-div\" style=\"height:525px; width:100%;\"></div>\n",
       "            <script type=\"text/javascript\">\n",
       "                require([\"plotly\"], function(Plotly) {\n",
       "                    window.PLOTLYENV=window.PLOTLYENV || {};\n",
       "                    \n",
       "                if (document.getElementById(\"e24a0ec3-ecf6-48b8-8b1a-fed32b65b795\")) {\n",
       "                    Plotly.newPlot(\n",
       "                        'e24a0ec3-ecf6-48b8-8b1a-fed32b65b795',\n",
       "                        [{\"marker\": {\"color\": [0.0015362787745642787, 0.003137550418419068, 0.14318893364267685, 0.005806696648143066, 0.0037658198062044397, 0.09250689159730402, 0.0007911164935170666, 0.044591420984630856, 0.0009209103682209177, 0.0030982067376424294, 0.002000177971372545, 0.005960819630517702, 0.0003630627908218874, 0.00043289083563408776, 0.0025079835465860174, 0.011299704546825225, 0.0009655055860340702, 0.002476645189793534, 0.012806531588539694, 0.003987840381930814, 0.00011223306198111322, 0.03152801264051036, 0.0019235638313386124, 0.002348431148767777, 0.014573095600950457, 0.0021061638080827946, 0.0020141108569671383, 0.0006754367074032641, 0.015102107787134188, 0.012371618719363982, 0.004526024031894926, 0.009696209714336818, 0.03408867773897721, 0.005334177647271312, 0.0005650554533263651, 0.0008338026149679327, 0.0004902662883248482, 0.0015087260150724268, 0.0021800751341956694, 0.002303841118964847, 0.07551903649727383, 0.22622120384048414, 0.03953464367752669, 0.00829062424254197, 0.1302772851276662, 0.004189001864793703, 0.0011189364177344612, 0.0014922210412933864, 0.001205930569447603, 0.0007907303448801861, 0.001198516278839888, 0.0002287038748728604, 2.1657576344524923e-07, 5.002706342374908e-05, 9.949142778953996e-06, 0.0005183816281657483, 0.0002265415020663768, 0.0006200785039728632, 0.000268976734580803, 0.00020501537039028343, 4.651753998131144e-05, 0.00043635823660125684, 0.00044704891280367625, 0.0001078746465398565, 0.000631550497182078, 9.069242151034044e-05, 0.00036517299671793977, 0.001558984421106226, 0.00022586197140190032, 0.0022678154635693403, 0.0011061204737384865, 0.0, 0.0008966237509617793, 0.00011298355589138872, 9.464975227124711e-05, 0.0009264501828951297, 5.869922490825312e-05, 0.0004633506930726963, 0.0002888633652402255, 0.0003159600824635537, 0.0010375583693075455, 0.0019095074825767639, 0.00021183047471656782, 0.0007903388770751499, 0.0011981247303246478, 0.0016157812929111165, 0.00167065445343421, 0.0009606224620222934, 0.0017713659110672251], \"colorscale\": [[0.0, \"rgb(12,51,131)\"], [0.25, \"rgb(10,136,186)\"], [0.5, \"rgb(242,211,56)\"], [0.75, \"rgb(242,143,56)\"], [1.0, \"rgb(217,30,30)\"]], \"showscale\": true, \"size\": 25, \"sizemode\": \"diameter\", \"sizeref\": 1}, \"mode\": \"markers\", \"text\": [\"LotFrontage\", \"LotArea\", \"OverallQual\", \"OverallCond\", \"MasVnrArea\", \"ExterQual\", \"ExterCond\", \"BsmtQual\", \"BsmtCond\", \"BsmtExposure\", \"BsmtFinType1\", \"BsmtFinSF1\", \"BsmtFinType2\", \"BsmtFinSF2\", \"BsmtUnfSF\", \"TotalBsmtSF\", \"HeatingQC\", \"CentralAir\", \"1stFlrSF\", \"2ndFlrSF\", \"LowQualFinSF\", \"GrLivArea\", \"BsmtFullBath\", \"BsmtHalfBath\", \"FullBath\", \"HalfBath\", \"BedroomAbvGr\", \"KitchenAbvGr\", \"KitchenQual\", \"TotRmsAbvGrd\", \"Fireplaces\", \"FireplaceQu\", \"GarageCars\", \"GarageArea\", \"GarageQual\", \"GarageCond\", \"PavedDrive\", \"WoodDeckSF\", \"OpenPorchSF\", \"NeighborhoodLotArea\", \"NeighborhoodBldgType\", \"TotalSquareFeet\", \"NeighborhoodHouseStyle\", \"OverallQualNCond\", \"NeighborhoodOverallQualNCond\", \"AdjRemodAdd\", \"QuarterMeanNorm\", \"MonthMeanNorm\", \"Neighborhood_4\", \"Neighborhood_5\", \"Neighborhood_6\", \"Neighborhood_7\", \"Neighborhood_8\", \"Neighborhood_9\", \"Neighborhood_10\", \"Neighborhood_11\", \"Neighborhood_12\", \"Neighborhood_13\", \"Neighborhood_14\", \"Neighborhood_15\", \"Neighborhood_16\", \"Neighborhood_17\", \"Neighborhood_18\", \"Neighborhood_19\", \"Neighborhood_20\", \"Neighborhood_21\", \"Neighborhood_22\", \"Neighborhood_23\", \"Neighborhood_24\", \"Neighborhood_25\", \"LotConfig_3\", \"LotConfig_4\", \"LotConfig_5\", \"BldgType_2\", \"BldgType_3\", \"BldgType_5\", \"HouseStyle_2\", \"HouseStyle_3\", \"HouseStyle_4\", \"HouseStyle_5\", \"HouseStyle_6\", \"HouseStyle_7\", \"HouseStyle_8\", \"SaleCondition_1\", \"SaleCondition_2\", \"SaleCondition_3\", \"GarageFinish_1\", \"GarageFinish_2\", \"GarageFinish_3\"], \"type\": \"scatter\", \"x\": [\"LotFrontage\", \"LotArea\", \"OverallQual\", \"OverallCond\", \"MasVnrArea\", \"ExterQual\", \"ExterCond\", \"BsmtQual\", \"BsmtCond\", \"BsmtExposure\", \"BsmtFinType1\", \"BsmtFinSF1\", \"BsmtFinType2\", \"BsmtFinSF2\", \"BsmtUnfSF\", \"TotalBsmtSF\", \"HeatingQC\", \"CentralAir\", \"1stFlrSF\", \"2ndFlrSF\", \"LowQualFinSF\", \"GrLivArea\", \"BsmtFullBath\", \"BsmtHalfBath\", \"FullBath\", \"HalfBath\", \"BedroomAbvGr\", \"KitchenAbvGr\", \"KitchenQual\", \"TotRmsAbvGrd\", \"Fireplaces\", \"FireplaceQu\", \"GarageCars\", \"GarageArea\", \"GarageQual\", \"GarageCond\", \"PavedDrive\", \"WoodDeckSF\", \"OpenPorchSF\", \"NeighborhoodLotArea\", \"NeighborhoodBldgType\", \"TotalSquareFeet\", \"NeighborhoodHouseStyle\", \"OverallQualNCond\", \"NeighborhoodOverallQualNCond\", \"AdjRemodAdd\", \"QuarterMeanNorm\", \"MonthMeanNorm\", \"Neighborhood_4\", \"Neighborhood_5\", \"Neighborhood_6\", \"Neighborhood_7\", \"Neighborhood_8\", \"Neighborhood_9\", \"Neighborhood_10\", \"Neighborhood_11\", \"Neighborhood_12\", \"Neighborhood_13\", \"Neighborhood_14\", \"Neighborhood_15\", \"Neighborhood_16\", \"Neighborhood_17\", \"Neighborhood_18\", \"Neighborhood_19\", \"Neighborhood_20\", \"Neighborhood_21\", \"Neighborhood_22\", \"Neighborhood_23\", \"Neighborhood_24\", \"Neighborhood_25\", \"LotConfig_3\", \"LotConfig_4\", \"LotConfig_5\", \"BldgType_2\", \"BldgType_3\", \"BldgType_5\", \"HouseStyle_2\", \"HouseStyle_3\", \"HouseStyle_4\", \"HouseStyle_5\", \"HouseStyle_6\", \"HouseStyle_7\", \"HouseStyle_8\", \"SaleCondition_1\", \"SaleCondition_2\", \"SaleCondition_3\", \"GarageFinish_1\", \"GarageFinish_2\", \"GarageFinish_3\"], \"y\": [0.0015362787745642787, 0.003137550418419068, 0.14318893364267685, 0.005806696648143066, 0.0037658198062044397, 0.09250689159730402, 0.0007911164935170666, 0.044591420984630856, 0.0009209103682209177, 0.0030982067376424294, 0.002000177971372545, 0.005960819630517702, 0.0003630627908218874, 0.00043289083563408776, 0.0025079835465860174, 0.011299704546825225, 0.0009655055860340702, 0.002476645189793534, 0.012806531588539694, 0.003987840381930814, 0.00011223306198111322, 0.03152801264051036, 0.0019235638313386124, 0.002348431148767777, 0.014573095600950457, 0.0021061638080827946, 0.0020141108569671383, 0.0006754367074032641, 0.015102107787134188, 0.012371618719363982, 0.004526024031894926, 0.009696209714336818, 0.03408867773897721, 0.005334177647271312, 0.0005650554533263651, 0.0008338026149679327, 0.0004902662883248482, 0.0015087260150724268, 0.0021800751341956694, 0.002303841118964847, 0.07551903649727383, 0.22622120384048414, 0.03953464367752669, 0.00829062424254197, 0.1302772851276662, 0.004189001864793703, 0.0011189364177344612, 0.0014922210412933864, 0.001205930569447603, 0.0007907303448801861, 0.001198516278839888, 0.0002287038748728604, 2.1657576344524923e-07, 5.002706342374908e-05, 9.949142778953996e-06, 0.0005183816281657483, 0.0002265415020663768, 0.0006200785039728632, 0.000268976734580803, 0.00020501537039028343, 4.651753998131144e-05, 0.00043635823660125684, 0.00044704891280367625, 0.0001078746465398565, 0.000631550497182078, 9.069242151034044e-05, 0.00036517299671793977, 0.001558984421106226, 0.00022586197140190032, 0.0022678154635693403, 0.0011061204737384865, 0.0, 0.0008966237509617793, 0.00011298355589138872, 9.464975227124711e-05, 0.0009264501828951297, 5.869922490825312e-05, 0.0004633506930726963, 0.0002888633652402255, 0.0003159600824635537, 0.0010375583693075455, 0.0019095074825767639, 0.00021183047471656782, 0.0007903388770751499, 0.0011981247303246478, 0.0016157812929111165, 0.00167065445343421, 0.0009606224620222934, 0.0017713659110672251]}],\n",
       "                        {\"autosize\": true, \"hovermode\": \"closest\", \"showlegend\": false, \"template\": {\"data\": {\"bar\": [{\"error_x\": {\"color\": \"#2a3f5f\"}, \"error_y\": {\"color\": \"#2a3f5f\"}, \"marker\": {\"line\": {\"color\": \"#E5ECF6\", \"width\": 0.5}}, \"type\": \"bar\"}], \"barpolar\": [{\"marker\": {\"line\": {\"color\": \"#E5ECF6\", \"width\": 0.5}}, \"type\": \"barpolar\"}], \"carpet\": [{\"aaxis\": {\"endlinecolor\": \"#2a3f5f\", \"gridcolor\": \"white\", \"linecolor\": \"white\", \"minorgridcolor\": \"white\", \"startlinecolor\": \"#2a3f5f\"}, \"baxis\": {\"endlinecolor\": \"#2a3f5f\", \"gridcolor\": \"white\", \"linecolor\": \"white\", \"minorgridcolor\": \"white\", \"startlinecolor\": \"#2a3f5f\"}, \"type\": \"carpet\"}], \"choropleth\": [{\"colorbar\": {\"outlinewidth\": 0, \"ticks\": \"\"}, \"type\": \"choropleth\"}], \"contour\": [{\"colorbar\": {\"outlinewidth\": 0, \"ticks\": \"\"}, \"colorscale\": [[0.0, \"#0d0887\"], [0.1111111111111111, \"#46039f\"], [0.2222222222222222, \"#7201a8\"], [0.3333333333333333, \"#9c179e\"], [0.4444444444444444, \"#bd3786\"], [0.5555555555555556, \"#d8576b\"], [0.6666666666666666, \"#ed7953\"], [0.7777777777777778, \"#fb9f3a\"], [0.8888888888888888, \"#fdca26\"], [1.0, \"#f0f921\"]], \"type\": \"contour\"}], \"contourcarpet\": [{\"colorbar\": {\"outlinewidth\": 0, \"ticks\": \"\"}, \"type\": \"contourcarpet\"}], \"heatmap\": [{\"colorbar\": {\"outlinewidth\": 0, \"ticks\": \"\"}, \"colorscale\": [[0.0, \"#0d0887\"], [0.1111111111111111, \"#46039f\"], [0.2222222222222222, \"#7201a8\"], [0.3333333333333333, \"#9c179e\"], [0.4444444444444444, \"#bd3786\"], [0.5555555555555556, \"#d8576b\"], [0.6666666666666666, \"#ed7953\"], [0.7777777777777778, \"#fb9f3a\"], [0.8888888888888888, \"#fdca26\"], [1.0, \"#f0f921\"]], \"type\": \"heatmap\"}], \"heatmapgl\": [{\"colorbar\": {\"outlinewidth\": 0, \"ticks\": \"\"}, \"colorscale\": [[0.0, \"#0d0887\"], [0.1111111111111111, \"#46039f\"], [0.2222222222222222, \"#7201a8\"], [0.3333333333333333, \"#9c179e\"], [0.4444444444444444, \"#bd3786\"], [0.5555555555555556, \"#d8576b\"], [0.6666666666666666, \"#ed7953\"], [0.7777777777777778, \"#fb9f3a\"], [0.8888888888888888, \"#fdca26\"], [1.0, \"#f0f921\"]], \"type\": \"heatmapgl\"}], \"histogram\": [{\"marker\": {\"colorbar\": {\"outlinewidth\": 0, \"ticks\": \"\"}}, \"type\": \"histogram\"}], \"histogram2d\": [{\"colorbar\": {\"outlinewidth\": 0, \"ticks\": \"\"}, \"colorscale\": [[0.0, \"#0d0887\"], [0.1111111111111111, \"#46039f\"], [0.2222222222222222, \"#7201a8\"], [0.3333333333333333, \"#9c179e\"], [0.4444444444444444, \"#bd3786\"], [0.5555555555555556, \"#d8576b\"], [0.6666666666666666, \"#ed7953\"], [0.7777777777777778, \"#fb9f3a\"], [0.8888888888888888, \"#fdca26\"], [1.0, \"#f0f921\"]], \"type\": \"histogram2d\"}], \"histogram2dcontour\": [{\"colorbar\": {\"outlinewidth\": 0, \"ticks\": \"\"}, \"colorscale\": [[0.0, \"#0d0887\"], [0.1111111111111111, \"#46039f\"], [0.2222222222222222, \"#7201a8\"], [0.3333333333333333, \"#9c179e\"], [0.4444444444444444, \"#bd3786\"], [0.5555555555555556, \"#d8576b\"], [0.6666666666666666, \"#ed7953\"], [0.7777777777777778, \"#fb9f3a\"], [0.8888888888888888, \"#fdca26\"], [1.0, \"#f0f921\"]], \"type\": \"histogram2dcontour\"}], \"mesh3d\": [{\"colorbar\": {\"outlinewidth\": 0, \"ticks\": \"\"}, \"type\": \"mesh3d\"}], \"parcoords\": [{\"line\": {\"colorbar\": {\"outlinewidth\": 0, \"ticks\": \"\"}}, \"type\": \"parcoords\"}], \"pie\": [{\"automargin\": true, \"type\": \"pie\"}], \"scatter\": [{\"marker\": {\"colorbar\": {\"outlinewidth\": 0, \"ticks\": \"\"}}, \"type\": \"scatter\"}], \"scatter3d\": [{\"line\": {\"colorbar\": {\"outlinewidth\": 0, \"ticks\": \"\"}}, \"marker\": {\"colorbar\": {\"outlinewidth\": 0, \"ticks\": \"\"}}, \"type\": \"scatter3d\"}], \"scattercarpet\": [{\"marker\": {\"colorbar\": {\"outlinewidth\": 0, \"ticks\": \"\"}}, \"type\": \"scattercarpet\"}], \"scattergeo\": [{\"marker\": {\"colorbar\": {\"outlinewidth\": 0, \"ticks\": \"\"}}, \"type\": \"scattergeo\"}], \"scattergl\": [{\"marker\": {\"colorbar\": {\"outlinewidth\": 0, \"ticks\": \"\"}}, \"type\": \"scattergl\"}], \"scattermapbox\": [{\"marker\": {\"colorbar\": {\"outlinewidth\": 0, \"ticks\": \"\"}}, \"type\": \"scattermapbox\"}], \"scatterpolar\": [{\"marker\": {\"colorbar\": {\"outlinewidth\": 0, \"ticks\": \"\"}}, \"type\": \"scatterpolar\"}], \"scatterpolargl\": [{\"marker\": {\"colorbar\": {\"outlinewidth\": 0, \"ticks\": \"\"}}, \"type\": \"scatterpolargl\"}], \"scatterternary\": [{\"marker\": {\"colorbar\": {\"outlinewidth\": 0, \"ticks\": \"\"}}, \"type\": \"scatterternary\"}], \"surface\": [{\"colorbar\": {\"outlinewidth\": 0, \"ticks\": \"\"}, \"colorscale\": [[0.0, \"#0d0887\"], [0.1111111111111111, \"#46039f\"], [0.2222222222222222, \"#7201a8\"], [0.3333333333333333, \"#9c179e\"], [0.4444444444444444, \"#bd3786\"], [0.5555555555555556, \"#d8576b\"], [0.6666666666666666, \"#ed7953\"], [0.7777777777777778, \"#fb9f3a\"], [0.8888888888888888, \"#fdca26\"], [1.0, \"#f0f921\"]], \"type\": \"surface\"}], \"table\": [{\"cells\": {\"fill\": {\"color\": \"#EBF0F8\"}, \"line\": {\"color\": \"white\"}}, \"header\": {\"fill\": {\"color\": \"#C8D4E3\"}, \"line\": {\"color\": \"white\"}}, \"type\": \"table\"}]}, \"layout\": {\"annotationdefaults\": {\"arrowcolor\": \"#2a3f5f\", \"arrowhead\": 0, \"arrowwidth\": 1}, \"coloraxis\": {\"colorbar\": {\"outlinewidth\": 0, \"ticks\": \"\"}}, \"colorscale\": {\"diverging\": [[0, \"#8e0152\"], [0.1, \"#c51b7d\"], [0.2, \"#de77ae\"], [0.3, \"#f1b6da\"], [0.4, \"#fde0ef\"], [0.5, \"#f7f7f7\"], [0.6, \"#e6f5d0\"], [0.7, \"#b8e186\"], [0.8, \"#7fbc41\"], [0.9, \"#4d9221\"], [1, \"#276419\"]], \"sequential\": [[0.0, \"#0d0887\"], [0.1111111111111111, \"#46039f\"], [0.2222222222222222, \"#7201a8\"], [0.3333333333333333, \"#9c179e\"], [0.4444444444444444, \"#bd3786\"], [0.5555555555555556, \"#d8576b\"], [0.6666666666666666, \"#ed7953\"], [0.7777777777777778, \"#fb9f3a\"], [0.8888888888888888, \"#fdca26\"], [1.0, \"#f0f921\"]], \"sequentialminus\": [[0.0, \"#0d0887\"], [0.1111111111111111, \"#46039f\"], [0.2222222222222222, \"#7201a8\"], [0.3333333333333333, \"#9c179e\"], [0.4444444444444444, \"#bd3786\"], [0.5555555555555556, \"#d8576b\"], [0.6666666666666666, \"#ed7953\"], [0.7777777777777778, \"#fb9f3a\"], [0.8888888888888888, \"#fdca26\"], [1.0, \"#f0f921\"]]}, \"colorway\": [\"#636efa\", \"#EF553B\", \"#00cc96\", \"#ab63fa\", \"#FFA15A\", \"#19d3f3\", \"#FF6692\", \"#B6E880\", \"#FF97FF\", \"#FECB52\"], \"font\": {\"color\": \"#2a3f5f\"}, \"geo\": {\"bgcolor\": \"white\", \"lakecolor\": \"white\", \"landcolor\": \"#E5ECF6\", \"showlakes\": true, \"showland\": true, \"subunitcolor\": \"white\"}, \"hoverlabel\": {\"align\": \"left\"}, \"hovermode\": \"closest\", \"mapbox\": {\"style\": \"light\"}, \"paper_bgcolor\": \"white\", \"plot_bgcolor\": \"#E5ECF6\", \"polar\": {\"angularaxis\": {\"gridcolor\": \"white\", \"linecolor\": \"white\", \"ticks\": \"\"}, \"bgcolor\": \"#E5ECF6\", \"radialaxis\": {\"gridcolor\": \"white\", \"linecolor\": \"white\", \"ticks\": \"\"}}, \"scene\": {\"xaxis\": {\"backgroundcolor\": \"#E5ECF6\", \"gridcolor\": \"white\", \"gridwidth\": 2, \"linecolor\": \"white\", \"showbackground\": true, \"ticks\": \"\", \"zerolinecolor\": \"white\"}, \"yaxis\": {\"backgroundcolor\": \"#E5ECF6\", \"gridcolor\": \"white\", \"gridwidth\": 2, \"linecolor\": \"white\", \"showbackground\": true, \"ticks\": \"\", \"zerolinecolor\": \"white\"}, \"zaxis\": {\"backgroundcolor\": \"#E5ECF6\", \"gridcolor\": \"white\", \"gridwidth\": 2, \"linecolor\": \"white\", \"showbackground\": true, \"ticks\": \"\", \"zerolinecolor\": \"white\"}}, \"shapedefaults\": {\"line\": {\"color\": \"#2a3f5f\"}}, \"ternary\": {\"aaxis\": {\"gridcolor\": \"white\", \"linecolor\": \"white\", \"ticks\": \"\"}, \"baxis\": {\"gridcolor\": \"white\", \"linecolor\": \"white\", \"ticks\": \"\"}, \"bgcolor\": \"#E5ECF6\", \"caxis\": {\"gridcolor\": \"white\", \"linecolor\": \"white\", \"ticks\": \"\"}}, \"title\": {\"x\": 0.05}, \"xaxis\": {\"automargin\": true, \"gridcolor\": \"white\", \"linecolor\": \"white\", \"ticks\": \"\", \"title\": {\"standoff\": 15}, \"zerolinecolor\": \"white\", \"zerolinewidth\": 2}, \"yaxis\": {\"automargin\": true, \"gridcolor\": \"white\", \"linecolor\": \"white\", \"ticks\": \"\", \"title\": {\"standoff\": 15}, \"zerolinecolor\": \"white\", \"zerolinewidth\": 2}}}, \"title\": {\"text\": \"Extra Trees Feature Importance\"}, \"yaxis\": {\"gridwidth\": 2, \"ticklen\": 5, \"title\": {\"text\": \"Feature Importance\"}}},\n",
       "                        {\"responsive\": true}\n",
       "                    ).then(function(){\n",
       "                            \n",
       "var gd = document.getElementById('e24a0ec3-ecf6-48b8-8b1a-fed32b65b795');\n",
       "var x = new MutationObserver(function (mutations, observer) {{\n",
       "        var display = window.getComputedStyle(gd).display;\n",
       "        if (!display || display === 'none') {{\n",
       "            console.log([gd, 'removed!']);\n",
       "            Plotly.purge(gd);\n",
       "            observer.disconnect();\n",
       "        }}\n",
       "}});\n",
       "\n",
       "// Listen for the removal of the full notebook cells\n",
       "var notebookContainer = gd.closest('#notebook-container');\n",
       "if (notebookContainer) {{\n",
       "    x.observe(notebookContainer, {childList: true});\n",
       "}}\n",
       "\n",
       "// Listen for the clearing of the current output cell\n",
       "var outputEl = gd.closest('.output');\n",
       "if (outputEl) {{\n",
       "    x.observe(outputEl, {childList: true});\n",
       "}}\n",
       "\n",
       "                        })\n",
       "                };\n",
       "                });\n",
       "            </script>\n",
       "        </div>"
      ]
     },
     "metadata": {},
     "output_type": "display_data"
    },
    {
     "data": {
      "application/vnd.plotly.v1+json": {
       "config": {
        "linkText": "Export to plot.ly",
        "plotlyServerURL": "https://plot.ly",
        "showLink": false
       },
       "data": [
        {
         "marker": {
          "color": [
           9.615411766729777e-05,
           0.0004943459449062932,
           0.024129854659155472,
           0.0010537460917970894,
           0.022652863388520045,
           0.004272738565849165,
           0,
           0.003447467171633521,
           0,
           0.004032321073578744,
           0.0003290745027532521,
           0.00922892803686268,
           0,
           0,
           0.01658803580471393,
           0.01040576541188873,
           0.0005076217413400565,
           0.00045409190370595534,
           0.008855625983758456,
           0.015817075578504168,
           0,
           0.011188855066706548,
           0,
           0.000322848717465192,
           0.0002122219856267529,
           0,
           0.00100300322391575,
           0,
           0.021162864569265145,
           0.023351485270948352,
           0.014275969993376748,
           0.003930863619992664,
           0,
           0.0005079102993569873,
           0,
           0.00016169264678720456,
           0,
           0.00517162691782031,
           8.368269914890929e-05,
           0.0005461166707703954,
           0.21315661395196375,
           0.3951180406838867,
           0.022938684087202985,
           0.0034931502337536124,
           0.1438947896485989,
           0.00790408264941287,
           0.0005024715142680712,
           0.004868563242852374,
           0,
           0,
           0,
           0,
           0,
           0,
           0,
           0,
           0,
           0,
           0,
           0,
           0,
           0,
           0,
           0,
           0,
           0,
           0,
           0.00155127519284845,
           0,
           0.00044197280435380037,
           0.0012627944327528607,
           0,
           0,
           0,
           0,
           0,
           0,
           0,
           0,
           0,
           0,
           0,
           0,
           0,
           0,
           0.0005827099002899495,
           0,
           0,
           0
          ],
          "colorscale": [
           [
            0,
            "rgb(12,51,131)"
           ],
           [
            0.25,
            "rgb(10,136,186)"
           ],
           [
            0.5,
            "rgb(242,211,56)"
           ],
           [
            0.75,
            "rgb(242,143,56)"
           ],
           [
            1,
            "rgb(217,30,30)"
           ]
          ],
          "showscale": true,
          "size": 25,
          "sizemode": "diameter",
          "sizeref": 1
         },
         "mode": "markers",
         "text": [
          "LotFrontage",
          "LotArea",
          "OverallQual",
          "OverallCond",
          "MasVnrArea",
          "ExterQual",
          "ExterCond",
          "BsmtQual",
          "BsmtCond",
          "BsmtExposure",
          "BsmtFinType1",
          "BsmtFinSF1",
          "BsmtFinType2",
          "BsmtFinSF2",
          "BsmtUnfSF",
          "TotalBsmtSF",
          "HeatingQC",
          "CentralAir",
          "1stFlrSF",
          "2ndFlrSF",
          "LowQualFinSF",
          "GrLivArea",
          "BsmtFullBath",
          "BsmtHalfBath",
          "FullBath",
          "HalfBath",
          "BedroomAbvGr",
          "KitchenAbvGr",
          "KitchenQual",
          "TotRmsAbvGrd",
          "Fireplaces",
          "FireplaceQu",
          "GarageCars",
          "GarageArea",
          "GarageQual",
          "GarageCond",
          "PavedDrive",
          "WoodDeckSF",
          "OpenPorchSF",
          "NeighborhoodLotArea",
          "NeighborhoodBldgType",
          "TotalSquareFeet",
          "NeighborhoodHouseStyle",
          "OverallQualNCond",
          "NeighborhoodOverallQualNCond",
          "AdjRemodAdd",
          "QuarterMeanNorm",
          "MonthMeanNorm",
          "Neighborhood_4",
          "Neighborhood_5",
          "Neighborhood_6",
          "Neighborhood_7",
          "Neighborhood_8",
          "Neighborhood_9",
          "Neighborhood_10",
          "Neighborhood_11",
          "Neighborhood_12",
          "Neighborhood_13",
          "Neighborhood_14",
          "Neighborhood_15",
          "Neighborhood_16",
          "Neighborhood_17",
          "Neighborhood_18",
          "Neighborhood_19",
          "Neighborhood_20",
          "Neighborhood_21",
          "Neighborhood_22",
          "Neighborhood_23",
          "Neighborhood_24",
          "Neighborhood_25",
          "LotConfig_3",
          "LotConfig_4",
          "LotConfig_5",
          "BldgType_2",
          "BldgType_3",
          "BldgType_5",
          "HouseStyle_2",
          "HouseStyle_3",
          "HouseStyle_4",
          "HouseStyle_5",
          "HouseStyle_6",
          "HouseStyle_7",
          "HouseStyle_8",
          "SaleCondition_1",
          "SaleCondition_2",
          "SaleCondition_3",
          "GarageFinish_1",
          "GarageFinish_2",
          "GarageFinish_3"
         ],
         "type": "scatter",
         "x": [
          "LotFrontage",
          "LotArea",
          "OverallQual",
          "OverallCond",
          "MasVnrArea",
          "ExterQual",
          "ExterCond",
          "BsmtQual",
          "BsmtCond",
          "BsmtExposure",
          "BsmtFinType1",
          "BsmtFinSF1",
          "BsmtFinType2",
          "BsmtFinSF2",
          "BsmtUnfSF",
          "TotalBsmtSF",
          "HeatingQC",
          "CentralAir",
          "1stFlrSF",
          "2ndFlrSF",
          "LowQualFinSF",
          "GrLivArea",
          "BsmtFullBath",
          "BsmtHalfBath",
          "FullBath",
          "HalfBath",
          "BedroomAbvGr",
          "KitchenAbvGr",
          "KitchenQual",
          "TotRmsAbvGrd",
          "Fireplaces",
          "FireplaceQu",
          "GarageCars",
          "GarageArea",
          "GarageQual",
          "GarageCond",
          "PavedDrive",
          "WoodDeckSF",
          "OpenPorchSF",
          "NeighborhoodLotArea",
          "NeighborhoodBldgType",
          "TotalSquareFeet",
          "NeighborhoodHouseStyle",
          "OverallQualNCond",
          "NeighborhoodOverallQualNCond",
          "AdjRemodAdd",
          "QuarterMeanNorm",
          "MonthMeanNorm",
          "Neighborhood_4",
          "Neighborhood_5",
          "Neighborhood_6",
          "Neighborhood_7",
          "Neighborhood_8",
          "Neighborhood_9",
          "Neighborhood_10",
          "Neighborhood_11",
          "Neighborhood_12",
          "Neighborhood_13",
          "Neighborhood_14",
          "Neighborhood_15",
          "Neighborhood_16",
          "Neighborhood_17",
          "Neighborhood_18",
          "Neighborhood_19",
          "Neighborhood_20",
          "Neighborhood_21",
          "Neighborhood_22",
          "Neighborhood_23",
          "Neighborhood_24",
          "Neighborhood_25",
          "LotConfig_3",
          "LotConfig_4",
          "LotConfig_5",
          "BldgType_2",
          "BldgType_3",
          "BldgType_5",
          "HouseStyle_2",
          "HouseStyle_3",
          "HouseStyle_4",
          "HouseStyle_5",
          "HouseStyle_6",
          "HouseStyle_7",
          "HouseStyle_8",
          "SaleCondition_1",
          "SaleCondition_2",
          "SaleCondition_3",
          "GarageFinish_1",
          "GarageFinish_2",
          "GarageFinish_3"
         ],
         "y": [
          9.615411766729777e-05,
          0.0004943459449062932,
          0.024129854659155472,
          0.0010537460917970894,
          0.022652863388520045,
          0.004272738565849165,
          0,
          0.003447467171633521,
          0,
          0.004032321073578744,
          0.0003290745027532521,
          0.00922892803686268,
          0,
          0,
          0.01658803580471393,
          0.01040576541188873,
          0.0005076217413400565,
          0.00045409190370595534,
          0.008855625983758456,
          0.015817075578504168,
          0,
          0.011188855066706548,
          0,
          0.000322848717465192,
          0.0002122219856267529,
          0,
          0.00100300322391575,
          0,
          0.021162864569265145,
          0.023351485270948352,
          0.014275969993376748,
          0.003930863619992664,
          0,
          0.0005079102993569873,
          0,
          0.00016169264678720456,
          0,
          0.00517162691782031,
          8.368269914890929e-05,
          0.0005461166707703954,
          0.21315661395196375,
          0.3951180406838867,
          0.022938684087202985,
          0.0034931502337536124,
          0.1438947896485989,
          0.00790408264941287,
          0.0005024715142680712,
          0.004868563242852374,
          0,
          0,
          0,
          0,
          0,
          0,
          0,
          0,
          0,
          0,
          0,
          0,
          0,
          0,
          0,
          0,
          0,
          0,
          0,
          0.00155127519284845,
          0,
          0.00044197280435380037,
          0.0012627944327528607,
          0,
          0,
          0,
          0,
          0,
          0,
          0,
          0,
          0,
          0,
          0,
          0,
          0,
          0,
          0.0005827099002899495,
          0,
          0,
          0
         ]
        }
       ],
       "layout": {
        "autosize": true,
        "hovermode": "closest",
        "showlegend": false,
        "template": {
         "data": {
          "bar": [
           {
            "error_x": {
             "color": "#2a3f5f"
            },
            "error_y": {
             "color": "#2a3f5f"
            },
            "marker": {
             "line": {
              "color": "#E5ECF6",
              "width": 0.5
             }
            },
            "type": "bar"
           }
          ],
          "barpolar": [
           {
            "marker": {
             "line": {
              "color": "#E5ECF6",
              "width": 0.5
             }
            },
            "type": "barpolar"
           }
          ],
          "carpet": [
           {
            "aaxis": {
             "endlinecolor": "#2a3f5f",
             "gridcolor": "white",
             "linecolor": "white",
             "minorgridcolor": "white",
             "startlinecolor": "#2a3f5f"
            },
            "baxis": {
             "endlinecolor": "#2a3f5f",
             "gridcolor": "white",
             "linecolor": "white",
             "minorgridcolor": "white",
             "startlinecolor": "#2a3f5f"
            },
            "type": "carpet"
           }
          ],
          "choropleth": [
           {
            "colorbar": {
             "outlinewidth": 0,
             "ticks": ""
            },
            "type": "choropleth"
           }
          ],
          "contour": [
           {
            "colorbar": {
             "outlinewidth": 0,
             "ticks": ""
            },
            "colorscale": [
             [
              0,
              "#0d0887"
             ],
             [
              0.1111111111111111,
              "#46039f"
             ],
             [
              0.2222222222222222,
              "#7201a8"
             ],
             [
              0.3333333333333333,
              "#9c179e"
             ],
             [
              0.4444444444444444,
              "#bd3786"
             ],
             [
              0.5555555555555556,
              "#d8576b"
             ],
             [
              0.6666666666666666,
              "#ed7953"
             ],
             [
              0.7777777777777778,
              "#fb9f3a"
             ],
             [
              0.8888888888888888,
              "#fdca26"
             ],
             [
              1,
              "#f0f921"
             ]
            ],
            "type": "contour"
           }
          ],
          "contourcarpet": [
           {
            "colorbar": {
             "outlinewidth": 0,
             "ticks": ""
            },
            "type": "contourcarpet"
           }
          ],
          "heatmap": [
           {
            "colorbar": {
             "outlinewidth": 0,
             "ticks": ""
            },
            "colorscale": [
             [
              0,
              "#0d0887"
             ],
             [
              0.1111111111111111,
              "#46039f"
             ],
             [
              0.2222222222222222,
              "#7201a8"
             ],
             [
              0.3333333333333333,
              "#9c179e"
             ],
             [
              0.4444444444444444,
              "#bd3786"
             ],
             [
              0.5555555555555556,
              "#d8576b"
             ],
             [
              0.6666666666666666,
              "#ed7953"
             ],
             [
              0.7777777777777778,
              "#fb9f3a"
             ],
             [
              0.8888888888888888,
              "#fdca26"
             ],
             [
              1,
              "#f0f921"
             ]
            ],
            "type": "heatmap"
           }
          ],
          "heatmapgl": [
           {
            "colorbar": {
             "outlinewidth": 0,
             "ticks": ""
            },
            "colorscale": [
             [
              0,
              "#0d0887"
             ],
             [
              0.1111111111111111,
              "#46039f"
             ],
             [
              0.2222222222222222,
              "#7201a8"
             ],
             [
              0.3333333333333333,
              "#9c179e"
             ],
             [
              0.4444444444444444,
              "#bd3786"
             ],
             [
              0.5555555555555556,
              "#d8576b"
             ],
             [
              0.6666666666666666,
              "#ed7953"
             ],
             [
              0.7777777777777778,
              "#fb9f3a"
             ],
             [
              0.8888888888888888,
              "#fdca26"
             ],
             [
              1,
              "#f0f921"
             ]
            ],
            "type": "heatmapgl"
           }
          ],
          "histogram": [
           {
            "marker": {
             "colorbar": {
              "outlinewidth": 0,
              "ticks": ""
             }
            },
            "type": "histogram"
           }
          ],
          "histogram2d": [
           {
            "colorbar": {
             "outlinewidth": 0,
             "ticks": ""
            },
            "colorscale": [
             [
              0,
              "#0d0887"
             ],
             [
              0.1111111111111111,
              "#46039f"
             ],
             [
              0.2222222222222222,
              "#7201a8"
             ],
             [
              0.3333333333333333,
              "#9c179e"
             ],
             [
              0.4444444444444444,
              "#bd3786"
             ],
             [
              0.5555555555555556,
              "#d8576b"
             ],
             [
              0.6666666666666666,
              "#ed7953"
             ],
             [
              0.7777777777777778,
              "#fb9f3a"
             ],
             [
              0.8888888888888888,
              "#fdca26"
             ],
             [
              1,
              "#f0f921"
             ]
            ],
            "type": "histogram2d"
           }
          ],
          "histogram2dcontour": [
           {
            "colorbar": {
             "outlinewidth": 0,
             "ticks": ""
            },
            "colorscale": [
             [
              0,
              "#0d0887"
             ],
             [
              0.1111111111111111,
              "#46039f"
             ],
             [
              0.2222222222222222,
              "#7201a8"
             ],
             [
              0.3333333333333333,
              "#9c179e"
             ],
             [
              0.4444444444444444,
              "#bd3786"
             ],
             [
              0.5555555555555556,
              "#d8576b"
             ],
             [
              0.6666666666666666,
              "#ed7953"
             ],
             [
              0.7777777777777778,
              "#fb9f3a"
             ],
             [
              0.8888888888888888,
              "#fdca26"
             ],
             [
              1,
              "#f0f921"
             ]
            ],
            "type": "histogram2dcontour"
           }
          ],
          "mesh3d": [
           {
            "colorbar": {
             "outlinewidth": 0,
             "ticks": ""
            },
            "type": "mesh3d"
           }
          ],
          "parcoords": [
           {
            "line": {
             "colorbar": {
              "outlinewidth": 0,
              "ticks": ""
             }
            },
            "type": "parcoords"
           }
          ],
          "pie": [
           {
            "automargin": true,
            "type": "pie"
           }
          ],
          "scatter": [
           {
            "marker": {
             "colorbar": {
              "outlinewidth": 0,
              "ticks": ""
             }
            },
            "type": "scatter"
           }
          ],
          "scatter3d": [
           {
            "line": {
             "colorbar": {
              "outlinewidth": 0,
              "ticks": ""
             }
            },
            "marker": {
             "colorbar": {
              "outlinewidth": 0,
              "ticks": ""
             }
            },
            "type": "scatter3d"
           }
          ],
          "scattercarpet": [
           {
            "marker": {
             "colorbar": {
              "outlinewidth": 0,
              "ticks": ""
             }
            },
            "type": "scattercarpet"
           }
          ],
          "scattergeo": [
           {
            "marker": {
             "colorbar": {
              "outlinewidth": 0,
              "ticks": ""
             }
            },
            "type": "scattergeo"
           }
          ],
          "scattergl": [
           {
            "marker": {
             "colorbar": {
              "outlinewidth": 0,
              "ticks": ""
             }
            },
            "type": "scattergl"
           }
          ],
          "scattermapbox": [
           {
            "marker": {
             "colorbar": {
              "outlinewidth": 0,
              "ticks": ""
             }
            },
            "type": "scattermapbox"
           }
          ],
          "scatterpolar": [
           {
            "marker": {
             "colorbar": {
              "outlinewidth": 0,
              "ticks": ""
             }
            },
            "type": "scatterpolar"
           }
          ],
          "scatterpolargl": [
           {
            "marker": {
             "colorbar": {
              "outlinewidth": 0,
              "ticks": ""
             }
            },
            "type": "scatterpolargl"
           }
          ],
          "scatterternary": [
           {
            "marker": {
             "colorbar": {
              "outlinewidth": 0,
              "ticks": ""
             }
            },
            "type": "scatterternary"
           }
          ],
          "surface": [
           {
            "colorbar": {
             "outlinewidth": 0,
             "ticks": ""
            },
            "colorscale": [
             [
              0,
              "#0d0887"
             ],
             [
              0.1111111111111111,
              "#46039f"
             ],
             [
              0.2222222222222222,
              "#7201a8"
             ],
             [
              0.3333333333333333,
              "#9c179e"
             ],
             [
              0.4444444444444444,
              "#bd3786"
             ],
             [
              0.5555555555555556,
              "#d8576b"
             ],
             [
              0.6666666666666666,
              "#ed7953"
             ],
             [
              0.7777777777777778,
              "#fb9f3a"
             ],
             [
              0.8888888888888888,
              "#fdca26"
             ],
             [
              1,
              "#f0f921"
             ]
            ],
            "type": "surface"
           }
          ],
          "table": [
           {
            "cells": {
             "fill": {
              "color": "#EBF0F8"
             },
             "line": {
              "color": "white"
             }
            },
            "header": {
             "fill": {
              "color": "#C8D4E3"
             },
             "line": {
              "color": "white"
             }
            },
            "type": "table"
           }
          ]
         },
         "layout": {
          "annotationdefaults": {
           "arrowcolor": "#2a3f5f",
           "arrowhead": 0,
           "arrowwidth": 1
          },
          "coloraxis": {
           "colorbar": {
            "outlinewidth": 0,
            "ticks": ""
           }
          },
          "colorscale": {
           "diverging": [
            [
             0,
             "#8e0152"
            ],
            [
             0.1,
             "#c51b7d"
            ],
            [
             0.2,
             "#de77ae"
            ],
            [
             0.3,
             "#f1b6da"
            ],
            [
             0.4,
             "#fde0ef"
            ],
            [
             0.5,
             "#f7f7f7"
            ],
            [
             0.6,
             "#e6f5d0"
            ],
            [
             0.7,
             "#b8e186"
            ],
            [
             0.8,
             "#7fbc41"
            ],
            [
             0.9,
             "#4d9221"
            ],
            [
             1,
             "#276419"
            ]
           ],
           "sequential": [
            [
             0,
             "#0d0887"
            ],
            [
             0.1111111111111111,
             "#46039f"
            ],
            [
             0.2222222222222222,
             "#7201a8"
            ],
            [
             0.3333333333333333,
             "#9c179e"
            ],
            [
             0.4444444444444444,
             "#bd3786"
            ],
            [
             0.5555555555555556,
             "#d8576b"
            ],
            [
             0.6666666666666666,
             "#ed7953"
            ],
            [
             0.7777777777777778,
             "#fb9f3a"
            ],
            [
             0.8888888888888888,
             "#fdca26"
            ],
            [
             1,
             "#f0f921"
            ]
           ],
           "sequentialminus": [
            [
             0,
             "#0d0887"
            ],
            [
             0.1111111111111111,
             "#46039f"
            ],
            [
             0.2222222222222222,
             "#7201a8"
            ],
            [
             0.3333333333333333,
             "#9c179e"
            ],
            [
             0.4444444444444444,
             "#bd3786"
            ],
            [
             0.5555555555555556,
             "#d8576b"
            ],
            [
             0.6666666666666666,
             "#ed7953"
            ],
            [
             0.7777777777777778,
             "#fb9f3a"
            ],
            [
             0.8888888888888888,
             "#fdca26"
            ],
            [
             1,
             "#f0f921"
            ]
           ]
          },
          "colorway": [
           "#636efa",
           "#EF553B",
           "#00cc96",
           "#ab63fa",
           "#FFA15A",
           "#19d3f3",
           "#FF6692",
           "#B6E880",
           "#FF97FF",
           "#FECB52"
          ],
          "font": {
           "color": "#2a3f5f"
          },
          "geo": {
           "bgcolor": "white",
           "lakecolor": "white",
           "landcolor": "#E5ECF6",
           "showlakes": true,
           "showland": true,
           "subunitcolor": "white"
          },
          "hoverlabel": {
           "align": "left"
          },
          "hovermode": "closest",
          "mapbox": {
           "style": "light"
          },
          "paper_bgcolor": "white",
          "plot_bgcolor": "#E5ECF6",
          "polar": {
           "angularaxis": {
            "gridcolor": "white",
            "linecolor": "white",
            "ticks": ""
           },
           "bgcolor": "#E5ECF6",
           "radialaxis": {
            "gridcolor": "white",
            "linecolor": "white",
            "ticks": ""
           }
          },
          "scene": {
           "xaxis": {
            "backgroundcolor": "#E5ECF6",
            "gridcolor": "white",
            "gridwidth": 2,
            "linecolor": "white",
            "showbackground": true,
            "ticks": "",
            "zerolinecolor": "white"
           },
           "yaxis": {
            "backgroundcolor": "#E5ECF6",
            "gridcolor": "white",
            "gridwidth": 2,
            "linecolor": "white",
            "showbackground": true,
            "ticks": "",
            "zerolinecolor": "white"
           },
           "zaxis": {
            "backgroundcolor": "#E5ECF6",
            "gridcolor": "white",
            "gridwidth": 2,
            "linecolor": "white",
            "showbackground": true,
            "ticks": "",
            "zerolinecolor": "white"
           }
          },
          "shapedefaults": {
           "line": {
            "color": "#2a3f5f"
           }
          },
          "ternary": {
           "aaxis": {
            "gridcolor": "white",
            "linecolor": "white",
            "ticks": ""
           },
           "baxis": {
            "gridcolor": "white",
            "linecolor": "white",
            "ticks": ""
           },
           "bgcolor": "#E5ECF6",
           "caxis": {
            "gridcolor": "white",
            "linecolor": "white",
            "ticks": ""
           }
          },
          "title": {
           "x": 0.05
          },
          "xaxis": {
           "automargin": true,
           "gridcolor": "white",
           "linecolor": "white",
           "ticks": "",
           "title": {
            "standoff": 15
           },
           "zerolinecolor": "white",
           "zerolinewidth": 2
          },
          "yaxis": {
           "automargin": true,
           "gridcolor": "white",
           "linecolor": "white",
           "ticks": "",
           "title": {
            "standoff": 15
           },
           "zerolinecolor": "white",
           "zerolinewidth": 2
          }
         }
        },
        "title": {
         "text": "AdaBoost Feature Importance"
        },
        "yaxis": {
         "gridwidth": 2,
         "ticklen": 5,
         "title": {
          "text": "Feature Importance"
         }
        }
       }
      },
      "text/html": [
       "<div>\n",
       "        \n",
       "        \n",
       "            <div id=\"335fd89c-2e29-4155-87c7-ca3ddf189601\" class=\"plotly-graph-div\" style=\"height:525px; width:100%;\"></div>\n",
       "            <script type=\"text/javascript\">\n",
       "                require([\"plotly\"], function(Plotly) {\n",
       "                    window.PLOTLYENV=window.PLOTLYENV || {};\n",
       "                    \n",
       "                if (document.getElementById(\"335fd89c-2e29-4155-87c7-ca3ddf189601\")) {\n",
       "                    Plotly.newPlot(\n",
       "                        '335fd89c-2e29-4155-87c7-ca3ddf189601',\n",
       "                        [{\"marker\": {\"color\": [9.615411766729777e-05, 0.0004943459449062932, 0.024129854659155472, 0.0010537460917970894, 0.022652863388520045, 0.004272738565849165, 0.0, 0.003447467171633521, 0.0, 0.004032321073578744, 0.0003290745027532521, 0.00922892803686268, 0.0, 0.0, 0.01658803580471393, 0.01040576541188873, 0.0005076217413400565, 0.00045409190370595534, 0.008855625983758456, 0.015817075578504168, 0.0, 0.011188855066706548, 0.0, 0.000322848717465192, 0.0002122219856267529, 0.0, 0.00100300322391575, 0.0, 0.021162864569265145, 0.023351485270948352, 0.014275969993376748, 0.003930863619992664, 0.0, 0.0005079102993569873, 0.0, 0.00016169264678720456, 0.0, 0.00517162691782031, 8.368269914890929e-05, 0.0005461166707703954, 0.21315661395196375, 0.3951180406838867, 0.022938684087202985, 0.0034931502337536124, 0.1438947896485989, 0.00790408264941287, 0.0005024715142680712, 0.004868563242852374, 0.0, 0.0, 0.0, 0.0, 0.0, 0.0, 0.0, 0.0, 0.0, 0.0, 0.0, 0.0, 0.0, 0.0, 0.0, 0.0, 0.0, 0.0, 0.0, 0.00155127519284845, 0.0, 0.00044197280435380037, 0.0012627944327528607, 0.0, 0.0, 0.0, 0.0, 0.0, 0.0, 0.0, 0.0, 0.0, 0.0, 0.0, 0.0, 0.0, 0.0, 0.0005827099002899495, 0.0, 0.0, 0.0], \"colorscale\": [[0.0, \"rgb(12,51,131)\"], [0.25, \"rgb(10,136,186)\"], [0.5, \"rgb(242,211,56)\"], [0.75, \"rgb(242,143,56)\"], [1.0, \"rgb(217,30,30)\"]], \"showscale\": true, \"size\": 25, \"sizemode\": \"diameter\", \"sizeref\": 1}, \"mode\": \"markers\", \"text\": [\"LotFrontage\", \"LotArea\", \"OverallQual\", \"OverallCond\", \"MasVnrArea\", \"ExterQual\", \"ExterCond\", \"BsmtQual\", \"BsmtCond\", \"BsmtExposure\", \"BsmtFinType1\", \"BsmtFinSF1\", \"BsmtFinType2\", \"BsmtFinSF2\", \"BsmtUnfSF\", \"TotalBsmtSF\", \"HeatingQC\", \"CentralAir\", \"1stFlrSF\", \"2ndFlrSF\", \"LowQualFinSF\", \"GrLivArea\", \"BsmtFullBath\", \"BsmtHalfBath\", \"FullBath\", \"HalfBath\", \"BedroomAbvGr\", \"KitchenAbvGr\", \"KitchenQual\", \"TotRmsAbvGrd\", \"Fireplaces\", \"FireplaceQu\", \"GarageCars\", \"GarageArea\", \"GarageQual\", \"GarageCond\", \"PavedDrive\", \"WoodDeckSF\", \"OpenPorchSF\", \"NeighborhoodLotArea\", \"NeighborhoodBldgType\", \"TotalSquareFeet\", \"NeighborhoodHouseStyle\", \"OverallQualNCond\", \"NeighborhoodOverallQualNCond\", \"AdjRemodAdd\", \"QuarterMeanNorm\", \"MonthMeanNorm\", \"Neighborhood_4\", \"Neighborhood_5\", \"Neighborhood_6\", \"Neighborhood_7\", \"Neighborhood_8\", \"Neighborhood_9\", \"Neighborhood_10\", \"Neighborhood_11\", \"Neighborhood_12\", \"Neighborhood_13\", \"Neighborhood_14\", \"Neighborhood_15\", \"Neighborhood_16\", \"Neighborhood_17\", \"Neighborhood_18\", \"Neighborhood_19\", \"Neighborhood_20\", \"Neighborhood_21\", \"Neighborhood_22\", \"Neighborhood_23\", \"Neighborhood_24\", \"Neighborhood_25\", \"LotConfig_3\", \"LotConfig_4\", \"LotConfig_5\", \"BldgType_2\", \"BldgType_3\", \"BldgType_5\", \"HouseStyle_2\", \"HouseStyle_3\", \"HouseStyle_4\", \"HouseStyle_5\", \"HouseStyle_6\", \"HouseStyle_7\", \"HouseStyle_8\", \"SaleCondition_1\", \"SaleCondition_2\", \"SaleCondition_3\", \"GarageFinish_1\", \"GarageFinish_2\", \"GarageFinish_3\"], \"type\": \"scatter\", \"x\": [\"LotFrontage\", \"LotArea\", \"OverallQual\", \"OverallCond\", \"MasVnrArea\", \"ExterQual\", \"ExterCond\", \"BsmtQual\", \"BsmtCond\", \"BsmtExposure\", \"BsmtFinType1\", \"BsmtFinSF1\", \"BsmtFinType2\", \"BsmtFinSF2\", \"BsmtUnfSF\", \"TotalBsmtSF\", \"HeatingQC\", \"CentralAir\", \"1stFlrSF\", \"2ndFlrSF\", \"LowQualFinSF\", \"GrLivArea\", \"BsmtFullBath\", \"BsmtHalfBath\", \"FullBath\", \"HalfBath\", \"BedroomAbvGr\", \"KitchenAbvGr\", \"KitchenQual\", \"TotRmsAbvGrd\", \"Fireplaces\", \"FireplaceQu\", \"GarageCars\", \"GarageArea\", \"GarageQual\", \"GarageCond\", \"PavedDrive\", \"WoodDeckSF\", \"OpenPorchSF\", \"NeighborhoodLotArea\", \"NeighborhoodBldgType\", \"TotalSquareFeet\", \"NeighborhoodHouseStyle\", \"OverallQualNCond\", \"NeighborhoodOverallQualNCond\", \"AdjRemodAdd\", \"QuarterMeanNorm\", \"MonthMeanNorm\", \"Neighborhood_4\", \"Neighborhood_5\", \"Neighborhood_6\", \"Neighborhood_7\", \"Neighborhood_8\", \"Neighborhood_9\", \"Neighborhood_10\", \"Neighborhood_11\", \"Neighborhood_12\", \"Neighborhood_13\", \"Neighborhood_14\", \"Neighborhood_15\", \"Neighborhood_16\", \"Neighborhood_17\", \"Neighborhood_18\", \"Neighborhood_19\", \"Neighborhood_20\", \"Neighborhood_21\", \"Neighborhood_22\", \"Neighborhood_23\", \"Neighborhood_24\", \"Neighborhood_25\", \"LotConfig_3\", \"LotConfig_4\", \"LotConfig_5\", \"BldgType_2\", \"BldgType_3\", \"BldgType_5\", \"HouseStyle_2\", \"HouseStyle_3\", \"HouseStyle_4\", \"HouseStyle_5\", \"HouseStyle_6\", \"HouseStyle_7\", \"HouseStyle_8\", \"SaleCondition_1\", \"SaleCondition_2\", \"SaleCondition_3\", \"GarageFinish_1\", \"GarageFinish_2\", \"GarageFinish_3\"], \"y\": [9.615411766729777e-05, 0.0004943459449062932, 0.024129854659155472, 0.0010537460917970894, 0.022652863388520045, 0.004272738565849165, 0.0, 0.003447467171633521, 0.0, 0.004032321073578744, 0.0003290745027532521, 0.00922892803686268, 0.0, 0.0, 0.01658803580471393, 0.01040576541188873, 0.0005076217413400565, 0.00045409190370595534, 0.008855625983758456, 0.015817075578504168, 0.0, 0.011188855066706548, 0.0, 0.000322848717465192, 0.0002122219856267529, 0.0, 0.00100300322391575, 0.0, 0.021162864569265145, 0.023351485270948352, 0.014275969993376748, 0.003930863619992664, 0.0, 0.0005079102993569873, 0.0, 0.00016169264678720456, 0.0, 0.00517162691782031, 8.368269914890929e-05, 0.0005461166707703954, 0.21315661395196375, 0.3951180406838867, 0.022938684087202985, 0.0034931502337536124, 0.1438947896485989, 0.00790408264941287, 0.0005024715142680712, 0.004868563242852374, 0.0, 0.0, 0.0, 0.0, 0.0, 0.0, 0.0, 0.0, 0.0, 0.0, 0.0, 0.0, 0.0, 0.0, 0.0, 0.0, 0.0, 0.0, 0.0, 0.00155127519284845, 0.0, 0.00044197280435380037, 0.0012627944327528607, 0.0, 0.0, 0.0, 0.0, 0.0, 0.0, 0.0, 0.0, 0.0, 0.0, 0.0, 0.0, 0.0, 0.0, 0.0005827099002899495, 0.0, 0.0, 0.0]}],\n",
       "                        {\"autosize\": true, \"hovermode\": \"closest\", \"showlegend\": false, \"template\": {\"data\": {\"bar\": [{\"error_x\": {\"color\": \"#2a3f5f\"}, \"error_y\": {\"color\": \"#2a3f5f\"}, \"marker\": {\"line\": {\"color\": \"#E5ECF6\", \"width\": 0.5}}, \"type\": \"bar\"}], \"barpolar\": [{\"marker\": {\"line\": {\"color\": \"#E5ECF6\", \"width\": 0.5}}, \"type\": \"barpolar\"}], \"carpet\": [{\"aaxis\": {\"endlinecolor\": \"#2a3f5f\", \"gridcolor\": \"white\", \"linecolor\": \"white\", \"minorgridcolor\": \"white\", \"startlinecolor\": \"#2a3f5f\"}, \"baxis\": {\"endlinecolor\": \"#2a3f5f\", \"gridcolor\": \"white\", \"linecolor\": \"white\", \"minorgridcolor\": \"white\", \"startlinecolor\": \"#2a3f5f\"}, \"type\": \"carpet\"}], \"choropleth\": [{\"colorbar\": {\"outlinewidth\": 0, \"ticks\": \"\"}, \"type\": \"choropleth\"}], \"contour\": [{\"colorbar\": {\"outlinewidth\": 0, \"ticks\": \"\"}, \"colorscale\": [[0.0, \"#0d0887\"], [0.1111111111111111, \"#46039f\"], [0.2222222222222222, \"#7201a8\"], [0.3333333333333333, \"#9c179e\"], [0.4444444444444444, \"#bd3786\"], [0.5555555555555556, \"#d8576b\"], [0.6666666666666666, \"#ed7953\"], [0.7777777777777778, \"#fb9f3a\"], [0.8888888888888888, \"#fdca26\"], [1.0, \"#f0f921\"]], \"type\": \"contour\"}], \"contourcarpet\": [{\"colorbar\": {\"outlinewidth\": 0, \"ticks\": \"\"}, \"type\": \"contourcarpet\"}], \"heatmap\": [{\"colorbar\": {\"outlinewidth\": 0, \"ticks\": \"\"}, \"colorscale\": [[0.0, \"#0d0887\"], [0.1111111111111111, \"#46039f\"], [0.2222222222222222, \"#7201a8\"], [0.3333333333333333, \"#9c179e\"], [0.4444444444444444, \"#bd3786\"], [0.5555555555555556, \"#d8576b\"], [0.6666666666666666, \"#ed7953\"], [0.7777777777777778, \"#fb9f3a\"], [0.8888888888888888, \"#fdca26\"], [1.0, \"#f0f921\"]], \"type\": \"heatmap\"}], \"heatmapgl\": [{\"colorbar\": {\"outlinewidth\": 0, \"ticks\": \"\"}, \"colorscale\": [[0.0, \"#0d0887\"], [0.1111111111111111, \"#46039f\"], [0.2222222222222222, \"#7201a8\"], [0.3333333333333333, \"#9c179e\"], [0.4444444444444444, \"#bd3786\"], [0.5555555555555556, \"#d8576b\"], [0.6666666666666666, \"#ed7953\"], [0.7777777777777778, \"#fb9f3a\"], [0.8888888888888888, \"#fdca26\"], [1.0, \"#f0f921\"]], \"type\": \"heatmapgl\"}], \"histogram\": [{\"marker\": {\"colorbar\": {\"outlinewidth\": 0, \"ticks\": \"\"}}, \"type\": \"histogram\"}], \"histogram2d\": [{\"colorbar\": {\"outlinewidth\": 0, \"ticks\": \"\"}, \"colorscale\": [[0.0, \"#0d0887\"], [0.1111111111111111, \"#46039f\"], [0.2222222222222222, \"#7201a8\"], [0.3333333333333333, \"#9c179e\"], [0.4444444444444444, \"#bd3786\"], [0.5555555555555556, \"#d8576b\"], [0.6666666666666666, \"#ed7953\"], [0.7777777777777778, \"#fb9f3a\"], [0.8888888888888888, \"#fdca26\"], [1.0, \"#f0f921\"]], \"type\": \"histogram2d\"}], \"histogram2dcontour\": [{\"colorbar\": {\"outlinewidth\": 0, \"ticks\": \"\"}, \"colorscale\": [[0.0, \"#0d0887\"], [0.1111111111111111, \"#46039f\"], [0.2222222222222222, \"#7201a8\"], [0.3333333333333333, \"#9c179e\"], [0.4444444444444444, \"#bd3786\"], [0.5555555555555556, \"#d8576b\"], [0.6666666666666666, \"#ed7953\"], [0.7777777777777778, \"#fb9f3a\"], [0.8888888888888888, \"#fdca26\"], [1.0, \"#f0f921\"]], \"type\": \"histogram2dcontour\"}], \"mesh3d\": [{\"colorbar\": {\"outlinewidth\": 0, \"ticks\": \"\"}, \"type\": \"mesh3d\"}], \"parcoords\": [{\"line\": {\"colorbar\": {\"outlinewidth\": 0, \"ticks\": \"\"}}, \"type\": \"parcoords\"}], \"pie\": [{\"automargin\": true, \"type\": \"pie\"}], \"scatter\": [{\"marker\": {\"colorbar\": {\"outlinewidth\": 0, \"ticks\": \"\"}}, \"type\": \"scatter\"}], \"scatter3d\": [{\"line\": {\"colorbar\": {\"outlinewidth\": 0, \"ticks\": \"\"}}, \"marker\": {\"colorbar\": {\"outlinewidth\": 0, \"ticks\": \"\"}}, \"type\": \"scatter3d\"}], \"scattercarpet\": [{\"marker\": {\"colorbar\": {\"outlinewidth\": 0, \"ticks\": \"\"}}, \"type\": \"scattercarpet\"}], \"scattergeo\": [{\"marker\": {\"colorbar\": {\"outlinewidth\": 0, \"ticks\": \"\"}}, \"type\": \"scattergeo\"}], \"scattergl\": [{\"marker\": {\"colorbar\": {\"outlinewidth\": 0, \"ticks\": \"\"}}, \"type\": \"scattergl\"}], \"scattermapbox\": [{\"marker\": {\"colorbar\": {\"outlinewidth\": 0, \"ticks\": \"\"}}, \"type\": \"scattermapbox\"}], \"scatterpolar\": [{\"marker\": {\"colorbar\": {\"outlinewidth\": 0, \"ticks\": \"\"}}, \"type\": \"scatterpolar\"}], \"scatterpolargl\": [{\"marker\": {\"colorbar\": {\"outlinewidth\": 0, \"ticks\": \"\"}}, \"type\": \"scatterpolargl\"}], \"scatterternary\": [{\"marker\": {\"colorbar\": {\"outlinewidth\": 0, \"ticks\": \"\"}}, \"type\": \"scatterternary\"}], \"surface\": [{\"colorbar\": {\"outlinewidth\": 0, \"ticks\": \"\"}, \"colorscale\": [[0.0, \"#0d0887\"], [0.1111111111111111, \"#46039f\"], [0.2222222222222222, \"#7201a8\"], [0.3333333333333333, \"#9c179e\"], [0.4444444444444444, \"#bd3786\"], [0.5555555555555556, \"#d8576b\"], [0.6666666666666666, \"#ed7953\"], [0.7777777777777778, \"#fb9f3a\"], [0.8888888888888888, \"#fdca26\"], [1.0, \"#f0f921\"]], \"type\": \"surface\"}], \"table\": [{\"cells\": {\"fill\": {\"color\": \"#EBF0F8\"}, \"line\": {\"color\": \"white\"}}, \"header\": {\"fill\": {\"color\": \"#C8D4E3\"}, \"line\": {\"color\": \"white\"}}, \"type\": \"table\"}]}, \"layout\": {\"annotationdefaults\": {\"arrowcolor\": \"#2a3f5f\", \"arrowhead\": 0, \"arrowwidth\": 1}, \"coloraxis\": {\"colorbar\": {\"outlinewidth\": 0, \"ticks\": \"\"}}, \"colorscale\": {\"diverging\": [[0, \"#8e0152\"], [0.1, \"#c51b7d\"], [0.2, \"#de77ae\"], [0.3, \"#f1b6da\"], [0.4, \"#fde0ef\"], [0.5, \"#f7f7f7\"], [0.6, \"#e6f5d0\"], [0.7, \"#b8e186\"], [0.8, \"#7fbc41\"], [0.9, \"#4d9221\"], [1, \"#276419\"]], \"sequential\": [[0.0, \"#0d0887\"], [0.1111111111111111, \"#46039f\"], [0.2222222222222222, \"#7201a8\"], [0.3333333333333333, \"#9c179e\"], [0.4444444444444444, \"#bd3786\"], [0.5555555555555556, \"#d8576b\"], [0.6666666666666666, \"#ed7953\"], [0.7777777777777778, \"#fb9f3a\"], [0.8888888888888888, \"#fdca26\"], [1.0, \"#f0f921\"]], \"sequentialminus\": [[0.0, \"#0d0887\"], [0.1111111111111111, \"#46039f\"], [0.2222222222222222, \"#7201a8\"], [0.3333333333333333, \"#9c179e\"], [0.4444444444444444, \"#bd3786\"], [0.5555555555555556, \"#d8576b\"], [0.6666666666666666, \"#ed7953\"], [0.7777777777777778, \"#fb9f3a\"], [0.8888888888888888, \"#fdca26\"], [1.0, \"#f0f921\"]]}, \"colorway\": [\"#636efa\", \"#EF553B\", \"#00cc96\", \"#ab63fa\", \"#FFA15A\", \"#19d3f3\", \"#FF6692\", \"#B6E880\", \"#FF97FF\", \"#FECB52\"], \"font\": {\"color\": \"#2a3f5f\"}, \"geo\": {\"bgcolor\": \"white\", \"lakecolor\": \"white\", \"landcolor\": \"#E5ECF6\", \"showlakes\": true, \"showland\": true, \"subunitcolor\": \"white\"}, \"hoverlabel\": {\"align\": \"left\"}, \"hovermode\": \"closest\", \"mapbox\": {\"style\": \"light\"}, \"paper_bgcolor\": \"white\", \"plot_bgcolor\": \"#E5ECF6\", \"polar\": {\"angularaxis\": {\"gridcolor\": \"white\", \"linecolor\": \"white\", \"ticks\": \"\"}, \"bgcolor\": \"#E5ECF6\", \"radialaxis\": {\"gridcolor\": \"white\", \"linecolor\": \"white\", \"ticks\": \"\"}}, \"scene\": {\"xaxis\": {\"backgroundcolor\": \"#E5ECF6\", \"gridcolor\": \"white\", \"gridwidth\": 2, \"linecolor\": \"white\", \"showbackground\": true, \"ticks\": \"\", \"zerolinecolor\": \"white\"}, \"yaxis\": {\"backgroundcolor\": \"#E5ECF6\", \"gridcolor\": \"white\", \"gridwidth\": 2, \"linecolor\": \"white\", \"showbackground\": true, \"ticks\": \"\", \"zerolinecolor\": \"white\"}, \"zaxis\": {\"backgroundcolor\": \"#E5ECF6\", \"gridcolor\": \"white\", \"gridwidth\": 2, \"linecolor\": \"white\", \"showbackground\": true, \"ticks\": \"\", \"zerolinecolor\": \"white\"}}, \"shapedefaults\": {\"line\": {\"color\": \"#2a3f5f\"}}, \"ternary\": {\"aaxis\": {\"gridcolor\": \"white\", \"linecolor\": \"white\", \"ticks\": \"\"}, \"baxis\": {\"gridcolor\": \"white\", \"linecolor\": \"white\", \"ticks\": \"\"}, \"bgcolor\": \"#E5ECF6\", \"caxis\": {\"gridcolor\": \"white\", \"linecolor\": \"white\", \"ticks\": \"\"}}, \"title\": {\"x\": 0.05}, \"xaxis\": {\"automargin\": true, \"gridcolor\": \"white\", \"linecolor\": \"white\", \"ticks\": \"\", \"title\": {\"standoff\": 15}, \"zerolinecolor\": \"white\", \"zerolinewidth\": 2}, \"yaxis\": {\"automargin\": true, \"gridcolor\": \"white\", \"linecolor\": \"white\", \"ticks\": \"\", \"title\": {\"standoff\": 15}, \"zerolinecolor\": \"white\", \"zerolinewidth\": 2}}}, \"title\": {\"text\": \"AdaBoost Feature Importance\"}, \"yaxis\": {\"gridwidth\": 2, \"ticklen\": 5, \"title\": {\"text\": \"Feature Importance\"}}},\n",
       "                        {\"responsive\": true}\n",
       "                    ).then(function(){\n",
       "                            \n",
       "var gd = document.getElementById('335fd89c-2e29-4155-87c7-ca3ddf189601');\n",
       "var x = new MutationObserver(function (mutations, observer) {{\n",
       "        var display = window.getComputedStyle(gd).display;\n",
       "        if (!display || display === 'none') {{\n",
       "            console.log([gd, 'removed!']);\n",
       "            Plotly.purge(gd);\n",
       "            observer.disconnect();\n",
       "        }}\n",
       "}});\n",
       "\n",
       "// Listen for the removal of the full notebook cells\n",
       "var notebookContainer = gd.closest('#notebook-container');\n",
       "if (notebookContainer) {{\n",
       "    x.observe(notebookContainer, {childList: true});\n",
       "}}\n",
       "\n",
       "// Listen for the clearing of the current output cell\n",
       "var outputEl = gd.closest('.output');\n",
       "if (outputEl) {{\n",
       "    x.observe(outputEl, {childList: true});\n",
       "}}\n",
       "\n",
       "                        })\n",
       "                };\n",
       "                });\n",
       "            </script>\n",
       "        </div>"
      ]
     },
     "metadata": {},
     "output_type": "display_data"
    },
    {
     "data": {
      "application/vnd.plotly.v1+json": {
       "config": {
        "linkText": "Export to plot.ly",
        "plotlyServerURL": "https://plot.ly",
        "showLink": false
       },
       "data": [
        {
         "marker": {
          "color": [
           0.0017311584126615232,
           0.005571125782943204,
           0.12462633157708052,
           0.0005468691003251903,
           0.004090779154987686,
           0.01767254375161147,
           0.00027303771077080415,
           0.020096243897192584,
           0.00020667987581707113,
           0.0022823826062763454,
           0.002411692284630681,
           0.02101203728728803,
           7.968005868561428e-05,
           0.0005224907920333675,
           0.0022441282236018143,
           0.009105370589109667,
           0.0002709278073878855,
           0.001264457733544078,
           0.013544267649748637,
           0.013252962944347286,
           0.00011838865274557575,
           0.03226922457123376,
           0.0009021071729146107,
           0.0004764460396478484,
           0.0043317341159861055,
           0.0008275451316836185,
           0.0005281941927322128,
           0.0012495687386727171,
           0.007911101344778336,
           0.007918334998632117,
           0.0015581534346771648,
           0.0015822439418497361,
           0.022450683566232556,
           0.003374506421178642,
           9.68875146612365e-05,
           0.0016699175027609337,
           0.00016114942455779444,
           0.0016217896269858365,
           0.0012654339080983806,
           0.002459451382788988,
           0.050600635138089545,
           0.3883928897665098,
           0.0653735652797128,
           0.011202597053404904,
           0.13048468740991623,
           0.007429989654954977,
           0.0013416656682620387,
           0.003703470256208403,
           0.0011038901674803752,
           0.00011213988536641426,
           0.00019809200810173608,
           9.056071773270216e-05,
           0,
           0.0001559357535816591,
           0,
           1.4894840809397955e-05,
           5.523645803984962e-06,
           0.0001402553024198735,
           3.689341426983707e-05,
           5.271504996734717e-05,
           8.795975093518078e-05,
           0.00015748403070689116,
           0.00012020955383253353,
           6.153429646309839e-06,
           2.5093013645616038e-05,
           0.00014885373803703077,
           0.0001973176642730096,
           0.00037538047130398626,
           0.00012793794993252634,
           3.464125916693685e-05,
           6.655739728462219e-05,
           0,
           0.0003542588848093356,
           1.6243135264002117e-05,
           9.876324174552963e-06,
           0.0001721071540211063,
           0,
           0.00015947497013962336,
           0.00012577389865719508,
           0.00014765442469821528,
           4.182388207251202e-05,
           1.5057004257472968e-05,
           7.212637720456344e-06,
           0.000769740994406485,
           4.708974662212526e-05,
           0.0018376798938579534,
           0.00014087675104920588,
           3.566694521407377e-05,
           0.0007534451588173683
          ],
          "colorscale": [
           [
            0,
            "rgb(12,51,131)"
           ],
           [
            0.25,
            "rgb(10,136,186)"
           ],
           [
            0.5,
            "rgb(242,211,56)"
           ],
           [
            0.75,
            "rgb(242,143,56)"
           ],
           [
            1,
            "rgb(217,30,30)"
           ]
          ],
          "showscale": true,
          "size": 25,
          "sizemode": "diameter",
          "sizeref": 1
         },
         "mode": "markers",
         "text": [
          "LotFrontage",
          "LotArea",
          "OverallQual",
          "OverallCond",
          "MasVnrArea",
          "ExterQual",
          "ExterCond",
          "BsmtQual",
          "BsmtCond",
          "BsmtExposure",
          "BsmtFinType1",
          "BsmtFinSF1",
          "BsmtFinType2",
          "BsmtFinSF2",
          "BsmtUnfSF",
          "TotalBsmtSF",
          "HeatingQC",
          "CentralAir",
          "1stFlrSF",
          "2ndFlrSF",
          "LowQualFinSF",
          "GrLivArea",
          "BsmtFullBath",
          "BsmtHalfBath",
          "FullBath",
          "HalfBath",
          "BedroomAbvGr",
          "KitchenAbvGr",
          "KitchenQual",
          "TotRmsAbvGrd",
          "Fireplaces",
          "FireplaceQu",
          "GarageCars",
          "GarageArea",
          "GarageQual",
          "GarageCond",
          "PavedDrive",
          "WoodDeckSF",
          "OpenPorchSF",
          "NeighborhoodLotArea",
          "NeighborhoodBldgType",
          "TotalSquareFeet",
          "NeighborhoodHouseStyle",
          "OverallQualNCond",
          "NeighborhoodOverallQualNCond",
          "AdjRemodAdd",
          "QuarterMeanNorm",
          "MonthMeanNorm",
          "Neighborhood_4",
          "Neighborhood_5",
          "Neighborhood_6",
          "Neighborhood_7",
          "Neighborhood_8",
          "Neighborhood_9",
          "Neighborhood_10",
          "Neighborhood_11",
          "Neighborhood_12",
          "Neighborhood_13",
          "Neighborhood_14",
          "Neighborhood_15",
          "Neighborhood_16",
          "Neighborhood_17",
          "Neighborhood_18",
          "Neighborhood_19",
          "Neighborhood_20",
          "Neighborhood_21",
          "Neighborhood_22",
          "Neighborhood_23",
          "Neighborhood_24",
          "Neighborhood_25",
          "LotConfig_3",
          "LotConfig_4",
          "LotConfig_5",
          "BldgType_2",
          "BldgType_3",
          "BldgType_5",
          "HouseStyle_2",
          "HouseStyle_3",
          "HouseStyle_4",
          "HouseStyle_5",
          "HouseStyle_6",
          "HouseStyle_7",
          "HouseStyle_8",
          "SaleCondition_1",
          "SaleCondition_2",
          "SaleCondition_3",
          "GarageFinish_1",
          "GarageFinish_2",
          "GarageFinish_3"
         ],
         "type": "scatter",
         "x": [
          "LotFrontage",
          "LotArea",
          "OverallQual",
          "OverallCond",
          "MasVnrArea",
          "ExterQual",
          "ExterCond",
          "BsmtQual",
          "BsmtCond",
          "BsmtExposure",
          "BsmtFinType1",
          "BsmtFinSF1",
          "BsmtFinType2",
          "BsmtFinSF2",
          "BsmtUnfSF",
          "TotalBsmtSF",
          "HeatingQC",
          "CentralAir",
          "1stFlrSF",
          "2ndFlrSF",
          "LowQualFinSF",
          "GrLivArea",
          "BsmtFullBath",
          "BsmtHalfBath",
          "FullBath",
          "HalfBath",
          "BedroomAbvGr",
          "KitchenAbvGr",
          "KitchenQual",
          "TotRmsAbvGrd",
          "Fireplaces",
          "FireplaceQu",
          "GarageCars",
          "GarageArea",
          "GarageQual",
          "GarageCond",
          "PavedDrive",
          "WoodDeckSF",
          "OpenPorchSF",
          "NeighborhoodLotArea",
          "NeighborhoodBldgType",
          "TotalSquareFeet",
          "NeighborhoodHouseStyle",
          "OverallQualNCond",
          "NeighborhoodOverallQualNCond",
          "AdjRemodAdd",
          "QuarterMeanNorm",
          "MonthMeanNorm",
          "Neighborhood_4",
          "Neighborhood_5",
          "Neighborhood_6",
          "Neighborhood_7",
          "Neighborhood_8",
          "Neighborhood_9",
          "Neighborhood_10",
          "Neighborhood_11",
          "Neighborhood_12",
          "Neighborhood_13",
          "Neighborhood_14",
          "Neighborhood_15",
          "Neighborhood_16",
          "Neighborhood_17",
          "Neighborhood_18",
          "Neighborhood_19",
          "Neighborhood_20",
          "Neighborhood_21",
          "Neighborhood_22",
          "Neighborhood_23",
          "Neighborhood_24",
          "Neighborhood_25",
          "LotConfig_3",
          "LotConfig_4",
          "LotConfig_5",
          "BldgType_2",
          "BldgType_3",
          "BldgType_5",
          "HouseStyle_2",
          "HouseStyle_3",
          "HouseStyle_4",
          "HouseStyle_5",
          "HouseStyle_6",
          "HouseStyle_7",
          "HouseStyle_8",
          "SaleCondition_1",
          "SaleCondition_2",
          "SaleCondition_3",
          "GarageFinish_1",
          "GarageFinish_2",
          "GarageFinish_3"
         ],
         "y": [
          0.0017311584126615232,
          0.005571125782943204,
          0.12462633157708052,
          0.0005468691003251903,
          0.004090779154987686,
          0.01767254375161147,
          0.00027303771077080415,
          0.020096243897192584,
          0.00020667987581707113,
          0.0022823826062763454,
          0.002411692284630681,
          0.02101203728728803,
          7.968005868561428e-05,
          0.0005224907920333675,
          0.0022441282236018143,
          0.009105370589109667,
          0.0002709278073878855,
          0.001264457733544078,
          0.013544267649748637,
          0.013252962944347286,
          0.00011838865274557575,
          0.03226922457123376,
          0.0009021071729146107,
          0.0004764460396478484,
          0.0043317341159861055,
          0.0008275451316836185,
          0.0005281941927322128,
          0.0012495687386727171,
          0.007911101344778336,
          0.007918334998632117,
          0.0015581534346771648,
          0.0015822439418497361,
          0.022450683566232556,
          0.003374506421178642,
          9.68875146612365e-05,
          0.0016699175027609337,
          0.00016114942455779444,
          0.0016217896269858365,
          0.0012654339080983806,
          0.002459451382788988,
          0.050600635138089545,
          0.3883928897665098,
          0.0653735652797128,
          0.011202597053404904,
          0.13048468740991623,
          0.007429989654954977,
          0.0013416656682620387,
          0.003703470256208403,
          0.0011038901674803752,
          0.00011213988536641426,
          0.00019809200810173608,
          9.056071773270216e-05,
          0,
          0.0001559357535816591,
          0,
          1.4894840809397955e-05,
          5.523645803984962e-06,
          0.0001402553024198735,
          3.689341426983707e-05,
          5.271504996734717e-05,
          8.795975093518078e-05,
          0.00015748403070689116,
          0.00012020955383253353,
          6.153429646309839e-06,
          2.5093013645616038e-05,
          0.00014885373803703077,
          0.0001973176642730096,
          0.00037538047130398626,
          0.00012793794993252634,
          3.464125916693685e-05,
          6.655739728462219e-05,
          0,
          0.0003542588848093356,
          1.6243135264002117e-05,
          9.876324174552963e-06,
          0.0001721071540211063,
          0,
          0.00015947497013962336,
          0.00012577389865719508,
          0.00014765442469821528,
          4.182388207251202e-05,
          1.5057004257472968e-05,
          7.212637720456344e-06,
          0.000769740994406485,
          4.708974662212526e-05,
          0.0018376798938579534,
          0.00014087675104920588,
          3.566694521407377e-05,
          0.0007534451588173683
         ]
        }
       ],
       "layout": {
        "autosize": true,
        "hovermode": "closest",
        "showlegend": false,
        "template": {
         "data": {
          "bar": [
           {
            "error_x": {
             "color": "#2a3f5f"
            },
            "error_y": {
             "color": "#2a3f5f"
            },
            "marker": {
             "line": {
              "color": "#E5ECF6",
              "width": 0.5
             }
            },
            "type": "bar"
           }
          ],
          "barpolar": [
           {
            "marker": {
             "line": {
              "color": "#E5ECF6",
              "width": 0.5
             }
            },
            "type": "barpolar"
           }
          ],
          "carpet": [
           {
            "aaxis": {
             "endlinecolor": "#2a3f5f",
             "gridcolor": "white",
             "linecolor": "white",
             "minorgridcolor": "white",
             "startlinecolor": "#2a3f5f"
            },
            "baxis": {
             "endlinecolor": "#2a3f5f",
             "gridcolor": "white",
             "linecolor": "white",
             "minorgridcolor": "white",
             "startlinecolor": "#2a3f5f"
            },
            "type": "carpet"
           }
          ],
          "choropleth": [
           {
            "colorbar": {
             "outlinewidth": 0,
             "ticks": ""
            },
            "type": "choropleth"
           }
          ],
          "contour": [
           {
            "colorbar": {
             "outlinewidth": 0,
             "ticks": ""
            },
            "colorscale": [
             [
              0,
              "#0d0887"
             ],
             [
              0.1111111111111111,
              "#46039f"
             ],
             [
              0.2222222222222222,
              "#7201a8"
             ],
             [
              0.3333333333333333,
              "#9c179e"
             ],
             [
              0.4444444444444444,
              "#bd3786"
             ],
             [
              0.5555555555555556,
              "#d8576b"
             ],
             [
              0.6666666666666666,
              "#ed7953"
             ],
             [
              0.7777777777777778,
              "#fb9f3a"
             ],
             [
              0.8888888888888888,
              "#fdca26"
             ],
             [
              1,
              "#f0f921"
             ]
            ],
            "type": "contour"
           }
          ],
          "contourcarpet": [
           {
            "colorbar": {
             "outlinewidth": 0,
             "ticks": ""
            },
            "type": "contourcarpet"
           }
          ],
          "heatmap": [
           {
            "colorbar": {
             "outlinewidth": 0,
             "ticks": ""
            },
            "colorscale": [
             [
              0,
              "#0d0887"
             ],
             [
              0.1111111111111111,
              "#46039f"
             ],
             [
              0.2222222222222222,
              "#7201a8"
             ],
             [
              0.3333333333333333,
              "#9c179e"
             ],
             [
              0.4444444444444444,
              "#bd3786"
             ],
             [
              0.5555555555555556,
              "#d8576b"
             ],
             [
              0.6666666666666666,
              "#ed7953"
             ],
             [
              0.7777777777777778,
              "#fb9f3a"
             ],
             [
              0.8888888888888888,
              "#fdca26"
             ],
             [
              1,
              "#f0f921"
             ]
            ],
            "type": "heatmap"
           }
          ],
          "heatmapgl": [
           {
            "colorbar": {
             "outlinewidth": 0,
             "ticks": ""
            },
            "colorscale": [
             [
              0,
              "#0d0887"
             ],
             [
              0.1111111111111111,
              "#46039f"
             ],
             [
              0.2222222222222222,
              "#7201a8"
             ],
             [
              0.3333333333333333,
              "#9c179e"
             ],
             [
              0.4444444444444444,
              "#bd3786"
             ],
             [
              0.5555555555555556,
              "#d8576b"
             ],
             [
              0.6666666666666666,
              "#ed7953"
             ],
             [
              0.7777777777777778,
              "#fb9f3a"
             ],
             [
              0.8888888888888888,
              "#fdca26"
             ],
             [
              1,
              "#f0f921"
             ]
            ],
            "type": "heatmapgl"
           }
          ],
          "histogram": [
           {
            "marker": {
             "colorbar": {
              "outlinewidth": 0,
              "ticks": ""
             }
            },
            "type": "histogram"
           }
          ],
          "histogram2d": [
           {
            "colorbar": {
             "outlinewidth": 0,
             "ticks": ""
            },
            "colorscale": [
             [
              0,
              "#0d0887"
             ],
             [
              0.1111111111111111,
              "#46039f"
             ],
             [
              0.2222222222222222,
              "#7201a8"
             ],
             [
              0.3333333333333333,
              "#9c179e"
             ],
             [
              0.4444444444444444,
              "#bd3786"
             ],
             [
              0.5555555555555556,
              "#d8576b"
             ],
             [
              0.6666666666666666,
              "#ed7953"
             ],
             [
              0.7777777777777778,
              "#fb9f3a"
             ],
             [
              0.8888888888888888,
              "#fdca26"
             ],
             [
              1,
              "#f0f921"
             ]
            ],
            "type": "histogram2d"
           }
          ],
          "histogram2dcontour": [
           {
            "colorbar": {
             "outlinewidth": 0,
             "ticks": ""
            },
            "colorscale": [
             [
              0,
              "#0d0887"
             ],
             [
              0.1111111111111111,
              "#46039f"
             ],
             [
              0.2222222222222222,
              "#7201a8"
             ],
             [
              0.3333333333333333,
              "#9c179e"
             ],
             [
              0.4444444444444444,
              "#bd3786"
             ],
             [
              0.5555555555555556,
              "#d8576b"
             ],
             [
              0.6666666666666666,
              "#ed7953"
             ],
             [
              0.7777777777777778,
              "#fb9f3a"
             ],
             [
              0.8888888888888888,
              "#fdca26"
             ],
             [
              1,
              "#f0f921"
             ]
            ],
            "type": "histogram2dcontour"
           }
          ],
          "mesh3d": [
           {
            "colorbar": {
             "outlinewidth": 0,
             "ticks": ""
            },
            "type": "mesh3d"
           }
          ],
          "parcoords": [
           {
            "line": {
             "colorbar": {
              "outlinewidth": 0,
              "ticks": ""
             }
            },
            "type": "parcoords"
           }
          ],
          "pie": [
           {
            "automargin": true,
            "type": "pie"
           }
          ],
          "scatter": [
           {
            "marker": {
             "colorbar": {
              "outlinewidth": 0,
              "ticks": ""
             }
            },
            "type": "scatter"
           }
          ],
          "scatter3d": [
           {
            "line": {
             "colorbar": {
              "outlinewidth": 0,
              "ticks": ""
             }
            },
            "marker": {
             "colorbar": {
              "outlinewidth": 0,
              "ticks": ""
             }
            },
            "type": "scatter3d"
           }
          ],
          "scattercarpet": [
           {
            "marker": {
             "colorbar": {
              "outlinewidth": 0,
              "ticks": ""
             }
            },
            "type": "scattercarpet"
           }
          ],
          "scattergeo": [
           {
            "marker": {
             "colorbar": {
              "outlinewidth": 0,
              "ticks": ""
             }
            },
            "type": "scattergeo"
           }
          ],
          "scattergl": [
           {
            "marker": {
             "colorbar": {
              "outlinewidth": 0,
              "ticks": ""
             }
            },
            "type": "scattergl"
           }
          ],
          "scattermapbox": [
           {
            "marker": {
             "colorbar": {
              "outlinewidth": 0,
              "ticks": ""
             }
            },
            "type": "scattermapbox"
           }
          ],
          "scatterpolar": [
           {
            "marker": {
             "colorbar": {
              "outlinewidth": 0,
              "ticks": ""
             }
            },
            "type": "scatterpolar"
           }
          ],
          "scatterpolargl": [
           {
            "marker": {
             "colorbar": {
              "outlinewidth": 0,
              "ticks": ""
             }
            },
            "type": "scatterpolargl"
           }
          ],
          "scatterternary": [
           {
            "marker": {
             "colorbar": {
              "outlinewidth": 0,
              "ticks": ""
             }
            },
            "type": "scatterternary"
           }
          ],
          "surface": [
           {
            "colorbar": {
             "outlinewidth": 0,
             "ticks": ""
            },
            "colorscale": [
             [
              0,
              "#0d0887"
             ],
             [
              0.1111111111111111,
              "#46039f"
             ],
             [
              0.2222222222222222,
              "#7201a8"
             ],
             [
              0.3333333333333333,
              "#9c179e"
             ],
             [
              0.4444444444444444,
              "#bd3786"
             ],
             [
              0.5555555555555556,
              "#d8576b"
             ],
             [
              0.6666666666666666,
              "#ed7953"
             ],
             [
              0.7777777777777778,
              "#fb9f3a"
             ],
             [
              0.8888888888888888,
              "#fdca26"
             ],
             [
              1,
              "#f0f921"
             ]
            ],
            "type": "surface"
           }
          ],
          "table": [
           {
            "cells": {
             "fill": {
              "color": "#EBF0F8"
             },
             "line": {
              "color": "white"
             }
            },
            "header": {
             "fill": {
              "color": "#C8D4E3"
             },
             "line": {
              "color": "white"
             }
            },
            "type": "table"
           }
          ]
         },
         "layout": {
          "annotationdefaults": {
           "arrowcolor": "#2a3f5f",
           "arrowhead": 0,
           "arrowwidth": 1
          },
          "coloraxis": {
           "colorbar": {
            "outlinewidth": 0,
            "ticks": ""
           }
          },
          "colorscale": {
           "diverging": [
            [
             0,
             "#8e0152"
            ],
            [
             0.1,
             "#c51b7d"
            ],
            [
             0.2,
             "#de77ae"
            ],
            [
             0.3,
             "#f1b6da"
            ],
            [
             0.4,
             "#fde0ef"
            ],
            [
             0.5,
             "#f7f7f7"
            ],
            [
             0.6,
             "#e6f5d0"
            ],
            [
             0.7,
             "#b8e186"
            ],
            [
             0.8,
             "#7fbc41"
            ],
            [
             0.9,
             "#4d9221"
            ],
            [
             1,
             "#276419"
            ]
           ],
           "sequential": [
            [
             0,
             "#0d0887"
            ],
            [
             0.1111111111111111,
             "#46039f"
            ],
            [
             0.2222222222222222,
             "#7201a8"
            ],
            [
             0.3333333333333333,
             "#9c179e"
            ],
            [
             0.4444444444444444,
             "#bd3786"
            ],
            [
             0.5555555555555556,
             "#d8576b"
            ],
            [
             0.6666666666666666,
             "#ed7953"
            ],
            [
             0.7777777777777778,
             "#fb9f3a"
            ],
            [
             0.8888888888888888,
             "#fdca26"
            ],
            [
             1,
             "#f0f921"
            ]
           ],
           "sequentialminus": [
            [
             0,
             "#0d0887"
            ],
            [
             0.1111111111111111,
             "#46039f"
            ],
            [
             0.2222222222222222,
             "#7201a8"
            ],
            [
             0.3333333333333333,
             "#9c179e"
            ],
            [
             0.4444444444444444,
             "#bd3786"
            ],
            [
             0.5555555555555556,
             "#d8576b"
            ],
            [
             0.6666666666666666,
             "#ed7953"
            ],
            [
             0.7777777777777778,
             "#fb9f3a"
            ],
            [
             0.8888888888888888,
             "#fdca26"
            ],
            [
             1,
             "#f0f921"
            ]
           ]
          },
          "colorway": [
           "#636efa",
           "#EF553B",
           "#00cc96",
           "#ab63fa",
           "#FFA15A",
           "#19d3f3",
           "#FF6692",
           "#B6E880",
           "#FF97FF",
           "#FECB52"
          ],
          "font": {
           "color": "#2a3f5f"
          },
          "geo": {
           "bgcolor": "white",
           "lakecolor": "white",
           "landcolor": "#E5ECF6",
           "showlakes": true,
           "showland": true,
           "subunitcolor": "white"
          },
          "hoverlabel": {
           "align": "left"
          },
          "hovermode": "closest",
          "mapbox": {
           "style": "light"
          },
          "paper_bgcolor": "white",
          "plot_bgcolor": "#E5ECF6",
          "polar": {
           "angularaxis": {
            "gridcolor": "white",
            "linecolor": "white",
            "ticks": ""
           },
           "bgcolor": "#E5ECF6",
           "radialaxis": {
            "gridcolor": "white",
            "linecolor": "white",
            "ticks": ""
           }
          },
          "scene": {
           "xaxis": {
            "backgroundcolor": "#E5ECF6",
            "gridcolor": "white",
            "gridwidth": 2,
            "linecolor": "white",
            "showbackground": true,
            "ticks": "",
            "zerolinecolor": "white"
           },
           "yaxis": {
            "backgroundcolor": "#E5ECF6",
            "gridcolor": "white",
            "gridwidth": 2,
            "linecolor": "white",
            "showbackground": true,
            "ticks": "",
            "zerolinecolor": "white"
           },
           "zaxis": {
            "backgroundcolor": "#E5ECF6",
            "gridcolor": "white",
            "gridwidth": 2,
            "linecolor": "white",
            "showbackground": true,
            "ticks": "",
            "zerolinecolor": "white"
           }
          },
          "shapedefaults": {
           "line": {
            "color": "#2a3f5f"
           }
          },
          "ternary": {
           "aaxis": {
            "gridcolor": "white",
            "linecolor": "white",
            "ticks": ""
           },
           "baxis": {
            "gridcolor": "white",
            "linecolor": "white",
            "ticks": ""
           },
           "bgcolor": "#E5ECF6",
           "caxis": {
            "gridcolor": "white",
            "linecolor": "white",
            "ticks": ""
           }
          },
          "title": {
           "x": 0.05
          },
          "xaxis": {
           "automargin": true,
           "gridcolor": "white",
           "linecolor": "white",
           "ticks": "",
           "title": {
            "standoff": 15
           },
           "zerolinecolor": "white",
           "zerolinewidth": 2
          },
          "yaxis": {
           "automargin": true,
           "gridcolor": "white",
           "linecolor": "white",
           "ticks": "",
           "title": {
            "standoff": 15
           },
           "zerolinecolor": "white",
           "zerolinewidth": 2
          }
         }
        },
        "title": {
         "text": "Gradient Boosting Feature Importance"
        },
        "yaxis": {
         "gridwidth": 2,
         "ticklen": 5,
         "title": {
          "text": "Feature Importance"
         }
        }
       }
      },
      "text/html": [
       "<div>\n",
       "        \n",
       "        \n",
       "            <div id=\"d6340fce-4e17-46e3-8c77-1568fc2201b5\" class=\"plotly-graph-div\" style=\"height:525px; width:100%;\"></div>\n",
       "            <script type=\"text/javascript\">\n",
       "                require([\"plotly\"], function(Plotly) {\n",
       "                    window.PLOTLYENV=window.PLOTLYENV || {};\n",
       "                    \n",
       "                if (document.getElementById(\"d6340fce-4e17-46e3-8c77-1568fc2201b5\")) {\n",
       "                    Plotly.newPlot(\n",
       "                        'd6340fce-4e17-46e3-8c77-1568fc2201b5',\n",
       "                        [{\"marker\": {\"color\": [0.0017311584126615232, 0.005571125782943204, 0.12462633157708052, 0.0005468691003251903, 0.004090779154987686, 0.01767254375161147, 0.00027303771077080415, 0.020096243897192584, 0.00020667987581707113, 0.0022823826062763454, 0.002411692284630681, 0.02101203728728803, 7.968005868561428e-05, 0.0005224907920333675, 0.0022441282236018143, 0.009105370589109667, 0.0002709278073878855, 0.001264457733544078, 0.013544267649748637, 0.013252962944347286, 0.00011838865274557575, 0.03226922457123376, 0.0009021071729146107, 0.0004764460396478484, 0.0043317341159861055, 0.0008275451316836185, 0.0005281941927322128, 0.0012495687386727171, 0.007911101344778336, 0.007918334998632117, 0.0015581534346771648, 0.0015822439418497361, 0.022450683566232556, 0.003374506421178642, 9.68875146612365e-05, 0.0016699175027609337, 0.00016114942455779444, 0.0016217896269858365, 0.0012654339080983806, 0.002459451382788988, 0.050600635138089545, 0.3883928897665098, 0.0653735652797128, 0.011202597053404904, 0.13048468740991623, 0.007429989654954977, 0.0013416656682620387, 0.003703470256208403, 0.0011038901674803752, 0.00011213988536641426, 0.00019809200810173608, 9.056071773270216e-05, 0.0, 0.0001559357535816591, 0.0, 1.4894840809397955e-05, 5.523645803984962e-06, 0.0001402553024198735, 3.689341426983707e-05, 5.271504996734717e-05, 8.795975093518078e-05, 0.00015748403070689116, 0.00012020955383253353, 6.153429646309839e-06, 2.5093013645616038e-05, 0.00014885373803703077, 0.0001973176642730096, 0.00037538047130398626, 0.00012793794993252634, 3.464125916693685e-05, 6.655739728462219e-05, 0.0, 0.0003542588848093356, 1.6243135264002117e-05, 9.876324174552963e-06, 0.0001721071540211063, 0.0, 0.00015947497013962336, 0.00012577389865719508, 0.00014765442469821528, 4.182388207251202e-05, 1.5057004257472968e-05, 7.212637720456344e-06, 0.000769740994406485, 4.708974662212526e-05, 0.0018376798938579534, 0.00014087675104920588, 3.566694521407377e-05, 0.0007534451588173683], \"colorscale\": [[0.0, \"rgb(12,51,131)\"], [0.25, \"rgb(10,136,186)\"], [0.5, \"rgb(242,211,56)\"], [0.75, \"rgb(242,143,56)\"], [1.0, \"rgb(217,30,30)\"]], \"showscale\": true, \"size\": 25, \"sizemode\": \"diameter\", \"sizeref\": 1}, \"mode\": \"markers\", \"text\": [\"LotFrontage\", \"LotArea\", \"OverallQual\", \"OverallCond\", \"MasVnrArea\", \"ExterQual\", \"ExterCond\", \"BsmtQual\", \"BsmtCond\", \"BsmtExposure\", \"BsmtFinType1\", \"BsmtFinSF1\", \"BsmtFinType2\", \"BsmtFinSF2\", \"BsmtUnfSF\", \"TotalBsmtSF\", \"HeatingQC\", \"CentralAir\", \"1stFlrSF\", \"2ndFlrSF\", \"LowQualFinSF\", \"GrLivArea\", \"BsmtFullBath\", \"BsmtHalfBath\", \"FullBath\", \"HalfBath\", \"BedroomAbvGr\", \"KitchenAbvGr\", \"KitchenQual\", \"TotRmsAbvGrd\", \"Fireplaces\", \"FireplaceQu\", \"GarageCars\", \"GarageArea\", \"GarageQual\", \"GarageCond\", \"PavedDrive\", \"WoodDeckSF\", \"OpenPorchSF\", \"NeighborhoodLotArea\", \"NeighborhoodBldgType\", \"TotalSquareFeet\", \"NeighborhoodHouseStyle\", \"OverallQualNCond\", \"NeighborhoodOverallQualNCond\", \"AdjRemodAdd\", \"QuarterMeanNorm\", \"MonthMeanNorm\", \"Neighborhood_4\", \"Neighborhood_5\", \"Neighborhood_6\", \"Neighborhood_7\", \"Neighborhood_8\", \"Neighborhood_9\", \"Neighborhood_10\", \"Neighborhood_11\", \"Neighborhood_12\", \"Neighborhood_13\", \"Neighborhood_14\", \"Neighborhood_15\", \"Neighborhood_16\", \"Neighborhood_17\", \"Neighborhood_18\", \"Neighborhood_19\", \"Neighborhood_20\", \"Neighborhood_21\", \"Neighborhood_22\", \"Neighborhood_23\", \"Neighborhood_24\", \"Neighborhood_25\", \"LotConfig_3\", \"LotConfig_4\", \"LotConfig_5\", \"BldgType_2\", \"BldgType_3\", \"BldgType_5\", \"HouseStyle_2\", \"HouseStyle_3\", \"HouseStyle_4\", \"HouseStyle_5\", \"HouseStyle_6\", \"HouseStyle_7\", \"HouseStyle_8\", \"SaleCondition_1\", \"SaleCondition_2\", \"SaleCondition_3\", \"GarageFinish_1\", \"GarageFinish_2\", \"GarageFinish_3\"], \"type\": \"scatter\", \"x\": [\"LotFrontage\", \"LotArea\", \"OverallQual\", \"OverallCond\", \"MasVnrArea\", \"ExterQual\", \"ExterCond\", \"BsmtQual\", \"BsmtCond\", \"BsmtExposure\", \"BsmtFinType1\", \"BsmtFinSF1\", \"BsmtFinType2\", \"BsmtFinSF2\", \"BsmtUnfSF\", \"TotalBsmtSF\", \"HeatingQC\", \"CentralAir\", \"1stFlrSF\", \"2ndFlrSF\", \"LowQualFinSF\", \"GrLivArea\", \"BsmtFullBath\", \"BsmtHalfBath\", \"FullBath\", \"HalfBath\", \"BedroomAbvGr\", \"KitchenAbvGr\", \"KitchenQual\", \"TotRmsAbvGrd\", \"Fireplaces\", \"FireplaceQu\", \"GarageCars\", \"GarageArea\", \"GarageQual\", \"GarageCond\", \"PavedDrive\", \"WoodDeckSF\", \"OpenPorchSF\", \"NeighborhoodLotArea\", \"NeighborhoodBldgType\", \"TotalSquareFeet\", \"NeighborhoodHouseStyle\", \"OverallQualNCond\", \"NeighborhoodOverallQualNCond\", \"AdjRemodAdd\", \"QuarterMeanNorm\", \"MonthMeanNorm\", \"Neighborhood_4\", \"Neighborhood_5\", \"Neighborhood_6\", \"Neighborhood_7\", \"Neighborhood_8\", \"Neighborhood_9\", \"Neighborhood_10\", \"Neighborhood_11\", \"Neighborhood_12\", \"Neighborhood_13\", \"Neighborhood_14\", \"Neighborhood_15\", \"Neighborhood_16\", \"Neighborhood_17\", \"Neighborhood_18\", \"Neighborhood_19\", \"Neighborhood_20\", \"Neighborhood_21\", \"Neighborhood_22\", \"Neighborhood_23\", \"Neighborhood_24\", \"Neighborhood_25\", \"LotConfig_3\", \"LotConfig_4\", \"LotConfig_5\", \"BldgType_2\", \"BldgType_3\", \"BldgType_5\", \"HouseStyle_2\", \"HouseStyle_3\", \"HouseStyle_4\", \"HouseStyle_5\", \"HouseStyle_6\", \"HouseStyle_7\", \"HouseStyle_8\", \"SaleCondition_1\", \"SaleCondition_2\", \"SaleCondition_3\", \"GarageFinish_1\", \"GarageFinish_2\", \"GarageFinish_3\"], \"y\": [0.0017311584126615232, 0.005571125782943204, 0.12462633157708052, 0.0005468691003251903, 0.004090779154987686, 0.01767254375161147, 0.00027303771077080415, 0.020096243897192584, 0.00020667987581707113, 0.0022823826062763454, 0.002411692284630681, 0.02101203728728803, 7.968005868561428e-05, 0.0005224907920333675, 0.0022441282236018143, 0.009105370589109667, 0.0002709278073878855, 0.001264457733544078, 0.013544267649748637, 0.013252962944347286, 0.00011838865274557575, 0.03226922457123376, 0.0009021071729146107, 0.0004764460396478484, 0.0043317341159861055, 0.0008275451316836185, 0.0005281941927322128, 0.0012495687386727171, 0.007911101344778336, 0.007918334998632117, 0.0015581534346771648, 0.0015822439418497361, 0.022450683566232556, 0.003374506421178642, 9.68875146612365e-05, 0.0016699175027609337, 0.00016114942455779444, 0.0016217896269858365, 0.0012654339080983806, 0.002459451382788988, 0.050600635138089545, 0.3883928897665098, 0.0653735652797128, 0.011202597053404904, 0.13048468740991623, 0.007429989654954977, 0.0013416656682620387, 0.003703470256208403, 0.0011038901674803752, 0.00011213988536641426, 0.00019809200810173608, 9.056071773270216e-05, 0.0, 0.0001559357535816591, 0.0, 1.4894840809397955e-05, 5.523645803984962e-06, 0.0001402553024198735, 3.689341426983707e-05, 5.271504996734717e-05, 8.795975093518078e-05, 0.00015748403070689116, 0.00012020955383253353, 6.153429646309839e-06, 2.5093013645616038e-05, 0.00014885373803703077, 0.0001973176642730096, 0.00037538047130398626, 0.00012793794993252634, 3.464125916693685e-05, 6.655739728462219e-05, 0.0, 0.0003542588848093356, 1.6243135264002117e-05, 9.876324174552963e-06, 0.0001721071540211063, 0.0, 0.00015947497013962336, 0.00012577389865719508, 0.00014765442469821528, 4.182388207251202e-05, 1.5057004257472968e-05, 7.212637720456344e-06, 0.000769740994406485, 4.708974662212526e-05, 0.0018376798938579534, 0.00014087675104920588, 3.566694521407377e-05, 0.0007534451588173683]}],\n",
       "                        {\"autosize\": true, \"hovermode\": \"closest\", \"showlegend\": false, \"template\": {\"data\": {\"bar\": [{\"error_x\": {\"color\": \"#2a3f5f\"}, \"error_y\": {\"color\": \"#2a3f5f\"}, \"marker\": {\"line\": {\"color\": \"#E5ECF6\", \"width\": 0.5}}, \"type\": \"bar\"}], \"barpolar\": [{\"marker\": {\"line\": {\"color\": \"#E5ECF6\", \"width\": 0.5}}, \"type\": \"barpolar\"}], \"carpet\": [{\"aaxis\": {\"endlinecolor\": \"#2a3f5f\", \"gridcolor\": \"white\", \"linecolor\": \"white\", \"minorgridcolor\": \"white\", \"startlinecolor\": \"#2a3f5f\"}, \"baxis\": {\"endlinecolor\": \"#2a3f5f\", \"gridcolor\": \"white\", \"linecolor\": \"white\", \"minorgridcolor\": \"white\", \"startlinecolor\": \"#2a3f5f\"}, \"type\": \"carpet\"}], \"choropleth\": [{\"colorbar\": {\"outlinewidth\": 0, \"ticks\": \"\"}, \"type\": \"choropleth\"}], \"contour\": [{\"colorbar\": {\"outlinewidth\": 0, \"ticks\": \"\"}, \"colorscale\": [[0.0, \"#0d0887\"], [0.1111111111111111, \"#46039f\"], [0.2222222222222222, \"#7201a8\"], [0.3333333333333333, \"#9c179e\"], [0.4444444444444444, \"#bd3786\"], [0.5555555555555556, \"#d8576b\"], [0.6666666666666666, \"#ed7953\"], [0.7777777777777778, \"#fb9f3a\"], [0.8888888888888888, \"#fdca26\"], [1.0, \"#f0f921\"]], \"type\": \"contour\"}], \"contourcarpet\": [{\"colorbar\": {\"outlinewidth\": 0, \"ticks\": \"\"}, \"type\": \"contourcarpet\"}], \"heatmap\": [{\"colorbar\": {\"outlinewidth\": 0, \"ticks\": \"\"}, \"colorscale\": [[0.0, \"#0d0887\"], [0.1111111111111111, \"#46039f\"], [0.2222222222222222, \"#7201a8\"], [0.3333333333333333, \"#9c179e\"], [0.4444444444444444, \"#bd3786\"], [0.5555555555555556, \"#d8576b\"], [0.6666666666666666, \"#ed7953\"], [0.7777777777777778, \"#fb9f3a\"], [0.8888888888888888, \"#fdca26\"], [1.0, \"#f0f921\"]], \"type\": \"heatmap\"}], \"heatmapgl\": [{\"colorbar\": {\"outlinewidth\": 0, \"ticks\": \"\"}, \"colorscale\": [[0.0, \"#0d0887\"], [0.1111111111111111, \"#46039f\"], [0.2222222222222222, \"#7201a8\"], [0.3333333333333333, \"#9c179e\"], [0.4444444444444444, \"#bd3786\"], [0.5555555555555556, \"#d8576b\"], [0.6666666666666666, \"#ed7953\"], [0.7777777777777778, \"#fb9f3a\"], [0.8888888888888888, \"#fdca26\"], [1.0, \"#f0f921\"]], \"type\": \"heatmapgl\"}], \"histogram\": [{\"marker\": {\"colorbar\": {\"outlinewidth\": 0, \"ticks\": \"\"}}, \"type\": \"histogram\"}], \"histogram2d\": [{\"colorbar\": {\"outlinewidth\": 0, \"ticks\": \"\"}, \"colorscale\": [[0.0, \"#0d0887\"], [0.1111111111111111, \"#46039f\"], [0.2222222222222222, \"#7201a8\"], [0.3333333333333333, \"#9c179e\"], [0.4444444444444444, \"#bd3786\"], [0.5555555555555556, \"#d8576b\"], [0.6666666666666666, \"#ed7953\"], [0.7777777777777778, \"#fb9f3a\"], [0.8888888888888888, \"#fdca26\"], [1.0, \"#f0f921\"]], \"type\": \"histogram2d\"}], \"histogram2dcontour\": [{\"colorbar\": {\"outlinewidth\": 0, \"ticks\": \"\"}, \"colorscale\": [[0.0, \"#0d0887\"], [0.1111111111111111, \"#46039f\"], [0.2222222222222222, \"#7201a8\"], [0.3333333333333333, \"#9c179e\"], [0.4444444444444444, \"#bd3786\"], [0.5555555555555556, \"#d8576b\"], [0.6666666666666666, \"#ed7953\"], [0.7777777777777778, \"#fb9f3a\"], [0.8888888888888888, \"#fdca26\"], [1.0, \"#f0f921\"]], \"type\": \"histogram2dcontour\"}], \"mesh3d\": [{\"colorbar\": {\"outlinewidth\": 0, \"ticks\": \"\"}, \"type\": \"mesh3d\"}], \"parcoords\": [{\"line\": {\"colorbar\": {\"outlinewidth\": 0, \"ticks\": \"\"}}, \"type\": \"parcoords\"}], \"pie\": [{\"automargin\": true, \"type\": \"pie\"}], \"scatter\": [{\"marker\": {\"colorbar\": {\"outlinewidth\": 0, \"ticks\": \"\"}}, \"type\": \"scatter\"}], \"scatter3d\": [{\"line\": {\"colorbar\": {\"outlinewidth\": 0, \"ticks\": \"\"}}, \"marker\": {\"colorbar\": {\"outlinewidth\": 0, \"ticks\": \"\"}}, \"type\": \"scatter3d\"}], \"scattercarpet\": [{\"marker\": {\"colorbar\": {\"outlinewidth\": 0, \"ticks\": \"\"}}, \"type\": \"scattercarpet\"}], \"scattergeo\": [{\"marker\": {\"colorbar\": {\"outlinewidth\": 0, \"ticks\": \"\"}}, \"type\": \"scattergeo\"}], \"scattergl\": [{\"marker\": {\"colorbar\": {\"outlinewidth\": 0, \"ticks\": \"\"}}, \"type\": \"scattergl\"}], \"scattermapbox\": [{\"marker\": {\"colorbar\": {\"outlinewidth\": 0, \"ticks\": \"\"}}, \"type\": \"scattermapbox\"}], \"scatterpolar\": [{\"marker\": {\"colorbar\": {\"outlinewidth\": 0, \"ticks\": \"\"}}, \"type\": \"scatterpolar\"}], \"scatterpolargl\": [{\"marker\": {\"colorbar\": {\"outlinewidth\": 0, \"ticks\": \"\"}}, \"type\": \"scatterpolargl\"}], \"scatterternary\": [{\"marker\": {\"colorbar\": {\"outlinewidth\": 0, \"ticks\": \"\"}}, \"type\": \"scatterternary\"}], \"surface\": [{\"colorbar\": {\"outlinewidth\": 0, \"ticks\": \"\"}, \"colorscale\": [[0.0, \"#0d0887\"], [0.1111111111111111, \"#46039f\"], [0.2222222222222222, \"#7201a8\"], [0.3333333333333333, \"#9c179e\"], [0.4444444444444444, \"#bd3786\"], [0.5555555555555556, \"#d8576b\"], [0.6666666666666666, \"#ed7953\"], [0.7777777777777778, \"#fb9f3a\"], [0.8888888888888888, \"#fdca26\"], [1.0, \"#f0f921\"]], \"type\": \"surface\"}], \"table\": [{\"cells\": {\"fill\": {\"color\": \"#EBF0F8\"}, \"line\": {\"color\": \"white\"}}, \"header\": {\"fill\": {\"color\": \"#C8D4E3\"}, \"line\": {\"color\": \"white\"}}, \"type\": \"table\"}]}, \"layout\": {\"annotationdefaults\": {\"arrowcolor\": \"#2a3f5f\", \"arrowhead\": 0, \"arrowwidth\": 1}, \"coloraxis\": {\"colorbar\": {\"outlinewidth\": 0, \"ticks\": \"\"}}, \"colorscale\": {\"diverging\": [[0, \"#8e0152\"], [0.1, \"#c51b7d\"], [0.2, \"#de77ae\"], [0.3, \"#f1b6da\"], [0.4, \"#fde0ef\"], [0.5, \"#f7f7f7\"], [0.6, \"#e6f5d0\"], [0.7, \"#b8e186\"], [0.8, \"#7fbc41\"], [0.9, \"#4d9221\"], [1, \"#276419\"]], \"sequential\": [[0.0, \"#0d0887\"], [0.1111111111111111, \"#46039f\"], [0.2222222222222222, \"#7201a8\"], [0.3333333333333333, \"#9c179e\"], [0.4444444444444444, \"#bd3786\"], [0.5555555555555556, \"#d8576b\"], [0.6666666666666666, \"#ed7953\"], [0.7777777777777778, \"#fb9f3a\"], [0.8888888888888888, \"#fdca26\"], [1.0, \"#f0f921\"]], \"sequentialminus\": [[0.0, \"#0d0887\"], [0.1111111111111111, \"#46039f\"], [0.2222222222222222, \"#7201a8\"], [0.3333333333333333, \"#9c179e\"], [0.4444444444444444, \"#bd3786\"], [0.5555555555555556, \"#d8576b\"], [0.6666666666666666, \"#ed7953\"], [0.7777777777777778, \"#fb9f3a\"], [0.8888888888888888, \"#fdca26\"], [1.0, \"#f0f921\"]]}, \"colorway\": [\"#636efa\", \"#EF553B\", \"#00cc96\", \"#ab63fa\", \"#FFA15A\", \"#19d3f3\", \"#FF6692\", \"#B6E880\", \"#FF97FF\", \"#FECB52\"], \"font\": {\"color\": \"#2a3f5f\"}, \"geo\": {\"bgcolor\": \"white\", \"lakecolor\": \"white\", \"landcolor\": \"#E5ECF6\", \"showlakes\": true, \"showland\": true, \"subunitcolor\": \"white\"}, \"hoverlabel\": {\"align\": \"left\"}, \"hovermode\": \"closest\", \"mapbox\": {\"style\": \"light\"}, \"paper_bgcolor\": \"white\", \"plot_bgcolor\": \"#E5ECF6\", \"polar\": {\"angularaxis\": {\"gridcolor\": \"white\", \"linecolor\": \"white\", \"ticks\": \"\"}, \"bgcolor\": \"#E5ECF6\", \"radialaxis\": {\"gridcolor\": \"white\", \"linecolor\": \"white\", \"ticks\": \"\"}}, \"scene\": {\"xaxis\": {\"backgroundcolor\": \"#E5ECF6\", \"gridcolor\": \"white\", \"gridwidth\": 2, \"linecolor\": \"white\", \"showbackground\": true, \"ticks\": \"\", \"zerolinecolor\": \"white\"}, \"yaxis\": {\"backgroundcolor\": \"#E5ECF6\", \"gridcolor\": \"white\", \"gridwidth\": 2, \"linecolor\": \"white\", \"showbackground\": true, \"ticks\": \"\", \"zerolinecolor\": \"white\"}, \"zaxis\": {\"backgroundcolor\": \"#E5ECF6\", \"gridcolor\": \"white\", \"gridwidth\": 2, \"linecolor\": \"white\", \"showbackground\": true, \"ticks\": \"\", \"zerolinecolor\": \"white\"}}, \"shapedefaults\": {\"line\": {\"color\": \"#2a3f5f\"}}, \"ternary\": {\"aaxis\": {\"gridcolor\": \"white\", \"linecolor\": \"white\", \"ticks\": \"\"}, \"baxis\": {\"gridcolor\": \"white\", \"linecolor\": \"white\", \"ticks\": \"\"}, \"bgcolor\": \"#E5ECF6\", \"caxis\": {\"gridcolor\": \"white\", \"linecolor\": \"white\", \"ticks\": \"\"}}, \"title\": {\"x\": 0.05}, \"xaxis\": {\"automargin\": true, \"gridcolor\": \"white\", \"linecolor\": \"white\", \"ticks\": \"\", \"title\": {\"standoff\": 15}, \"zerolinecolor\": \"white\", \"zerolinewidth\": 2}, \"yaxis\": {\"automargin\": true, \"gridcolor\": \"white\", \"linecolor\": \"white\", \"ticks\": \"\", \"title\": {\"standoff\": 15}, \"zerolinecolor\": \"white\", \"zerolinewidth\": 2}}}, \"title\": {\"text\": \"Gradient Boosting Feature Importance\"}, \"yaxis\": {\"gridwidth\": 2, \"ticklen\": 5, \"title\": {\"text\": \"Feature Importance\"}}},\n",
       "                        {\"responsive\": true}\n",
       "                    ).then(function(){\n",
       "                            \n",
       "var gd = document.getElementById('d6340fce-4e17-46e3-8c77-1568fc2201b5');\n",
       "var x = new MutationObserver(function (mutations, observer) {{\n",
       "        var display = window.getComputedStyle(gd).display;\n",
       "        if (!display || display === 'none') {{\n",
       "            console.log([gd, 'removed!']);\n",
       "            Plotly.purge(gd);\n",
       "            observer.disconnect();\n",
       "        }}\n",
       "}});\n",
       "\n",
       "// Listen for the removal of the full notebook cells\n",
       "var notebookContainer = gd.closest('#notebook-container');\n",
       "if (notebookContainer) {{\n",
       "    x.observe(notebookContainer, {childList: true});\n",
       "}}\n",
       "\n",
       "// Listen for the clearing of the current output cell\n",
       "var outputEl = gd.closest('.output');\n",
       "if (outputEl) {{\n",
       "    x.observe(outputEl, {childList: true});\n",
       "}}\n",
       "\n",
       "                        })\n",
       "                };\n",
       "                });\n",
       "            </script>\n",
       "        </div>"
      ]
     },
     "metadata": {},
     "output_type": "display_data"
    }
   ],
   "source": [
    "import plotly.offline as py\n",
    "py.init_notebook_mode(connected=True)\n",
    "import plotly.graph_objs as go\n",
    "\n",
    "# Scatter plot \n",
    "trace = go.Scatter(\n",
    "    y = feature_dataframe['Random Forest feature importances'].values,\n",
    "    x = feature_dataframe['features'].values,\n",
    "    mode='markers',\n",
    "    marker=dict(\n",
    "        sizemode = 'diameter',\n",
    "        sizeref = 1,\n",
    "        size = 25,\n",
    "#       size= feature_dataframe['AdaBoost feature importances'].values,\n",
    "        #color = np.random.randn(500), #set color equal to a variable\n",
    "        color = feature_dataframe['Random Forest feature importances'].values,\n",
    "        colorscale='Portland',\n",
    "        showscale=True\n",
    "    ),\n",
    "    text = feature_dataframe['features'].values\n",
    ")\n",
    "data = [trace]\n",
    "\n",
    "layout= go.Layout(\n",
    "    autosize= True,\n",
    "    title= 'Random Forest Feature Importance',\n",
    "    hovermode= 'closest',\n",
    "#     xaxis= dict(\n",
    "#         title= 'Pop',\n",
    "#         ticklen= 5,\n",
    "#         zeroline= False,\n",
    "#         gridwidth= 2,\n",
    "#     ),\n",
    "    yaxis=dict(\n",
    "        title= 'Feature Importance',\n",
    "        ticklen= 5,\n",
    "        gridwidth= 2\n",
    "    ),\n",
    "    showlegend= False\n",
    ")\n",
    "fig = go.Figure(data=data, layout=layout)\n",
    "py.iplot(fig,filename='scatter2010')\n",
    "\n",
    "# Scatter plot \n",
    "trace = go.Scatter(\n",
    "    y = feature_dataframe['Extra Trees  feature importances'].values,\n",
    "    x = feature_dataframe['features'].values,\n",
    "    mode='markers',\n",
    "    marker=dict(\n",
    "        sizemode = 'diameter',\n",
    "        sizeref = 1,\n",
    "        size = 25,\n",
    "#       size= feature_dataframe['AdaBoost feature importances'].values,\n",
    "        #color = np.random.randn(500), #set color equal to a variable\n",
    "        color = feature_dataframe['Extra Trees  feature importances'].values,\n",
    "        colorscale='Portland',\n",
    "        showscale=True\n",
    "    ),\n",
    "    text = feature_dataframe['features'].values\n",
    ")\n",
    "data = [trace]\n",
    "\n",
    "layout= go.Layout(\n",
    "    autosize= True,\n",
    "    title= 'Extra Trees Feature Importance',\n",
    "    hovermode= 'closest',\n",
    "#     xaxis= dict(\n",
    "#         title= 'Pop',\n",
    "#         ticklen= 5,\n",
    "#         zeroline= False,\n",
    "#         gridwidth= 2,\n",
    "#     ),\n",
    "    yaxis=dict(\n",
    "        title= 'Feature Importance',\n",
    "        ticklen= 5,\n",
    "        gridwidth= 2\n",
    "    ),\n",
    "    showlegend= False\n",
    ")\n",
    "fig = go.Figure(data=data, layout=layout)\n",
    "py.iplot(fig,filename='scatter2010')\n",
    "\n",
    "# Scatter plot \n",
    "trace = go.Scatter(\n",
    "    y = feature_dataframe['AdaBoost feature importances'].values,\n",
    "    x = feature_dataframe['features'].values,\n",
    "    mode='markers',\n",
    "    marker=dict(\n",
    "        sizemode = 'diameter',\n",
    "        sizeref = 1,\n",
    "        size = 25,\n",
    "#       size= feature_dataframe['AdaBoost feature importances'].values,\n",
    "        #color = np.random.randn(500), #set color equal to a variable\n",
    "        color = feature_dataframe['AdaBoost feature importances'].values,\n",
    "        colorscale='Portland',\n",
    "        showscale=True\n",
    "    ),\n",
    "    text = feature_dataframe['features'].values\n",
    ")\n",
    "data = [trace]\n",
    "\n",
    "layout= go.Layout(\n",
    "    autosize= True,\n",
    "    title= 'AdaBoost Feature Importance',\n",
    "    hovermode= 'closest',\n",
    "#     xaxis= dict(\n",
    "#         title= 'Pop',\n",
    "#         ticklen= 5,\n",
    "#         zeroline= False,\n",
    "#         gridwidth= 2,\n",
    "#     ),\n",
    "    yaxis=dict(\n",
    "        title= 'Feature Importance',\n",
    "        ticklen= 5,\n",
    "        gridwidth= 2\n",
    "    ),\n",
    "    showlegend= False\n",
    ")\n",
    "fig = go.Figure(data=data, layout=layout)\n",
    "py.iplot(fig,filename='scatter2010')\n",
    "\n",
    "# Scatter plot \n",
    "trace = go.Scatter(\n",
    "    y = feature_dataframe['Gradient Boost feature importances'].values,\n",
    "    x = feature_dataframe['features'].values,\n",
    "    mode='markers',\n",
    "    marker=dict(\n",
    "        sizemode = 'diameter',\n",
    "        sizeref = 1,\n",
    "        size = 25,\n",
    "#       size= feature_dataframe['AdaBoost feature importances'].values,\n",
    "        #color = np.random.randn(500), #set color equal to a variable\n",
    "        color = feature_dataframe['Gradient Boost feature importances'].values,\n",
    "        colorscale='Portland',\n",
    "        showscale=True\n",
    "    ),\n",
    "    text = feature_dataframe['features'].values\n",
    ")\n",
    "data = [trace]\n",
    "\n",
    "layout= go.Layout(\n",
    "    autosize= True,\n",
    "    title= 'Gradient Boosting Feature Importance',\n",
    "    hovermode= 'closest',\n",
    "#     xaxis= dict(\n",
    "#         title= 'Pop',\n",
    "#         ticklen= 5,\n",
    "#         zeroline= False,\n",
    "#         gridwidth= 2,\n",
    "#     ),\n",
    "    yaxis=dict(\n",
    "        title= 'Feature Importance',\n",
    "        ticklen= 5,\n",
    "        gridwidth= 2\n",
    "    ),\n",
    "    showlegend= False\n",
    ")\n",
    "fig = go.Figure(data=data, layout=layout)\n",
    "py.iplot(fig,filename='scatter2010')"
   ]
  },
  {
   "cell_type": "code",
   "execution_count": 52,
   "metadata": {},
   "outputs": [
    {
     "data": {
      "application/vnd.plotly.v1+json": {
       "config": {
        "linkText": "Export to plot.ly",
        "plotlyServerURL": "https://plot.ly",
        "showLink": false
       },
       "data": [
        {
         "marker": {
          "color": [
           0.00167557529416195,
           0.004021950244411732,
           0.10425312270663106,
           0.002403769346636919,
           0.009171645258398912,
           0.035149953775703874,
           0.00037103208431581137,
           0.022115336713693205,
           0.0004123544619127628,
           0.0028753255302844203,
           0.0017022484668876453,
           0.011697074591723537,
           0.00017434779640120265,
           0.0003228166641812486,
           0.006660494443185245,
           0.01417430618499356,
           0.0006897281618043191,
           0.0012607372494179447,
           0.014208677303728361,
           0.010992083120083915,
           7.612607860249971e-05,
           0.029807804218538222,
           0.0010000773754993864,
           0.001090376672676512,
           0.006584747029748603,
           0.0010141863288746814,
           0.0013502249356382489,
           0.0005672994516390993,
           0.013608251503166227,
           0.013527380149613508,
           0.00562910417053444,
           0.004824498874735068,
           0.020592712877488102,
           0.0064946642702864675,
           0.0002889951909037772,
           0.0008156323345014749,
           0.0002332856999206862,
           0.0027574130948218286,
           0.0019223249930306915,
           0.0032963324763039463,
           0.10419119213844547,
           0.3198269400210735,
           0.04491758692680746,
           0.008524996683763303,
           0.1382689471660526,
           0.007064856418179637,
           0.0014704502093349004,
           0.0033616860328452205,
           0.0007033185171287498,
           0.0002909431955124859,
           0.0004696226406217286,
           0.00010339037237541472,
           1.26997548974735e-07,
           5.827594279176806e-05,
           2.9741845094175875e-06,
           0.00017506540911054329,
           8.106960560539052e-05,
           0.00023691739396313358,
           0.00010416025580464437,
           0.00010500541366760149,
           4.120282779385535e-05,
           0.00019707284287162475,
           0.00019298758831769113,
           4.773523709817419e-05,
           0.00020890865828779084,
           6.683922241792256e-05,
           0.00017073467071967326,
           0.0010304934562099669,
           0.00015707178431788234,
           0.0008115835695379394,
           0.0007596841746445951,
           1.8467878213305684e-07,
           0.0003886683248272689,
           6.849160185833477e-05,
           3.4788546440209074e-05,
           0.0003631048764271045,
           2.0981378983382394e-05,
           0.00019783715552543001,
           0.0001268428876259969,
           0.00015068827583885532,
           0.0004324814923251062,
           0.000650266328291426,
           6.725719888537824e-05,
           0.0004858431249638807,
           0.0005106669050612483,
           0.0011900316928168222,
           0.0006331136611091693,
           0.00037752479440447505,
           0.0008453703933936985
          ],
          "colorscale": [
           [
            0,
            "rgb(12,51,131)"
           ],
           [
            0.25,
            "rgb(10,136,186)"
           ],
           [
            0.5,
            "rgb(242,211,56)"
           ],
           [
            0.75,
            "rgb(242,143,56)"
           ],
           [
            1,
            "rgb(217,30,30)"
           ]
          ],
          "reversescale": false,
          "showscale": true
         },
         "opacity": 0.6,
         "type": "bar",
         "width": 0.5,
         "x": [
          "LotFrontage",
          "LotArea",
          "OverallQual",
          "OverallCond",
          "MasVnrArea",
          "ExterQual",
          "ExterCond",
          "BsmtQual",
          "BsmtCond",
          "BsmtExposure",
          "BsmtFinType1",
          "BsmtFinSF1",
          "BsmtFinType2",
          "BsmtFinSF2",
          "BsmtUnfSF",
          "TotalBsmtSF",
          "HeatingQC",
          "CentralAir",
          "1stFlrSF",
          "2ndFlrSF",
          "LowQualFinSF",
          "GrLivArea",
          "BsmtFullBath",
          "BsmtHalfBath",
          "FullBath",
          "HalfBath",
          "BedroomAbvGr",
          "KitchenAbvGr",
          "KitchenQual",
          "TotRmsAbvGrd",
          "Fireplaces",
          "FireplaceQu",
          "GarageCars",
          "GarageArea",
          "GarageQual",
          "GarageCond",
          "PavedDrive",
          "WoodDeckSF",
          "OpenPorchSF",
          "NeighborhoodLotArea",
          "NeighborhoodBldgType",
          "TotalSquareFeet",
          "NeighborhoodHouseStyle",
          "OverallQualNCond",
          "NeighborhoodOverallQualNCond",
          "AdjRemodAdd",
          "QuarterMeanNorm",
          "MonthMeanNorm",
          "Neighborhood_4",
          "Neighborhood_5",
          "Neighborhood_6",
          "Neighborhood_7",
          "Neighborhood_8",
          "Neighborhood_9",
          "Neighborhood_10",
          "Neighborhood_11",
          "Neighborhood_12",
          "Neighborhood_13",
          "Neighborhood_14",
          "Neighborhood_15",
          "Neighborhood_16",
          "Neighborhood_17",
          "Neighborhood_18",
          "Neighborhood_19",
          "Neighborhood_20",
          "Neighborhood_21",
          "Neighborhood_22",
          "Neighborhood_23",
          "Neighborhood_24",
          "Neighborhood_25",
          "LotConfig_3",
          "LotConfig_4",
          "LotConfig_5",
          "BldgType_2",
          "BldgType_3",
          "BldgType_5",
          "HouseStyle_2",
          "HouseStyle_3",
          "HouseStyle_4",
          "HouseStyle_5",
          "HouseStyle_6",
          "HouseStyle_7",
          "HouseStyle_8",
          "SaleCondition_1",
          "SaleCondition_2",
          "SaleCondition_3",
          "GarageFinish_1",
          "GarageFinish_2",
          "GarageFinish_3"
         ],
         "y": [
          0.00167557529416195,
          0.004021950244411732,
          0.10425312270663106,
          0.002403769346636919,
          0.009171645258398912,
          0.035149953775703874,
          0.00037103208431581137,
          0.022115336713693205,
          0.0004123544619127628,
          0.0028753255302844203,
          0.0017022484668876453,
          0.011697074591723537,
          0.00017434779640120265,
          0.0003228166641812486,
          0.006660494443185245,
          0.01417430618499356,
          0.0006897281618043191,
          0.0012607372494179447,
          0.014208677303728361,
          0.010992083120083915,
          7.612607860249971e-05,
          0.029807804218538222,
          0.0010000773754993864,
          0.001090376672676512,
          0.006584747029748603,
          0.0010141863288746814,
          0.0013502249356382489,
          0.0005672994516390993,
          0.013608251503166227,
          0.013527380149613508,
          0.00562910417053444,
          0.004824498874735068,
          0.020592712877488102,
          0.0064946642702864675,
          0.0002889951909037772,
          0.0008156323345014749,
          0.0002332856999206862,
          0.0027574130948218286,
          0.0019223249930306915,
          0.0032963324763039463,
          0.10419119213844547,
          0.3198269400210735,
          0.04491758692680746,
          0.008524996683763303,
          0.1382689471660526,
          0.007064856418179637,
          0.0014704502093349004,
          0.0033616860328452205,
          0.0007033185171287498,
          0.0002909431955124859,
          0.0004696226406217286,
          0.00010339037237541472,
          1.26997548974735e-07,
          5.827594279176806e-05,
          2.9741845094175875e-06,
          0.00017506540911054329,
          8.106960560539052e-05,
          0.00023691739396313358,
          0.00010416025580464437,
          0.00010500541366760149,
          4.120282779385535e-05,
          0.00019707284287162475,
          0.00019298758831769113,
          4.773523709817419e-05,
          0.00020890865828779084,
          6.683922241792256e-05,
          0.00017073467071967326,
          0.0010304934562099669,
          0.00015707178431788234,
          0.0008115835695379394,
          0.0007596841746445951,
          1.8467878213305684e-07,
          0.0003886683248272689,
          6.849160185833477e-05,
          3.4788546440209074e-05,
          0.0003631048764271045,
          2.0981378983382394e-05,
          0.00019783715552543001,
          0.0001268428876259969,
          0.00015068827583885532,
          0.0004324814923251062,
          0.000650266328291426,
          6.725719888537824e-05,
          0.0004858431249638807,
          0.0005106669050612483,
          0.0011900316928168222,
          0.0006331136611091693,
          0.00037752479440447505,
          0.0008453703933936985
         ]
        }
       ],
       "layout": {
        "autosize": true,
        "hovermode": "closest",
        "showlegend": false,
        "template": {
         "data": {
          "bar": [
           {
            "error_x": {
             "color": "#2a3f5f"
            },
            "error_y": {
             "color": "#2a3f5f"
            },
            "marker": {
             "line": {
              "color": "#E5ECF6",
              "width": 0.5
             }
            },
            "type": "bar"
           }
          ],
          "barpolar": [
           {
            "marker": {
             "line": {
              "color": "#E5ECF6",
              "width": 0.5
             }
            },
            "type": "barpolar"
           }
          ],
          "carpet": [
           {
            "aaxis": {
             "endlinecolor": "#2a3f5f",
             "gridcolor": "white",
             "linecolor": "white",
             "minorgridcolor": "white",
             "startlinecolor": "#2a3f5f"
            },
            "baxis": {
             "endlinecolor": "#2a3f5f",
             "gridcolor": "white",
             "linecolor": "white",
             "minorgridcolor": "white",
             "startlinecolor": "#2a3f5f"
            },
            "type": "carpet"
           }
          ],
          "choropleth": [
           {
            "colorbar": {
             "outlinewidth": 0,
             "ticks": ""
            },
            "type": "choropleth"
           }
          ],
          "contour": [
           {
            "colorbar": {
             "outlinewidth": 0,
             "ticks": ""
            },
            "colorscale": [
             [
              0,
              "#0d0887"
             ],
             [
              0.1111111111111111,
              "#46039f"
             ],
             [
              0.2222222222222222,
              "#7201a8"
             ],
             [
              0.3333333333333333,
              "#9c179e"
             ],
             [
              0.4444444444444444,
              "#bd3786"
             ],
             [
              0.5555555555555556,
              "#d8576b"
             ],
             [
              0.6666666666666666,
              "#ed7953"
             ],
             [
              0.7777777777777778,
              "#fb9f3a"
             ],
             [
              0.8888888888888888,
              "#fdca26"
             ],
             [
              1,
              "#f0f921"
             ]
            ],
            "type": "contour"
           }
          ],
          "contourcarpet": [
           {
            "colorbar": {
             "outlinewidth": 0,
             "ticks": ""
            },
            "type": "contourcarpet"
           }
          ],
          "heatmap": [
           {
            "colorbar": {
             "outlinewidth": 0,
             "ticks": ""
            },
            "colorscale": [
             [
              0,
              "#0d0887"
             ],
             [
              0.1111111111111111,
              "#46039f"
             ],
             [
              0.2222222222222222,
              "#7201a8"
             ],
             [
              0.3333333333333333,
              "#9c179e"
             ],
             [
              0.4444444444444444,
              "#bd3786"
             ],
             [
              0.5555555555555556,
              "#d8576b"
             ],
             [
              0.6666666666666666,
              "#ed7953"
             ],
             [
              0.7777777777777778,
              "#fb9f3a"
             ],
             [
              0.8888888888888888,
              "#fdca26"
             ],
             [
              1,
              "#f0f921"
             ]
            ],
            "type": "heatmap"
           }
          ],
          "heatmapgl": [
           {
            "colorbar": {
             "outlinewidth": 0,
             "ticks": ""
            },
            "colorscale": [
             [
              0,
              "#0d0887"
             ],
             [
              0.1111111111111111,
              "#46039f"
             ],
             [
              0.2222222222222222,
              "#7201a8"
             ],
             [
              0.3333333333333333,
              "#9c179e"
             ],
             [
              0.4444444444444444,
              "#bd3786"
             ],
             [
              0.5555555555555556,
              "#d8576b"
             ],
             [
              0.6666666666666666,
              "#ed7953"
             ],
             [
              0.7777777777777778,
              "#fb9f3a"
             ],
             [
              0.8888888888888888,
              "#fdca26"
             ],
             [
              1,
              "#f0f921"
             ]
            ],
            "type": "heatmapgl"
           }
          ],
          "histogram": [
           {
            "marker": {
             "colorbar": {
              "outlinewidth": 0,
              "ticks": ""
             }
            },
            "type": "histogram"
           }
          ],
          "histogram2d": [
           {
            "colorbar": {
             "outlinewidth": 0,
             "ticks": ""
            },
            "colorscale": [
             [
              0,
              "#0d0887"
             ],
             [
              0.1111111111111111,
              "#46039f"
             ],
             [
              0.2222222222222222,
              "#7201a8"
             ],
             [
              0.3333333333333333,
              "#9c179e"
             ],
             [
              0.4444444444444444,
              "#bd3786"
             ],
             [
              0.5555555555555556,
              "#d8576b"
             ],
             [
              0.6666666666666666,
              "#ed7953"
             ],
             [
              0.7777777777777778,
              "#fb9f3a"
             ],
             [
              0.8888888888888888,
              "#fdca26"
             ],
             [
              1,
              "#f0f921"
             ]
            ],
            "type": "histogram2d"
           }
          ],
          "histogram2dcontour": [
           {
            "colorbar": {
             "outlinewidth": 0,
             "ticks": ""
            },
            "colorscale": [
             [
              0,
              "#0d0887"
             ],
             [
              0.1111111111111111,
              "#46039f"
             ],
             [
              0.2222222222222222,
              "#7201a8"
             ],
             [
              0.3333333333333333,
              "#9c179e"
             ],
             [
              0.4444444444444444,
              "#bd3786"
             ],
             [
              0.5555555555555556,
              "#d8576b"
             ],
             [
              0.6666666666666666,
              "#ed7953"
             ],
             [
              0.7777777777777778,
              "#fb9f3a"
             ],
             [
              0.8888888888888888,
              "#fdca26"
             ],
             [
              1,
              "#f0f921"
             ]
            ],
            "type": "histogram2dcontour"
           }
          ],
          "mesh3d": [
           {
            "colorbar": {
             "outlinewidth": 0,
             "ticks": ""
            },
            "type": "mesh3d"
           }
          ],
          "parcoords": [
           {
            "line": {
             "colorbar": {
              "outlinewidth": 0,
              "ticks": ""
             }
            },
            "type": "parcoords"
           }
          ],
          "pie": [
           {
            "automargin": true,
            "type": "pie"
           }
          ],
          "scatter": [
           {
            "marker": {
             "colorbar": {
              "outlinewidth": 0,
              "ticks": ""
             }
            },
            "type": "scatter"
           }
          ],
          "scatter3d": [
           {
            "line": {
             "colorbar": {
              "outlinewidth": 0,
              "ticks": ""
             }
            },
            "marker": {
             "colorbar": {
              "outlinewidth": 0,
              "ticks": ""
             }
            },
            "type": "scatter3d"
           }
          ],
          "scattercarpet": [
           {
            "marker": {
             "colorbar": {
              "outlinewidth": 0,
              "ticks": ""
             }
            },
            "type": "scattercarpet"
           }
          ],
          "scattergeo": [
           {
            "marker": {
             "colorbar": {
              "outlinewidth": 0,
              "ticks": ""
             }
            },
            "type": "scattergeo"
           }
          ],
          "scattergl": [
           {
            "marker": {
             "colorbar": {
              "outlinewidth": 0,
              "ticks": ""
             }
            },
            "type": "scattergl"
           }
          ],
          "scattermapbox": [
           {
            "marker": {
             "colorbar": {
              "outlinewidth": 0,
              "ticks": ""
             }
            },
            "type": "scattermapbox"
           }
          ],
          "scatterpolar": [
           {
            "marker": {
             "colorbar": {
              "outlinewidth": 0,
              "ticks": ""
             }
            },
            "type": "scatterpolar"
           }
          ],
          "scatterpolargl": [
           {
            "marker": {
             "colorbar": {
              "outlinewidth": 0,
              "ticks": ""
             }
            },
            "type": "scatterpolargl"
           }
          ],
          "scatterternary": [
           {
            "marker": {
             "colorbar": {
              "outlinewidth": 0,
              "ticks": ""
             }
            },
            "type": "scatterternary"
           }
          ],
          "surface": [
           {
            "colorbar": {
             "outlinewidth": 0,
             "ticks": ""
            },
            "colorscale": [
             [
              0,
              "#0d0887"
             ],
             [
              0.1111111111111111,
              "#46039f"
             ],
             [
              0.2222222222222222,
              "#7201a8"
             ],
             [
              0.3333333333333333,
              "#9c179e"
             ],
             [
              0.4444444444444444,
              "#bd3786"
             ],
             [
              0.5555555555555556,
              "#d8576b"
             ],
             [
              0.6666666666666666,
              "#ed7953"
             ],
             [
              0.7777777777777778,
              "#fb9f3a"
             ],
             [
              0.8888888888888888,
              "#fdca26"
             ],
             [
              1,
              "#f0f921"
             ]
            ],
            "type": "surface"
           }
          ],
          "table": [
           {
            "cells": {
             "fill": {
              "color": "#EBF0F8"
             },
             "line": {
              "color": "white"
             }
            },
            "header": {
             "fill": {
              "color": "#C8D4E3"
             },
             "line": {
              "color": "white"
             }
            },
            "type": "table"
           }
          ]
         },
         "layout": {
          "annotationdefaults": {
           "arrowcolor": "#2a3f5f",
           "arrowhead": 0,
           "arrowwidth": 1
          },
          "coloraxis": {
           "colorbar": {
            "outlinewidth": 0,
            "ticks": ""
           }
          },
          "colorscale": {
           "diverging": [
            [
             0,
             "#8e0152"
            ],
            [
             0.1,
             "#c51b7d"
            ],
            [
             0.2,
             "#de77ae"
            ],
            [
             0.3,
             "#f1b6da"
            ],
            [
             0.4,
             "#fde0ef"
            ],
            [
             0.5,
             "#f7f7f7"
            ],
            [
             0.6,
             "#e6f5d0"
            ],
            [
             0.7,
             "#b8e186"
            ],
            [
             0.8,
             "#7fbc41"
            ],
            [
             0.9,
             "#4d9221"
            ],
            [
             1,
             "#276419"
            ]
           ],
           "sequential": [
            [
             0,
             "#0d0887"
            ],
            [
             0.1111111111111111,
             "#46039f"
            ],
            [
             0.2222222222222222,
             "#7201a8"
            ],
            [
             0.3333333333333333,
             "#9c179e"
            ],
            [
             0.4444444444444444,
             "#bd3786"
            ],
            [
             0.5555555555555556,
             "#d8576b"
            ],
            [
             0.6666666666666666,
             "#ed7953"
            ],
            [
             0.7777777777777778,
             "#fb9f3a"
            ],
            [
             0.8888888888888888,
             "#fdca26"
            ],
            [
             1,
             "#f0f921"
            ]
           ],
           "sequentialminus": [
            [
             0,
             "#0d0887"
            ],
            [
             0.1111111111111111,
             "#46039f"
            ],
            [
             0.2222222222222222,
             "#7201a8"
            ],
            [
             0.3333333333333333,
             "#9c179e"
            ],
            [
             0.4444444444444444,
             "#bd3786"
            ],
            [
             0.5555555555555556,
             "#d8576b"
            ],
            [
             0.6666666666666666,
             "#ed7953"
            ],
            [
             0.7777777777777778,
             "#fb9f3a"
            ],
            [
             0.8888888888888888,
             "#fdca26"
            ],
            [
             1,
             "#f0f921"
            ]
           ]
          },
          "colorway": [
           "#636efa",
           "#EF553B",
           "#00cc96",
           "#ab63fa",
           "#FFA15A",
           "#19d3f3",
           "#FF6692",
           "#B6E880",
           "#FF97FF",
           "#FECB52"
          ],
          "font": {
           "color": "#2a3f5f"
          },
          "geo": {
           "bgcolor": "white",
           "lakecolor": "white",
           "landcolor": "#E5ECF6",
           "showlakes": true,
           "showland": true,
           "subunitcolor": "white"
          },
          "hoverlabel": {
           "align": "left"
          },
          "hovermode": "closest",
          "mapbox": {
           "style": "light"
          },
          "paper_bgcolor": "white",
          "plot_bgcolor": "#E5ECF6",
          "polar": {
           "angularaxis": {
            "gridcolor": "white",
            "linecolor": "white",
            "ticks": ""
           },
           "bgcolor": "#E5ECF6",
           "radialaxis": {
            "gridcolor": "white",
            "linecolor": "white",
            "ticks": ""
           }
          },
          "scene": {
           "xaxis": {
            "backgroundcolor": "#E5ECF6",
            "gridcolor": "white",
            "gridwidth": 2,
            "linecolor": "white",
            "showbackground": true,
            "ticks": "",
            "zerolinecolor": "white"
           },
           "yaxis": {
            "backgroundcolor": "#E5ECF6",
            "gridcolor": "white",
            "gridwidth": 2,
            "linecolor": "white",
            "showbackground": true,
            "ticks": "",
            "zerolinecolor": "white"
           },
           "zaxis": {
            "backgroundcolor": "#E5ECF6",
            "gridcolor": "white",
            "gridwidth": 2,
            "linecolor": "white",
            "showbackground": true,
            "ticks": "",
            "zerolinecolor": "white"
           }
          },
          "shapedefaults": {
           "line": {
            "color": "#2a3f5f"
           }
          },
          "ternary": {
           "aaxis": {
            "gridcolor": "white",
            "linecolor": "white",
            "ticks": ""
           },
           "baxis": {
            "gridcolor": "white",
            "linecolor": "white",
            "ticks": ""
           },
           "bgcolor": "#E5ECF6",
           "caxis": {
            "gridcolor": "white",
            "linecolor": "white",
            "ticks": ""
           }
          },
          "title": {
           "x": 0.05
          },
          "xaxis": {
           "automargin": true,
           "gridcolor": "white",
           "linecolor": "white",
           "ticks": "",
           "title": {
            "standoff": 15
           },
           "zerolinecolor": "white",
           "zerolinewidth": 2
          },
          "yaxis": {
           "automargin": true,
           "gridcolor": "white",
           "linecolor": "white",
           "ticks": "",
           "title": {
            "standoff": 15
           },
           "zerolinecolor": "white",
           "zerolinewidth": 2
          }
         }
        },
        "title": {
         "text": "Barplots of Mean Feature Importance"
        },
        "yaxis": {
         "gridwidth": 2,
         "ticklen": 5,
         "title": {
          "text": "Feature Importance"
         }
        }
       }
      },
      "text/html": [
       "<div>\n",
       "        \n",
       "        \n",
       "            <div id=\"f7f69d22-a748-4579-992d-c4100d30e030\" class=\"plotly-graph-div\" style=\"height:525px; width:100%;\"></div>\n",
       "            <script type=\"text/javascript\">\n",
       "                require([\"plotly\"], function(Plotly) {\n",
       "                    window.PLOTLYENV=window.PLOTLYENV || {};\n",
       "                    \n",
       "                if (document.getElementById(\"f7f69d22-a748-4579-992d-c4100d30e030\")) {\n",
       "                    Plotly.newPlot(\n",
       "                        'f7f69d22-a748-4579-992d-c4100d30e030',\n",
       "                        [{\"marker\": {\"color\": [0.00167557529416195, 0.004021950244411732, 0.10425312270663106, 0.002403769346636919, 0.009171645258398912, 0.035149953775703874, 0.00037103208431581137, 0.022115336713693205, 0.0004123544619127628, 0.0028753255302844203, 0.0017022484668876453, 0.011697074591723537, 0.00017434779640120265, 0.0003228166641812486, 0.006660494443185245, 0.01417430618499356, 0.0006897281618043191, 0.0012607372494179447, 0.014208677303728361, 0.010992083120083915, 7.612607860249971e-05, 0.029807804218538222, 0.0010000773754993864, 0.001090376672676512, 0.006584747029748603, 0.0010141863288746814, 0.0013502249356382489, 0.0005672994516390993, 0.013608251503166227, 0.013527380149613508, 0.00562910417053444, 0.004824498874735068, 0.020592712877488102, 0.0064946642702864675, 0.0002889951909037772, 0.0008156323345014749, 0.0002332856999206862, 0.0027574130948218286, 0.0019223249930306915, 0.0032963324763039463, 0.10419119213844547, 0.3198269400210735, 0.04491758692680746, 0.008524996683763303, 0.1382689471660526, 0.007064856418179637, 0.0014704502093349004, 0.0033616860328452205, 0.0007033185171287498, 0.0002909431955124859, 0.0004696226406217286, 0.00010339037237541472, 1.26997548974735e-07, 5.827594279176806e-05, 2.9741845094175875e-06, 0.00017506540911054329, 8.106960560539052e-05, 0.00023691739396313358, 0.00010416025580464437, 0.00010500541366760149, 4.120282779385535e-05, 0.00019707284287162475, 0.00019298758831769113, 4.773523709817419e-05, 0.00020890865828779084, 6.683922241792256e-05, 0.00017073467071967326, 0.0010304934562099669, 0.00015707178431788234, 0.0008115835695379394, 0.0007596841746445951, 1.8467878213305684e-07, 0.0003886683248272689, 6.849160185833477e-05, 3.4788546440209074e-05, 0.0003631048764271045, 2.0981378983382394e-05, 0.00019783715552543001, 0.0001268428876259969, 0.00015068827583885532, 0.0004324814923251062, 0.000650266328291426, 6.725719888537824e-05, 0.0004858431249638807, 0.0005106669050612483, 0.0011900316928168222, 0.0006331136611091693, 0.00037752479440447505, 0.0008453703933936985], \"colorscale\": [[0.0, \"rgb(12,51,131)\"], [0.25, \"rgb(10,136,186)\"], [0.5, \"rgb(242,211,56)\"], [0.75, \"rgb(242,143,56)\"], [1.0, \"rgb(217,30,30)\"]], \"reversescale\": false, \"showscale\": true}, \"opacity\": 0.6, \"type\": \"bar\", \"width\": 0.5, \"x\": [\"LotFrontage\", \"LotArea\", \"OverallQual\", \"OverallCond\", \"MasVnrArea\", \"ExterQual\", \"ExterCond\", \"BsmtQual\", \"BsmtCond\", \"BsmtExposure\", \"BsmtFinType1\", \"BsmtFinSF1\", \"BsmtFinType2\", \"BsmtFinSF2\", \"BsmtUnfSF\", \"TotalBsmtSF\", \"HeatingQC\", \"CentralAir\", \"1stFlrSF\", \"2ndFlrSF\", \"LowQualFinSF\", \"GrLivArea\", \"BsmtFullBath\", \"BsmtHalfBath\", \"FullBath\", \"HalfBath\", \"BedroomAbvGr\", \"KitchenAbvGr\", \"KitchenQual\", \"TotRmsAbvGrd\", \"Fireplaces\", \"FireplaceQu\", \"GarageCars\", \"GarageArea\", \"GarageQual\", \"GarageCond\", \"PavedDrive\", \"WoodDeckSF\", \"OpenPorchSF\", \"NeighborhoodLotArea\", \"NeighborhoodBldgType\", \"TotalSquareFeet\", \"NeighborhoodHouseStyle\", \"OverallQualNCond\", \"NeighborhoodOverallQualNCond\", \"AdjRemodAdd\", \"QuarterMeanNorm\", \"MonthMeanNorm\", \"Neighborhood_4\", \"Neighborhood_5\", \"Neighborhood_6\", \"Neighborhood_7\", \"Neighborhood_8\", \"Neighborhood_9\", \"Neighborhood_10\", \"Neighborhood_11\", \"Neighborhood_12\", \"Neighborhood_13\", \"Neighborhood_14\", \"Neighborhood_15\", \"Neighborhood_16\", \"Neighborhood_17\", \"Neighborhood_18\", \"Neighborhood_19\", \"Neighborhood_20\", \"Neighborhood_21\", \"Neighborhood_22\", \"Neighborhood_23\", \"Neighborhood_24\", \"Neighborhood_25\", \"LotConfig_3\", \"LotConfig_4\", \"LotConfig_5\", \"BldgType_2\", \"BldgType_3\", \"BldgType_5\", \"HouseStyle_2\", \"HouseStyle_3\", \"HouseStyle_4\", \"HouseStyle_5\", \"HouseStyle_6\", \"HouseStyle_7\", \"HouseStyle_8\", \"SaleCondition_1\", \"SaleCondition_2\", \"SaleCondition_3\", \"GarageFinish_1\", \"GarageFinish_2\", \"GarageFinish_3\"], \"y\": [0.00167557529416195, 0.004021950244411732, 0.10425312270663106, 0.002403769346636919, 0.009171645258398912, 0.035149953775703874, 0.00037103208431581137, 0.022115336713693205, 0.0004123544619127628, 0.0028753255302844203, 0.0017022484668876453, 0.011697074591723537, 0.00017434779640120265, 0.0003228166641812486, 0.006660494443185245, 0.01417430618499356, 0.0006897281618043191, 0.0012607372494179447, 0.014208677303728361, 0.010992083120083915, 7.612607860249971e-05, 0.029807804218538222, 0.0010000773754993864, 0.001090376672676512, 0.006584747029748603, 0.0010141863288746814, 0.0013502249356382489, 0.0005672994516390993, 0.013608251503166227, 0.013527380149613508, 0.00562910417053444, 0.004824498874735068, 0.020592712877488102, 0.0064946642702864675, 0.0002889951909037772, 0.0008156323345014749, 0.0002332856999206862, 0.0027574130948218286, 0.0019223249930306915, 0.0032963324763039463, 0.10419119213844547, 0.3198269400210735, 0.04491758692680746, 0.008524996683763303, 0.1382689471660526, 0.007064856418179637, 0.0014704502093349004, 0.0033616860328452205, 0.0007033185171287498, 0.0002909431955124859, 0.0004696226406217286, 0.00010339037237541472, 1.26997548974735e-07, 5.827594279176806e-05, 2.9741845094175875e-06, 0.00017506540911054329, 8.106960560539052e-05, 0.00023691739396313358, 0.00010416025580464437, 0.00010500541366760149, 4.120282779385535e-05, 0.00019707284287162475, 0.00019298758831769113, 4.773523709817419e-05, 0.00020890865828779084, 6.683922241792256e-05, 0.00017073467071967326, 0.0010304934562099669, 0.00015707178431788234, 0.0008115835695379394, 0.0007596841746445951, 1.8467878213305684e-07, 0.0003886683248272689, 6.849160185833477e-05, 3.4788546440209074e-05, 0.0003631048764271045, 2.0981378983382394e-05, 0.00019783715552543001, 0.0001268428876259969, 0.00015068827583885532, 0.0004324814923251062, 0.000650266328291426, 6.725719888537824e-05, 0.0004858431249638807, 0.0005106669050612483, 0.0011900316928168222, 0.0006331136611091693, 0.00037752479440447505, 0.0008453703933936985]}],\n",
       "                        {\"autosize\": true, \"hovermode\": \"closest\", \"showlegend\": false, \"template\": {\"data\": {\"bar\": [{\"error_x\": {\"color\": \"#2a3f5f\"}, \"error_y\": {\"color\": \"#2a3f5f\"}, \"marker\": {\"line\": {\"color\": \"#E5ECF6\", \"width\": 0.5}}, \"type\": \"bar\"}], \"barpolar\": [{\"marker\": {\"line\": {\"color\": \"#E5ECF6\", \"width\": 0.5}}, \"type\": \"barpolar\"}], \"carpet\": [{\"aaxis\": {\"endlinecolor\": \"#2a3f5f\", \"gridcolor\": \"white\", \"linecolor\": \"white\", \"minorgridcolor\": \"white\", \"startlinecolor\": \"#2a3f5f\"}, \"baxis\": {\"endlinecolor\": \"#2a3f5f\", \"gridcolor\": \"white\", \"linecolor\": \"white\", \"minorgridcolor\": \"white\", \"startlinecolor\": \"#2a3f5f\"}, \"type\": \"carpet\"}], \"choropleth\": [{\"colorbar\": {\"outlinewidth\": 0, \"ticks\": \"\"}, \"type\": \"choropleth\"}], \"contour\": [{\"colorbar\": {\"outlinewidth\": 0, \"ticks\": \"\"}, \"colorscale\": [[0.0, \"#0d0887\"], [0.1111111111111111, \"#46039f\"], [0.2222222222222222, \"#7201a8\"], [0.3333333333333333, \"#9c179e\"], [0.4444444444444444, \"#bd3786\"], [0.5555555555555556, \"#d8576b\"], [0.6666666666666666, \"#ed7953\"], [0.7777777777777778, \"#fb9f3a\"], [0.8888888888888888, \"#fdca26\"], [1.0, \"#f0f921\"]], \"type\": \"contour\"}], \"contourcarpet\": [{\"colorbar\": {\"outlinewidth\": 0, \"ticks\": \"\"}, \"type\": \"contourcarpet\"}], \"heatmap\": [{\"colorbar\": {\"outlinewidth\": 0, \"ticks\": \"\"}, \"colorscale\": [[0.0, \"#0d0887\"], [0.1111111111111111, \"#46039f\"], [0.2222222222222222, \"#7201a8\"], [0.3333333333333333, \"#9c179e\"], [0.4444444444444444, \"#bd3786\"], [0.5555555555555556, \"#d8576b\"], [0.6666666666666666, \"#ed7953\"], [0.7777777777777778, \"#fb9f3a\"], [0.8888888888888888, \"#fdca26\"], [1.0, \"#f0f921\"]], \"type\": \"heatmap\"}], \"heatmapgl\": [{\"colorbar\": {\"outlinewidth\": 0, \"ticks\": \"\"}, \"colorscale\": [[0.0, \"#0d0887\"], [0.1111111111111111, \"#46039f\"], [0.2222222222222222, \"#7201a8\"], [0.3333333333333333, \"#9c179e\"], [0.4444444444444444, \"#bd3786\"], [0.5555555555555556, \"#d8576b\"], [0.6666666666666666, \"#ed7953\"], [0.7777777777777778, \"#fb9f3a\"], [0.8888888888888888, \"#fdca26\"], [1.0, \"#f0f921\"]], \"type\": \"heatmapgl\"}], \"histogram\": [{\"marker\": {\"colorbar\": {\"outlinewidth\": 0, \"ticks\": \"\"}}, \"type\": \"histogram\"}], \"histogram2d\": [{\"colorbar\": {\"outlinewidth\": 0, \"ticks\": \"\"}, \"colorscale\": [[0.0, \"#0d0887\"], [0.1111111111111111, \"#46039f\"], [0.2222222222222222, \"#7201a8\"], [0.3333333333333333, \"#9c179e\"], [0.4444444444444444, \"#bd3786\"], [0.5555555555555556, \"#d8576b\"], [0.6666666666666666, \"#ed7953\"], [0.7777777777777778, \"#fb9f3a\"], [0.8888888888888888, \"#fdca26\"], [1.0, \"#f0f921\"]], \"type\": \"histogram2d\"}], \"histogram2dcontour\": [{\"colorbar\": {\"outlinewidth\": 0, \"ticks\": \"\"}, \"colorscale\": [[0.0, \"#0d0887\"], [0.1111111111111111, \"#46039f\"], [0.2222222222222222, \"#7201a8\"], [0.3333333333333333, \"#9c179e\"], [0.4444444444444444, \"#bd3786\"], [0.5555555555555556, \"#d8576b\"], [0.6666666666666666, \"#ed7953\"], [0.7777777777777778, \"#fb9f3a\"], [0.8888888888888888, \"#fdca26\"], [1.0, \"#f0f921\"]], \"type\": \"histogram2dcontour\"}], \"mesh3d\": [{\"colorbar\": {\"outlinewidth\": 0, \"ticks\": \"\"}, \"type\": \"mesh3d\"}], \"parcoords\": [{\"line\": {\"colorbar\": {\"outlinewidth\": 0, \"ticks\": \"\"}}, \"type\": \"parcoords\"}], \"pie\": [{\"automargin\": true, \"type\": \"pie\"}], \"scatter\": [{\"marker\": {\"colorbar\": {\"outlinewidth\": 0, \"ticks\": \"\"}}, \"type\": \"scatter\"}], \"scatter3d\": [{\"line\": {\"colorbar\": {\"outlinewidth\": 0, \"ticks\": \"\"}}, \"marker\": {\"colorbar\": {\"outlinewidth\": 0, \"ticks\": \"\"}}, \"type\": \"scatter3d\"}], \"scattercarpet\": [{\"marker\": {\"colorbar\": {\"outlinewidth\": 0, \"ticks\": \"\"}}, \"type\": \"scattercarpet\"}], \"scattergeo\": [{\"marker\": {\"colorbar\": {\"outlinewidth\": 0, \"ticks\": \"\"}}, \"type\": \"scattergeo\"}], \"scattergl\": [{\"marker\": {\"colorbar\": {\"outlinewidth\": 0, \"ticks\": \"\"}}, \"type\": \"scattergl\"}], \"scattermapbox\": [{\"marker\": {\"colorbar\": {\"outlinewidth\": 0, \"ticks\": \"\"}}, \"type\": \"scattermapbox\"}], \"scatterpolar\": [{\"marker\": {\"colorbar\": {\"outlinewidth\": 0, \"ticks\": \"\"}}, \"type\": \"scatterpolar\"}], \"scatterpolargl\": [{\"marker\": {\"colorbar\": {\"outlinewidth\": 0, \"ticks\": \"\"}}, \"type\": \"scatterpolargl\"}], \"scatterternary\": [{\"marker\": {\"colorbar\": {\"outlinewidth\": 0, \"ticks\": \"\"}}, \"type\": \"scatterternary\"}], \"surface\": [{\"colorbar\": {\"outlinewidth\": 0, \"ticks\": \"\"}, \"colorscale\": [[0.0, \"#0d0887\"], [0.1111111111111111, \"#46039f\"], [0.2222222222222222, \"#7201a8\"], [0.3333333333333333, \"#9c179e\"], [0.4444444444444444, \"#bd3786\"], [0.5555555555555556, \"#d8576b\"], [0.6666666666666666, \"#ed7953\"], [0.7777777777777778, \"#fb9f3a\"], [0.8888888888888888, \"#fdca26\"], [1.0, \"#f0f921\"]], \"type\": \"surface\"}], \"table\": [{\"cells\": {\"fill\": {\"color\": \"#EBF0F8\"}, \"line\": {\"color\": \"white\"}}, \"header\": {\"fill\": {\"color\": \"#C8D4E3\"}, \"line\": {\"color\": \"white\"}}, \"type\": \"table\"}]}, \"layout\": {\"annotationdefaults\": {\"arrowcolor\": \"#2a3f5f\", \"arrowhead\": 0, \"arrowwidth\": 1}, \"coloraxis\": {\"colorbar\": {\"outlinewidth\": 0, \"ticks\": \"\"}}, \"colorscale\": {\"diverging\": [[0, \"#8e0152\"], [0.1, \"#c51b7d\"], [0.2, \"#de77ae\"], [0.3, \"#f1b6da\"], [0.4, \"#fde0ef\"], [0.5, \"#f7f7f7\"], [0.6, \"#e6f5d0\"], [0.7, \"#b8e186\"], [0.8, \"#7fbc41\"], [0.9, \"#4d9221\"], [1, \"#276419\"]], \"sequential\": [[0.0, \"#0d0887\"], [0.1111111111111111, \"#46039f\"], [0.2222222222222222, \"#7201a8\"], [0.3333333333333333, \"#9c179e\"], [0.4444444444444444, \"#bd3786\"], [0.5555555555555556, \"#d8576b\"], [0.6666666666666666, \"#ed7953\"], [0.7777777777777778, \"#fb9f3a\"], [0.8888888888888888, \"#fdca26\"], [1.0, \"#f0f921\"]], \"sequentialminus\": [[0.0, \"#0d0887\"], [0.1111111111111111, \"#46039f\"], [0.2222222222222222, \"#7201a8\"], [0.3333333333333333, \"#9c179e\"], [0.4444444444444444, \"#bd3786\"], [0.5555555555555556, \"#d8576b\"], [0.6666666666666666, \"#ed7953\"], [0.7777777777777778, \"#fb9f3a\"], [0.8888888888888888, \"#fdca26\"], [1.0, \"#f0f921\"]]}, \"colorway\": [\"#636efa\", \"#EF553B\", \"#00cc96\", \"#ab63fa\", \"#FFA15A\", \"#19d3f3\", \"#FF6692\", \"#B6E880\", \"#FF97FF\", \"#FECB52\"], \"font\": {\"color\": \"#2a3f5f\"}, \"geo\": {\"bgcolor\": \"white\", \"lakecolor\": \"white\", \"landcolor\": \"#E5ECF6\", \"showlakes\": true, \"showland\": true, \"subunitcolor\": \"white\"}, \"hoverlabel\": {\"align\": \"left\"}, \"hovermode\": \"closest\", \"mapbox\": {\"style\": \"light\"}, \"paper_bgcolor\": \"white\", \"plot_bgcolor\": \"#E5ECF6\", \"polar\": {\"angularaxis\": {\"gridcolor\": \"white\", \"linecolor\": \"white\", \"ticks\": \"\"}, \"bgcolor\": \"#E5ECF6\", \"radialaxis\": {\"gridcolor\": \"white\", \"linecolor\": \"white\", \"ticks\": \"\"}}, \"scene\": {\"xaxis\": {\"backgroundcolor\": \"#E5ECF6\", \"gridcolor\": \"white\", \"gridwidth\": 2, \"linecolor\": \"white\", \"showbackground\": true, \"ticks\": \"\", \"zerolinecolor\": \"white\"}, \"yaxis\": {\"backgroundcolor\": \"#E5ECF6\", \"gridcolor\": \"white\", \"gridwidth\": 2, \"linecolor\": \"white\", \"showbackground\": true, \"ticks\": \"\", \"zerolinecolor\": \"white\"}, \"zaxis\": {\"backgroundcolor\": \"#E5ECF6\", \"gridcolor\": \"white\", \"gridwidth\": 2, \"linecolor\": \"white\", \"showbackground\": true, \"ticks\": \"\", \"zerolinecolor\": \"white\"}}, \"shapedefaults\": {\"line\": {\"color\": \"#2a3f5f\"}}, \"ternary\": {\"aaxis\": {\"gridcolor\": \"white\", \"linecolor\": \"white\", \"ticks\": \"\"}, \"baxis\": {\"gridcolor\": \"white\", \"linecolor\": \"white\", \"ticks\": \"\"}, \"bgcolor\": \"#E5ECF6\", \"caxis\": {\"gridcolor\": \"white\", \"linecolor\": \"white\", \"ticks\": \"\"}}, \"title\": {\"x\": 0.05}, \"xaxis\": {\"automargin\": true, \"gridcolor\": \"white\", \"linecolor\": \"white\", \"ticks\": \"\", \"title\": {\"standoff\": 15}, \"zerolinecolor\": \"white\", \"zerolinewidth\": 2}, \"yaxis\": {\"automargin\": true, \"gridcolor\": \"white\", \"linecolor\": \"white\", \"ticks\": \"\", \"title\": {\"standoff\": 15}, \"zerolinecolor\": \"white\", \"zerolinewidth\": 2}}}, \"title\": {\"text\": \"Barplots of Mean Feature Importance\"}, \"yaxis\": {\"gridwidth\": 2, \"ticklen\": 5, \"title\": {\"text\": \"Feature Importance\"}}},\n",
       "                        {\"responsive\": true}\n",
       "                    ).then(function(){\n",
       "                            \n",
       "var gd = document.getElementById('f7f69d22-a748-4579-992d-c4100d30e030');\n",
       "var x = new MutationObserver(function (mutations, observer) {{\n",
       "        var display = window.getComputedStyle(gd).display;\n",
       "        if (!display || display === 'none') {{\n",
       "            console.log([gd, 'removed!']);\n",
       "            Plotly.purge(gd);\n",
       "            observer.disconnect();\n",
       "        }}\n",
       "}});\n",
       "\n",
       "// Listen for the removal of the full notebook cells\n",
       "var notebookContainer = gd.closest('#notebook-container');\n",
       "if (notebookContainer) {{\n",
       "    x.observe(notebookContainer, {childList: true});\n",
       "}}\n",
       "\n",
       "// Listen for the clearing of the current output cell\n",
       "var outputEl = gd.closest('.output');\n",
       "if (outputEl) {{\n",
       "    x.observe(outputEl, {childList: true});\n",
       "}}\n",
       "\n",
       "                        })\n",
       "                };\n",
       "                });\n",
       "            </script>\n",
       "        </div>"
      ]
     },
     "metadata": {},
     "output_type": "display_data"
    }
   ],
   "source": [
    "feature_dataframe['mean'] = feature_dataframe.mean(axis= 1) # axis = 1 computes the mean row-wise\n",
    "\n",
    "y_mean = feature_dataframe['mean'].values\n",
    "x_feat = feature_dataframe['features'].values\n",
    "data = [go.Bar(\n",
    "            x= x_feat,\n",
    "             y= y_mean,\n",
    "            width = 0.5,\n",
    "            marker=dict(\n",
    "               color = feature_dataframe['mean'].values,\n",
    "            colorscale='Portland',\n",
    "            showscale=True,\n",
    "            reversescale = False\n",
    "            ),\n",
    "            opacity=0.6\n",
    "        )]\n",
    "\n",
    "layout= go.Layout(\n",
    "    autosize= True,\n",
    "    title= 'Barplots of Mean Feature Importance',\n",
    "    hovermode= 'closest',\n",
    "#     xaxis= dict(\n",
    "#         title= 'Pop',\n",
    "#         ticklen= 5,\n",
    "#         zeroline= False,\n",
    "#         gridwidth= 2,\n",
    "#     ),\n",
    "    yaxis=dict(\n",
    "        title= 'Feature Importance',\n",
    "        ticklen= 5,\n",
    "        gridwidth= 2\n",
    "    ),\n",
    "    showlegend= False\n",
    ")\n",
    "fig = go.Figure(data=data, layout=layout)\n",
    "py.iplot(fig, filename='bar-direct-labels')"
   ]
  },
  {
   "cell_type": "code",
   "execution_count": 53,
   "metadata": {},
   "outputs": [
    {
     "data": {
      "application/vnd.plotly.v1+json": {
       "config": {
        "linkText": "Export to plot.ly",
        "plotlyServerURL": "https://plot.ly",
        "showLink": false
       },
       "data": [
        {
         "colorscale": [
          [
           0,
           "#440154"
          ],
          [
           0.1111111111111111,
           "#482878"
          ],
          [
           0.2222222222222222,
           "#3e4989"
          ],
          [
           0.3333333333333333,
           "#31688e"
          ],
          [
           0.4444444444444444,
           "#26828e"
          ],
          [
           0.5555555555555556,
           "#1f9e89"
          ],
          [
           0.6666666666666666,
           "#35b779"
          ],
          [
           0.7777777777777778,
           "#6ece58"
          ],
          [
           0.8888888888888888,
           "#b5de2b"
          ],
          [
           1,
           "#fde725"
          ]
         ],
         "reversescale": true,
         "showscale": true,
         "type": "heatmap",
         "x": [
          "RandomForest",
          "ExtraTrees",
          "AdaBoost",
          "GradientBoost"
         ],
         "y": [
          "RandomForest",
          "ExtraTrees",
          "AdaBoost",
          "GradientBoost"
         ],
         "z": [
          [
           1,
           0.9938322183872645,
           0.9812826740740564,
           0.9881911506529801
          ],
          [
           0.9938322183872645,
           1,
           0.9736036927747223,
           0.9841403205061878
          ],
          [
           0.9812826740740564,
           0.9736036927747223,
           1,
           0.9703416248519428
          ],
          [
           0.9881911506529801,
           0.9841403205061878,
           0.9703416248519428,
           1
          ]
         ]
        }
       ],
       "layout": {
        "template": {
         "data": {
          "bar": [
           {
            "error_x": {
             "color": "#2a3f5f"
            },
            "error_y": {
             "color": "#2a3f5f"
            },
            "marker": {
             "line": {
              "color": "#E5ECF6",
              "width": 0.5
             }
            },
            "type": "bar"
           }
          ],
          "barpolar": [
           {
            "marker": {
             "line": {
              "color": "#E5ECF6",
              "width": 0.5
             }
            },
            "type": "barpolar"
           }
          ],
          "carpet": [
           {
            "aaxis": {
             "endlinecolor": "#2a3f5f",
             "gridcolor": "white",
             "linecolor": "white",
             "minorgridcolor": "white",
             "startlinecolor": "#2a3f5f"
            },
            "baxis": {
             "endlinecolor": "#2a3f5f",
             "gridcolor": "white",
             "linecolor": "white",
             "minorgridcolor": "white",
             "startlinecolor": "#2a3f5f"
            },
            "type": "carpet"
           }
          ],
          "choropleth": [
           {
            "colorbar": {
             "outlinewidth": 0,
             "ticks": ""
            },
            "type": "choropleth"
           }
          ],
          "contour": [
           {
            "colorbar": {
             "outlinewidth": 0,
             "ticks": ""
            },
            "colorscale": [
             [
              0,
              "#0d0887"
             ],
             [
              0.1111111111111111,
              "#46039f"
             ],
             [
              0.2222222222222222,
              "#7201a8"
             ],
             [
              0.3333333333333333,
              "#9c179e"
             ],
             [
              0.4444444444444444,
              "#bd3786"
             ],
             [
              0.5555555555555556,
              "#d8576b"
             ],
             [
              0.6666666666666666,
              "#ed7953"
             ],
             [
              0.7777777777777778,
              "#fb9f3a"
             ],
             [
              0.8888888888888888,
              "#fdca26"
             ],
             [
              1,
              "#f0f921"
             ]
            ],
            "type": "contour"
           }
          ],
          "contourcarpet": [
           {
            "colorbar": {
             "outlinewidth": 0,
             "ticks": ""
            },
            "type": "contourcarpet"
           }
          ],
          "heatmap": [
           {
            "colorbar": {
             "outlinewidth": 0,
             "ticks": ""
            },
            "colorscale": [
             [
              0,
              "#0d0887"
             ],
             [
              0.1111111111111111,
              "#46039f"
             ],
             [
              0.2222222222222222,
              "#7201a8"
             ],
             [
              0.3333333333333333,
              "#9c179e"
             ],
             [
              0.4444444444444444,
              "#bd3786"
             ],
             [
              0.5555555555555556,
              "#d8576b"
             ],
             [
              0.6666666666666666,
              "#ed7953"
             ],
             [
              0.7777777777777778,
              "#fb9f3a"
             ],
             [
              0.8888888888888888,
              "#fdca26"
             ],
             [
              1,
              "#f0f921"
             ]
            ],
            "type": "heatmap"
           }
          ],
          "heatmapgl": [
           {
            "colorbar": {
             "outlinewidth": 0,
             "ticks": ""
            },
            "colorscale": [
             [
              0,
              "#0d0887"
             ],
             [
              0.1111111111111111,
              "#46039f"
             ],
             [
              0.2222222222222222,
              "#7201a8"
             ],
             [
              0.3333333333333333,
              "#9c179e"
             ],
             [
              0.4444444444444444,
              "#bd3786"
             ],
             [
              0.5555555555555556,
              "#d8576b"
             ],
             [
              0.6666666666666666,
              "#ed7953"
             ],
             [
              0.7777777777777778,
              "#fb9f3a"
             ],
             [
              0.8888888888888888,
              "#fdca26"
             ],
             [
              1,
              "#f0f921"
             ]
            ],
            "type": "heatmapgl"
           }
          ],
          "histogram": [
           {
            "marker": {
             "colorbar": {
              "outlinewidth": 0,
              "ticks": ""
             }
            },
            "type": "histogram"
           }
          ],
          "histogram2d": [
           {
            "colorbar": {
             "outlinewidth": 0,
             "ticks": ""
            },
            "colorscale": [
             [
              0,
              "#0d0887"
             ],
             [
              0.1111111111111111,
              "#46039f"
             ],
             [
              0.2222222222222222,
              "#7201a8"
             ],
             [
              0.3333333333333333,
              "#9c179e"
             ],
             [
              0.4444444444444444,
              "#bd3786"
             ],
             [
              0.5555555555555556,
              "#d8576b"
             ],
             [
              0.6666666666666666,
              "#ed7953"
             ],
             [
              0.7777777777777778,
              "#fb9f3a"
             ],
             [
              0.8888888888888888,
              "#fdca26"
             ],
             [
              1,
              "#f0f921"
             ]
            ],
            "type": "histogram2d"
           }
          ],
          "histogram2dcontour": [
           {
            "colorbar": {
             "outlinewidth": 0,
             "ticks": ""
            },
            "colorscale": [
             [
              0,
              "#0d0887"
             ],
             [
              0.1111111111111111,
              "#46039f"
             ],
             [
              0.2222222222222222,
              "#7201a8"
             ],
             [
              0.3333333333333333,
              "#9c179e"
             ],
             [
              0.4444444444444444,
              "#bd3786"
             ],
             [
              0.5555555555555556,
              "#d8576b"
             ],
             [
              0.6666666666666666,
              "#ed7953"
             ],
             [
              0.7777777777777778,
              "#fb9f3a"
             ],
             [
              0.8888888888888888,
              "#fdca26"
             ],
             [
              1,
              "#f0f921"
             ]
            ],
            "type": "histogram2dcontour"
           }
          ],
          "mesh3d": [
           {
            "colorbar": {
             "outlinewidth": 0,
             "ticks": ""
            },
            "type": "mesh3d"
           }
          ],
          "parcoords": [
           {
            "line": {
             "colorbar": {
              "outlinewidth": 0,
              "ticks": ""
             }
            },
            "type": "parcoords"
           }
          ],
          "pie": [
           {
            "automargin": true,
            "type": "pie"
           }
          ],
          "scatter": [
           {
            "marker": {
             "colorbar": {
              "outlinewidth": 0,
              "ticks": ""
             }
            },
            "type": "scatter"
           }
          ],
          "scatter3d": [
           {
            "line": {
             "colorbar": {
              "outlinewidth": 0,
              "ticks": ""
             }
            },
            "marker": {
             "colorbar": {
              "outlinewidth": 0,
              "ticks": ""
             }
            },
            "type": "scatter3d"
           }
          ],
          "scattercarpet": [
           {
            "marker": {
             "colorbar": {
              "outlinewidth": 0,
              "ticks": ""
             }
            },
            "type": "scattercarpet"
           }
          ],
          "scattergeo": [
           {
            "marker": {
             "colorbar": {
              "outlinewidth": 0,
              "ticks": ""
             }
            },
            "type": "scattergeo"
           }
          ],
          "scattergl": [
           {
            "marker": {
             "colorbar": {
              "outlinewidth": 0,
              "ticks": ""
             }
            },
            "type": "scattergl"
           }
          ],
          "scattermapbox": [
           {
            "marker": {
             "colorbar": {
              "outlinewidth": 0,
              "ticks": ""
             }
            },
            "type": "scattermapbox"
           }
          ],
          "scatterpolar": [
           {
            "marker": {
             "colorbar": {
              "outlinewidth": 0,
              "ticks": ""
             }
            },
            "type": "scatterpolar"
           }
          ],
          "scatterpolargl": [
           {
            "marker": {
             "colorbar": {
              "outlinewidth": 0,
              "ticks": ""
             }
            },
            "type": "scatterpolargl"
           }
          ],
          "scatterternary": [
           {
            "marker": {
             "colorbar": {
              "outlinewidth": 0,
              "ticks": ""
             }
            },
            "type": "scatterternary"
           }
          ],
          "surface": [
           {
            "colorbar": {
             "outlinewidth": 0,
             "ticks": ""
            },
            "colorscale": [
             [
              0,
              "#0d0887"
             ],
             [
              0.1111111111111111,
              "#46039f"
             ],
             [
              0.2222222222222222,
              "#7201a8"
             ],
             [
              0.3333333333333333,
              "#9c179e"
             ],
             [
              0.4444444444444444,
              "#bd3786"
             ],
             [
              0.5555555555555556,
              "#d8576b"
             ],
             [
              0.6666666666666666,
              "#ed7953"
             ],
             [
              0.7777777777777778,
              "#fb9f3a"
             ],
             [
              0.8888888888888888,
              "#fdca26"
             ],
             [
              1,
              "#f0f921"
             ]
            ],
            "type": "surface"
           }
          ],
          "table": [
           {
            "cells": {
             "fill": {
              "color": "#EBF0F8"
             },
             "line": {
              "color": "white"
             }
            },
            "header": {
             "fill": {
              "color": "#C8D4E3"
             },
             "line": {
              "color": "white"
             }
            },
            "type": "table"
           }
          ]
         },
         "layout": {
          "annotationdefaults": {
           "arrowcolor": "#2a3f5f",
           "arrowhead": 0,
           "arrowwidth": 1
          },
          "coloraxis": {
           "colorbar": {
            "outlinewidth": 0,
            "ticks": ""
           }
          },
          "colorscale": {
           "diverging": [
            [
             0,
             "#8e0152"
            ],
            [
             0.1,
             "#c51b7d"
            ],
            [
             0.2,
             "#de77ae"
            ],
            [
             0.3,
             "#f1b6da"
            ],
            [
             0.4,
             "#fde0ef"
            ],
            [
             0.5,
             "#f7f7f7"
            ],
            [
             0.6,
             "#e6f5d0"
            ],
            [
             0.7,
             "#b8e186"
            ],
            [
             0.8,
             "#7fbc41"
            ],
            [
             0.9,
             "#4d9221"
            ],
            [
             1,
             "#276419"
            ]
           ],
           "sequential": [
            [
             0,
             "#0d0887"
            ],
            [
             0.1111111111111111,
             "#46039f"
            ],
            [
             0.2222222222222222,
             "#7201a8"
            ],
            [
             0.3333333333333333,
             "#9c179e"
            ],
            [
             0.4444444444444444,
             "#bd3786"
            ],
            [
             0.5555555555555556,
             "#d8576b"
            ],
            [
             0.6666666666666666,
             "#ed7953"
            ],
            [
             0.7777777777777778,
             "#fb9f3a"
            ],
            [
             0.8888888888888888,
             "#fdca26"
            ],
            [
             1,
             "#f0f921"
            ]
           ],
           "sequentialminus": [
            [
             0,
             "#0d0887"
            ],
            [
             0.1111111111111111,
             "#46039f"
            ],
            [
             0.2222222222222222,
             "#7201a8"
            ],
            [
             0.3333333333333333,
             "#9c179e"
            ],
            [
             0.4444444444444444,
             "#bd3786"
            ],
            [
             0.5555555555555556,
             "#d8576b"
            ],
            [
             0.6666666666666666,
             "#ed7953"
            ],
            [
             0.7777777777777778,
             "#fb9f3a"
            ],
            [
             0.8888888888888888,
             "#fdca26"
            ],
            [
             1,
             "#f0f921"
            ]
           ]
          },
          "colorway": [
           "#636efa",
           "#EF553B",
           "#00cc96",
           "#ab63fa",
           "#FFA15A",
           "#19d3f3",
           "#FF6692",
           "#B6E880",
           "#FF97FF",
           "#FECB52"
          ],
          "font": {
           "color": "#2a3f5f"
          },
          "geo": {
           "bgcolor": "white",
           "lakecolor": "white",
           "landcolor": "#E5ECF6",
           "showlakes": true,
           "showland": true,
           "subunitcolor": "white"
          },
          "hoverlabel": {
           "align": "left"
          },
          "hovermode": "closest",
          "mapbox": {
           "style": "light"
          },
          "paper_bgcolor": "white",
          "plot_bgcolor": "#E5ECF6",
          "polar": {
           "angularaxis": {
            "gridcolor": "white",
            "linecolor": "white",
            "ticks": ""
           },
           "bgcolor": "#E5ECF6",
           "radialaxis": {
            "gridcolor": "white",
            "linecolor": "white",
            "ticks": ""
           }
          },
          "scene": {
           "xaxis": {
            "backgroundcolor": "#E5ECF6",
            "gridcolor": "white",
            "gridwidth": 2,
            "linecolor": "white",
            "showbackground": true,
            "ticks": "",
            "zerolinecolor": "white"
           },
           "yaxis": {
            "backgroundcolor": "#E5ECF6",
            "gridcolor": "white",
            "gridwidth": 2,
            "linecolor": "white",
            "showbackground": true,
            "ticks": "",
            "zerolinecolor": "white"
           },
           "zaxis": {
            "backgroundcolor": "#E5ECF6",
            "gridcolor": "white",
            "gridwidth": 2,
            "linecolor": "white",
            "showbackground": true,
            "ticks": "",
            "zerolinecolor": "white"
           }
          },
          "shapedefaults": {
           "line": {
            "color": "#2a3f5f"
           }
          },
          "ternary": {
           "aaxis": {
            "gridcolor": "white",
            "linecolor": "white",
            "ticks": ""
           },
           "baxis": {
            "gridcolor": "white",
            "linecolor": "white",
            "ticks": ""
           },
           "bgcolor": "#E5ECF6",
           "caxis": {
            "gridcolor": "white",
            "linecolor": "white",
            "ticks": ""
           }
          },
          "title": {
           "x": 0.05
          },
          "xaxis": {
           "automargin": true,
           "gridcolor": "white",
           "linecolor": "white",
           "ticks": "",
           "title": {
            "standoff": 15
           },
           "zerolinecolor": "white",
           "zerolinewidth": 2
          },
          "yaxis": {
           "automargin": true,
           "gridcolor": "white",
           "linecolor": "white",
           "ticks": "",
           "title": {
            "standoff": 15
           },
           "zerolinecolor": "white",
           "zerolinewidth": 2
          }
         }
        }
       }
      },
      "text/html": [
       "<div>\n",
       "        \n",
       "        \n",
       "            <div id=\"1adc8723-0f84-4e72-9307-1cc405d8d904\" class=\"plotly-graph-div\" style=\"height:525px; width:100%;\"></div>\n",
       "            <script type=\"text/javascript\">\n",
       "                require([\"plotly\"], function(Plotly) {\n",
       "                    window.PLOTLYENV=window.PLOTLYENV || {};\n",
       "                    \n",
       "                if (document.getElementById(\"1adc8723-0f84-4e72-9307-1cc405d8d904\")) {\n",
       "                    Plotly.newPlot(\n",
       "                        '1adc8723-0f84-4e72-9307-1cc405d8d904',\n",
       "                        [{\"colorscale\": [[0.0, \"#440154\"], [0.1111111111111111, \"#482878\"], [0.2222222222222222, \"#3e4989\"], [0.3333333333333333, \"#31688e\"], [0.4444444444444444, \"#26828e\"], [0.5555555555555556, \"#1f9e89\"], [0.6666666666666666, \"#35b779\"], [0.7777777777777778, \"#6ece58\"], [0.8888888888888888, \"#b5de2b\"], [1.0, \"#fde725\"]], \"reversescale\": true, \"showscale\": true, \"type\": \"heatmap\", \"x\": [\"RandomForest\", \"ExtraTrees\", \"AdaBoost\", \"GradientBoost\"], \"y\": [\"RandomForest\", \"ExtraTrees\", \"AdaBoost\", \"GradientBoost\"], \"z\": [[1.0, 0.9938322183872645, 0.9812826740740564, 0.9881911506529801], [0.9938322183872645, 1.0, 0.9736036927747223, 0.9841403205061878], [0.9812826740740564, 0.9736036927747223, 1.0, 0.9703416248519428], [0.9881911506529801, 0.9841403205061878, 0.9703416248519428, 1.0]]}],\n",
       "                        {\"template\": {\"data\": {\"bar\": [{\"error_x\": {\"color\": \"#2a3f5f\"}, \"error_y\": {\"color\": \"#2a3f5f\"}, \"marker\": {\"line\": {\"color\": \"#E5ECF6\", \"width\": 0.5}}, \"type\": \"bar\"}], \"barpolar\": [{\"marker\": {\"line\": {\"color\": \"#E5ECF6\", \"width\": 0.5}}, \"type\": \"barpolar\"}], \"carpet\": [{\"aaxis\": {\"endlinecolor\": \"#2a3f5f\", \"gridcolor\": \"white\", \"linecolor\": \"white\", \"minorgridcolor\": \"white\", \"startlinecolor\": \"#2a3f5f\"}, \"baxis\": {\"endlinecolor\": \"#2a3f5f\", \"gridcolor\": \"white\", \"linecolor\": \"white\", \"minorgridcolor\": \"white\", \"startlinecolor\": \"#2a3f5f\"}, \"type\": \"carpet\"}], \"choropleth\": [{\"colorbar\": {\"outlinewidth\": 0, \"ticks\": \"\"}, \"type\": \"choropleth\"}], \"contour\": [{\"colorbar\": {\"outlinewidth\": 0, \"ticks\": \"\"}, \"colorscale\": [[0.0, \"#0d0887\"], [0.1111111111111111, \"#46039f\"], [0.2222222222222222, \"#7201a8\"], [0.3333333333333333, \"#9c179e\"], [0.4444444444444444, \"#bd3786\"], [0.5555555555555556, \"#d8576b\"], [0.6666666666666666, \"#ed7953\"], [0.7777777777777778, \"#fb9f3a\"], [0.8888888888888888, \"#fdca26\"], [1.0, \"#f0f921\"]], \"type\": \"contour\"}], \"contourcarpet\": [{\"colorbar\": {\"outlinewidth\": 0, \"ticks\": \"\"}, \"type\": \"contourcarpet\"}], \"heatmap\": [{\"colorbar\": {\"outlinewidth\": 0, \"ticks\": \"\"}, \"colorscale\": [[0.0, \"#0d0887\"], [0.1111111111111111, \"#46039f\"], [0.2222222222222222, \"#7201a8\"], [0.3333333333333333, \"#9c179e\"], [0.4444444444444444, \"#bd3786\"], [0.5555555555555556, \"#d8576b\"], [0.6666666666666666, \"#ed7953\"], [0.7777777777777778, \"#fb9f3a\"], [0.8888888888888888, \"#fdca26\"], [1.0, \"#f0f921\"]], \"type\": \"heatmap\"}], \"heatmapgl\": [{\"colorbar\": {\"outlinewidth\": 0, \"ticks\": \"\"}, \"colorscale\": [[0.0, \"#0d0887\"], [0.1111111111111111, \"#46039f\"], [0.2222222222222222, \"#7201a8\"], [0.3333333333333333, \"#9c179e\"], [0.4444444444444444, \"#bd3786\"], [0.5555555555555556, \"#d8576b\"], [0.6666666666666666, \"#ed7953\"], [0.7777777777777778, \"#fb9f3a\"], [0.8888888888888888, \"#fdca26\"], [1.0, \"#f0f921\"]], \"type\": \"heatmapgl\"}], \"histogram\": [{\"marker\": {\"colorbar\": {\"outlinewidth\": 0, \"ticks\": \"\"}}, \"type\": \"histogram\"}], \"histogram2d\": [{\"colorbar\": {\"outlinewidth\": 0, \"ticks\": \"\"}, \"colorscale\": [[0.0, \"#0d0887\"], [0.1111111111111111, \"#46039f\"], [0.2222222222222222, \"#7201a8\"], [0.3333333333333333, \"#9c179e\"], [0.4444444444444444, \"#bd3786\"], [0.5555555555555556, \"#d8576b\"], [0.6666666666666666, \"#ed7953\"], [0.7777777777777778, \"#fb9f3a\"], [0.8888888888888888, \"#fdca26\"], [1.0, \"#f0f921\"]], \"type\": \"histogram2d\"}], \"histogram2dcontour\": [{\"colorbar\": {\"outlinewidth\": 0, \"ticks\": \"\"}, \"colorscale\": [[0.0, \"#0d0887\"], [0.1111111111111111, \"#46039f\"], [0.2222222222222222, \"#7201a8\"], [0.3333333333333333, \"#9c179e\"], [0.4444444444444444, \"#bd3786\"], [0.5555555555555556, \"#d8576b\"], [0.6666666666666666, \"#ed7953\"], [0.7777777777777778, \"#fb9f3a\"], [0.8888888888888888, \"#fdca26\"], [1.0, \"#f0f921\"]], \"type\": \"histogram2dcontour\"}], \"mesh3d\": [{\"colorbar\": {\"outlinewidth\": 0, \"ticks\": \"\"}, \"type\": \"mesh3d\"}], \"parcoords\": [{\"line\": {\"colorbar\": {\"outlinewidth\": 0, \"ticks\": \"\"}}, \"type\": \"parcoords\"}], \"pie\": [{\"automargin\": true, \"type\": \"pie\"}], \"scatter\": [{\"marker\": {\"colorbar\": {\"outlinewidth\": 0, \"ticks\": \"\"}}, \"type\": \"scatter\"}], \"scatter3d\": [{\"line\": {\"colorbar\": {\"outlinewidth\": 0, \"ticks\": \"\"}}, \"marker\": {\"colorbar\": {\"outlinewidth\": 0, \"ticks\": \"\"}}, \"type\": \"scatter3d\"}], \"scattercarpet\": [{\"marker\": {\"colorbar\": {\"outlinewidth\": 0, \"ticks\": \"\"}}, \"type\": \"scattercarpet\"}], \"scattergeo\": [{\"marker\": {\"colorbar\": {\"outlinewidth\": 0, \"ticks\": \"\"}}, \"type\": \"scattergeo\"}], \"scattergl\": [{\"marker\": {\"colorbar\": {\"outlinewidth\": 0, \"ticks\": \"\"}}, \"type\": \"scattergl\"}], \"scattermapbox\": [{\"marker\": {\"colorbar\": {\"outlinewidth\": 0, \"ticks\": \"\"}}, \"type\": \"scattermapbox\"}], \"scatterpolar\": [{\"marker\": {\"colorbar\": {\"outlinewidth\": 0, \"ticks\": \"\"}}, \"type\": \"scatterpolar\"}], \"scatterpolargl\": [{\"marker\": {\"colorbar\": {\"outlinewidth\": 0, \"ticks\": \"\"}}, \"type\": \"scatterpolargl\"}], \"scatterternary\": [{\"marker\": {\"colorbar\": {\"outlinewidth\": 0, \"ticks\": \"\"}}, \"type\": \"scatterternary\"}], \"surface\": [{\"colorbar\": {\"outlinewidth\": 0, \"ticks\": \"\"}, \"colorscale\": [[0.0, \"#0d0887\"], [0.1111111111111111, \"#46039f\"], [0.2222222222222222, \"#7201a8\"], [0.3333333333333333, \"#9c179e\"], [0.4444444444444444, \"#bd3786\"], [0.5555555555555556, \"#d8576b\"], [0.6666666666666666, \"#ed7953\"], [0.7777777777777778, \"#fb9f3a\"], [0.8888888888888888, \"#fdca26\"], [1.0, \"#f0f921\"]], \"type\": \"surface\"}], \"table\": [{\"cells\": {\"fill\": {\"color\": \"#EBF0F8\"}, \"line\": {\"color\": \"white\"}}, \"header\": {\"fill\": {\"color\": \"#C8D4E3\"}, \"line\": {\"color\": \"white\"}}, \"type\": \"table\"}]}, \"layout\": {\"annotationdefaults\": {\"arrowcolor\": \"#2a3f5f\", \"arrowhead\": 0, \"arrowwidth\": 1}, \"coloraxis\": {\"colorbar\": {\"outlinewidth\": 0, \"ticks\": \"\"}}, \"colorscale\": {\"diverging\": [[0, \"#8e0152\"], [0.1, \"#c51b7d\"], [0.2, \"#de77ae\"], [0.3, \"#f1b6da\"], [0.4, \"#fde0ef\"], [0.5, \"#f7f7f7\"], [0.6, \"#e6f5d0\"], [0.7, \"#b8e186\"], [0.8, \"#7fbc41\"], [0.9, \"#4d9221\"], [1, \"#276419\"]], \"sequential\": [[0.0, \"#0d0887\"], [0.1111111111111111, \"#46039f\"], [0.2222222222222222, \"#7201a8\"], [0.3333333333333333, \"#9c179e\"], [0.4444444444444444, \"#bd3786\"], [0.5555555555555556, \"#d8576b\"], [0.6666666666666666, \"#ed7953\"], [0.7777777777777778, \"#fb9f3a\"], [0.8888888888888888, \"#fdca26\"], [1.0, \"#f0f921\"]], \"sequentialminus\": [[0.0, \"#0d0887\"], [0.1111111111111111, \"#46039f\"], [0.2222222222222222, \"#7201a8\"], [0.3333333333333333, \"#9c179e\"], [0.4444444444444444, \"#bd3786\"], [0.5555555555555556, \"#d8576b\"], [0.6666666666666666, \"#ed7953\"], [0.7777777777777778, \"#fb9f3a\"], [0.8888888888888888, \"#fdca26\"], [1.0, \"#f0f921\"]]}, \"colorway\": [\"#636efa\", \"#EF553B\", \"#00cc96\", \"#ab63fa\", \"#FFA15A\", \"#19d3f3\", \"#FF6692\", \"#B6E880\", \"#FF97FF\", \"#FECB52\"], \"font\": {\"color\": \"#2a3f5f\"}, \"geo\": {\"bgcolor\": \"white\", \"lakecolor\": \"white\", \"landcolor\": \"#E5ECF6\", \"showlakes\": true, \"showland\": true, \"subunitcolor\": \"white\"}, \"hoverlabel\": {\"align\": \"left\"}, \"hovermode\": \"closest\", \"mapbox\": {\"style\": \"light\"}, \"paper_bgcolor\": \"white\", \"plot_bgcolor\": \"#E5ECF6\", \"polar\": {\"angularaxis\": {\"gridcolor\": \"white\", \"linecolor\": \"white\", \"ticks\": \"\"}, \"bgcolor\": \"#E5ECF6\", \"radialaxis\": {\"gridcolor\": \"white\", \"linecolor\": \"white\", \"ticks\": \"\"}}, \"scene\": {\"xaxis\": {\"backgroundcolor\": \"#E5ECF6\", \"gridcolor\": \"white\", \"gridwidth\": 2, \"linecolor\": \"white\", \"showbackground\": true, \"ticks\": \"\", \"zerolinecolor\": \"white\"}, \"yaxis\": {\"backgroundcolor\": \"#E5ECF6\", \"gridcolor\": \"white\", \"gridwidth\": 2, \"linecolor\": \"white\", \"showbackground\": true, \"ticks\": \"\", \"zerolinecolor\": \"white\"}, \"zaxis\": {\"backgroundcolor\": \"#E5ECF6\", \"gridcolor\": \"white\", \"gridwidth\": 2, \"linecolor\": \"white\", \"showbackground\": true, \"ticks\": \"\", \"zerolinecolor\": \"white\"}}, \"shapedefaults\": {\"line\": {\"color\": \"#2a3f5f\"}}, \"ternary\": {\"aaxis\": {\"gridcolor\": \"white\", \"linecolor\": \"white\", \"ticks\": \"\"}, \"baxis\": {\"gridcolor\": \"white\", \"linecolor\": \"white\", \"ticks\": \"\"}, \"bgcolor\": \"#E5ECF6\", \"caxis\": {\"gridcolor\": \"white\", \"linecolor\": \"white\", \"ticks\": \"\"}}, \"title\": {\"x\": 0.05}, \"xaxis\": {\"automargin\": true, \"gridcolor\": \"white\", \"linecolor\": \"white\", \"ticks\": \"\", \"title\": {\"standoff\": 15}, \"zerolinecolor\": \"white\", \"zerolinewidth\": 2}, \"yaxis\": {\"automargin\": true, \"gridcolor\": \"white\", \"linecolor\": \"white\", \"ticks\": \"\", \"title\": {\"standoff\": 15}, \"zerolinecolor\": \"white\", \"zerolinewidth\": 2}}}},\n",
       "                        {\"responsive\": true}\n",
       "                    ).then(function(){\n",
       "                            \n",
       "var gd = document.getElementById('1adc8723-0f84-4e72-9307-1cc405d8d904');\n",
       "var x = new MutationObserver(function (mutations, observer) {{\n",
       "        var display = window.getComputedStyle(gd).display;\n",
       "        if (!display || display === 'none') {{\n",
       "            console.log([gd, 'removed!']);\n",
       "            Plotly.purge(gd);\n",
       "            observer.disconnect();\n",
       "        }}\n",
       "}});\n",
       "\n",
       "// Listen for the removal of the full notebook cells\n",
       "var notebookContainer = gd.closest('#notebook-container');\n",
       "if (notebookContainer) {{\n",
       "    x.observe(notebookContainer, {childList: true});\n",
       "}}\n",
       "\n",
       "// Listen for the clearing of the current output cell\n",
       "var outputEl = gd.closest('.output');\n",
       "if (outputEl) {{\n",
       "    x.observe(outputEl, {childList: true});\n",
       "}}\n",
       "\n",
       "                        })\n",
       "                };\n",
       "                });\n",
       "            </script>\n",
       "        </div>"
      ]
     },
     "metadata": {},
     "output_type": "display_data"
    }
   ],
   "source": [
    "base_predictions_train = pd.DataFrame( {'RandomForest': rf_oof_train.ravel(),\n",
    "     'ExtraTrees': et_oof_train.ravel(),\n",
    "     'AdaBoost': ad_oof_train.ravel(),\n",
    "      'GradientBoost': gb_oof_train.ravel()\n",
    "    })\n",
    "base_predictions_train.head()\n",
    "\n",
    "data = [\n",
    "    go.Heatmap(\n",
    "        z= base_predictions_train.astype(float).corr().values ,\n",
    "        x=base_predictions_train.columns.values,\n",
    "        y= base_predictions_train.columns.values,\n",
    "          colorscale='Viridis',\n",
    "            showscale=True,\n",
    "            reversescale = True\n",
    "    )\n",
    "]\n",
    "py.iplot(data, filename='labelled-heatmap')"
   ]
  },
  {
   "cell_type": "markdown",
   "metadata": {},
   "source": [
    "### Final Training with XGBoost"
   ]
  },
  {
   "cell_type": "code",
   "execution_count": 54,
   "metadata": {},
   "outputs": [],
   "source": [
    "x_ensembled_train = np.concatenate(( et_oof_train, rf_oof_train, ad_oof_train, gb_oof_train), axis=1)\n",
    "x_ensembled_test = np.concatenate(( et_oof_test, rf_oof_test, ad_oof_test, gb_oof_test), axis=1)"
   ]
  },
  {
   "cell_type": "code",
   "execution_count": 55,
   "metadata": {},
   "outputs": [],
   "source": [
    "import xgboost as xgb\n",
    "\n",
    "gbm = xgb.XGBRegressor(\n",
    " learning_rate = 0.2, #0.2=0.1364, 0.5=0.1476, 1=0.1699\n",
    " n_estimators= 20, #20=0.1377, 50=0.1413, 100=0.1462, 200=0.1503, 500=0.1544, 5000=0.1552, \n",
    " max_depth= 4,\n",
    " min_child_weight= 4,\n",
    " #gamma=1,\n",
    " gamma=0.9, #0.9=0.1356                 \n",
    " subsample=0.8, #0.8\n",
    " colsample_bytree=0.8,\n",
    " objective= 'reg:squarederror',\n",
    " nthread= -1,\n",
    " scale_pos_weight=1 #1\n",
    ").fit(x_ensembled_train, y_ens_train)\n",
    "predictions = gbm.predict(x_ensembled_test)"
   ]
  },
  {
   "cell_type": "markdown",
   "metadata": {},
   "source": [
    "### Final evaluation"
   ]
  },
  {
   "cell_type": "code",
   "execution_count": 56,
   "metadata": {},
   "outputs": [
    {
     "name": "stdout",
     "output_type": "stream",
     "text": [
      "Evaluate = 0.13669131407055166\n"
     ]
    }
   ],
   "source": [
    "import xgboost as xgb\n",
    "\n",
    "gbm = xgb.XGBRegressor(\n",
    " learning_rate = 0.2, #0.2=0.1364, 0.5=0.1476, 1=0.1699\n",
    " n_estimators= 20, #20=0.1377, 50=0.1413, 100=0.1462, 200=0.1503, 500=0.1544, 5000=0.1552, \n",
    " max_depth= 4,\n",
    " min_child_weight= 4,\n",
    " #gamma=1,\n",
    " gamma=0.9, #0.9=0.1356                 \n",
    " subsample=0.8, #0.8\n",
    " colsample_bytree=0.8,\n",
    " objective= 'reg:squarederror',\n",
    " nthread= -1,\n",
    " scale_pos_weight=1 #1\n",
    ").fit(x_ensembled_train, y_ens_train)\n",
    "predictions = gbm.predict(x_ensembled_test)\n",
    "\n",
    "acc_eval = np.sqrt(mean_squared_log_error(Y_eval, predictions))\n",
    "print (f'Evaluate = {acc_eval}')"
   ]
  },
  {
   "cell_type": "markdown",
   "metadata": {},
   "source": [
    "### Output results"
   ]
  },
  {
   "cell_type": "code",
   "execution_count": 57,
   "metadata": {},
   "outputs": [],
   "source": [
    "# output = pd.DataFrame({'Id': test_df.Id, 'SalePrice': predictions})\n",
    "# output.to_csv('my_submission2.csv', index=False)"
   ]
  },
  {
   "cell_type": "code",
   "execution_count": null,
   "metadata": {},
   "outputs": [],
   "source": []
  }
 ],
 "metadata": {
  "kernelspec": {
   "display_name": "Python 3",
   "language": "python",
   "name": "python3"
  },
  "language_info": {
   "codemirror_mode": {
    "name": "ipython",
    "version": 3
   },
   "file_extension": ".py",
   "mimetype": "text/x-python",
   "name": "python",
   "nbconvert_exporter": "python",
   "pygments_lexer": "ipython3",
   "version": "3.7.6"
  }
 },
 "nbformat": 4,
 "nbformat_minor": 4
}
