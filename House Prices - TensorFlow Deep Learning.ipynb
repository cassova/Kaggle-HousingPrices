{
 "cells": [
  {
   "cell_type": "code",
   "execution_count": 67,
   "metadata": {},
   "outputs": [],
   "source": [
    "# Based on this article: https://www.tensorflow.org/tutorials/keras/regression#the_model\n",
    "\n",
    "# How to use GPU: https://www.tensorflow.org/install/gpu#hardware_requirements\n",
    "\n",
    "import numpy as np\n",
    "import pandas as pd\n",
    "from sklearn.metrics import mean_squared_log_error\n",
    "\n",
    "train_df_full = pd.read_csv(\"new_train_1h.csv\")\n",
    "test_df = pd.read_csv(\"new_test_1h.csv\")"
   ]
  },
  {
   "cell_type": "code",
   "execution_count": 68,
   "metadata": {},
   "outputs": [],
   "source": [
    "train_df = train_df_full.sample(frac=0.6,random_state=200)\n",
    "evaluate_df = train_df_full.drop(train_df.index)\n",
    "\n",
    "X_train = train_df.drop(['Id','SalePrice'], axis=1)\n",
    "Y_train = train_df[\"SalePrice\"]\n",
    "X_train_full = train_df_full.drop(['Id','SalePrice'], axis=1)\n",
    "Y_train_full = train_df_full[\"SalePrice\"]\n",
    "X_eval  = evaluate_df.drop(['Id','SalePrice'], axis=1)\n",
    "Y_eval  = evaluate_df[\"SalePrice\"]\n",
    "X_test = test_df.drop('Id', axis=1)"
   ]
  },
  {
   "cell_type": "code",
   "execution_count": 69,
   "metadata": {},
   "outputs": [],
   "source": [
    "import matplotlib.pyplot as plt\n",
    "\n",
    "import tensorflow as tf\n",
    "from tensorflow import keras\n",
    "from tensorflow.keras import layers\n",
    "import tensorflow_docs as tfdocs\n",
    "import tensorflow_docs.plots\n",
    "import tensorflow_docs.modeling"
   ]
  },
  {
   "cell_type": "code",
   "execution_count": 70,
   "metadata": {},
   "outputs": [
    {
     "data": {
      "text/html": [
       "<div>\n",
       "<style scoped>\n",
       "    .dataframe tbody tr th:only-of-type {\n",
       "        vertical-align: middle;\n",
       "    }\n",
       "\n",
       "    .dataframe tbody tr th {\n",
       "        vertical-align: top;\n",
       "    }\n",
       "\n",
       "    .dataframe thead th {\n",
       "        text-align: right;\n",
       "    }\n",
       "</style>\n",
       "<table border=\"1\" class=\"dataframe\">\n",
       "  <thead>\n",
       "    <tr style=\"text-align: right;\">\n",
       "      <th></th>\n",
       "      <th>LotFrontage</th>\n",
       "      <th>LotArea</th>\n",
       "      <th>OverallQual</th>\n",
       "      <th>OverallCond</th>\n",
       "      <th>MasVnrArea</th>\n",
       "      <th>ExterQual</th>\n",
       "      <th>ExterCond</th>\n",
       "      <th>BsmtQual</th>\n",
       "      <th>BsmtCond</th>\n",
       "      <th>BsmtExposure</th>\n",
       "      <th>...</th>\n",
       "      <th>GarageFinish_2</th>\n",
       "      <th>GarageFinish_3</th>\n",
       "      <th>GarageType_1</th>\n",
       "      <th>GarageType_2</th>\n",
       "      <th>GarageType_3</th>\n",
       "      <th>GarageType_4</th>\n",
       "      <th>Foundation_1</th>\n",
       "      <th>Foundation_2</th>\n",
       "      <th>Foundation_3</th>\n",
       "      <th>Foundation_4</th>\n",
       "    </tr>\n",
       "  </thead>\n",
       "  <tbody>\n",
       "    <tr>\n",
       "      <th>0</th>\n",
       "      <td>0.216038</td>\n",
       "      <td>-0.217841</td>\n",
       "      <td>0.666667</td>\n",
       "      <td>0.500</td>\n",
       "      <td>0.12250</td>\n",
       "      <td>0.75</td>\n",
       "      <td>0.5</td>\n",
       "      <td>0.75</td>\n",
       "      <td>0.50</td>\n",
       "      <td>0.25</td>\n",
       "      <td>...</td>\n",
       "      <td>1</td>\n",
       "      <td>0</td>\n",
       "      <td>0</td>\n",
       "      <td>0</td>\n",
       "      <td>1</td>\n",
       "      <td>0</td>\n",
       "      <td>0</td>\n",
       "      <td>0</td>\n",
       "      <td>0</td>\n",
       "      <td>1</td>\n",
       "    </tr>\n",
       "    <tr>\n",
       "      <th>1</th>\n",
       "      <td>0.664045</td>\n",
       "      <td>-0.072032</td>\n",
       "      <td>0.555556</td>\n",
       "      <td>0.875</td>\n",
       "      <td>0.00000</td>\n",
       "      <td>0.50</td>\n",
       "      <td>0.5</td>\n",
       "      <td>0.75</td>\n",
       "      <td>0.50</td>\n",
       "      <td>1.00</td>\n",
       "      <td>...</td>\n",
       "      <td>1</td>\n",
       "      <td>0</td>\n",
       "      <td>0</td>\n",
       "      <td>0</td>\n",
       "      <td>1</td>\n",
       "      <td>0</td>\n",
       "      <td>0</td>\n",
       "      <td>1</td>\n",
       "      <td>0</td>\n",
       "      <td>0</td>\n",
       "    </tr>\n",
       "    <tr>\n",
       "      <th>2</th>\n",
       "      <td>0.305639</td>\n",
       "      <td>0.137173</td>\n",
       "      <td>0.666667</td>\n",
       "      <td>0.500</td>\n",
       "      <td>0.10125</td>\n",
       "      <td>0.75</td>\n",
       "      <td>0.5</td>\n",
       "      <td>0.75</td>\n",
       "      <td>0.50</td>\n",
       "      <td>0.50</td>\n",
       "      <td>...</td>\n",
       "      <td>1</td>\n",
       "      <td>0</td>\n",
       "      <td>0</td>\n",
       "      <td>0</td>\n",
       "      <td>1</td>\n",
       "      <td>0</td>\n",
       "      <td>0</td>\n",
       "      <td>0</td>\n",
       "      <td>0</td>\n",
       "      <td>1</td>\n",
       "    </tr>\n",
       "    <tr>\n",
       "      <th>3</th>\n",
       "      <td>0.066702</td>\n",
       "      <td>-0.078371</td>\n",
       "      <td>0.666667</td>\n",
       "      <td>0.500</td>\n",
       "      <td>0.00000</td>\n",
       "      <td>0.50</td>\n",
       "      <td>0.5</td>\n",
       "      <td>0.50</td>\n",
       "      <td>0.75</td>\n",
       "      <td>0.25</td>\n",
       "      <td>...</td>\n",
       "      <td>0</td>\n",
       "      <td>0</td>\n",
       "      <td>1</td>\n",
       "      <td>0</td>\n",
       "      <td>0</td>\n",
       "      <td>0</td>\n",
       "      <td>1</td>\n",
       "      <td>0</td>\n",
       "      <td>0</td>\n",
       "      <td>0</td>\n",
       "    </tr>\n",
       "    <tr>\n",
       "      <th>4</th>\n",
       "      <td>0.783513</td>\n",
       "      <td>0.518814</td>\n",
       "      <td>0.777778</td>\n",
       "      <td>0.500</td>\n",
       "      <td>0.21875</td>\n",
       "      <td>0.75</td>\n",
       "      <td>0.5</td>\n",
       "      <td>0.75</td>\n",
       "      <td>0.50</td>\n",
       "      <td>0.75</td>\n",
       "      <td>...</td>\n",
       "      <td>1</td>\n",
       "      <td>0</td>\n",
       "      <td>0</td>\n",
       "      <td>0</td>\n",
       "      <td>1</td>\n",
       "      <td>0</td>\n",
       "      <td>0</td>\n",
       "      <td>0</td>\n",
       "      <td>0</td>\n",
       "      <td>1</td>\n",
       "    </tr>\n",
       "  </tbody>\n",
       "</table>\n",
       "<p>5 rows × 101 columns</p>\n",
       "</div>"
      ],
      "text/plain": [
       "   LotFrontage   LotArea  OverallQual  OverallCond  MasVnrArea  ExterQual  \\\n",
       "0     0.216038 -0.217841     0.666667        0.500     0.12250       0.75   \n",
       "1     0.664045 -0.072032     0.555556        0.875     0.00000       0.50   \n",
       "2     0.305639  0.137173     0.666667        0.500     0.10125       0.75   \n",
       "3     0.066702 -0.078371     0.666667        0.500     0.00000       0.50   \n",
       "4     0.783513  0.518814     0.777778        0.500     0.21875       0.75   \n",
       "\n",
       "   ExterCond  BsmtQual  BsmtCond  BsmtExposure  ...  GarageFinish_2  \\\n",
       "0        0.5      0.75      0.50          0.25  ...               1   \n",
       "1        0.5      0.75      0.50          1.00  ...               1   \n",
       "2        0.5      0.75      0.50          0.50  ...               1   \n",
       "3        0.5      0.50      0.75          0.25  ...               0   \n",
       "4        0.5      0.75      0.50          0.75  ...               1   \n",
       "\n",
       "   GarageFinish_3  GarageType_1  GarageType_2  GarageType_3  GarageType_4  \\\n",
       "0               0             0             0             1             0   \n",
       "1               0             0             0             1             0   \n",
       "2               0             0             0             1             0   \n",
       "3               0             1             0             0             0   \n",
       "4               0             0             0             1             0   \n",
       "\n",
       "   Foundation_1  Foundation_2  Foundation_3  Foundation_4  \n",
       "0             0             0             0             1  \n",
       "1             0             1             0             0  \n",
       "2             0             0             0             1  \n",
       "3             1             0             0             0  \n",
       "4             0             0             0             1  \n",
       "\n",
       "[5 rows x 101 columns]"
      ]
     },
     "execution_count": 70,
     "metadata": {},
     "output_type": "execute_result"
    }
   ],
   "source": [
    "X_train_full.head()"
   ]
  },
  {
   "cell_type": "code",
   "execution_count": 71,
   "metadata": {},
   "outputs": [],
   "source": [
    "def rmsle_K(y, y0):\n",
    "    return K.sqrt(K.mean(K.square(tf.log1p(y) - tf.log1p(y0))))"
   ]
  },
  {
   "cell_type": "code",
   "execution_count": 72,
   "metadata": {},
   "outputs": [],
   "source": [
    "def build_model():\n",
    "    model = keras.Sequential([\n",
    "        layers.Dense(1000, activation='relu', input_shape=[len(X_train_full.keys())]),\n",
    "        layers.Dense(1000, activation='relu'),\n",
    "        layers.Dense(1)\n",
    "    ])\n",
    "\n",
    "    optimizer = tf.keras.optimizers.RMSprop(0.001)\n",
    "\n",
    "    model.compile(loss='mse',\n",
    "                optimizer=optimizer,\n",
    "                metrics=['mae', 'mse', 'MeanSquaredLogarithmicError'])\n",
    "    return model\n",
    "\n",
    "model = build_model()"
   ]
  },
  {
   "cell_type": "code",
   "execution_count": 73,
   "metadata": {},
   "outputs": [
    {
     "name": "stdout",
     "output_type": "stream",
     "text": [
      "Model: \"sequential_4\"\n",
      "_________________________________________________________________\n",
      "Layer (type)                 Output Shape              Param #   \n",
      "=================================================================\n",
      "dense_14 (Dense)             (None, 1000)              102000    \n",
      "_________________________________________________________________\n",
      "dense_15 (Dense)             (None, 1000)              1001000   \n",
      "_________________________________________________________________\n",
      "dense_16 (Dense)             (None, 1)                 1001      \n",
      "=================================================================\n",
      "Total params: 1,104,001\n",
      "Trainable params: 1,104,001\n",
      "Non-trainable params: 0\n",
      "_________________________________________________________________\n"
     ]
    }
   ],
   "source": [
    "model.summary()"
   ]
  },
  {
   "cell_type": "code",
   "execution_count": 74,
   "metadata": {},
   "outputs": [
    {
     "name": "stdout",
     "output_type": "stream",
     "text": [
      "\n",
      "Epoch: 0, loss:38747779072.0000,  mae:179994.2969,  mean_squared_logarithmic_error:35.1650,  mse:38747779072.0000,  val_loss:34152411136.0000,  val_mae:170828.2812,  val_mean_squared_logarithmic_error:13.2780,  val_mse:34152411136.0000,  \n",
      "....................................................................................................\n",
      "Epoch: 100, loss:873841984.0000,  mae:16163.8047,  mean_squared_logarithmic_error:0.0171,  mse:873841984.0000,  val_loss:573372288.0000,  val_mae:16224.6768,  val_mean_squared_logarithmic_error:0.0181,  val_mse:573372288.0000,  \n",
      "....................................................................................................\n",
      "Epoch: 200, loss:804111744.0000,  mae:15257.7637,  mean_squared_logarithmic_error:0.0154,  mse:804111744.0000,  val_loss:569718464.0000,  val_mae:15728.5391,  val_mean_squared_logarithmic_error:0.0181,  val_mse:569718464.0000,  \n",
      "....................................................................................................\n",
      "Epoch: 300, loss:737612736.0000,  mae:14664.7959,  mean_squared_logarithmic_error:0.0144,  mse:737612736.0000,  val_loss:652535808.0000,  val_mae:16719.7637,  val_mean_squared_logarithmic_error:0.0205,  val_mse:652535808.0000,  \n",
      "....................................................................................................\n",
      "Epoch: 400, loss:717234048.0000,  mae:14074.6641,  mean_squared_logarithmic_error:0.0140,  mse:717234048.0000,  val_loss:637496640.0000,  val_mae:16096.8594,  val_mean_squared_logarithmic_error:0.0198,  val_mse:637496640.0000,  \n",
      "....................................................................................................\n",
      "Epoch: 500, loss:627230016.0000,  mae:13911.9600,  mean_squared_logarithmic_error:0.0134,  mse:627230016.0000,  val_loss:679998976.0000,  val_mae:16399.8320,  val_mean_squared_logarithmic_error:0.0207,  val_mse:679998976.0000,  \n",
      "....................................................................................................\n",
      "Epoch: 600, loss:557621952.0000,  mae:13498.7578,  mean_squared_logarithmic_error:0.0126,  mse:557621952.0000,  val_loss:677417408.0000,  val_mae:15758.5479,  val_mean_squared_logarithmic_error:0.0197,  val_mse:677417408.0000,  \n",
      "....................................................................................................\n",
      "Epoch: 700, loss:470320352.0000,  mae:12646.8789,  mean_squared_logarithmic_error:0.0115,  mse:470320352.0000,  val_loss:750497216.0000,  val_mae:16228.7139,  val_mean_squared_logarithmic_error:0.0202,  val_mse:750497216.0000,  \n",
      "....................................................................................................\n",
      "Epoch: 800, loss:375500352.0000,  mae:11847.0693,  mean_squared_logarithmic_error:0.0100,  mse:375500352.0000,  val_loss:851591232.0000,  val_mae:17050.5859,  val_mean_squared_logarithmic_error:0.0222,  val_mse:851591232.0000,  \n",
      "....................................................................................................\n",
      "Epoch: 900, loss:292103936.0000,  mae:10751.2988,  mean_squared_logarithmic_error:0.0085,  mse:292103936.0000,  val_loss:848097088.0000,  val_mae:18239.8672,  val_mean_squared_logarithmic_error:0.0218,  val_mse:848097088.0000,  \n",
      "...................................................................................................."
     ]
    }
   ],
   "source": [
    "EPOCHS = 1000\n",
    "\n",
    "early_stop = keras.callbacks.EarlyStopping(monitor='val_mean_squared_logarithmic_error', patience=100)\n",
    "\n",
    "history = model.fit(\n",
    "  X_train_full, Y_train_full,\n",
    "  epochs=EPOCHS, validation_split = 0.1, verbose=0,\n",
    "  callbacks=[tfdocs.modeling.EpochDots()])\n",
    "  #callbacks=[early_stop, tfdocs.modeling.EpochDots()])"
   ]
  },
  {
   "cell_type": "code",
   "execution_count": 75,
   "metadata": {},
   "outputs": [
    {
     "data": {
      "text/html": [
       "<div>\n",
       "<style scoped>\n",
       "    .dataframe tbody tr th:only-of-type {\n",
       "        vertical-align: middle;\n",
       "    }\n",
       "\n",
       "    .dataframe tbody tr th {\n",
       "        vertical-align: top;\n",
       "    }\n",
       "\n",
       "    .dataframe thead th {\n",
       "        text-align: right;\n",
       "    }\n",
       "</style>\n",
       "<table border=\"1\" class=\"dataframe\">\n",
       "  <thead>\n",
       "    <tr style=\"text-align: right;\">\n",
       "      <th></th>\n",
       "      <th>loss</th>\n",
       "      <th>mae</th>\n",
       "      <th>mse</th>\n",
       "      <th>mean_squared_logarithmic_error</th>\n",
       "      <th>val_loss</th>\n",
       "      <th>val_mae</th>\n",
       "      <th>val_mse</th>\n",
       "      <th>val_mean_squared_logarithmic_error</th>\n",
       "      <th>epoch</th>\n",
       "      <th>rmsle</th>\n",
       "      <th>val_rmsle</th>\n",
       "    </tr>\n",
       "  </thead>\n",
       "  <tbody>\n",
       "    <tr>\n",
       "      <th>995</th>\n",
       "      <td>225988624.0</td>\n",
       "      <td>9861.913086</td>\n",
       "      <td>225988624.0</td>\n",
       "      <td>0.007054</td>\n",
       "      <td>935585728.0</td>\n",
       "      <td>18374.125000</td>\n",
       "      <td>935585728.0</td>\n",
       "      <td>0.023991</td>\n",
       "      <td>995</td>\n",
       "      <td>0.083991</td>\n",
       "      <td>0.154889</td>\n",
       "    </tr>\n",
       "    <tr>\n",
       "      <th>996</th>\n",
       "      <td>214662144.0</td>\n",
       "      <td>9808.887695</td>\n",
       "      <td>214662144.0</td>\n",
       "      <td>0.007053</td>\n",
       "      <td>936332288.0</td>\n",
       "      <td>19214.437500</td>\n",
       "      <td>936332288.0</td>\n",
       "      <td>0.023686</td>\n",
       "      <td>996</td>\n",
       "      <td>0.083984</td>\n",
       "      <td>0.153902</td>\n",
       "    </tr>\n",
       "    <tr>\n",
       "      <th>997</th>\n",
       "      <td>227892832.0</td>\n",
       "      <td>9958.124023</td>\n",
       "      <td>227892832.0</td>\n",
       "      <td>0.007120</td>\n",
       "      <td>968989248.0</td>\n",
       "      <td>18870.296875</td>\n",
       "      <td>968989248.0</td>\n",
       "      <td>0.025128</td>\n",
       "      <td>997</td>\n",
       "      <td>0.084381</td>\n",
       "      <td>0.158518</td>\n",
       "    </tr>\n",
       "    <tr>\n",
       "      <th>998</th>\n",
       "      <td>225111040.0</td>\n",
       "      <td>9865.747070</td>\n",
       "      <td>225111040.0</td>\n",
       "      <td>0.007097</td>\n",
       "      <td>957860928.0</td>\n",
       "      <td>18550.669922</td>\n",
       "      <td>957860928.0</td>\n",
       "      <td>0.024487</td>\n",
       "      <td>998</td>\n",
       "      <td>0.084245</td>\n",
       "      <td>0.156483</td>\n",
       "    </tr>\n",
       "    <tr>\n",
       "      <th>999</th>\n",
       "      <td>224970304.0</td>\n",
       "      <td>9728.670898</td>\n",
       "      <td>224970304.0</td>\n",
       "      <td>0.007113</td>\n",
       "      <td>967509632.0</td>\n",
       "      <td>18795.029297</td>\n",
       "      <td>967509632.0</td>\n",
       "      <td>0.024953</td>\n",
       "      <td>999</td>\n",
       "      <td>0.084336</td>\n",
       "      <td>0.157967</td>\n",
       "    </tr>\n",
       "  </tbody>\n",
       "</table>\n",
       "</div>"
      ],
      "text/plain": [
       "            loss          mae          mse  mean_squared_logarithmic_error  \\\n",
       "995  225988624.0  9861.913086  225988624.0                        0.007054   \n",
       "996  214662144.0  9808.887695  214662144.0                        0.007053   \n",
       "997  227892832.0  9958.124023  227892832.0                        0.007120   \n",
       "998  225111040.0  9865.747070  225111040.0                        0.007097   \n",
       "999  224970304.0  9728.670898  224970304.0                        0.007113   \n",
       "\n",
       "        val_loss       val_mae      val_mse  \\\n",
       "995  935585728.0  18374.125000  935585728.0   \n",
       "996  936332288.0  19214.437500  936332288.0   \n",
       "997  968989248.0  18870.296875  968989248.0   \n",
       "998  957860928.0  18550.669922  957860928.0   \n",
       "999  967509632.0  18795.029297  967509632.0   \n",
       "\n",
       "     val_mean_squared_logarithmic_error  epoch     rmsle  val_rmsle  \n",
       "995                            0.023991    995  0.083991   0.154889  \n",
       "996                            0.023686    996  0.083984   0.153902  \n",
       "997                            0.025128    997  0.084381   0.158518  \n",
       "998                            0.024487    998  0.084245   0.156483  \n",
       "999                            0.024953    999  0.084336   0.157967  "
      ]
     },
     "execution_count": 75,
     "metadata": {},
     "output_type": "execute_result"
    }
   ],
   "source": [
    "hist = pd.DataFrame(history.history)\n",
    "hist['epoch'] = history.epoch\n",
    "hist['rmsle'] = np.sqrt(hist['mean_squared_logarithmic_error'])\n",
    "hist['val_rmsle'] = np.sqrt(hist['val_mean_squared_logarithmic_error'])\n",
    "hist.tail()"
   ]
  },
  {
   "cell_type": "code",
   "execution_count": 76,
   "metadata": {},
   "outputs": [
    {
     "data": {
      "text/plain": [
       "999    0.007113\n",
       "Name: mean_squared_logarithmic_error, dtype: float64"
      ]
     },
     "execution_count": 76,
     "metadata": {},
     "output_type": "execute_result"
    }
   ],
   "source": [
    "hist.tail(1)['mean_squared_logarithmic_error']"
   ]
  },
  {
   "cell_type": "code",
   "execution_count": 77,
   "metadata": {},
   "outputs": [
    {
     "data": {
      "text/plain": [
       "Text(0, 0.5, 'MSLE')"
      ]
     },
     "execution_count": 77,
     "metadata": {},
     "output_type": "execute_result"
    },
    {
     "data": {
      "image/png": "[encoded data removed]",
      "text/plain": [
       "<Figure size 432x288 with 1 Axes>"
      ]
     },
     "metadata": {
      "needs_background": "light"
     },
     "output_type": "display_data"
    }
   ],
   "source": [
    "plotter = tfdocs.plots.HistoryPlotter(smoothing_std=2)\n",
    "plotter.plot({'Basic': history}, metric = \"mean_squared_logarithmic_error\")\n",
    "plt.ylim([0, 0.2])\n",
    "plt.ylabel('MSLE')\n",
    "\n",
    "#print (f'Test RMSLE: {np.sqrt(hist.tail(1)['mean_squared_logarithmic_error'])}')"
   ]
  },
  {
   "cell_type": "code",
   "execution_count": 78,
   "metadata": {},
   "outputs": [
    {
     "name": "stdout",
     "output_type": "stream",
     "text": [
      "46/46 - 0s - loss: 295835744.0000 - mae: 10824.3633 - mse: 295835744.0000 - mean_squared_logarithmic_error: 0.0091\n",
      "\n",
      "Final RMSLE on full training set: 0.09525302708219874\n"
     ]
    }
   ],
   "source": [
    "final_rmsle = np.sqrt(model.evaluate(X_train_full, Y_train_full, verbose=2)[3])\n",
    "print (f'\\nFinal RMSLE on full training set: {final_rmsle}')"
   ]
  },
  {
   "cell_type": "code",
   "execution_count": 79,
   "metadata": {},
   "outputs": [
    {
     "data": {
      "image/png": "[encoded data removed]",
      "text/plain": [
       "<Figure size 432x288 with 1 Axes>"
      ]
     },
     "metadata": {
      "needs_background": "light"
     },
     "output_type": "display_data"
    }
   ],
   "source": [
    "test_predictions = model.predict(X_train_full).flatten()\n",
    "\n",
    "a = plt.axes(aspect='equal')\n",
    "plt.scatter(Y_train_full, test_predictions)\n",
    "plt.xlabel('True Values [MPG]')\n",
    "plt.ylabel('Predictions [MPG]')\n",
    "lims = [0, 1000000]\n",
    "plt.xlim(lims)\n",
    "plt.ylim(lims)\n",
    "_ = plt.plot(lims, lims)"
   ]
  },
  {
   "cell_type": "code",
   "execution_count": 80,
   "metadata": {},
   "outputs": [
    {
     "data": {
      "text/plain": [
       "True"
      ]
     },
     "execution_count": 80,
     "metadata": {},
     "output_type": "execute_result"
    }
   ],
   "source": [
    "tf.test.is_built_with_cuda()"
   ]
  },
  {
   "cell_type": "code",
   "execution_count": 81,
   "metadata": {},
   "outputs": [
    {
     "data": {
      "text/plain": [
       "[PhysicalDevice(name='/physical_device:GPU:0', device_type='GPU')]"
      ]
     },
     "execution_count": 81,
     "metadata": {},
     "output_type": "execute_result"
    }
   ],
   "source": [
    "tf.config.list_physical_devices('GPU')"
   ]
  },
  {
   "cell_type": "code",
   "execution_count": null,
   "metadata": {},
   "outputs": [],
   "source": []
  }
 ],
 "metadata": {
  "kernelspec": {
   "display_name": "Python 3",
   "language": "python",
   "name": "python3"
  },
  "language_info": {
   "codemirror_mode": {
    "name": "ipython",
    "version": 3
   },
   "file_extension": ".py",
   "mimetype": "text/x-python",
   "name": "python",
   "nbconvert_exporter": "python",
   "pygments_lexer": "ipython3",
   "version": "3.7.6"
  }
 },
 "nbformat": 4,
 "nbformat_minor": 4
}
