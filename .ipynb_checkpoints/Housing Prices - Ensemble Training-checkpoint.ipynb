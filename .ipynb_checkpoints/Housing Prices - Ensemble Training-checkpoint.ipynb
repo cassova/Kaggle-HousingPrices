{
 "cells": [
  {
   "cell_type": "code",
   "execution_count": 2,
   "metadata": {},
   "outputs": [],
   "source": [
    "import numpy as np\n",
    "import pandas as pd\n",
    "from sklearn.metrics import mean_squared_log_error\n",
    "\n",
    "train_df_full = pd.read_csv(\"new_train_1h.csv\")\n",
    "test_df = pd.read_csv(\"new_test_1h.csv\")"
   ]
  },
  {
   "cell_type": "code",
   "execution_count": 3,
   "metadata": {},
   "outputs": [],
   "source": [
    "train_df = train_df_full.sample(frac=0.6,random_state=200)\n",
    "evaluate_df = train_df_full.drop(train_df.index)\n",
    "\n",
    "X_train = train_df.drop(['Id','SalePrice'], axis=1)\n",
    "Y_train = train_df[\"SalePrice\"]\n",
    "X_train_full = train_df_full.drop(['Id','SalePrice'], axis=1)\n",
    "Y_train_full = train_df_full[\"SalePrice\"]\n",
    "X_eval  = evaluate_df.drop(['Id','SalePrice'], axis=1)\n",
    "Y_eval  = evaluate_df[\"SalePrice\"]\n",
    "X_test = test_df.drop('Id', axis=1)"
   ]
  },
  {
   "cell_type": "markdown",
   "metadata": {},
   "source": [
    "## Ensemble NFOLDS cross-validation and XGBoost"
   ]
  },
  {
   "cell_type": "code",
   "execution_count": 4,
   "metadata": {},
   "outputs": [],
   "source": [
    "X_ens_train = X_train\n",
    "y_ens_train = Y_train\n",
    "X_ens_test = X_eval\n",
    "\n",
    "# X_ens_train = X_train_full\n",
    "# y_ens_train = Y_train_full\n",
    "# X_ens_test = X_test"
   ]
  },
  {
   "cell_type": "code",
   "execution_count": 5,
   "metadata": {},
   "outputs": [],
   "source": [
    "from sklearn.model_selection import KFold\n",
    "from sklearn.ensemble import RandomForestRegressor\n",
    "from sklearn.ensemble import GradientBoostingRegressor\n",
    "from sklearn.ensemble import ExtraTreesRegressor\n",
    "from sklearn.ensemble import AdaBoostRegressor\n",
    "\n",
    "ntrain = X_ens_train.shape[0]\n",
    "ntest = X_ens_test.shape[0]\n",
    "num_folds = 5\n",
    "seed = 300\n",
    "num_est = 100\n",
    "\n",
    "kf = KFold(n_splits=num_folds, random_state=seed, shuffle=True)\n",
    "\n",
    "class SklearnHelper(object):\n",
    "    def __init__(self, clf, seed=0, params=None):\n",
    "        params['random_state'] = seed\n",
    "        self.clf = clf(**params)\n",
    "\n",
    "    def train(self, x_train, y_train):\n",
    "        self.clf.fit(x_train, y_train)\n",
    "\n",
    "    def predict(self, x):\n",
    "        return self.clf.predict(x)\n",
    "    \n",
    "    def fit(self,x,y):\n",
    "        return self.clf.fit(x,y)\n",
    "    \n",
    "    def feature_importances(self,x,y):\n",
    "        return self.clf.fit(x,y).feature_importances_\n",
    "#         print(self.clf.fit(x,y).feature_importances_)\n",
    "\n",
    "\n",
    "def get_oof(clf, x_train, y_train, x_test):\n",
    "    oof_train = np.zeros((ntrain,))\n",
    "    oof_test = np.zeros((ntest,))\n",
    "    oof_test_skf = np.empty((num_folds, ntest))\n",
    "\n",
    "    for i, (train_index, test_index) in enumerate(kf.split(x_train)):\n",
    "#         x_tr = x_train[train_index]\n",
    "#         y_tr = y_train[train_index]\n",
    "#         x_te = x_train[test_index]\n",
    "        x_tr = x_train.iloc[list(train_index)]\n",
    "        y_tr = y_train.iloc[list(train_index)]\n",
    "        x_te = x_train.iloc[list(test_index)]\n",
    "\n",
    "        clf.train(x_tr, y_tr)\n",
    "\n",
    "        oof_train[test_index] = clf.predict(x_te)\n",
    "        oof_test_skf[i, :] = clf.predict(x_test)\n",
    "\n",
    "    oof_test[:] = oof_test_skf.mean(axis=0)\n",
    "    return oof_train.reshape(-1, 1), oof_test.reshape(-1, 1)\n",
    "\n",
    "rf_params = {\n",
    "    'n_jobs': 10,\n",
    "    'n_estimators': 2000, #100 = .1449, 1000= .1443 , 2000= .1440\n",
    "    #'warm_start': True, \n",
    "    'max_features': 0.3, #na = .1543, 0.3= .1464\n",
    "    'max_depth': 15, #na = .1464, 10 = 0.1463, 20 = .1461, 15 = 0.1449\n",
    "    #'min_samples_leaf': 1, #na = 0.1449\n",
    "    #'max_features' : 'sqrt',\n",
    "    #'verbose': 0\n",
    "}\n",
    "\n",
    "# Extra Trees Parameters\n",
    "et_params = {\n",
    "    #'n_jobs': -1,\n",
    "    'n_estimators':60,\n",
    "    #'max_features': 0.9,\n",
    "    'max_depth': 10,\n",
    "    #'min_samples_leaf': 4,\n",
    "    #'verbose': 1\n",
    "}\n",
    "\n",
    "# AdaBoost parameters\n",
    "ad_params = {\n",
    "    'n_estimators': 100, #100 = 0.1799\n",
    "    #learning_rate' : 3 #na = 0.1799, 0.75=0.182\n",
    "}\n",
    "\n",
    "# Gradient Boosting parameters\n",
    "gb_params = {\n",
    "    'n_estimators': 500, #100 = 0.1442, 200 = 0.1415, 500 = 0.1407, 1000 = 0.1409\n",
    "    'max_features': 0.3, #0.2 = 0.1371, 0.3 = 0.1344, 0.4 = 0.1358\n",
    "    #'max_depth': 3,\n",
    "    #'min_samples_leaf': 5,\n",
    "    #'verbose': 0\n",
    "}\n",
    "\n",
    "\n",
    "rf = SklearnHelper(clf=RandomForestRegressor, seed=seed, params=rf_params)\n",
    "et = SklearnHelper(clf=ExtraTreesRegressor, seed=seed, params=et_params)\n",
    "ad = SklearnHelper(clf=AdaBoostRegressor, seed=seed, params=ad_params)\n",
    "gb = SklearnHelper(clf=GradientBoostingRegressor, seed=seed, params=gb_params)"
   ]
  },
  {
   "cell_type": "code",
   "execution_count": 51,
   "metadata": {},
   "outputs": [
    {
     "name": "stdout",
     "output_type": "stream",
     "text": [
      "ET: Train = 0.06467121654299288  Evaluate = 0.13891683138427205\n"
     ]
    }
   ],
   "source": [
    "# et_params = {\n",
    "#     #'n_jobs': -1,\n",
    "#     'n_estimators':60,\n",
    "#     #'max_features': 0.9,\n",
    "#     'max_depth': 10,\n",
    "#     #'min_samples_leaf': 4,\n",
    "#     #'verbose': 1\n",
    "# }\n",
    "\n",
    "# et = SklearnHelper(clf=ExtraTreesRegressor, seed=seed, params=et_params)\n",
    "# et_oof_train, et_oof_test = get_oof(et, X_ens_train, y_ens_train, X_ens_test) # Extra Trees\n",
    "# acc_train = np.sqrt(mean_squared_log_error(y_ens_train, et.predict(X_ens_train)))\n",
    "# acc_eval = np.sqrt(mean_squared_log_error(Y_eval, et.predict(X_ens_test)))\n",
    "# print (f'ET: Train = {acc_train}  Evaluate = {acc_eval}')"
   ]
  },
  {
   "cell_type": "code",
   "execution_count": 123,
   "metadata": {},
   "outputs": [
    {
     "name": "stdout",
     "output_type": "stream",
     "text": [
      "RF: Train = 0.07722987165549085  Evaluate = 0.144004087897584\n"
     ]
    }
   ],
   "source": [
    "# rf_params = {\n",
    "#     'n_jobs': 10,\n",
    "#     'n_estimators': 2000, #100 = .1449, 1000= .1443 , 2000= .1440\n",
    "#     #'warm_start': True, \n",
    "#     'max_features': 0.3, #na = .1543, 0.3= .1464\n",
    "#     'max_depth': 15, #na = .1464, 10 = 0.1463, 20 = .1461, 15 = 0.1449\n",
    "#     #'min_samples_leaf': 1, #na = 0.1449\n",
    "#     #'max_features' : 'sqrt',\n",
    "#     #'verbose': 0\n",
    "# }\n",
    "\n",
    "# rf = SklearnHelper(clf=RandomForestRegressor, seed=seed, params=rf_params)\n",
    "\n",
    "# rf_oof_train, rf_oof_test = get_oof(rf, X_ens_train, y_ens_train, X_ens_test) # Random Forest\n",
    "# acc_train = np.sqrt(mean_squared_log_error(y_ens_train, rf.predict(X_ens_train)))\n",
    "# acc_eval = np.sqrt(mean_squared_log_error(Y_eval, rf.predict(X_ens_test)))\n",
    "# print (f'RF: Train = {acc_train}  Evaluate = {acc_eval}')"
   ]
  },
  {
   "cell_type": "code",
   "execution_count": 8,
   "metadata": {},
   "outputs": [
    {
     "name": "stdout",
     "output_type": "stream",
     "text": [
      "AD: Train = 0.1526778579621914  Evaluate = 0.1799800014361528\n"
     ]
    }
   ],
   "source": [
    "# ad_params = {\n",
    "#     'n_estimators': 100, #100 = 0.1799\n",
    "#     #learning_rate' : 3 #na = 0.1799, 0.75=0.182\n",
    "# }\n",
    "\n",
    "# ad = SklearnHelper(clf=AdaBoostRegressor, seed=seed, params=ad_params)\n",
    "\n",
    "# ad_oof_train, ad_oof_test = get_oof(ad, X_ens_train, y_ens_train, X_ens_test) # AdaBoost\n",
    "# acc_train = np.sqrt(mean_squared_log_error(y_ens_train, ad.predict(X_ens_train)))\n",
    "# acc_eval = np.sqrt(mean_squared_log_error(Y_eval, ad.predict(X_ens_test)))\n",
    "# print (f'AD: Train = {acc_train}  Evaluate = {acc_eval}')"
   ]
  },
  {
   "cell_type": "code",
   "execution_count": 122,
   "metadata": {},
   "outputs": [
    {
     "name": "stdout",
     "output_type": "stream",
     "text": [
      "GB: Train = 0.06310501949111154  Evaluate = 0.13446261609386667\n"
     ]
    }
   ],
   "source": [
    "# gb_params = {\n",
    "#     'n_estimators': 500, #100 = 0.1442, 200 = 0.1415, 500 = 0.1407, 1000 = 0.1409\n",
    "#     'max_features': 0.3, #0.2 = 0.1371, 0.3 = 0.1344, 0.4 = 0.1358\n",
    "#     #'max_depth': 3,\n",
    "#     #'min_samples_leaf': 5,\n",
    "#     #'verbose': 0\n",
    "# }\n",
    "\n",
    "# gb = SklearnHelper(clf=GradientBoostingRegressor, seed=seed, params=gb_params)\n",
    "# gb_oof_train, gb_oof_test = get_oof(gb, X_ens_train, y_ens_train, X_ens_test) # Gradient Boost\n",
    "# acc_train = np.sqrt(mean_squared_log_error(y_ens_train, gb.predict(X_ens_train)))\n",
    "# acc_eval = np.sqrt(mean_squared_log_error(Y_eval, gb.predict(X_ens_test)))\n",
    "# print (f'GB: Train = {acc_train}  Evaluate = {acc_eval}')"
   ]
  },
  {
   "cell_type": "code",
   "execution_count": 10,
   "metadata": {},
   "outputs": [
    {
     "name": "stdout",
     "output_type": "stream",
     "text": [
      "Training is complete\n"
     ]
    }
   ],
   "source": [
    "rf_oof_train, rf_oof_test = get_oof(rf, X_ens_train, y_ens_train, X_ens_test) # Random Forest\n",
    "et_oof_train, et_oof_test = get_oof(et, X_ens_train, y_ens_train, X_ens_test) # Extra Trees\n",
    "ad_oof_train, ad_oof_test = get_oof(ad, X_ens_train, y_ens_train, X_ens_test) # AdaBoost \n",
    "gb_oof_train, gb_oof_test = get_oof(gb, X_ens_train, y_ens_train, X_ens_test) # Gradient Boost\n",
    "\n",
    "print(\"Training is complete\")"
   ]
  },
  {
   "cell_type": "markdown",
   "metadata": {},
   "source": [
    "### Evaluation of trainers"
   ]
  },
  {
   "cell_type": "code",
   "execution_count": 9,
   "metadata": {},
   "outputs": [
    {
     "name": "stdout",
     "output_type": "stream",
     "text": [
      "ET: Train = 0.06467121654299288  Evaluate = 0.13891683138427205\n",
      "RF: Train = 0.07722987165549085  Evaluate = 0.144004087897584\n",
      "AD: Train = 0.1526778579621914  Evaluate = 0.1799800014361528\n",
      "GB: Train = 0.06310501949111154  Evaluate = 0.13446261609386667\n"
     ]
    }
   ],
   "source": [
    "acc_train = np.sqrt(mean_squared_log_error(y_ens_train, et.predict(X_ens_train)))\n",
    "acc_eval = np.sqrt(mean_squared_log_error(Y_eval, et.predict(X_ens_test)))\n",
    "print (f'ET: Train = {acc_train}  Evaluate = {acc_eval}')\n",
    "\n",
    "acc_train = np.sqrt(mean_squared_log_error(y_ens_train, rf.predict(X_ens_train)))\n",
    "acc_eval = np.sqrt(mean_squared_log_error(Y_eval, rf.predict(X_ens_test)))\n",
    "print (f'RF: Train = {acc_train}  Evaluate = {acc_eval}')\n",
    "\n",
    "acc_train = np.sqrt(mean_squared_log_error(y_ens_train, ad.predict(X_ens_train)))\n",
    "acc_eval = np.sqrt(mean_squared_log_error(Y_eval, ad.predict(X_ens_test)))\n",
    "print (f'AD: Train = {acc_train}  Evaluate = {acc_eval}')\n",
    "\n",
    "acc_train = np.sqrt(mean_squared_log_error(y_ens_train, gb.predict(X_ens_train)))\n",
    "acc_eval = np.sqrt(mean_squared_log_error(Y_eval, gb.predict(X_ens_test)))\n",
    "print (f'GB: Train = {acc_train}  Evaluate = {acc_eval}')"
   ]
  },
  {
   "cell_type": "markdown",
   "metadata": {},
   "source": [
    "### Feature data"
   ]
  },
  {
   "cell_type": "code",
   "execution_count": 15,
   "metadata": {},
   "outputs": [],
   "source": [
    "rf_features = rf.feature_importances(X_ens_train,y_ens_train)\n",
    "et_features = et.feature_importances(X_ens_train,y_ens_train)\n",
    "ad_features = ad.feature_importances(X_ens_train,y_ens_train)\n",
    "gb_features = gb.feature_importances(X_ens_train,y_ens_train)\n",
    "\n",
    "cols = X_ens_train.columns.values\n",
    "# Create a dataframe with features\n",
    "feature_dataframe = pd.DataFrame( {'features': cols,\n",
    "     'Random Forest feature importances': rf_features,\n",
    "     'Extra Trees  feature importances': et_features,\n",
    "      'AdaBoost feature importances': ad_features,\n",
    "    'Gradient Boost feature importances': gb_features\n",
    "    })"
   ]
  },
  {
   "cell_type": "code",
   "execution_count": 16,
   "metadata": {},
   "outputs": [
    {
     "data": {
      "text/html": [
       "        <script type=\"text/javascript\">\n",
       "        window.PlotlyConfig = {MathJaxConfig: 'local'};\n",
       "        if (window.MathJax) {MathJax.Hub.Config({SVG: {font: \"STIX-Web\"}});}\n",
       "        if (typeof require !== 'undefined') {\n",
       "        require.undef(\"plotly\");\n",
       "        requirejs.config({\n",
       "            paths: {\n",
       "                'plotly': ['https://cdn.plot.ly/plotly-latest.min']\n",
       "            }\n",
       "        });\n",
       "        require(['plotly'], function(Plotly) {\n",
       "            window._Plotly = Plotly;\n",
       "        });\n",
       "        }\n",
       "        </script>\n",
       "        "
      ]
     },
     "metadata": {},
     "output_type": "display_data"
    },
    {
     "data": {
      "application/vnd.plotly.v1+json": {
       "config": {
        "linkText": "Export to plot.ly",
        "plotlyServerURL": "https://plot.ly",
        "showLink": false
       },
       "data": [
        {
         "marker": {
          "color": [
           0.003489095643347326,
           0.006380429127216215,
           0.12925490551993654,
           0.002187203459287252,
           0.005640155994914467,
           0.02396212650734656,
           0.00036848637627415307,
           0.021274043979768852,
           0.0005111787720041345,
           0.0019311809892687858,
           0.0018789727222144985,
           0.010335428169655317,
           0.00021976416538352912,
           0.00030592839803488176,
           0.0051177573675260995,
           0.027836158042841154,
           0.001012239251644542,
           0.0007644151574033325,
           0.02023396765584029,
           0.010158069413624933,
           5.774281543701736e-05,
           0.041707286155195075,
           0.0011235040348382662,
           0.0011892753539068384,
           0.005383661295196279,
           0.000940550264543178,
           0.0017081665695452414,
           0.00033323119739270756,
           0.009403840433462651,
           0.011334081950415398,
           0.002408337748580243,
           0.003410144035749235,
           0.025488181085333482,
           0.018303655515987945,
           0.0004816357453697945,
           0.0005890669745144923,
           0.0002732068188613244,
           0.002857806523837332,
           0.003874300754874554,
           0.007316782285280781,
           0.0734568083942113,
           0.27792289086743627,
           0.04613856308525093,
           0.01062592830608691,
           0.15095040279208727,
           0.0077297529494922065,
           0.0031344729418652548,
           0.0032375851041764555,
           7.155102834290375e-05,
           5.784268584160126e-06,
           0.0005125459716409844,
           0.0002539174668925368,
           0.0004387006332942891,
           8.197133750791504e-05,
           6.085300769099226e-07,
           2.97859756008084e-05,
           1.7201804374814477e-06,
           0.00014807014006692235,
           9.133577941836738e-05,
           0.00019839343332629517,
           9.17622683169589e-05,
           0.00014378158694558333,
           2.5930645785623027e-05,
           0.0001813163456589103,
           0.00015549603173663662,
           5.7890942757565045e-05,
           0.00019422324039277495,
           3.372592282174115e-05,
           0.00012272945605604254,
           0.0006519030806510963,
           0.0005236649817635067,
           0.00032370316803817056,
           0.00011678721480219085,
           0.0005232726059140598,
           9.451348318422115e-07,
           0.0003110956778341833,
           0.000140639560908134,
           4.4628258795376405e-05,
           0.00011861712697433574,
           0.0002955324314889888,
           2.131767486163627e-05,
           0.000152598897295952,
           8.09497970292095e-05,
           0.00012128016786361136,
           0.000530227864869893,
           0.0006537679220115349,
           4.865695558101922e-05,
           0.00034315069611443554,
           0.0008298063583944867,
           0.0007987677939985393,
           0.0006733632329675241,
           0.0005071786114346066,
           0.0008393169632466801,
           0.0004039836146521018,
           0.00013782395422754567,
           0.000708625793698824,
           0.0004576306838925067,
           0.0003593779798060956,
           0.0004387277661579464,
           2.1999095332924434e-05,
           0.0017370490364381254
          ],
          "colorscale": [
           [
            0,
            "rgb(12,51,131)"
           ],
           [
            0.25,
            "rgb(10,136,186)"
           ],
           [
            0.5,
            "rgb(242,211,56)"
           ],
           [
            0.75,
            "rgb(242,143,56)"
           ],
           [
            1,
            "rgb(217,30,30)"
           ]
          ],
          "showscale": true,
          "size": 25,
          "sizemode": "diameter",
          "sizeref": 1
         },
         "mode": "markers",
         "text": [
          "LotFrontage",
          "LotArea",
          "OverallQual",
          "OverallCond",
          "MasVnrArea",
          "ExterQual",
          "ExterCond",
          "BsmtQual",
          "BsmtCond",
          "BsmtExposure",
          "BsmtFinType1",
          "BsmtFinSF1",
          "BsmtFinType2",
          "BsmtFinSF2",
          "BsmtUnfSF",
          "TotalBsmtSF",
          "HeatingQC",
          "CentralAir",
          "1stFlrSF",
          "2ndFlrSF",
          "LowQualFinSF",
          "GrLivArea",
          "BsmtFullBath",
          "BsmtHalfBath",
          "FullBath",
          "HalfBath",
          "BedroomAbvGr",
          "KitchenAbvGr",
          "KitchenQual",
          "TotRmsAbvGrd",
          "Fireplaces",
          "FireplaceQu",
          "GarageCars",
          "GarageArea",
          "GarageQual",
          "GarageCond",
          "PavedDrive",
          "WoodDeckSF",
          "OpenPorchSF",
          "NeighborhoodLotArea",
          "NeighborhoodBldgType",
          "TotalSquareFeet",
          "NeighborhoodHouseStyle",
          "OverallQualNCond",
          "NeighborhoodOverallQualNCond",
          "AdjRemodAdd",
          "QuarterMeanNorm",
          "MonthMeanNorm",
          "Neighborhood_2",
          "Neighborhood_3",
          "Neighborhood_4",
          "Neighborhood_5",
          "Neighborhood_6",
          "Neighborhood_7",
          "Neighborhood_8",
          "Neighborhood_9",
          "Neighborhood_10",
          "Neighborhood_11",
          "Neighborhood_12",
          "Neighborhood_13",
          "Neighborhood_14",
          "Neighborhood_15",
          "Neighborhood_16",
          "Neighborhood_17",
          "Neighborhood_18",
          "Neighborhood_19",
          "Neighborhood_20",
          "Neighborhood_21",
          "Neighborhood_22",
          "Neighborhood_23",
          "Neighborhood_24",
          "Neighborhood_25",
          "LotConfig_2",
          "LotConfig_3",
          "LotConfig_4",
          "LotConfig_5",
          "BldgType_2",
          "BldgType_3",
          "BldgType_4",
          "BldgType_5",
          "HouseStyle_2",
          "HouseStyle_3",
          "HouseStyle_4",
          "HouseStyle_5",
          "HouseStyle_6",
          "HouseStyle_7",
          "HouseStyle_8",
          "SaleCondition_1",
          "SaleCondition_2",
          "SaleCondition_3",
          "GarageFinish_1",
          "GarageFinish_2",
          "GarageFinish_3",
          "GarageType_1",
          "GarageType_2",
          "GarageType_3",
          "GarageType_4",
          "Foundation_1",
          "Foundation_2",
          "Foundation_3",
          "Foundation_4"
         ],
         "type": "scatter",
         "x": [
          "LotFrontage",
          "LotArea",
          "OverallQual",
          "OverallCond",
          "MasVnrArea",
          "ExterQual",
          "ExterCond",
          "BsmtQual",
          "BsmtCond",
          "BsmtExposure",
          "BsmtFinType1",
          "BsmtFinSF1",
          "BsmtFinType2",
          "BsmtFinSF2",
          "BsmtUnfSF",
          "TotalBsmtSF",
          "HeatingQC",
          "CentralAir",
          "1stFlrSF",
          "2ndFlrSF",
          "LowQualFinSF",
          "GrLivArea",
          "BsmtFullBath",
          "BsmtHalfBath",
          "FullBath",
          "HalfBath",
          "BedroomAbvGr",
          "KitchenAbvGr",
          "KitchenQual",
          "TotRmsAbvGrd",
          "Fireplaces",
          "FireplaceQu",
          "GarageCars",
          "GarageArea",
          "GarageQual",
          "GarageCond",
          "PavedDrive",
          "WoodDeckSF",
          "OpenPorchSF",
          "NeighborhoodLotArea",
          "NeighborhoodBldgType",
          "TotalSquareFeet",
          "NeighborhoodHouseStyle",
          "OverallQualNCond",
          "NeighborhoodOverallQualNCond",
          "AdjRemodAdd",
          "QuarterMeanNorm",
          "MonthMeanNorm",
          "Neighborhood_2",
          "Neighborhood_3",
          "Neighborhood_4",
          "Neighborhood_5",
          "Neighborhood_6",
          "Neighborhood_7",
          "Neighborhood_8",
          "Neighborhood_9",
          "Neighborhood_10",
          "Neighborhood_11",
          "Neighborhood_12",
          "Neighborhood_13",
          "Neighborhood_14",
          "Neighborhood_15",
          "Neighborhood_16",
          "Neighborhood_17",
          "Neighborhood_18",
          "Neighborhood_19",
          "Neighborhood_20",
          "Neighborhood_21",
          "Neighborhood_22",
          "Neighborhood_23",
          "Neighborhood_24",
          "Neighborhood_25",
          "LotConfig_2",
          "LotConfig_3",
          "LotConfig_4",
          "LotConfig_5",
          "BldgType_2",
          "BldgType_3",
          "BldgType_4",
          "BldgType_5",
          "HouseStyle_2",
          "HouseStyle_3",
          "HouseStyle_4",
          "HouseStyle_5",
          "HouseStyle_6",
          "HouseStyle_7",
          "HouseStyle_8",
          "SaleCondition_1",
          "SaleCondition_2",
          "SaleCondition_3",
          "GarageFinish_1",
          "GarageFinish_2",
          "GarageFinish_3",
          "GarageType_1",
          "GarageType_2",
          "GarageType_3",
          "GarageType_4",
          "Foundation_1",
          "Foundation_2",
          "Foundation_3",
          "Foundation_4"
         ],
         "y": [
          0.003489095643347326,
          0.006380429127216215,
          0.12925490551993654,
          0.002187203459287252,
          0.005640155994914467,
          0.02396212650734656,
          0.00036848637627415307,
          0.021274043979768852,
          0.0005111787720041345,
          0.0019311809892687858,
          0.0018789727222144985,
          0.010335428169655317,
          0.00021976416538352912,
          0.00030592839803488176,
          0.0051177573675260995,
          0.027836158042841154,
          0.001012239251644542,
          0.0007644151574033325,
          0.02023396765584029,
          0.010158069413624933,
          5.774281543701736e-05,
          0.041707286155195075,
          0.0011235040348382662,
          0.0011892753539068384,
          0.005383661295196279,
          0.000940550264543178,
          0.0017081665695452414,
          0.00033323119739270756,
          0.009403840433462651,
          0.011334081950415398,
          0.002408337748580243,
          0.003410144035749235,
          0.025488181085333482,
          0.018303655515987945,
          0.0004816357453697945,
          0.0005890669745144923,
          0.0002732068188613244,
          0.002857806523837332,
          0.003874300754874554,
          0.007316782285280781,
          0.0734568083942113,
          0.27792289086743627,
          0.04613856308525093,
          0.01062592830608691,
          0.15095040279208727,
          0.0077297529494922065,
          0.0031344729418652548,
          0.0032375851041764555,
          7.155102834290375e-05,
          5.784268584160126e-06,
          0.0005125459716409844,
          0.0002539174668925368,
          0.0004387006332942891,
          8.197133750791504e-05,
          6.085300769099226e-07,
          2.97859756008084e-05,
          1.7201804374814477e-06,
          0.00014807014006692235,
          9.133577941836738e-05,
          0.00019839343332629517,
          9.17622683169589e-05,
          0.00014378158694558333,
          2.5930645785623027e-05,
          0.0001813163456589103,
          0.00015549603173663662,
          5.7890942757565045e-05,
          0.00019422324039277495,
          3.372592282174115e-05,
          0.00012272945605604254,
          0.0006519030806510963,
          0.0005236649817635067,
          0.00032370316803817056,
          0.00011678721480219085,
          0.0005232726059140598,
          9.451348318422115e-07,
          0.0003110956778341833,
          0.000140639560908134,
          4.4628258795376405e-05,
          0.00011861712697433574,
          0.0002955324314889888,
          2.131767486163627e-05,
          0.000152598897295952,
          8.09497970292095e-05,
          0.00012128016786361136,
          0.000530227864869893,
          0.0006537679220115349,
          4.865695558101922e-05,
          0.00034315069611443554,
          0.0008298063583944867,
          0.0007987677939985393,
          0.0006733632329675241,
          0.0005071786114346066,
          0.0008393169632466801,
          0.0004039836146521018,
          0.00013782395422754567,
          0.000708625793698824,
          0.0004576306838925067,
          0.0003593779798060956,
          0.0004387277661579464,
          2.1999095332924434e-05,
          0.0017370490364381254
         ]
        }
       ],
       "layout": {
        "autosize": true,
        "hovermode": "closest",
        "showlegend": false,
        "template": {
         "data": {
          "bar": [
           {
            "error_x": {
             "color": "#2a3f5f"
            },
            "error_y": {
             "color": "#2a3f5f"
            },
            "marker": {
             "line": {
              "color": "#E5ECF6",
              "width": 0.5
             }
            },
            "type": "bar"
           }
          ],
          "barpolar": [
           {
            "marker": {
             "line": {
              "color": "#E5ECF6",
              "width": 0.5
             }
            },
            "type": "barpolar"
           }
          ],
          "carpet": [
           {
            "aaxis": {
             "endlinecolor": "#2a3f5f",
             "gridcolor": "white",
             "linecolor": "white",
             "minorgridcolor": "white",
             "startlinecolor": "#2a3f5f"
            },
            "baxis": {
             "endlinecolor": "#2a3f5f",
             "gridcolor": "white",
             "linecolor": "white",
             "minorgridcolor": "white",
             "startlinecolor": "#2a3f5f"
            },
            "type": "carpet"
           }
          ],
          "choropleth": [
           {
            "colorbar": {
             "outlinewidth": 0,
             "ticks": ""
            },
            "type": "choropleth"
           }
          ],
          "contour": [
           {
            "colorbar": {
             "outlinewidth": 0,
             "ticks": ""
            },
            "colorscale": [
             [
              0,
              "#0d0887"
             ],
             [
              0.1111111111111111,
              "#46039f"
             ],
             [
              0.2222222222222222,
              "#7201a8"
             ],
             [
              0.3333333333333333,
              "#9c179e"
             ],
             [
              0.4444444444444444,
              "#bd3786"
             ],
             [
              0.5555555555555556,
              "#d8576b"
             ],
             [
              0.6666666666666666,
              "#ed7953"
             ],
             [
              0.7777777777777778,
              "#fb9f3a"
             ],
             [
              0.8888888888888888,
              "#fdca26"
             ],
             [
              1,
              "#f0f921"
             ]
            ],
            "type": "contour"
           }
          ],
          "contourcarpet": [
           {
            "colorbar": {
             "outlinewidth": 0,
             "ticks": ""
            },
            "type": "contourcarpet"
           }
          ],
          "heatmap": [
           {
            "colorbar": {
             "outlinewidth": 0,
             "ticks": ""
            },
            "colorscale": [
             [
              0,
              "#0d0887"
             ],
             [
              0.1111111111111111,
              "#46039f"
             ],
             [
              0.2222222222222222,
              "#7201a8"
             ],
             [
              0.3333333333333333,
              "#9c179e"
             ],
             [
              0.4444444444444444,
              "#bd3786"
             ],
             [
              0.5555555555555556,
              "#d8576b"
             ],
             [
              0.6666666666666666,
              "#ed7953"
             ],
             [
              0.7777777777777778,
              "#fb9f3a"
             ],
             [
              0.8888888888888888,
              "#fdca26"
             ],
             [
              1,
              "#f0f921"
             ]
            ],
            "type": "heatmap"
           }
          ],
          "heatmapgl": [
           {
            "colorbar": {
             "outlinewidth": 0,
             "ticks": ""
            },
            "colorscale": [
             [
              0,
              "#0d0887"
             ],
             [
              0.1111111111111111,
              "#46039f"
             ],
             [
              0.2222222222222222,
              "#7201a8"
             ],
             [
              0.3333333333333333,
              "#9c179e"
             ],
             [
              0.4444444444444444,
              "#bd3786"
             ],
             [
              0.5555555555555556,
              "#d8576b"
             ],
             [
              0.6666666666666666,
              "#ed7953"
             ],
             [
              0.7777777777777778,
              "#fb9f3a"
             ],
             [
              0.8888888888888888,
              "#fdca26"
             ],
             [
              1,
              "#f0f921"
             ]
            ],
            "type": "heatmapgl"
           }
          ],
          "histogram": [
           {
            "marker": {
             "colorbar": {
              "outlinewidth": 0,
              "ticks": ""
             }
            },
            "type": "histogram"
           }
          ],
          "histogram2d": [
           {
            "colorbar": {
             "outlinewidth": 0,
             "ticks": ""
            },
            "colorscale": [
             [
              0,
              "#0d0887"
             ],
             [
              0.1111111111111111,
              "#46039f"
             ],
             [
              0.2222222222222222,
              "#7201a8"
             ],
             [
              0.3333333333333333,
              "#9c179e"
             ],
             [
              0.4444444444444444,
              "#bd3786"
             ],
             [
              0.5555555555555556,
              "#d8576b"
             ],
             [
              0.6666666666666666,
              "#ed7953"
             ],
             [
              0.7777777777777778,
              "#fb9f3a"
             ],
             [
              0.8888888888888888,
              "#fdca26"
             ],
             [
              1,
              "#f0f921"
             ]
            ],
            "type": "histogram2d"
           }
          ],
          "histogram2dcontour": [
           {
            "colorbar": {
             "outlinewidth": 0,
             "ticks": ""
            },
            "colorscale": [
             [
              0,
              "#0d0887"
             ],
             [
              0.1111111111111111,
              "#46039f"
             ],
             [
              0.2222222222222222,
              "#7201a8"
             ],
             [
              0.3333333333333333,
              "#9c179e"
             ],
             [
              0.4444444444444444,
              "#bd3786"
             ],
             [
              0.5555555555555556,
              "#d8576b"
             ],
             [
              0.6666666666666666,
              "#ed7953"
             ],
             [
              0.7777777777777778,
              "#fb9f3a"
             ],
             [
              0.8888888888888888,
              "#fdca26"
             ],
             [
              1,
              "#f0f921"
             ]
            ],
            "type": "histogram2dcontour"
           }
          ],
          "mesh3d": [
           {
            "colorbar": {
             "outlinewidth": 0,
             "ticks": ""
            },
            "type": "mesh3d"
           }
          ],
          "parcoords": [
           {
            "line": {
             "colorbar": {
              "outlinewidth": 0,
              "ticks": ""
             }
            },
            "type": "parcoords"
           }
          ],
          "pie": [
           {
            "automargin": true,
            "type": "pie"
           }
          ],
          "scatter": [
           {
            "marker": {
             "colorbar": {
              "outlinewidth": 0,
              "ticks": ""
             }
            },
            "type": "scatter"
           }
          ],
          "scatter3d": [
           {
            "line": {
             "colorbar": {
              "outlinewidth": 0,
              "ticks": ""
             }
            },
            "marker": {
             "colorbar": {
              "outlinewidth": 0,
              "ticks": ""
             }
            },
            "type": "scatter3d"
           }
          ],
          "scattercarpet": [
           {
            "marker": {
             "colorbar": {
              "outlinewidth": 0,
              "ticks": ""
             }
            },
            "type": "scattercarpet"
           }
          ],
          "scattergeo": [
           {
            "marker": {
             "colorbar": {
              "outlinewidth": 0,
              "ticks": ""
             }
            },
            "type": "scattergeo"
           }
          ],
          "scattergl": [
           {
            "marker": {
             "colorbar": {
              "outlinewidth": 0,
              "ticks": ""
             }
            },
            "type": "scattergl"
           }
          ],
          "scattermapbox": [
           {
            "marker": {
             "colorbar": {
              "outlinewidth": 0,
              "ticks": ""
             }
            },
            "type": "scattermapbox"
           }
          ],
          "scatterpolar": [
           {
            "marker": {
             "colorbar": {
              "outlinewidth": 0,
              "ticks": ""
             }
            },
            "type": "scatterpolar"
           }
          ],
          "scatterpolargl": [
           {
            "marker": {
             "colorbar": {
              "outlinewidth": 0,
              "ticks": ""
             }
            },
            "type": "scatterpolargl"
           }
          ],
          "scatterternary": [
           {
            "marker": {
             "colorbar": {
              "outlinewidth": 0,
              "ticks": ""
             }
            },
            "type": "scatterternary"
           }
          ],
          "surface": [
           {
            "colorbar": {
             "outlinewidth": 0,
             "ticks": ""
            },
            "colorscale": [
             [
              0,
              "#0d0887"
             ],
             [
              0.1111111111111111,
              "#46039f"
             ],
             [
              0.2222222222222222,
              "#7201a8"
             ],
             [
              0.3333333333333333,
              "#9c179e"
             ],
             [
              0.4444444444444444,
              "#bd3786"
             ],
             [
              0.5555555555555556,
              "#d8576b"
             ],
             [
              0.6666666666666666,
              "#ed7953"
             ],
             [
              0.7777777777777778,
              "#fb9f3a"
             ],
             [
              0.8888888888888888,
              "#fdca26"
             ],
             [
              1,
              "#f0f921"
             ]
            ],
            "type": "surface"
           }
          ],
          "table": [
           {
            "cells": {
             "fill": {
              "color": "#EBF0F8"
             },
             "line": {
              "color": "white"
             }
            },
            "header": {
             "fill": {
              "color": "#C8D4E3"
             },
             "line": {
              "color": "white"
             }
            },
            "type": "table"
           }
          ]
         },
         "layout": {
          "annotationdefaults": {
           "arrowcolor": "#2a3f5f",
           "arrowhead": 0,
           "arrowwidth": 1
          },
          "coloraxis": {
           "colorbar": {
            "outlinewidth": 0,
            "ticks": ""
           }
          },
          "colorscale": {
           "diverging": [
            [
             0,
             "#8e0152"
            ],
            [
             0.1,
             "#c51b7d"
            ],
            [
             0.2,
             "#de77ae"
            ],
            [
             0.3,
             "#f1b6da"
            ],
            [
             0.4,
             "#fde0ef"
            ],
            [
             0.5,
             "#f7f7f7"
            ],
            [
             0.6,
             "#e6f5d0"
            ],
            [
             0.7,
             "#b8e186"
            ],
            [
             0.8,
             "#7fbc41"
            ],
            [
             0.9,
             "#4d9221"
            ],
            [
             1,
             "#276419"
            ]
           ],
           "sequential": [
            [
             0,
             "#0d0887"
            ],
            [
             0.1111111111111111,
             "#46039f"
            ],
            [
             0.2222222222222222,
             "#7201a8"
            ],
            [
             0.3333333333333333,
             "#9c179e"
            ],
            [
             0.4444444444444444,
             "#bd3786"
            ],
            [
             0.5555555555555556,
             "#d8576b"
            ],
            [
             0.6666666666666666,
             "#ed7953"
            ],
            [
             0.7777777777777778,
             "#fb9f3a"
            ],
            [
             0.8888888888888888,
             "#fdca26"
            ],
            [
             1,
             "#f0f921"
            ]
           ],
           "sequentialminus": [
            [
             0,
             "#0d0887"
            ],
            [
             0.1111111111111111,
             "#46039f"
            ],
            [
             0.2222222222222222,
             "#7201a8"
            ],
            [
             0.3333333333333333,
             "#9c179e"
            ],
            [
             0.4444444444444444,
             "#bd3786"
            ],
            [
             0.5555555555555556,
             "#d8576b"
            ],
            [
             0.6666666666666666,
             "#ed7953"
            ],
            [
             0.7777777777777778,
             "#fb9f3a"
            ],
            [
             0.8888888888888888,
             "#fdca26"
            ],
            [
             1,
             "#f0f921"
            ]
           ]
          },
          "colorway": [
           "#636efa",
           "#EF553B",
           "#00cc96",
           "#ab63fa",
           "#FFA15A",
           "#19d3f3",
           "#FF6692",
           "#B6E880",
           "#FF97FF",
           "#FECB52"
          ],
          "font": {
           "color": "#2a3f5f"
          },
          "geo": {
           "bgcolor": "white",
           "lakecolor": "white",
           "landcolor": "#E5ECF6",
           "showlakes": true,
           "showland": true,
           "subunitcolor": "white"
          },
          "hoverlabel": {
           "align": "left"
          },
          "hovermode": "closest",
          "mapbox": {
           "style": "light"
          },
          "paper_bgcolor": "white",
          "plot_bgcolor": "#E5ECF6",
          "polar": {
           "angularaxis": {
            "gridcolor": "white",
            "linecolor": "white",
            "ticks": ""
           },
           "bgcolor": "#E5ECF6",
           "radialaxis": {
            "gridcolor": "white",
            "linecolor": "white",
            "ticks": ""
           }
          },
          "scene": {
           "xaxis": {
            "backgroundcolor": "#E5ECF6",
            "gridcolor": "white",
            "gridwidth": 2,
            "linecolor": "white",
            "showbackground": true,
            "ticks": "",
            "zerolinecolor": "white"
           },
           "yaxis": {
            "backgroundcolor": "#E5ECF6",
            "gridcolor": "white",
            "gridwidth": 2,
            "linecolor": "white",
            "showbackground": true,
            "ticks": "",
            "zerolinecolor": "white"
           },
           "zaxis": {
            "backgroundcolor": "#E5ECF6",
            "gridcolor": "white",
            "gridwidth": 2,
            "linecolor": "white",
            "showbackground": true,
            "ticks": "",
            "zerolinecolor": "white"
           }
          },
          "shapedefaults": {
           "line": {
            "color": "#2a3f5f"
           }
          },
          "ternary": {
           "aaxis": {
            "gridcolor": "white",
            "linecolor": "white",
            "ticks": ""
           },
           "baxis": {
            "gridcolor": "white",
            "linecolor": "white",
            "ticks": ""
           },
           "bgcolor": "#E5ECF6",
           "caxis": {
            "gridcolor": "white",
            "linecolor": "white",
            "ticks": ""
           }
          },
          "title": {
           "x": 0.05
          },
          "xaxis": {
           "automargin": true,
           "gridcolor": "white",
           "linecolor": "white",
           "ticks": "",
           "title": {
            "standoff": 15
           },
           "zerolinecolor": "white",
           "zerolinewidth": 2
          },
          "yaxis": {
           "automargin": true,
           "gridcolor": "white",
           "linecolor": "white",
           "ticks": "",
           "title": {
            "standoff": 15
           },
           "zerolinecolor": "white",
           "zerolinewidth": 2
          }
         }
        },
        "title": {
         "text": "Random Forest Feature Importance"
        },
        "yaxis": {
         "gridwidth": 2,
         "ticklen": 5,
         "title": {
          "text": "Feature Importance"
         }
        }
       }
      },
      "text/html": [
       "<div>\n",
       "        \n",
       "        \n",
       "            <div id=\"0041dd6e-4d9c-467e-b1bd-1cdbdba63cad\" class=\"plotly-graph-div\" style=\"height:525px; width:100%;\"></div>\n",
       "            <script type=\"text/javascript\">\n",
       "                require([\"plotly\"], function(Plotly) {\n",
       "                    window.PLOTLYENV=window.PLOTLYENV || {};\n",
       "                    \n",
       "                if (document.getElementById(\"0041dd6e-4d9c-467e-b1bd-1cdbdba63cad\")) {\n",
       "                    Plotly.newPlot(\n",
       "                        '0041dd6e-4d9c-467e-b1bd-1cdbdba63cad',\n",
       "                        [{\"marker\": {\"color\": [0.003489095643347326, 0.006380429127216215, 0.12925490551993654, 0.002187203459287252, 0.005640155994914467, 0.02396212650734656, 0.00036848637627415307, 0.021274043979768852, 0.0005111787720041345, 0.0019311809892687858, 0.0018789727222144985, 0.010335428169655317, 0.00021976416538352912, 0.00030592839803488176, 0.0051177573675260995, 0.027836158042841154, 0.001012239251644542, 0.0007644151574033325, 0.02023396765584029, 0.010158069413624933, 5.774281543701736e-05, 0.041707286155195075, 0.0011235040348382662, 0.0011892753539068384, 0.005383661295196279, 0.000940550264543178, 0.0017081665695452414, 0.00033323119739270756, 0.009403840433462651, 0.011334081950415398, 0.002408337748580243, 0.003410144035749235, 0.025488181085333482, 0.018303655515987945, 0.0004816357453697945, 0.0005890669745144923, 0.0002732068188613244, 0.002857806523837332, 0.003874300754874554, 0.007316782285280781, 0.0734568083942113, 0.27792289086743627, 0.04613856308525093, 0.01062592830608691, 0.15095040279208727, 0.0077297529494922065, 0.0031344729418652548, 0.0032375851041764555, 7.155102834290375e-05, 5.784268584160126e-06, 0.0005125459716409844, 0.0002539174668925368, 0.0004387006332942891, 8.197133750791504e-05, 6.085300769099226e-07, 2.97859756008084e-05, 1.7201804374814477e-06, 0.00014807014006692235, 9.133577941836738e-05, 0.00019839343332629517, 9.17622683169589e-05, 0.00014378158694558333, 2.5930645785623027e-05, 0.0001813163456589103, 0.00015549603173663662, 5.7890942757565045e-05, 0.00019422324039277495, 3.372592282174115e-05, 0.00012272945605604254, 0.0006519030806510963, 0.0005236649817635067, 0.00032370316803817056, 0.00011678721480219085, 0.0005232726059140598, 9.451348318422115e-07, 0.0003110956778341833, 0.000140639560908134, 4.4628258795376405e-05, 0.00011861712697433574, 0.0002955324314889888, 2.131767486163627e-05, 0.000152598897295952, 8.09497970292095e-05, 0.00012128016786361136, 0.000530227864869893, 0.0006537679220115349, 4.865695558101922e-05, 0.00034315069611443554, 0.0008298063583944867, 0.0007987677939985393, 0.0006733632329675241, 0.0005071786114346066, 0.0008393169632466801, 0.0004039836146521018, 0.00013782395422754567, 0.000708625793698824, 0.0004576306838925067, 0.0003593779798060956, 0.0004387277661579464, 2.1999095332924434e-05, 0.0017370490364381254], \"colorscale\": [[0.0, \"rgb(12,51,131)\"], [0.25, \"rgb(10,136,186)\"], [0.5, \"rgb(242,211,56)\"], [0.75, \"rgb(242,143,56)\"], [1.0, \"rgb(217,30,30)\"]], \"showscale\": true, \"size\": 25, \"sizemode\": \"diameter\", \"sizeref\": 1}, \"mode\": \"markers\", \"text\": [\"LotFrontage\", \"LotArea\", \"OverallQual\", \"OverallCond\", \"MasVnrArea\", \"ExterQual\", \"ExterCond\", \"BsmtQual\", \"BsmtCond\", \"BsmtExposure\", \"BsmtFinType1\", \"BsmtFinSF1\", \"BsmtFinType2\", \"BsmtFinSF2\", \"BsmtUnfSF\", \"TotalBsmtSF\", \"HeatingQC\", \"CentralAir\", \"1stFlrSF\", \"2ndFlrSF\", \"LowQualFinSF\", \"GrLivArea\", \"BsmtFullBath\", \"BsmtHalfBath\", \"FullBath\", \"HalfBath\", \"BedroomAbvGr\", \"KitchenAbvGr\", \"KitchenQual\", \"TotRmsAbvGrd\", \"Fireplaces\", \"FireplaceQu\", \"GarageCars\", \"GarageArea\", \"GarageQual\", \"GarageCond\", \"PavedDrive\", \"WoodDeckSF\", \"OpenPorchSF\", \"NeighborhoodLotArea\", \"NeighborhoodBldgType\", \"TotalSquareFeet\", \"NeighborhoodHouseStyle\", \"OverallQualNCond\", \"NeighborhoodOverallQualNCond\", \"AdjRemodAdd\", \"QuarterMeanNorm\", \"MonthMeanNorm\", \"Neighborhood_2\", \"Neighborhood_3\", \"Neighborhood_4\", \"Neighborhood_5\", \"Neighborhood_6\", \"Neighborhood_7\", \"Neighborhood_8\", \"Neighborhood_9\", \"Neighborhood_10\", \"Neighborhood_11\", \"Neighborhood_12\", \"Neighborhood_13\", \"Neighborhood_14\", \"Neighborhood_15\", \"Neighborhood_16\", \"Neighborhood_17\", \"Neighborhood_18\", \"Neighborhood_19\", \"Neighborhood_20\", \"Neighborhood_21\", \"Neighborhood_22\", \"Neighborhood_23\", \"Neighborhood_24\", \"Neighborhood_25\", \"LotConfig_2\", \"LotConfig_3\", \"LotConfig_4\", \"LotConfig_5\", \"BldgType_2\", \"BldgType_3\", \"BldgType_4\", \"BldgType_5\", \"HouseStyle_2\", \"HouseStyle_3\", \"HouseStyle_4\", \"HouseStyle_5\", \"HouseStyle_6\", \"HouseStyle_7\", \"HouseStyle_8\", \"SaleCondition_1\", \"SaleCondition_2\", \"SaleCondition_3\", \"GarageFinish_1\", \"GarageFinish_2\", \"GarageFinish_3\", \"GarageType_1\", \"GarageType_2\", \"GarageType_3\", \"GarageType_4\", \"Foundation_1\", \"Foundation_2\", \"Foundation_3\", \"Foundation_4\"], \"type\": \"scatter\", \"x\": [\"LotFrontage\", \"LotArea\", \"OverallQual\", \"OverallCond\", \"MasVnrArea\", \"ExterQual\", \"ExterCond\", \"BsmtQual\", \"BsmtCond\", \"BsmtExposure\", \"BsmtFinType1\", \"BsmtFinSF1\", \"BsmtFinType2\", \"BsmtFinSF2\", \"BsmtUnfSF\", \"TotalBsmtSF\", \"HeatingQC\", \"CentralAir\", \"1stFlrSF\", \"2ndFlrSF\", \"LowQualFinSF\", \"GrLivArea\", \"BsmtFullBath\", \"BsmtHalfBath\", \"FullBath\", \"HalfBath\", \"BedroomAbvGr\", \"KitchenAbvGr\", \"KitchenQual\", \"TotRmsAbvGrd\", \"Fireplaces\", \"FireplaceQu\", \"GarageCars\", \"GarageArea\", \"GarageQual\", \"GarageCond\", \"PavedDrive\", \"WoodDeckSF\", \"OpenPorchSF\", \"NeighborhoodLotArea\", \"NeighborhoodBldgType\", \"TotalSquareFeet\", \"NeighborhoodHouseStyle\", \"OverallQualNCond\", \"NeighborhoodOverallQualNCond\", \"AdjRemodAdd\", \"QuarterMeanNorm\", \"MonthMeanNorm\", \"Neighborhood_2\", \"Neighborhood_3\", \"Neighborhood_4\", \"Neighborhood_5\", \"Neighborhood_6\", \"Neighborhood_7\", \"Neighborhood_8\", \"Neighborhood_9\", \"Neighborhood_10\", \"Neighborhood_11\", \"Neighborhood_12\", \"Neighborhood_13\", \"Neighborhood_14\", \"Neighborhood_15\", \"Neighborhood_16\", \"Neighborhood_17\", \"Neighborhood_18\", \"Neighborhood_19\", \"Neighborhood_20\", \"Neighborhood_21\", \"Neighborhood_22\", \"Neighborhood_23\", \"Neighborhood_24\", \"Neighborhood_25\", \"LotConfig_2\", \"LotConfig_3\", \"LotConfig_4\", \"LotConfig_5\", \"BldgType_2\", \"BldgType_3\", \"BldgType_4\", \"BldgType_5\", \"HouseStyle_2\", \"HouseStyle_3\", \"HouseStyle_4\", \"HouseStyle_5\", \"HouseStyle_6\", \"HouseStyle_7\", \"HouseStyle_8\", \"SaleCondition_1\", \"SaleCondition_2\", \"SaleCondition_3\", \"GarageFinish_1\", \"GarageFinish_2\", \"GarageFinish_3\", \"GarageType_1\", \"GarageType_2\", \"GarageType_3\", \"GarageType_4\", \"Foundation_1\", \"Foundation_2\", \"Foundation_3\", \"Foundation_4\"], \"y\": [0.003489095643347326, 0.006380429127216215, 0.12925490551993654, 0.002187203459287252, 0.005640155994914467, 0.02396212650734656, 0.00036848637627415307, 0.021274043979768852, 0.0005111787720041345, 0.0019311809892687858, 0.0018789727222144985, 0.010335428169655317, 0.00021976416538352912, 0.00030592839803488176, 0.0051177573675260995, 0.027836158042841154, 0.001012239251644542, 0.0007644151574033325, 0.02023396765584029, 0.010158069413624933, 5.774281543701736e-05, 0.041707286155195075, 0.0011235040348382662, 0.0011892753539068384, 0.005383661295196279, 0.000940550264543178, 0.0017081665695452414, 0.00033323119739270756, 0.009403840433462651, 0.011334081950415398, 0.002408337748580243, 0.003410144035749235, 0.025488181085333482, 0.018303655515987945, 0.0004816357453697945, 0.0005890669745144923, 0.0002732068188613244, 0.002857806523837332, 0.003874300754874554, 0.007316782285280781, 0.0734568083942113, 0.27792289086743627, 0.04613856308525093, 0.01062592830608691, 0.15095040279208727, 0.0077297529494922065, 0.0031344729418652548, 0.0032375851041764555, 7.155102834290375e-05, 5.784268584160126e-06, 0.0005125459716409844, 0.0002539174668925368, 0.0004387006332942891, 8.197133750791504e-05, 6.085300769099226e-07, 2.97859756008084e-05, 1.7201804374814477e-06, 0.00014807014006692235, 9.133577941836738e-05, 0.00019839343332629517, 9.17622683169589e-05, 0.00014378158694558333, 2.5930645785623027e-05, 0.0001813163456589103, 0.00015549603173663662, 5.7890942757565045e-05, 0.00019422324039277495, 3.372592282174115e-05, 0.00012272945605604254, 0.0006519030806510963, 0.0005236649817635067, 0.00032370316803817056, 0.00011678721480219085, 0.0005232726059140598, 9.451348318422115e-07, 0.0003110956778341833, 0.000140639560908134, 4.4628258795376405e-05, 0.00011861712697433574, 0.0002955324314889888, 2.131767486163627e-05, 0.000152598897295952, 8.09497970292095e-05, 0.00012128016786361136, 0.000530227864869893, 0.0006537679220115349, 4.865695558101922e-05, 0.00034315069611443554, 0.0008298063583944867, 0.0007987677939985393, 0.0006733632329675241, 0.0005071786114346066, 0.0008393169632466801, 0.0004039836146521018, 0.00013782395422754567, 0.000708625793698824, 0.0004576306838925067, 0.0003593779798060956, 0.0004387277661579464, 2.1999095332924434e-05, 0.0017370490364381254]}],\n",
       "                        {\"autosize\": true, \"hovermode\": \"closest\", \"showlegend\": false, \"template\": {\"data\": {\"bar\": [{\"error_x\": {\"color\": \"#2a3f5f\"}, \"error_y\": {\"color\": \"#2a3f5f\"}, \"marker\": {\"line\": {\"color\": \"#E5ECF6\", \"width\": 0.5}}, \"type\": \"bar\"}], \"barpolar\": [{\"marker\": {\"line\": {\"color\": \"#E5ECF6\", \"width\": 0.5}}, \"type\": \"barpolar\"}], \"carpet\": [{\"aaxis\": {\"endlinecolor\": \"#2a3f5f\", \"gridcolor\": \"white\", \"linecolor\": \"white\", \"minorgridcolor\": \"white\", \"startlinecolor\": \"#2a3f5f\"}, \"baxis\": {\"endlinecolor\": \"#2a3f5f\", \"gridcolor\": \"white\", \"linecolor\": \"white\", \"minorgridcolor\": \"white\", \"startlinecolor\": \"#2a3f5f\"}, \"type\": \"carpet\"}], \"choropleth\": [{\"colorbar\": {\"outlinewidth\": 0, \"ticks\": \"\"}, \"type\": \"choropleth\"}], \"contour\": [{\"colorbar\": {\"outlinewidth\": 0, \"ticks\": \"\"}, \"colorscale\": [[0.0, \"#0d0887\"], [0.1111111111111111, \"#46039f\"], [0.2222222222222222, \"#7201a8\"], [0.3333333333333333, \"#9c179e\"], [0.4444444444444444, \"#bd3786\"], [0.5555555555555556, \"#d8576b\"], [0.6666666666666666, \"#ed7953\"], [0.7777777777777778, \"#fb9f3a\"], [0.8888888888888888, \"#fdca26\"], [1.0, \"#f0f921\"]], \"type\": \"contour\"}], \"contourcarpet\": [{\"colorbar\": {\"outlinewidth\": 0, \"ticks\": \"\"}, \"type\": \"contourcarpet\"}], \"heatmap\": [{\"colorbar\": {\"outlinewidth\": 0, \"ticks\": \"\"}, \"colorscale\": [[0.0, \"#0d0887\"], [0.1111111111111111, \"#46039f\"], [0.2222222222222222, \"#7201a8\"], [0.3333333333333333, \"#9c179e\"], [0.4444444444444444, \"#bd3786\"], [0.5555555555555556, \"#d8576b\"], [0.6666666666666666, \"#ed7953\"], [0.7777777777777778, \"#fb9f3a\"], [0.8888888888888888, \"#fdca26\"], [1.0, \"#f0f921\"]], \"type\": \"heatmap\"}], \"heatmapgl\": [{\"colorbar\": {\"outlinewidth\": 0, \"ticks\": \"\"}, \"colorscale\": [[0.0, \"#0d0887\"], [0.1111111111111111, \"#46039f\"], [0.2222222222222222, \"#7201a8\"], [0.3333333333333333, \"#9c179e\"], [0.4444444444444444, \"#bd3786\"], [0.5555555555555556, \"#d8576b\"], [0.6666666666666666, \"#ed7953\"], [0.7777777777777778, \"#fb9f3a\"], [0.8888888888888888, \"#fdca26\"], [1.0, \"#f0f921\"]], \"type\": \"heatmapgl\"}], \"histogram\": [{\"marker\": {\"colorbar\": {\"outlinewidth\": 0, \"ticks\": \"\"}}, \"type\": \"histogram\"}], \"histogram2d\": [{\"colorbar\": {\"outlinewidth\": 0, \"ticks\": \"\"}, \"colorscale\": [[0.0, \"#0d0887\"], [0.1111111111111111, \"#46039f\"], [0.2222222222222222, \"#7201a8\"], [0.3333333333333333, \"#9c179e\"], [0.4444444444444444, \"#bd3786\"], [0.5555555555555556, \"#d8576b\"], [0.6666666666666666, \"#ed7953\"], [0.7777777777777778, \"#fb9f3a\"], [0.8888888888888888, \"#fdca26\"], [1.0, \"#f0f921\"]], \"type\": \"histogram2d\"}], \"histogram2dcontour\": [{\"colorbar\": {\"outlinewidth\": 0, \"ticks\": \"\"}, \"colorscale\": [[0.0, \"#0d0887\"], [0.1111111111111111, \"#46039f\"], [0.2222222222222222, \"#7201a8\"], [0.3333333333333333, \"#9c179e\"], [0.4444444444444444, \"#bd3786\"], [0.5555555555555556, \"#d8576b\"], [0.6666666666666666, \"#ed7953\"], [0.7777777777777778, \"#fb9f3a\"], [0.8888888888888888, \"#fdca26\"], [1.0, \"#f0f921\"]], \"type\": \"histogram2dcontour\"}], \"mesh3d\": [{\"colorbar\": {\"outlinewidth\": 0, \"ticks\": \"\"}, \"type\": \"mesh3d\"}], \"parcoords\": [{\"line\": {\"colorbar\": {\"outlinewidth\": 0, \"ticks\": \"\"}}, \"type\": \"parcoords\"}], \"pie\": [{\"automargin\": true, \"type\": \"pie\"}], \"scatter\": [{\"marker\": {\"colorbar\": {\"outlinewidth\": 0, \"ticks\": \"\"}}, \"type\": \"scatter\"}], \"scatter3d\": [{\"line\": {\"colorbar\": {\"outlinewidth\": 0, \"ticks\": \"\"}}, \"marker\": {\"colorbar\": {\"outlinewidth\": 0, \"ticks\": \"\"}}, \"type\": \"scatter3d\"}], \"scattercarpet\": [{\"marker\": {\"colorbar\": {\"outlinewidth\": 0, \"ticks\": \"\"}}, \"type\": \"scattercarpet\"}], \"scattergeo\": [{\"marker\": {\"colorbar\": {\"outlinewidth\": 0, \"ticks\": \"\"}}, \"type\": \"scattergeo\"}], \"scattergl\": [{\"marker\": {\"colorbar\": {\"outlinewidth\": 0, \"ticks\": \"\"}}, \"type\": \"scattergl\"}], \"scattermapbox\": [{\"marker\": {\"colorbar\": {\"outlinewidth\": 0, \"ticks\": \"\"}}, \"type\": \"scattermapbox\"}], \"scatterpolar\": [{\"marker\": {\"colorbar\": {\"outlinewidth\": 0, \"ticks\": \"\"}}, \"type\": \"scatterpolar\"}], \"scatterpolargl\": [{\"marker\": {\"colorbar\": {\"outlinewidth\": 0, \"ticks\": \"\"}}, \"type\": \"scatterpolargl\"}], \"scatterternary\": [{\"marker\": {\"colorbar\": {\"outlinewidth\": 0, \"ticks\": \"\"}}, \"type\": \"scatterternary\"}], \"surface\": [{\"colorbar\": {\"outlinewidth\": 0, \"ticks\": \"\"}, \"colorscale\": [[0.0, \"#0d0887\"], [0.1111111111111111, \"#46039f\"], [0.2222222222222222, \"#7201a8\"], [0.3333333333333333, \"#9c179e\"], [0.4444444444444444, \"#bd3786\"], [0.5555555555555556, \"#d8576b\"], [0.6666666666666666, \"#ed7953\"], [0.7777777777777778, \"#fb9f3a\"], [0.8888888888888888, \"#fdca26\"], [1.0, \"#f0f921\"]], \"type\": \"surface\"}], \"table\": [{\"cells\": {\"fill\": {\"color\": \"#EBF0F8\"}, \"line\": {\"color\": \"white\"}}, \"header\": {\"fill\": {\"color\": \"#C8D4E3\"}, \"line\": {\"color\": \"white\"}}, \"type\": \"table\"}]}, \"layout\": {\"annotationdefaults\": {\"arrowcolor\": \"#2a3f5f\", \"arrowhead\": 0, \"arrowwidth\": 1}, \"coloraxis\": {\"colorbar\": {\"outlinewidth\": 0, \"ticks\": \"\"}}, \"colorscale\": {\"diverging\": [[0, \"#8e0152\"], [0.1, \"#c51b7d\"], [0.2, \"#de77ae\"], [0.3, \"#f1b6da\"], [0.4, \"#fde0ef\"], [0.5, \"#f7f7f7\"], [0.6, \"#e6f5d0\"], [0.7, \"#b8e186\"], [0.8, \"#7fbc41\"], [0.9, \"#4d9221\"], [1, \"#276419\"]], \"sequential\": [[0.0, \"#0d0887\"], [0.1111111111111111, \"#46039f\"], [0.2222222222222222, \"#7201a8\"], [0.3333333333333333, \"#9c179e\"], [0.4444444444444444, \"#bd3786\"], [0.5555555555555556, \"#d8576b\"], [0.6666666666666666, \"#ed7953\"], [0.7777777777777778, \"#fb9f3a\"], [0.8888888888888888, \"#fdca26\"], [1.0, \"#f0f921\"]], \"sequentialminus\": [[0.0, \"#0d0887\"], [0.1111111111111111, \"#46039f\"], [0.2222222222222222, \"#7201a8\"], [0.3333333333333333, \"#9c179e\"], [0.4444444444444444, \"#bd3786\"], [0.5555555555555556, \"#d8576b\"], [0.6666666666666666, \"#ed7953\"], [0.7777777777777778, \"#fb9f3a\"], [0.8888888888888888, \"#fdca26\"], [1.0, \"#f0f921\"]]}, \"colorway\": [\"#636efa\", \"#EF553B\", \"#00cc96\", \"#ab63fa\", \"#FFA15A\", \"#19d3f3\", \"#FF6692\", \"#B6E880\", \"#FF97FF\", \"#FECB52\"], \"font\": {\"color\": \"#2a3f5f\"}, \"geo\": {\"bgcolor\": \"white\", \"lakecolor\": \"white\", \"landcolor\": \"#E5ECF6\", \"showlakes\": true, \"showland\": true, \"subunitcolor\": \"white\"}, \"hoverlabel\": {\"align\": \"left\"}, \"hovermode\": \"closest\", \"mapbox\": {\"style\": \"light\"}, \"paper_bgcolor\": \"white\", \"plot_bgcolor\": \"#E5ECF6\", \"polar\": {\"angularaxis\": {\"gridcolor\": \"white\", \"linecolor\": \"white\", \"ticks\": \"\"}, \"bgcolor\": \"#E5ECF6\", \"radialaxis\": {\"gridcolor\": \"white\", \"linecolor\": \"white\", \"ticks\": \"\"}}, \"scene\": {\"xaxis\": {\"backgroundcolor\": \"#E5ECF6\", \"gridcolor\": \"white\", \"gridwidth\": 2, \"linecolor\": \"white\", \"showbackground\": true, \"ticks\": \"\", \"zerolinecolor\": \"white\"}, \"yaxis\": {\"backgroundcolor\": \"#E5ECF6\", \"gridcolor\": \"white\", \"gridwidth\": 2, \"linecolor\": \"white\", \"showbackground\": true, \"ticks\": \"\", \"zerolinecolor\": \"white\"}, \"zaxis\": {\"backgroundcolor\": \"#E5ECF6\", \"gridcolor\": \"white\", \"gridwidth\": 2, \"linecolor\": \"white\", \"showbackground\": true, \"ticks\": \"\", \"zerolinecolor\": \"white\"}}, \"shapedefaults\": {\"line\": {\"color\": \"#2a3f5f\"}}, \"ternary\": {\"aaxis\": {\"gridcolor\": \"white\", \"linecolor\": \"white\", \"ticks\": \"\"}, \"baxis\": {\"gridcolor\": \"white\", \"linecolor\": \"white\", \"ticks\": \"\"}, \"bgcolor\": \"#E5ECF6\", \"caxis\": {\"gridcolor\": \"white\", \"linecolor\": \"white\", \"ticks\": \"\"}}, \"title\": {\"x\": 0.05}, \"xaxis\": {\"automargin\": true, \"gridcolor\": \"white\", \"linecolor\": \"white\", \"ticks\": \"\", \"title\": {\"standoff\": 15}, \"zerolinecolor\": \"white\", \"zerolinewidth\": 2}, \"yaxis\": {\"automargin\": true, \"gridcolor\": \"white\", \"linecolor\": \"white\", \"ticks\": \"\", \"title\": {\"standoff\": 15}, \"zerolinecolor\": \"white\", \"zerolinewidth\": 2}}}, \"title\": {\"text\": \"Random Forest Feature Importance\"}, \"yaxis\": {\"gridwidth\": 2, \"ticklen\": 5, \"title\": {\"text\": \"Feature Importance\"}}},\n",
       "                        {\"responsive\": true}\n",
       "                    ).then(function(){\n",
       "                            \n",
       "var gd = document.getElementById('0041dd6e-4d9c-467e-b1bd-1cdbdba63cad');\n",
       "var x = new MutationObserver(function (mutations, observer) {{\n",
       "        var display = window.getComputedStyle(gd).display;\n",
       "        if (!display || display === 'none') {{\n",
       "            console.log([gd, 'removed!']);\n",
       "            Plotly.purge(gd);\n",
       "            observer.disconnect();\n",
       "        }}\n",
       "}});\n",
       "\n",
       "// Listen for the removal of the full notebook cells\n",
       "var notebookContainer = gd.closest('#notebook-container');\n",
       "if (notebookContainer) {{\n",
       "    x.observe(notebookContainer, {childList: true});\n",
       "}}\n",
       "\n",
       "// Listen for the clearing of the current output cell\n",
       "var outputEl = gd.closest('.output');\n",
       "if (outputEl) {{\n",
       "    x.observe(outputEl, {childList: true});\n",
       "}}\n",
       "\n",
       "                        })\n",
       "                };\n",
       "                });\n",
       "            </script>\n",
       "        </div>"
      ]
     },
     "metadata": {},
     "output_type": "display_data"
    },
    {
     "data": {
      "application/vnd.plotly.v1+json": {
       "config": {
        "linkText": "Export to plot.ly",
        "plotlyServerURL": "https://plot.ly",
        "showLink": false
       },
       "data": [
        {
         "marker": {
          "color": [
           0.002296664618309864,
           0.00229475511811743,
           0.13335312790105308,
           0.004796756825009015,
           0.0025665172181246424,
           0.09407688747417639,
           0.0006649791059562593,
           0.036193960510190894,
           0.001081943512792711,
           0.002995285295837621,
           0.0020075935765859992,
           0.0048098646959302774,
           0.0002752208246027496,
           0.0004646955684178815,
           0.002265064109579709,
           0.020975970206321415,
           0.0010476527945535842,
           0.002558517897827968,
           0.006277093533255907,
           0.0035084934740580213,
           0.00013103149511867315,
           0.027338459079434475,
           0.001998483146027528,
           0.002134871357556997,
           0.012091840182549012,
           0.002470135925344704,
           0.002405790780157528,
           0.00014038494744371586,
           0.018776293619608742,
           0.009952375379189356,
           0.003446687292381551,
           0.007311834728726535,
           0.04111513278111301,
           0.002969304116719949,
           0.00038375018134327295,
           0.0008236908863647244,
           0.0003372271268660589,
           0.0014466499499777704,
           0.002363598445187819,
           0.0026304355792767698,
           0.05727263441640462,
           0.2278033785721936,
           0.02088654067125609,
           0.01163473014960395,
           0.1629136887829056,
           0.004693917807034378,
           0.0019610126475245572,
           0.0018037062224406663,
           0.00010171156088990618,
           7.109588727546719e-06,
           0.0013784046450990668,
           0.0012394698863299226,
           0.001060986099510546,
           0.0001746329556563199,
           2.0110089643354464e-06,
           9.66567709757046e-05,
           1.4339657467725586e-06,
           0.0006425970948949057,
           0.0003382357113224299,
           0.0004906190294538932,
           0.00012102025018880791,
           0.00027061491367748737,
           4.346972345978893e-05,
           0.00037430805854894527,
           0.0003992562588660442,
           0.00017940166391169614,
           0.0005789956694203267,
           0.00012548216736354357,
           0.000560530017162912,
           0.0024848299594791593,
           0.00028166166816451487,
           0.0031898836322698182,
           0.00041290403327336054,
           0.0010589294482968715,
           0,
           0.0012206404609726538,
           0.00014905537568224168,
           9.549711161862526e-05,
           0.00023824314075271755,
           0.0006236548032540302,
           2.524595988072223e-05,
           0.0005735134751497538,
           0.0002552652465273646,
           0.00033464491830043834,
           0.0008375690561703897,
           0.0011332215964417803,
           0.00023843065528938217,
           0.0007135010437453741,
           0.0019500246182457515,
           0.00198241381555461,
           0.00139577577325318,
           0.0009043223188430588,
           0.0012846793731248862,
           0.000530905256126004,
           0.0004223411579415207,
           0.001727633390635873,
           0.000676759267188428,
           0.0005140494555831972,
           0.000893665524581442,
           8.710793245276823e-05,
           0.011828052960575982
          ],
          "colorscale": [
           [
            0,
            "rgb(12,51,131)"
           ],
           [
            0.25,
            "rgb(10,136,186)"
           ],
           [
            0.5,
            "rgb(242,211,56)"
           ],
           [
            0.75,
            "rgb(242,143,56)"
           ],
           [
            1,
            "rgb(217,30,30)"
           ]
          ],
          "showscale": true,
          "size": 25,
          "sizemode": "diameter",
          "sizeref": 1
         },
         "mode": "markers",
         "text": [
          "LotFrontage",
          "LotArea",
          "OverallQual",
          "OverallCond",
          "MasVnrArea",
          "ExterQual",
          "ExterCond",
          "BsmtQual",
          "BsmtCond",
          "BsmtExposure",
          "BsmtFinType1",
          "BsmtFinSF1",
          "BsmtFinType2",
          "BsmtFinSF2",
          "BsmtUnfSF",
          "TotalBsmtSF",
          "HeatingQC",
          "CentralAir",
          "1stFlrSF",
          "2ndFlrSF",
          "LowQualFinSF",
          "GrLivArea",
          "BsmtFullBath",
          "BsmtHalfBath",
          "FullBath",
          "HalfBath",
          "BedroomAbvGr",
          "KitchenAbvGr",
          "KitchenQual",
          "TotRmsAbvGrd",
          "Fireplaces",
          "FireplaceQu",
          "GarageCars",
          "GarageArea",
          "GarageQual",
          "GarageCond",
          "PavedDrive",
          "WoodDeckSF",
          "OpenPorchSF",
          "NeighborhoodLotArea",
          "NeighborhoodBldgType",
          "TotalSquareFeet",
          "NeighborhoodHouseStyle",
          "OverallQualNCond",
          "NeighborhoodOverallQualNCond",
          "AdjRemodAdd",
          "QuarterMeanNorm",
          "MonthMeanNorm",
          "Neighborhood_2",
          "Neighborhood_3",
          "Neighborhood_4",
          "Neighborhood_5",
          "Neighborhood_6",
          "Neighborhood_7",
          "Neighborhood_8",
          "Neighborhood_9",
          "Neighborhood_10",
          "Neighborhood_11",
          "Neighborhood_12",
          "Neighborhood_13",
          "Neighborhood_14",
          "Neighborhood_15",
          "Neighborhood_16",
          "Neighborhood_17",
          "Neighborhood_18",
          "Neighborhood_19",
          "Neighborhood_20",
          "Neighborhood_21",
          "Neighborhood_22",
          "Neighborhood_23",
          "Neighborhood_24",
          "Neighborhood_25",
          "LotConfig_2",
          "LotConfig_3",
          "LotConfig_4",
          "LotConfig_5",
          "BldgType_2",
          "BldgType_3",
          "BldgType_4",
          "BldgType_5",
          "HouseStyle_2",
          "HouseStyle_3",
          "HouseStyle_4",
          "HouseStyle_5",
          "HouseStyle_6",
          "HouseStyle_7",
          "HouseStyle_8",
          "SaleCondition_1",
          "SaleCondition_2",
          "SaleCondition_3",
          "GarageFinish_1",
          "GarageFinish_2",
          "GarageFinish_3",
          "GarageType_1",
          "GarageType_2",
          "GarageType_3",
          "GarageType_4",
          "Foundation_1",
          "Foundation_2",
          "Foundation_3",
          "Foundation_4"
         ],
         "type": "scatter",
         "x": [
          "LotFrontage",
          "LotArea",
          "OverallQual",
          "OverallCond",
          "MasVnrArea",
          "ExterQual",
          "ExterCond",
          "BsmtQual",
          "BsmtCond",
          "BsmtExposure",
          "BsmtFinType1",
          "BsmtFinSF1",
          "BsmtFinType2",
          "BsmtFinSF2",
          "BsmtUnfSF",
          "TotalBsmtSF",
          "HeatingQC",
          "CentralAir",
          "1stFlrSF",
          "2ndFlrSF",
          "LowQualFinSF",
          "GrLivArea",
          "BsmtFullBath",
          "BsmtHalfBath",
          "FullBath",
          "HalfBath",
          "BedroomAbvGr",
          "KitchenAbvGr",
          "KitchenQual",
          "TotRmsAbvGrd",
          "Fireplaces",
          "FireplaceQu",
          "GarageCars",
          "GarageArea",
          "GarageQual",
          "GarageCond",
          "PavedDrive",
          "WoodDeckSF",
          "OpenPorchSF",
          "NeighborhoodLotArea",
          "NeighborhoodBldgType",
          "TotalSquareFeet",
          "NeighborhoodHouseStyle",
          "OverallQualNCond",
          "NeighborhoodOverallQualNCond",
          "AdjRemodAdd",
          "QuarterMeanNorm",
          "MonthMeanNorm",
          "Neighborhood_2",
          "Neighborhood_3",
          "Neighborhood_4",
          "Neighborhood_5",
          "Neighborhood_6",
          "Neighborhood_7",
          "Neighborhood_8",
          "Neighborhood_9",
          "Neighborhood_10",
          "Neighborhood_11",
          "Neighborhood_12",
          "Neighborhood_13",
          "Neighborhood_14",
          "Neighborhood_15",
          "Neighborhood_16",
          "Neighborhood_17",
          "Neighborhood_18",
          "Neighborhood_19",
          "Neighborhood_20",
          "Neighborhood_21",
          "Neighborhood_22",
          "Neighborhood_23",
          "Neighborhood_24",
          "Neighborhood_25",
          "LotConfig_2",
          "LotConfig_3",
          "LotConfig_4",
          "LotConfig_5",
          "BldgType_2",
          "BldgType_3",
          "BldgType_4",
          "BldgType_5",
          "HouseStyle_2",
          "HouseStyle_3",
          "HouseStyle_4",
          "HouseStyle_5",
          "HouseStyle_6",
          "HouseStyle_7",
          "HouseStyle_8",
          "SaleCondition_1",
          "SaleCondition_2",
          "SaleCondition_3",
          "GarageFinish_1",
          "GarageFinish_2",
          "GarageFinish_3",
          "GarageType_1",
          "GarageType_2",
          "GarageType_3",
          "GarageType_4",
          "Foundation_1",
          "Foundation_2",
          "Foundation_3",
          "Foundation_4"
         ],
         "y": [
          0.002296664618309864,
          0.00229475511811743,
          0.13335312790105308,
          0.004796756825009015,
          0.0025665172181246424,
          0.09407688747417639,
          0.0006649791059562593,
          0.036193960510190894,
          0.001081943512792711,
          0.002995285295837621,
          0.0020075935765859992,
          0.0048098646959302774,
          0.0002752208246027496,
          0.0004646955684178815,
          0.002265064109579709,
          0.020975970206321415,
          0.0010476527945535842,
          0.002558517897827968,
          0.006277093533255907,
          0.0035084934740580213,
          0.00013103149511867315,
          0.027338459079434475,
          0.001998483146027528,
          0.002134871357556997,
          0.012091840182549012,
          0.002470135925344704,
          0.002405790780157528,
          0.00014038494744371586,
          0.018776293619608742,
          0.009952375379189356,
          0.003446687292381551,
          0.007311834728726535,
          0.04111513278111301,
          0.002969304116719949,
          0.00038375018134327295,
          0.0008236908863647244,
          0.0003372271268660589,
          0.0014466499499777704,
          0.002363598445187819,
          0.0026304355792767698,
          0.05727263441640462,
          0.2278033785721936,
          0.02088654067125609,
          0.01163473014960395,
          0.1629136887829056,
          0.004693917807034378,
          0.0019610126475245572,
          0.0018037062224406663,
          0.00010171156088990618,
          7.109588727546719e-06,
          0.0013784046450990668,
          0.0012394698863299226,
          0.001060986099510546,
          0.0001746329556563199,
          2.0110089643354464e-06,
          9.66567709757046e-05,
          1.4339657467725586e-06,
          0.0006425970948949057,
          0.0003382357113224299,
          0.0004906190294538932,
          0.00012102025018880791,
          0.00027061491367748737,
          4.346972345978893e-05,
          0.00037430805854894527,
          0.0003992562588660442,
          0.00017940166391169614,
          0.0005789956694203267,
          0.00012548216736354357,
          0.000560530017162912,
          0.0024848299594791593,
          0.00028166166816451487,
          0.0031898836322698182,
          0.00041290403327336054,
          0.0010589294482968715,
          0,
          0.0012206404609726538,
          0.00014905537568224168,
          9.549711161862526e-05,
          0.00023824314075271755,
          0.0006236548032540302,
          2.524595988072223e-05,
          0.0005735134751497538,
          0.0002552652465273646,
          0.00033464491830043834,
          0.0008375690561703897,
          0.0011332215964417803,
          0.00023843065528938217,
          0.0007135010437453741,
          0.0019500246182457515,
          0.00198241381555461,
          0.00139577577325318,
          0.0009043223188430588,
          0.0012846793731248862,
          0.000530905256126004,
          0.0004223411579415207,
          0.001727633390635873,
          0.000676759267188428,
          0.0005140494555831972,
          0.000893665524581442,
          8.710793245276823e-05,
          0.011828052960575982
         ]
        }
       ],
       "layout": {
        "autosize": true,
        "hovermode": "closest",
        "showlegend": false,
        "template": {
         "data": {
          "bar": [
           {
            "error_x": {
             "color": "#2a3f5f"
            },
            "error_y": {
             "color": "#2a3f5f"
            },
            "marker": {
             "line": {
              "color": "#E5ECF6",
              "width": 0.5
             }
            },
            "type": "bar"
           }
          ],
          "barpolar": [
           {
            "marker": {
             "line": {
              "color": "#E5ECF6",
              "width": 0.5
             }
            },
            "type": "barpolar"
           }
          ],
          "carpet": [
           {
            "aaxis": {
             "endlinecolor": "#2a3f5f",
             "gridcolor": "white",
             "linecolor": "white",
             "minorgridcolor": "white",
             "startlinecolor": "#2a3f5f"
            },
            "baxis": {
             "endlinecolor": "#2a3f5f",
             "gridcolor": "white",
             "linecolor": "white",
             "minorgridcolor": "white",
             "startlinecolor": "#2a3f5f"
            },
            "type": "carpet"
           }
          ],
          "choropleth": [
           {
            "colorbar": {
             "outlinewidth": 0,
             "ticks": ""
            },
            "type": "choropleth"
           }
          ],
          "contour": [
           {
            "colorbar": {
             "outlinewidth": 0,
             "ticks": ""
            },
            "colorscale": [
             [
              0,
              "#0d0887"
             ],
             [
              0.1111111111111111,
              "#46039f"
             ],
             [
              0.2222222222222222,
              "#7201a8"
             ],
             [
              0.3333333333333333,
              "#9c179e"
             ],
             [
              0.4444444444444444,
              "#bd3786"
             ],
             [
              0.5555555555555556,
              "#d8576b"
             ],
             [
              0.6666666666666666,
              "#ed7953"
             ],
             [
              0.7777777777777778,
              "#fb9f3a"
             ],
             [
              0.8888888888888888,
              "#fdca26"
             ],
             [
              1,
              "#f0f921"
             ]
            ],
            "type": "contour"
           }
          ],
          "contourcarpet": [
           {
            "colorbar": {
             "outlinewidth": 0,
             "ticks": ""
            },
            "type": "contourcarpet"
           }
          ],
          "heatmap": [
           {
            "colorbar": {
             "outlinewidth": 0,
             "ticks": ""
            },
            "colorscale": [
             [
              0,
              "#0d0887"
             ],
             [
              0.1111111111111111,
              "#46039f"
             ],
             [
              0.2222222222222222,
              "#7201a8"
             ],
             [
              0.3333333333333333,
              "#9c179e"
             ],
             [
              0.4444444444444444,
              "#bd3786"
             ],
             [
              0.5555555555555556,
              "#d8576b"
             ],
             [
              0.6666666666666666,
              "#ed7953"
             ],
             [
              0.7777777777777778,
              "#fb9f3a"
             ],
             [
              0.8888888888888888,
              "#fdca26"
             ],
             [
              1,
              "#f0f921"
             ]
            ],
            "type": "heatmap"
           }
          ],
          "heatmapgl": [
           {
            "colorbar": {
             "outlinewidth": 0,
             "ticks": ""
            },
            "colorscale": [
             [
              0,
              "#0d0887"
             ],
             [
              0.1111111111111111,
              "#46039f"
             ],
             [
              0.2222222222222222,
              "#7201a8"
             ],
             [
              0.3333333333333333,
              "#9c179e"
             ],
             [
              0.4444444444444444,
              "#bd3786"
             ],
             [
              0.5555555555555556,
              "#d8576b"
             ],
             [
              0.6666666666666666,
              "#ed7953"
             ],
             [
              0.7777777777777778,
              "#fb9f3a"
             ],
             [
              0.8888888888888888,
              "#fdca26"
             ],
             [
              1,
              "#f0f921"
             ]
            ],
            "type": "heatmapgl"
           }
          ],
          "histogram": [
           {
            "marker": {
             "colorbar": {
              "outlinewidth": 0,
              "ticks": ""
             }
            },
            "type": "histogram"
           }
          ],
          "histogram2d": [
           {
            "colorbar": {
             "outlinewidth": 0,
             "ticks": ""
            },
            "colorscale": [
             [
              0,
              "#0d0887"
             ],
             [
              0.1111111111111111,
              "#46039f"
             ],
             [
              0.2222222222222222,
              "#7201a8"
             ],
             [
              0.3333333333333333,
              "#9c179e"
             ],
             [
              0.4444444444444444,
              "#bd3786"
             ],
             [
              0.5555555555555556,
              "#d8576b"
             ],
             [
              0.6666666666666666,
              "#ed7953"
             ],
             [
              0.7777777777777778,
              "#fb9f3a"
             ],
             [
              0.8888888888888888,
              "#fdca26"
             ],
             [
              1,
              "#f0f921"
             ]
            ],
            "type": "histogram2d"
           }
          ],
          "histogram2dcontour": [
           {
            "colorbar": {
             "outlinewidth": 0,
             "ticks": ""
            },
            "colorscale": [
             [
              0,
              "#0d0887"
             ],
             [
              0.1111111111111111,
              "#46039f"
             ],
             [
              0.2222222222222222,
              "#7201a8"
             ],
             [
              0.3333333333333333,
              "#9c179e"
             ],
             [
              0.4444444444444444,
              "#bd3786"
             ],
             [
              0.5555555555555556,
              "#d8576b"
             ],
             [
              0.6666666666666666,
              "#ed7953"
             ],
             [
              0.7777777777777778,
              "#fb9f3a"
             ],
             [
              0.8888888888888888,
              "#fdca26"
             ],
             [
              1,
              "#f0f921"
             ]
            ],
            "type": "histogram2dcontour"
           }
          ],
          "mesh3d": [
           {
            "colorbar": {
             "outlinewidth": 0,
             "ticks": ""
            },
            "type": "mesh3d"
           }
          ],
          "parcoords": [
           {
            "line": {
             "colorbar": {
              "outlinewidth": 0,
              "ticks": ""
             }
            },
            "type": "parcoords"
           }
          ],
          "pie": [
           {
            "automargin": true,
            "type": "pie"
           }
          ],
          "scatter": [
           {
            "marker": {
             "colorbar": {
              "outlinewidth": 0,
              "ticks": ""
             }
            },
            "type": "scatter"
           }
          ],
          "scatter3d": [
           {
            "line": {
             "colorbar": {
              "outlinewidth": 0,
              "ticks": ""
             }
            },
            "marker": {
             "colorbar": {
              "outlinewidth": 0,
              "ticks": ""
             }
            },
            "type": "scatter3d"
           }
          ],
          "scattercarpet": [
           {
            "marker": {
             "colorbar": {
              "outlinewidth": 0,
              "ticks": ""
             }
            },
            "type": "scattercarpet"
           }
          ],
          "scattergeo": [
           {
            "marker": {
             "colorbar": {
              "outlinewidth": 0,
              "ticks": ""
             }
            },
            "type": "scattergeo"
           }
          ],
          "scattergl": [
           {
            "marker": {
             "colorbar": {
              "outlinewidth": 0,
              "ticks": ""
             }
            },
            "type": "scattergl"
           }
          ],
          "scattermapbox": [
           {
            "marker": {
             "colorbar": {
              "outlinewidth": 0,
              "ticks": ""
             }
            },
            "type": "scattermapbox"
           }
          ],
          "scatterpolar": [
           {
            "marker": {
             "colorbar": {
              "outlinewidth": 0,
              "ticks": ""
             }
            },
            "type": "scatterpolar"
           }
          ],
          "scatterpolargl": [
           {
            "marker": {
             "colorbar": {
              "outlinewidth": 0,
              "ticks": ""
             }
            },
            "type": "scatterpolargl"
           }
          ],
          "scatterternary": [
           {
            "marker": {
             "colorbar": {
              "outlinewidth": 0,
              "ticks": ""
             }
            },
            "type": "scatterternary"
           }
          ],
          "surface": [
           {
            "colorbar": {
             "outlinewidth": 0,
             "ticks": ""
            },
            "colorscale": [
             [
              0,
              "#0d0887"
             ],
             [
              0.1111111111111111,
              "#46039f"
             ],
             [
              0.2222222222222222,
              "#7201a8"
             ],
             [
              0.3333333333333333,
              "#9c179e"
             ],
             [
              0.4444444444444444,
              "#bd3786"
             ],
             [
              0.5555555555555556,
              "#d8576b"
             ],
             [
              0.6666666666666666,
              "#ed7953"
             ],
             [
              0.7777777777777778,
              "#fb9f3a"
             ],
             [
              0.8888888888888888,
              "#fdca26"
             ],
             [
              1,
              "#f0f921"
             ]
            ],
            "type": "surface"
           }
          ],
          "table": [
           {
            "cells": {
             "fill": {
              "color": "#EBF0F8"
             },
             "line": {
              "color": "white"
             }
            },
            "header": {
             "fill": {
              "color": "#C8D4E3"
             },
             "line": {
              "color": "white"
             }
            },
            "type": "table"
           }
          ]
         },
         "layout": {
          "annotationdefaults": {
           "arrowcolor": "#2a3f5f",
           "arrowhead": 0,
           "arrowwidth": 1
          },
          "coloraxis": {
           "colorbar": {
            "outlinewidth": 0,
            "ticks": ""
           }
          },
          "colorscale": {
           "diverging": [
            [
             0,
             "#8e0152"
            ],
            [
             0.1,
             "#c51b7d"
            ],
            [
             0.2,
             "#de77ae"
            ],
            [
             0.3,
             "#f1b6da"
            ],
            [
             0.4,
             "#fde0ef"
            ],
            [
             0.5,
             "#f7f7f7"
            ],
            [
             0.6,
             "#e6f5d0"
            ],
            [
             0.7,
             "#b8e186"
            ],
            [
             0.8,
             "#7fbc41"
            ],
            [
             0.9,
             "#4d9221"
            ],
            [
             1,
             "#276419"
            ]
           ],
           "sequential": [
            [
             0,
             "#0d0887"
            ],
            [
             0.1111111111111111,
             "#46039f"
            ],
            [
             0.2222222222222222,
             "#7201a8"
            ],
            [
             0.3333333333333333,
             "#9c179e"
            ],
            [
             0.4444444444444444,
             "#bd3786"
            ],
            [
             0.5555555555555556,
             "#d8576b"
            ],
            [
             0.6666666666666666,
             "#ed7953"
            ],
            [
             0.7777777777777778,
             "#fb9f3a"
            ],
            [
             0.8888888888888888,
             "#fdca26"
            ],
            [
             1,
             "#f0f921"
            ]
           ],
           "sequentialminus": [
            [
             0,
             "#0d0887"
            ],
            [
             0.1111111111111111,
             "#46039f"
            ],
            [
             0.2222222222222222,
             "#7201a8"
            ],
            [
             0.3333333333333333,
             "#9c179e"
            ],
            [
             0.4444444444444444,
             "#bd3786"
            ],
            [
             0.5555555555555556,
             "#d8576b"
            ],
            [
             0.6666666666666666,
             "#ed7953"
            ],
            [
             0.7777777777777778,
             "#fb9f3a"
            ],
            [
             0.8888888888888888,
             "#fdca26"
            ],
            [
             1,
             "#f0f921"
            ]
           ]
          },
          "colorway": [
           "#636efa",
           "#EF553B",
           "#00cc96",
           "#ab63fa",
           "#FFA15A",
           "#19d3f3",
           "#FF6692",
           "#B6E880",
           "#FF97FF",
           "#FECB52"
          ],
          "font": {
           "color": "#2a3f5f"
          },
          "geo": {
           "bgcolor": "white",
           "lakecolor": "white",
           "landcolor": "#E5ECF6",
           "showlakes": true,
           "showland": true,
           "subunitcolor": "white"
          },
          "hoverlabel": {
           "align": "left"
          },
          "hovermode": "closest",
          "mapbox": {
           "style": "light"
          },
          "paper_bgcolor": "white",
          "plot_bgcolor": "#E5ECF6",
          "polar": {
           "angularaxis": {
            "gridcolor": "white",
            "linecolor": "white",
            "ticks": ""
           },
           "bgcolor": "#E5ECF6",
           "radialaxis": {
            "gridcolor": "white",
            "linecolor": "white",
            "ticks": ""
           }
          },
          "scene": {
           "xaxis": {
            "backgroundcolor": "#E5ECF6",
            "gridcolor": "white",
            "gridwidth": 2,
            "linecolor": "white",
            "showbackground": true,
            "ticks": "",
            "zerolinecolor": "white"
           },
           "yaxis": {
            "backgroundcolor": "#E5ECF6",
            "gridcolor": "white",
            "gridwidth": 2,
            "linecolor": "white",
            "showbackground": true,
            "ticks": "",
            "zerolinecolor": "white"
           },
           "zaxis": {
            "backgroundcolor": "#E5ECF6",
            "gridcolor": "white",
            "gridwidth": 2,
            "linecolor": "white",
            "showbackground": true,
            "ticks": "",
            "zerolinecolor": "white"
           }
          },
          "shapedefaults": {
           "line": {
            "color": "#2a3f5f"
           }
          },
          "ternary": {
           "aaxis": {
            "gridcolor": "white",
            "linecolor": "white",
            "ticks": ""
           },
           "baxis": {
            "gridcolor": "white",
            "linecolor": "white",
            "ticks": ""
           },
           "bgcolor": "#E5ECF6",
           "caxis": {
            "gridcolor": "white",
            "linecolor": "white",
            "ticks": ""
           }
          },
          "title": {
           "x": 0.05
          },
          "xaxis": {
           "automargin": true,
           "gridcolor": "white",
           "linecolor": "white",
           "ticks": "",
           "title": {
            "standoff": 15
           },
           "zerolinecolor": "white",
           "zerolinewidth": 2
          },
          "yaxis": {
           "automargin": true,
           "gridcolor": "white",
           "linecolor": "white",
           "ticks": "",
           "title": {
            "standoff": 15
           },
           "zerolinecolor": "white",
           "zerolinewidth": 2
          }
         }
        },
        "title": {
         "text": "Extra Trees Feature Importance"
        },
        "yaxis": {
         "gridwidth": 2,
         "ticklen": 5,
         "title": {
          "text": "Feature Importance"
         }
        }
       }
      },
      "text/html": [
       "<div>\n",
       "        \n",
       "        \n",
       "            <div id=\"b5d990c6-bbb5-4d87-b06f-ed29291df551\" class=\"plotly-graph-div\" style=\"height:525px; width:100%;\"></div>\n",
       "            <script type=\"text/javascript\">\n",
       "                require([\"plotly\"], function(Plotly) {\n",
       "                    window.PLOTLYENV=window.PLOTLYENV || {};\n",
       "                    \n",
       "                if (document.getElementById(\"b5d990c6-bbb5-4d87-b06f-ed29291df551\")) {\n",
       "                    Plotly.newPlot(\n",
       "                        'b5d990c6-bbb5-4d87-b06f-ed29291df551',\n",
       "                        [{\"marker\": {\"color\": [0.002296664618309864, 0.00229475511811743, 0.13335312790105308, 0.004796756825009015, 0.0025665172181246424, 0.09407688747417639, 0.0006649791059562593, 0.036193960510190894, 0.001081943512792711, 0.002995285295837621, 0.0020075935765859992, 0.0048098646959302774, 0.0002752208246027496, 0.0004646955684178815, 0.002265064109579709, 0.020975970206321415, 0.0010476527945535842, 0.002558517897827968, 0.006277093533255907, 0.0035084934740580213, 0.00013103149511867315, 0.027338459079434475, 0.001998483146027528, 0.002134871357556997, 0.012091840182549012, 0.002470135925344704, 0.002405790780157528, 0.00014038494744371586, 0.018776293619608742, 0.009952375379189356, 0.003446687292381551, 0.007311834728726535, 0.04111513278111301, 0.002969304116719949, 0.00038375018134327295, 0.0008236908863647244, 0.0003372271268660589, 0.0014466499499777704, 0.002363598445187819, 0.0026304355792767698, 0.05727263441640462, 0.2278033785721936, 0.02088654067125609, 0.01163473014960395, 0.1629136887829056, 0.004693917807034378, 0.0019610126475245572, 0.0018037062224406663, 0.00010171156088990618, 7.109588727546719e-06, 0.0013784046450990668, 0.0012394698863299226, 0.001060986099510546, 0.0001746329556563199, 2.0110089643354464e-06, 9.66567709757046e-05, 1.4339657467725586e-06, 0.0006425970948949057, 0.0003382357113224299, 0.0004906190294538932, 0.00012102025018880791, 0.00027061491367748737, 4.346972345978893e-05, 0.00037430805854894527, 0.0003992562588660442, 0.00017940166391169614, 0.0005789956694203267, 0.00012548216736354357, 0.000560530017162912, 0.0024848299594791593, 0.00028166166816451487, 0.0031898836322698182, 0.00041290403327336054, 0.0010589294482968715, 0.0, 0.0012206404609726538, 0.00014905537568224168, 9.549711161862526e-05, 0.00023824314075271755, 0.0006236548032540302, 2.524595988072223e-05, 0.0005735134751497538, 0.0002552652465273646, 0.00033464491830043834, 0.0008375690561703897, 0.0011332215964417803, 0.00023843065528938217, 0.0007135010437453741, 0.0019500246182457515, 0.00198241381555461, 0.00139577577325318, 0.0009043223188430588, 0.0012846793731248862, 0.000530905256126004, 0.0004223411579415207, 0.001727633390635873, 0.000676759267188428, 0.0005140494555831972, 0.000893665524581442, 8.710793245276823e-05, 0.011828052960575982], \"colorscale\": [[0.0, \"rgb(12,51,131)\"], [0.25, \"rgb(10,136,186)\"], [0.5, \"rgb(242,211,56)\"], [0.75, \"rgb(242,143,56)\"], [1.0, \"rgb(217,30,30)\"]], \"showscale\": true, \"size\": 25, \"sizemode\": \"diameter\", \"sizeref\": 1}, \"mode\": \"markers\", \"text\": [\"LotFrontage\", \"LotArea\", \"OverallQual\", \"OverallCond\", \"MasVnrArea\", \"ExterQual\", \"ExterCond\", \"BsmtQual\", \"BsmtCond\", \"BsmtExposure\", \"BsmtFinType1\", \"BsmtFinSF1\", \"BsmtFinType2\", \"BsmtFinSF2\", \"BsmtUnfSF\", \"TotalBsmtSF\", \"HeatingQC\", \"CentralAir\", \"1stFlrSF\", \"2ndFlrSF\", \"LowQualFinSF\", \"GrLivArea\", \"BsmtFullBath\", \"BsmtHalfBath\", \"FullBath\", \"HalfBath\", \"BedroomAbvGr\", \"KitchenAbvGr\", \"KitchenQual\", \"TotRmsAbvGrd\", \"Fireplaces\", \"FireplaceQu\", \"GarageCars\", \"GarageArea\", \"GarageQual\", \"GarageCond\", \"PavedDrive\", \"WoodDeckSF\", \"OpenPorchSF\", \"NeighborhoodLotArea\", \"NeighborhoodBldgType\", \"TotalSquareFeet\", \"NeighborhoodHouseStyle\", \"OverallQualNCond\", \"NeighborhoodOverallQualNCond\", \"AdjRemodAdd\", \"QuarterMeanNorm\", \"MonthMeanNorm\", \"Neighborhood_2\", \"Neighborhood_3\", \"Neighborhood_4\", \"Neighborhood_5\", \"Neighborhood_6\", \"Neighborhood_7\", \"Neighborhood_8\", \"Neighborhood_9\", \"Neighborhood_10\", \"Neighborhood_11\", \"Neighborhood_12\", \"Neighborhood_13\", \"Neighborhood_14\", \"Neighborhood_15\", \"Neighborhood_16\", \"Neighborhood_17\", \"Neighborhood_18\", \"Neighborhood_19\", \"Neighborhood_20\", \"Neighborhood_21\", \"Neighborhood_22\", \"Neighborhood_23\", \"Neighborhood_24\", \"Neighborhood_25\", \"LotConfig_2\", \"LotConfig_3\", \"LotConfig_4\", \"LotConfig_5\", \"BldgType_2\", \"BldgType_3\", \"BldgType_4\", \"BldgType_5\", \"HouseStyle_2\", \"HouseStyle_3\", \"HouseStyle_4\", \"HouseStyle_5\", \"HouseStyle_6\", \"HouseStyle_7\", \"HouseStyle_8\", \"SaleCondition_1\", \"SaleCondition_2\", \"SaleCondition_3\", \"GarageFinish_1\", \"GarageFinish_2\", \"GarageFinish_3\", \"GarageType_1\", \"GarageType_2\", \"GarageType_3\", \"GarageType_4\", \"Foundation_1\", \"Foundation_2\", \"Foundation_3\", \"Foundation_4\"], \"type\": \"scatter\", \"x\": [\"LotFrontage\", \"LotArea\", \"OverallQual\", \"OverallCond\", \"MasVnrArea\", \"ExterQual\", \"ExterCond\", \"BsmtQual\", \"BsmtCond\", \"BsmtExposure\", \"BsmtFinType1\", \"BsmtFinSF1\", \"BsmtFinType2\", \"BsmtFinSF2\", \"BsmtUnfSF\", \"TotalBsmtSF\", \"HeatingQC\", \"CentralAir\", \"1stFlrSF\", \"2ndFlrSF\", \"LowQualFinSF\", \"GrLivArea\", \"BsmtFullBath\", \"BsmtHalfBath\", \"FullBath\", \"HalfBath\", \"BedroomAbvGr\", \"KitchenAbvGr\", \"KitchenQual\", \"TotRmsAbvGrd\", \"Fireplaces\", \"FireplaceQu\", \"GarageCars\", \"GarageArea\", \"GarageQual\", \"GarageCond\", \"PavedDrive\", \"WoodDeckSF\", \"OpenPorchSF\", \"NeighborhoodLotArea\", \"NeighborhoodBldgType\", \"TotalSquareFeet\", \"NeighborhoodHouseStyle\", \"OverallQualNCond\", \"NeighborhoodOverallQualNCond\", \"AdjRemodAdd\", \"QuarterMeanNorm\", \"MonthMeanNorm\", \"Neighborhood_2\", \"Neighborhood_3\", \"Neighborhood_4\", \"Neighborhood_5\", \"Neighborhood_6\", \"Neighborhood_7\", \"Neighborhood_8\", \"Neighborhood_9\", \"Neighborhood_10\", \"Neighborhood_11\", \"Neighborhood_12\", \"Neighborhood_13\", \"Neighborhood_14\", \"Neighborhood_15\", \"Neighborhood_16\", \"Neighborhood_17\", \"Neighborhood_18\", \"Neighborhood_19\", \"Neighborhood_20\", \"Neighborhood_21\", \"Neighborhood_22\", \"Neighborhood_23\", \"Neighborhood_24\", \"Neighborhood_25\", \"LotConfig_2\", \"LotConfig_3\", \"LotConfig_4\", \"LotConfig_5\", \"BldgType_2\", \"BldgType_3\", \"BldgType_4\", \"BldgType_5\", \"HouseStyle_2\", \"HouseStyle_3\", \"HouseStyle_4\", \"HouseStyle_5\", \"HouseStyle_6\", \"HouseStyle_7\", \"HouseStyle_8\", \"SaleCondition_1\", \"SaleCondition_2\", \"SaleCondition_3\", \"GarageFinish_1\", \"GarageFinish_2\", \"GarageFinish_3\", \"GarageType_1\", \"GarageType_2\", \"GarageType_3\", \"GarageType_4\", \"Foundation_1\", \"Foundation_2\", \"Foundation_3\", \"Foundation_4\"], \"y\": [0.002296664618309864, 0.00229475511811743, 0.13335312790105308, 0.004796756825009015, 0.0025665172181246424, 0.09407688747417639, 0.0006649791059562593, 0.036193960510190894, 0.001081943512792711, 0.002995285295837621, 0.0020075935765859992, 0.0048098646959302774, 0.0002752208246027496, 0.0004646955684178815, 0.002265064109579709, 0.020975970206321415, 0.0010476527945535842, 0.002558517897827968, 0.006277093533255907, 0.0035084934740580213, 0.00013103149511867315, 0.027338459079434475, 0.001998483146027528, 0.002134871357556997, 0.012091840182549012, 0.002470135925344704, 0.002405790780157528, 0.00014038494744371586, 0.018776293619608742, 0.009952375379189356, 0.003446687292381551, 0.007311834728726535, 0.04111513278111301, 0.002969304116719949, 0.00038375018134327295, 0.0008236908863647244, 0.0003372271268660589, 0.0014466499499777704, 0.002363598445187819, 0.0026304355792767698, 0.05727263441640462, 0.2278033785721936, 0.02088654067125609, 0.01163473014960395, 0.1629136887829056, 0.004693917807034378, 0.0019610126475245572, 0.0018037062224406663, 0.00010171156088990618, 7.109588727546719e-06, 0.0013784046450990668, 0.0012394698863299226, 0.001060986099510546, 0.0001746329556563199, 2.0110089643354464e-06, 9.66567709757046e-05, 1.4339657467725586e-06, 0.0006425970948949057, 0.0003382357113224299, 0.0004906190294538932, 0.00012102025018880791, 0.00027061491367748737, 4.346972345978893e-05, 0.00037430805854894527, 0.0003992562588660442, 0.00017940166391169614, 0.0005789956694203267, 0.00012548216736354357, 0.000560530017162912, 0.0024848299594791593, 0.00028166166816451487, 0.0031898836322698182, 0.00041290403327336054, 0.0010589294482968715, 0.0, 0.0012206404609726538, 0.00014905537568224168, 9.549711161862526e-05, 0.00023824314075271755, 0.0006236548032540302, 2.524595988072223e-05, 0.0005735134751497538, 0.0002552652465273646, 0.00033464491830043834, 0.0008375690561703897, 0.0011332215964417803, 0.00023843065528938217, 0.0007135010437453741, 0.0019500246182457515, 0.00198241381555461, 0.00139577577325318, 0.0009043223188430588, 0.0012846793731248862, 0.000530905256126004, 0.0004223411579415207, 0.001727633390635873, 0.000676759267188428, 0.0005140494555831972, 0.000893665524581442, 8.710793245276823e-05, 0.011828052960575982]}],\n",
       "                        {\"autosize\": true, \"hovermode\": \"closest\", \"showlegend\": false, \"template\": {\"data\": {\"bar\": [{\"error_x\": {\"color\": \"#2a3f5f\"}, \"error_y\": {\"color\": \"#2a3f5f\"}, \"marker\": {\"line\": {\"color\": \"#E5ECF6\", \"width\": 0.5}}, \"type\": \"bar\"}], \"barpolar\": [{\"marker\": {\"line\": {\"color\": \"#E5ECF6\", \"width\": 0.5}}, \"type\": \"barpolar\"}], \"carpet\": [{\"aaxis\": {\"endlinecolor\": \"#2a3f5f\", \"gridcolor\": \"white\", \"linecolor\": \"white\", \"minorgridcolor\": \"white\", \"startlinecolor\": \"#2a3f5f\"}, \"baxis\": {\"endlinecolor\": \"#2a3f5f\", \"gridcolor\": \"white\", \"linecolor\": \"white\", \"minorgridcolor\": \"white\", \"startlinecolor\": \"#2a3f5f\"}, \"type\": \"carpet\"}], \"choropleth\": [{\"colorbar\": {\"outlinewidth\": 0, \"ticks\": \"\"}, \"type\": \"choropleth\"}], \"contour\": [{\"colorbar\": {\"outlinewidth\": 0, \"ticks\": \"\"}, \"colorscale\": [[0.0, \"#0d0887\"], [0.1111111111111111, \"#46039f\"], [0.2222222222222222, \"#7201a8\"], [0.3333333333333333, \"#9c179e\"], [0.4444444444444444, \"#bd3786\"], [0.5555555555555556, \"#d8576b\"], [0.6666666666666666, \"#ed7953\"], [0.7777777777777778, \"#fb9f3a\"], [0.8888888888888888, \"#fdca26\"], [1.0, \"#f0f921\"]], \"type\": \"contour\"}], \"contourcarpet\": [{\"colorbar\": {\"outlinewidth\": 0, \"ticks\": \"\"}, \"type\": \"contourcarpet\"}], \"heatmap\": [{\"colorbar\": {\"outlinewidth\": 0, \"ticks\": \"\"}, \"colorscale\": [[0.0, \"#0d0887\"], [0.1111111111111111, \"#46039f\"], [0.2222222222222222, \"#7201a8\"], [0.3333333333333333, \"#9c179e\"], [0.4444444444444444, \"#bd3786\"], [0.5555555555555556, \"#d8576b\"], [0.6666666666666666, \"#ed7953\"], [0.7777777777777778, \"#fb9f3a\"], [0.8888888888888888, \"#fdca26\"], [1.0, \"#f0f921\"]], \"type\": \"heatmap\"}], \"heatmapgl\": [{\"colorbar\": {\"outlinewidth\": 0, \"ticks\": \"\"}, \"colorscale\": [[0.0, \"#0d0887\"], [0.1111111111111111, \"#46039f\"], [0.2222222222222222, \"#7201a8\"], [0.3333333333333333, \"#9c179e\"], [0.4444444444444444, \"#bd3786\"], [0.5555555555555556, \"#d8576b\"], [0.6666666666666666, \"#ed7953\"], [0.7777777777777778, \"#fb9f3a\"], [0.8888888888888888, \"#fdca26\"], [1.0, \"#f0f921\"]], \"type\": \"heatmapgl\"}], \"histogram\": [{\"marker\": {\"colorbar\": {\"outlinewidth\": 0, \"ticks\": \"\"}}, \"type\": \"histogram\"}], \"histogram2d\": [{\"colorbar\": {\"outlinewidth\": 0, \"ticks\": \"\"}, \"colorscale\": [[0.0, \"#0d0887\"], [0.1111111111111111, \"#46039f\"], [0.2222222222222222, \"#7201a8\"], [0.3333333333333333, \"#9c179e\"], [0.4444444444444444, \"#bd3786\"], [0.5555555555555556, \"#d8576b\"], [0.6666666666666666, \"#ed7953\"], [0.7777777777777778, \"#fb9f3a\"], [0.8888888888888888, \"#fdca26\"], [1.0, \"#f0f921\"]], \"type\": \"histogram2d\"}], \"histogram2dcontour\": [{\"colorbar\": {\"outlinewidth\": 0, \"ticks\": \"\"}, \"colorscale\": [[0.0, \"#0d0887\"], [0.1111111111111111, \"#46039f\"], [0.2222222222222222, \"#7201a8\"], [0.3333333333333333, \"#9c179e\"], [0.4444444444444444, \"#bd3786\"], [0.5555555555555556, \"#d8576b\"], [0.6666666666666666, \"#ed7953\"], [0.7777777777777778, \"#fb9f3a\"], [0.8888888888888888, \"#fdca26\"], [1.0, \"#f0f921\"]], \"type\": \"histogram2dcontour\"}], \"mesh3d\": [{\"colorbar\": {\"outlinewidth\": 0, \"ticks\": \"\"}, \"type\": \"mesh3d\"}], \"parcoords\": [{\"line\": {\"colorbar\": {\"outlinewidth\": 0, \"ticks\": \"\"}}, \"type\": \"parcoords\"}], \"pie\": [{\"automargin\": true, \"type\": \"pie\"}], \"scatter\": [{\"marker\": {\"colorbar\": {\"outlinewidth\": 0, \"ticks\": \"\"}}, \"type\": \"scatter\"}], \"scatter3d\": [{\"line\": {\"colorbar\": {\"outlinewidth\": 0, \"ticks\": \"\"}}, \"marker\": {\"colorbar\": {\"outlinewidth\": 0, \"ticks\": \"\"}}, \"type\": \"scatter3d\"}], \"scattercarpet\": [{\"marker\": {\"colorbar\": {\"outlinewidth\": 0, \"ticks\": \"\"}}, \"type\": \"scattercarpet\"}], \"scattergeo\": [{\"marker\": {\"colorbar\": {\"outlinewidth\": 0, \"ticks\": \"\"}}, \"type\": \"scattergeo\"}], \"scattergl\": [{\"marker\": {\"colorbar\": {\"outlinewidth\": 0, \"ticks\": \"\"}}, \"type\": \"scattergl\"}], \"scattermapbox\": [{\"marker\": {\"colorbar\": {\"outlinewidth\": 0, \"ticks\": \"\"}}, \"type\": \"scattermapbox\"}], \"scatterpolar\": [{\"marker\": {\"colorbar\": {\"outlinewidth\": 0, \"ticks\": \"\"}}, \"type\": \"scatterpolar\"}], \"scatterpolargl\": [{\"marker\": {\"colorbar\": {\"outlinewidth\": 0, \"ticks\": \"\"}}, \"type\": \"scatterpolargl\"}], \"scatterternary\": [{\"marker\": {\"colorbar\": {\"outlinewidth\": 0, \"ticks\": \"\"}}, \"type\": \"scatterternary\"}], \"surface\": [{\"colorbar\": {\"outlinewidth\": 0, \"ticks\": \"\"}, \"colorscale\": [[0.0, \"#0d0887\"], [0.1111111111111111, \"#46039f\"], [0.2222222222222222, \"#7201a8\"], [0.3333333333333333, \"#9c179e\"], [0.4444444444444444, \"#bd3786\"], [0.5555555555555556, \"#d8576b\"], [0.6666666666666666, \"#ed7953\"], [0.7777777777777778, \"#fb9f3a\"], [0.8888888888888888, \"#fdca26\"], [1.0, \"#f0f921\"]], \"type\": \"surface\"}], \"table\": [{\"cells\": {\"fill\": {\"color\": \"#EBF0F8\"}, \"line\": {\"color\": \"white\"}}, \"header\": {\"fill\": {\"color\": \"#C8D4E3\"}, \"line\": {\"color\": \"white\"}}, \"type\": \"table\"}]}, \"layout\": {\"annotationdefaults\": {\"arrowcolor\": \"#2a3f5f\", \"arrowhead\": 0, \"arrowwidth\": 1}, \"coloraxis\": {\"colorbar\": {\"outlinewidth\": 0, \"ticks\": \"\"}}, \"colorscale\": {\"diverging\": [[0, \"#8e0152\"], [0.1, \"#c51b7d\"], [0.2, \"#de77ae\"], [0.3, \"#f1b6da\"], [0.4, \"#fde0ef\"], [0.5, \"#f7f7f7\"], [0.6, \"#e6f5d0\"], [0.7, \"#b8e186\"], [0.8, \"#7fbc41\"], [0.9, \"#4d9221\"], [1, \"#276419\"]], \"sequential\": [[0.0, \"#0d0887\"], [0.1111111111111111, \"#46039f\"], [0.2222222222222222, \"#7201a8\"], [0.3333333333333333, \"#9c179e\"], [0.4444444444444444, \"#bd3786\"], [0.5555555555555556, \"#d8576b\"], [0.6666666666666666, \"#ed7953\"], [0.7777777777777778, \"#fb9f3a\"], [0.8888888888888888, \"#fdca26\"], [1.0, \"#f0f921\"]], \"sequentialminus\": [[0.0, \"#0d0887\"], [0.1111111111111111, \"#46039f\"], [0.2222222222222222, \"#7201a8\"], [0.3333333333333333, \"#9c179e\"], [0.4444444444444444, \"#bd3786\"], [0.5555555555555556, \"#d8576b\"], [0.6666666666666666, \"#ed7953\"], [0.7777777777777778, \"#fb9f3a\"], [0.8888888888888888, \"#fdca26\"], [1.0, \"#f0f921\"]]}, \"colorway\": [\"#636efa\", \"#EF553B\", \"#00cc96\", \"#ab63fa\", \"#FFA15A\", \"#19d3f3\", \"#FF6692\", \"#B6E880\", \"#FF97FF\", \"#FECB52\"], \"font\": {\"color\": \"#2a3f5f\"}, \"geo\": {\"bgcolor\": \"white\", \"lakecolor\": \"white\", \"landcolor\": \"#E5ECF6\", \"showlakes\": true, \"showland\": true, \"subunitcolor\": \"white\"}, \"hoverlabel\": {\"align\": \"left\"}, \"hovermode\": \"closest\", \"mapbox\": {\"style\": \"light\"}, \"paper_bgcolor\": \"white\", \"plot_bgcolor\": \"#E5ECF6\", \"polar\": {\"angularaxis\": {\"gridcolor\": \"white\", \"linecolor\": \"white\", \"ticks\": \"\"}, \"bgcolor\": \"#E5ECF6\", \"radialaxis\": {\"gridcolor\": \"white\", \"linecolor\": \"white\", \"ticks\": \"\"}}, \"scene\": {\"xaxis\": {\"backgroundcolor\": \"#E5ECF6\", \"gridcolor\": \"white\", \"gridwidth\": 2, \"linecolor\": \"white\", \"showbackground\": true, \"ticks\": \"\", \"zerolinecolor\": \"white\"}, \"yaxis\": {\"backgroundcolor\": \"#E5ECF6\", \"gridcolor\": \"white\", \"gridwidth\": 2, \"linecolor\": \"white\", \"showbackground\": true, \"ticks\": \"\", \"zerolinecolor\": \"white\"}, \"zaxis\": {\"backgroundcolor\": \"#E5ECF6\", \"gridcolor\": \"white\", \"gridwidth\": 2, \"linecolor\": \"white\", \"showbackground\": true, \"ticks\": \"\", \"zerolinecolor\": \"white\"}}, \"shapedefaults\": {\"line\": {\"color\": \"#2a3f5f\"}}, \"ternary\": {\"aaxis\": {\"gridcolor\": \"white\", \"linecolor\": \"white\", \"ticks\": \"\"}, \"baxis\": {\"gridcolor\": \"white\", \"linecolor\": \"white\", \"ticks\": \"\"}, \"bgcolor\": \"#E5ECF6\", \"caxis\": {\"gridcolor\": \"white\", \"linecolor\": \"white\", \"ticks\": \"\"}}, \"title\": {\"x\": 0.05}, \"xaxis\": {\"automargin\": true, \"gridcolor\": \"white\", \"linecolor\": \"white\", \"ticks\": \"\", \"title\": {\"standoff\": 15}, \"zerolinecolor\": \"white\", \"zerolinewidth\": 2}, \"yaxis\": {\"automargin\": true, \"gridcolor\": \"white\", \"linecolor\": \"white\", \"ticks\": \"\", \"title\": {\"standoff\": 15}, \"zerolinecolor\": \"white\", \"zerolinewidth\": 2}}}, \"title\": {\"text\": \"Extra Trees Feature Importance\"}, \"yaxis\": {\"gridwidth\": 2, \"ticklen\": 5, \"title\": {\"text\": \"Feature Importance\"}}},\n",
       "                        {\"responsive\": true}\n",
       "                    ).then(function(){\n",
       "                            \n",
       "var gd = document.getElementById('b5d990c6-bbb5-4d87-b06f-ed29291df551');\n",
       "var x = new MutationObserver(function (mutations, observer) {{\n",
       "        var display = window.getComputedStyle(gd).display;\n",
       "        if (!display || display === 'none') {{\n",
       "            console.log([gd, 'removed!']);\n",
       "            Plotly.purge(gd);\n",
       "            observer.disconnect();\n",
       "        }}\n",
       "}});\n",
       "\n",
       "// Listen for the removal of the full notebook cells\n",
       "var notebookContainer = gd.closest('#notebook-container');\n",
       "if (notebookContainer) {{\n",
       "    x.observe(notebookContainer, {childList: true});\n",
       "}}\n",
       "\n",
       "// Listen for the clearing of the current output cell\n",
       "var outputEl = gd.closest('.output');\n",
       "if (outputEl) {{\n",
       "    x.observe(outputEl, {childList: true});\n",
       "}}\n",
       "\n",
       "                        })\n",
       "                };\n",
       "                });\n",
       "            </script>\n",
       "        </div>"
      ]
     },
     "metadata": {},
     "output_type": "display_data"
    },
    {
     "data": {
      "application/vnd.plotly.v1+json": {
       "config": {
        "linkText": "Export to plot.ly",
        "plotlyServerURL": "https://plot.ly",
        "showLink": false
       },
       "data": [
        {
         "marker": {
          "color": [
           0.00036219590137878785,
           0.0013231701357071617,
           0.026344557263706547,
           0.003906130051431602,
           0.025202591604112003,
           0.0024780824971578855,
           0,
           0.0034997377143755784,
           0,
           0.002785969337260571,
           0,
           0.012838905152781287,
           0,
           0,
           0.01829029036532346,
           0.011566489569078095,
           0.0002648346714949119,
           0.0006271870851552082,
           0.013602463639188182,
           0.021311408218491763,
           0,
           0.011483192309813933,
           0.0002662458746229211,
           0,
           0,
           0.00016069561044559108,
           0.00013857305212195014,
           0,
           0.025131938641728052,
           0.026362869251536886,
           0.007537497141805666,
           0.0029482682335259507,
           0.00046336681120130827,
           0.00032716171387389703,
           0,
           0.0003623118040327052,
           0,
           0.001833897552929347,
           0.0007967466794330805,
           0.0006660884574069052,
           0.21038632011215008,
           0.3578195025170155,
           0.0196007040422249,
           0.007665942253601034,
           0.16242997757228606,
           0.010195089189990356,
           0.0004184206309152044,
           0.0026817292135128228,
           0,
           0,
           0,
           0,
           0,
           0,
           0,
           0,
           0,
           0,
           0,
           0,
           0,
           0,
           0,
           0,
           0,
           0,
           0,
           0,
           0,
           0,
           0.00023115860365725865,
           0.0025819033674562017,
           0,
           0.000729150068954492,
           0,
           0.00038172495641915693,
           0,
           0,
           0,
           0,
           0,
           0,
           0,
           0,
           0,
           0,
           0,
           0,
           5.566455251324216e-05,
           0.0018162821889911931,
           0,
           0,
           0,
           0,
           0,
           0.0001235643891910223,
           0,
           0,
           0,
           0,
           0
          ],
          "colorscale": [
           [
            0,
            "rgb(12,51,131)"
           ],
           [
            0.25,
            "rgb(10,136,186)"
           ],
           [
            0.5,
            "rgb(242,211,56)"
           ],
           [
            0.75,
            "rgb(242,143,56)"
           ],
           [
            1,
            "rgb(217,30,30)"
           ]
          ],
          "showscale": true,
          "size": 25,
          "sizemode": "diameter",
          "sizeref": 1
         },
         "mode": "markers",
         "text": [
          "LotFrontage",
          "LotArea",
          "OverallQual",
          "OverallCond",
          "MasVnrArea",
          "ExterQual",
          "ExterCond",
          "BsmtQual",
          "BsmtCond",
          "BsmtExposure",
          "BsmtFinType1",
          "BsmtFinSF1",
          "BsmtFinType2",
          "BsmtFinSF2",
          "BsmtUnfSF",
          "TotalBsmtSF",
          "HeatingQC",
          "CentralAir",
          "1stFlrSF",
          "2ndFlrSF",
          "LowQualFinSF",
          "GrLivArea",
          "BsmtFullBath",
          "BsmtHalfBath",
          "FullBath",
          "HalfBath",
          "BedroomAbvGr",
          "KitchenAbvGr",
          "KitchenQual",
          "TotRmsAbvGrd",
          "Fireplaces",
          "FireplaceQu",
          "GarageCars",
          "GarageArea",
          "GarageQual",
          "GarageCond",
          "PavedDrive",
          "WoodDeckSF",
          "OpenPorchSF",
          "NeighborhoodLotArea",
          "NeighborhoodBldgType",
          "TotalSquareFeet",
          "NeighborhoodHouseStyle",
          "OverallQualNCond",
          "NeighborhoodOverallQualNCond",
          "AdjRemodAdd",
          "QuarterMeanNorm",
          "MonthMeanNorm",
          "Neighborhood_2",
          "Neighborhood_3",
          "Neighborhood_4",
          "Neighborhood_5",
          "Neighborhood_6",
          "Neighborhood_7",
          "Neighborhood_8",
          "Neighborhood_9",
          "Neighborhood_10",
          "Neighborhood_11",
          "Neighborhood_12",
          "Neighborhood_13",
          "Neighborhood_14",
          "Neighborhood_15",
          "Neighborhood_16",
          "Neighborhood_17",
          "Neighborhood_18",
          "Neighborhood_19",
          "Neighborhood_20",
          "Neighborhood_21",
          "Neighborhood_22",
          "Neighborhood_23",
          "Neighborhood_24",
          "Neighborhood_25",
          "LotConfig_2",
          "LotConfig_3",
          "LotConfig_4",
          "LotConfig_5",
          "BldgType_2",
          "BldgType_3",
          "BldgType_4",
          "BldgType_5",
          "HouseStyle_2",
          "HouseStyle_3",
          "HouseStyle_4",
          "HouseStyle_5",
          "HouseStyle_6",
          "HouseStyle_7",
          "HouseStyle_8",
          "SaleCondition_1",
          "SaleCondition_2",
          "SaleCondition_3",
          "GarageFinish_1",
          "GarageFinish_2",
          "GarageFinish_3",
          "GarageType_1",
          "GarageType_2",
          "GarageType_3",
          "GarageType_4",
          "Foundation_1",
          "Foundation_2",
          "Foundation_3",
          "Foundation_4"
         ],
         "type": "scatter",
         "x": [
          "LotFrontage",
          "LotArea",
          "OverallQual",
          "OverallCond",
          "MasVnrArea",
          "ExterQual",
          "ExterCond",
          "BsmtQual",
          "BsmtCond",
          "BsmtExposure",
          "BsmtFinType1",
          "BsmtFinSF1",
          "BsmtFinType2",
          "BsmtFinSF2",
          "BsmtUnfSF",
          "TotalBsmtSF",
          "HeatingQC",
          "CentralAir",
          "1stFlrSF",
          "2ndFlrSF",
          "LowQualFinSF",
          "GrLivArea",
          "BsmtFullBath",
          "BsmtHalfBath",
          "FullBath",
          "HalfBath",
          "BedroomAbvGr",
          "KitchenAbvGr",
          "KitchenQual",
          "TotRmsAbvGrd",
          "Fireplaces",
          "FireplaceQu",
          "GarageCars",
          "GarageArea",
          "GarageQual",
          "GarageCond",
          "PavedDrive",
          "WoodDeckSF",
          "OpenPorchSF",
          "NeighborhoodLotArea",
          "NeighborhoodBldgType",
          "TotalSquareFeet",
          "NeighborhoodHouseStyle",
          "OverallQualNCond",
          "NeighborhoodOverallQualNCond",
          "AdjRemodAdd",
          "QuarterMeanNorm",
          "MonthMeanNorm",
          "Neighborhood_2",
          "Neighborhood_3",
          "Neighborhood_4",
          "Neighborhood_5",
          "Neighborhood_6",
          "Neighborhood_7",
          "Neighborhood_8",
          "Neighborhood_9",
          "Neighborhood_10",
          "Neighborhood_11",
          "Neighborhood_12",
          "Neighborhood_13",
          "Neighborhood_14",
          "Neighborhood_15",
          "Neighborhood_16",
          "Neighborhood_17",
          "Neighborhood_18",
          "Neighborhood_19",
          "Neighborhood_20",
          "Neighborhood_21",
          "Neighborhood_22",
          "Neighborhood_23",
          "Neighborhood_24",
          "Neighborhood_25",
          "LotConfig_2",
          "LotConfig_3",
          "LotConfig_4",
          "LotConfig_5",
          "BldgType_2",
          "BldgType_3",
          "BldgType_4",
          "BldgType_5",
          "HouseStyle_2",
          "HouseStyle_3",
          "HouseStyle_4",
          "HouseStyle_5",
          "HouseStyle_6",
          "HouseStyle_7",
          "HouseStyle_8",
          "SaleCondition_1",
          "SaleCondition_2",
          "SaleCondition_3",
          "GarageFinish_1",
          "GarageFinish_2",
          "GarageFinish_3",
          "GarageType_1",
          "GarageType_2",
          "GarageType_3",
          "GarageType_4",
          "Foundation_1",
          "Foundation_2",
          "Foundation_3",
          "Foundation_4"
         ],
         "y": [
          0.00036219590137878785,
          0.0013231701357071617,
          0.026344557263706547,
          0.003906130051431602,
          0.025202591604112003,
          0.0024780824971578855,
          0,
          0.0034997377143755784,
          0,
          0.002785969337260571,
          0,
          0.012838905152781287,
          0,
          0,
          0.01829029036532346,
          0.011566489569078095,
          0.0002648346714949119,
          0.0006271870851552082,
          0.013602463639188182,
          0.021311408218491763,
          0,
          0.011483192309813933,
          0.0002662458746229211,
          0,
          0,
          0.00016069561044559108,
          0.00013857305212195014,
          0,
          0.025131938641728052,
          0.026362869251536886,
          0.007537497141805666,
          0.0029482682335259507,
          0.00046336681120130827,
          0.00032716171387389703,
          0,
          0.0003623118040327052,
          0,
          0.001833897552929347,
          0.0007967466794330805,
          0.0006660884574069052,
          0.21038632011215008,
          0.3578195025170155,
          0.0196007040422249,
          0.007665942253601034,
          0.16242997757228606,
          0.010195089189990356,
          0.0004184206309152044,
          0.0026817292135128228,
          0,
          0,
          0,
          0,
          0,
          0,
          0,
          0,
          0,
          0,
          0,
          0,
          0,
          0,
          0,
          0,
          0,
          0,
          0,
          0,
          0,
          0,
          0.00023115860365725865,
          0.0025819033674562017,
          0,
          0.000729150068954492,
          0,
          0.00038172495641915693,
          0,
          0,
          0,
          0,
          0,
          0,
          0,
          0,
          0,
          0,
          0,
          0,
          5.566455251324216e-05,
          0.0018162821889911931,
          0,
          0,
          0,
          0,
          0,
          0.0001235643891910223,
          0,
          0,
          0,
          0,
          0
         ]
        }
       ],
       "layout": {
        "autosize": true,
        "hovermode": "closest",
        "showlegend": false,
        "template": {
         "data": {
          "bar": [
           {
            "error_x": {
             "color": "#2a3f5f"
            },
            "error_y": {
             "color": "#2a3f5f"
            },
            "marker": {
             "line": {
              "color": "#E5ECF6",
              "width": 0.5
             }
            },
            "type": "bar"
           }
          ],
          "barpolar": [
           {
            "marker": {
             "line": {
              "color": "#E5ECF6",
              "width": 0.5
             }
            },
            "type": "barpolar"
           }
          ],
          "carpet": [
           {
            "aaxis": {
             "endlinecolor": "#2a3f5f",
             "gridcolor": "white",
             "linecolor": "white",
             "minorgridcolor": "white",
             "startlinecolor": "#2a3f5f"
            },
            "baxis": {
             "endlinecolor": "#2a3f5f",
             "gridcolor": "white",
             "linecolor": "white",
             "minorgridcolor": "white",
             "startlinecolor": "#2a3f5f"
            },
            "type": "carpet"
           }
          ],
          "choropleth": [
           {
            "colorbar": {
             "outlinewidth": 0,
             "ticks": ""
            },
            "type": "choropleth"
           }
          ],
          "contour": [
           {
            "colorbar": {
             "outlinewidth": 0,
             "ticks": ""
            },
            "colorscale": [
             [
              0,
              "#0d0887"
             ],
             [
              0.1111111111111111,
              "#46039f"
             ],
             [
              0.2222222222222222,
              "#7201a8"
             ],
             [
              0.3333333333333333,
              "#9c179e"
             ],
             [
              0.4444444444444444,
              "#bd3786"
             ],
             [
              0.5555555555555556,
              "#d8576b"
             ],
             [
              0.6666666666666666,
              "#ed7953"
             ],
             [
              0.7777777777777778,
              "#fb9f3a"
             ],
             [
              0.8888888888888888,
              "#fdca26"
             ],
             [
              1,
              "#f0f921"
             ]
            ],
            "type": "contour"
           }
          ],
          "contourcarpet": [
           {
            "colorbar": {
             "outlinewidth": 0,
             "ticks": ""
            },
            "type": "contourcarpet"
           }
          ],
          "heatmap": [
           {
            "colorbar": {
             "outlinewidth": 0,
             "ticks": ""
            },
            "colorscale": [
             [
              0,
              "#0d0887"
             ],
             [
              0.1111111111111111,
              "#46039f"
             ],
             [
              0.2222222222222222,
              "#7201a8"
             ],
             [
              0.3333333333333333,
              "#9c179e"
             ],
             [
              0.4444444444444444,
              "#bd3786"
             ],
             [
              0.5555555555555556,
              "#d8576b"
             ],
             [
              0.6666666666666666,
              "#ed7953"
             ],
             [
              0.7777777777777778,
              "#fb9f3a"
             ],
             [
              0.8888888888888888,
              "#fdca26"
             ],
             [
              1,
              "#f0f921"
             ]
            ],
            "type": "heatmap"
           }
          ],
          "heatmapgl": [
           {
            "colorbar": {
             "outlinewidth": 0,
             "ticks": ""
            },
            "colorscale": [
             [
              0,
              "#0d0887"
             ],
             [
              0.1111111111111111,
              "#46039f"
             ],
             [
              0.2222222222222222,
              "#7201a8"
             ],
             [
              0.3333333333333333,
              "#9c179e"
             ],
             [
              0.4444444444444444,
              "#bd3786"
             ],
             [
              0.5555555555555556,
              "#d8576b"
             ],
             [
              0.6666666666666666,
              "#ed7953"
             ],
             [
              0.7777777777777778,
              "#fb9f3a"
             ],
             [
              0.8888888888888888,
              "#fdca26"
             ],
             [
              1,
              "#f0f921"
             ]
            ],
            "type": "heatmapgl"
           }
          ],
          "histogram": [
           {
            "marker": {
             "colorbar": {
              "outlinewidth": 0,
              "ticks": ""
             }
            },
            "type": "histogram"
           }
          ],
          "histogram2d": [
           {
            "colorbar": {
             "outlinewidth": 0,
             "ticks": ""
            },
            "colorscale": [
             [
              0,
              "#0d0887"
             ],
             [
              0.1111111111111111,
              "#46039f"
             ],
             [
              0.2222222222222222,
              "#7201a8"
             ],
             [
              0.3333333333333333,
              "#9c179e"
             ],
             [
              0.4444444444444444,
              "#bd3786"
             ],
             [
              0.5555555555555556,
              "#d8576b"
             ],
             [
              0.6666666666666666,
              "#ed7953"
             ],
             [
              0.7777777777777778,
              "#fb9f3a"
             ],
             [
              0.8888888888888888,
              "#fdca26"
             ],
             [
              1,
              "#f0f921"
             ]
            ],
            "type": "histogram2d"
           }
          ],
          "histogram2dcontour": [
           {
            "colorbar": {
             "outlinewidth": 0,
             "ticks": ""
            },
            "colorscale": [
             [
              0,
              "#0d0887"
             ],
             [
              0.1111111111111111,
              "#46039f"
             ],
             [
              0.2222222222222222,
              "#7201a8"
             ],
             [
              0.3333333333333333,
              "#9c179e"
             ],
             [
              0.4444444444444444,
              "#bd3786"
             ],
             [
              0.5555555555555556,
              "#d8576b"
             ],
             [
              0.6666666666666666,
              "#ed7953"
             ],
             [
              0.7777777777777778,
              "#fb9f3a"
             ],
             [
              0.8888888888888888,
              "#fdca26"
             ],
             [
              1,
              "#f0f921"
             ]
            ],
            "type": "histogram2dcontour"
           }
          ],
          "mesh3d": [
           {
            "colorbar": {
             "outlinewidth": 0,
             "ticks": ""
            },
            "type": "mesh3d"
           }
          ],
          "parcoords": [
           {
            "line": {
             "colorbar": {
              "outlinewidth": 0,
              "ticks": ""
             }
            },
            "type": "parcoords"
           }
          ],
          "pie": [
           {
            "automargin": true,
            "type": "pie"
           }
          ],
          "scatter": [
           {
            "marker": {
             "colorbar": {
              "outlinewidth": 0,
              "ticks": ""
             }
            },
            "type": "scatter"
           }
          ],
          "scatter3d": [
           {
            "line": {
             "colorbar": {
              "outlinewidth": 0,
              "ticks": ""
             }
            },
            "marker": {
             "colorbar": {
              "outlinewidth": 0,
              "ticks": ""
             }
            },
            "type": "scatter3d"
           }
          ],
          "scattercarpet": [
           {
            "marker": {
             "colorbar": {
              "outlinewidth": 0,
              "ticks": ""
             }
            },
            "type": "scattercarpet"
           }
          ],
          "scattergeo": [
           {
            "marker": {
             "colorbar": {
              "outlinewidth": 0,
              "ticks": ""
             }
            },
            "type": "scattergeo"
           }
          ],
          "scattergl": [
           {
            "marker": {
             "colorbar": {
              "outlinewidth": 0,
              "ticks": ""
             }
            },
            "type": "scattergl"
           }
          ],
          "scattermapbox": [
           {
            "marker": {
             "colorbar": {
              "outlinewidth": 0,
              "ticks": ""
             }
            },
            "type": "scattermapbox"
           }
          ],
          "scatterpolar": [
           {
            "marker": {
             "colorbar": {
              "outlinewidth": 0,
              "ticks": ""
             }
            },
            "type": "scatterpolar"
           }
          ],
          "scatterpolargl": [
           {
            "marker": {
             "colorbar": {
              "outlinewidth": 0,
              "ticks": ""
             }
            },
            "type": "scatterpolargl"
           }
          ],
          "scatterternary": [
           {
            "marker": {
             "colorbar": {
              "outlinewidth": 0,
              "ticks": ""
             }
            },
            "type": "scatterternary"
           }
          ],
          "surface": [
           {
            "colorbar": {
             "outlinewidth": 0,
             "ticks": ""
            },
            "colorscale": [
             [
              0,
              "#0d0887"
             ],
             [
              0.1111111111111111,
              "#46039f"
             ],
             [
              0.2222222222222222,
              "#7201a8"
             ],
             [
              0.3333333333333333,
              "#9c179e"
             ],
             [
              0.4444444444444444,
              "#bd3786"
             ],
             [
              0.5555555555555556,
              "#d8576b"
             ],
             [
              0.6666666666666666,
              "#ed7953"
             ],
             [
              0.7777777777777778,
              "#fb9f3a"
             ],
             [
              0.8888888888888888,
              "#fdca26"
             ],
             [
              1,
              "#f0f921"
             ]
            ],
            "type": "surface"
           }
          ],
          "table": [
           {
            "cells": {
             "fill": {
              "color": "#EBF0F8"
             },
             "line": {
              "color": "white"
             }
            },
            "header": {
             "fill": {
              "color": "#C8D4E3"
             },
             "line": {
              "color": "white"
             }
            },
            "type": "table"
           }
          ]
         },
         "layout": {
          "annotationdefaults": {
           "arrowcolor": "#2a3f5f",
           "arrowhead": 0,
           "arrowwidth": 1
          },
          "coloraxis": {
           "colorbar": {
            "outlinewidth": 0,
            "ticks": ""
           }
          },
          "colorscale": {
           "diverging": [
            [
             0,
             "#8e0152"
            ],
            [
             0.1,
             "#c51b7d"
            ],
            [
             0.2,
             "#de77ae"
            ],
            [
             0.3,
             "#f1b6da"
            ],
            [
             0.4,
             "#fde0ef"
            ],
            [
             0.5,
             "#f7f7f7"
            ],
            [
             0.6,
             "#e6f5d0"
            ],
            [
             0.7,
             "#b8e186"
            ],
            [
             0.8,
             "#7fbc41"
            ],
            [
             0.9,
             "#4d9221"
            ],
            [
             1,
             "#276419"
            ]
           ],
           "sequential": [
            [
             0,
             "#0d0887"
            ],
            [
             0.1111111111111111,
             "#46039f"
            ],
            [
             0.2222222222222222,
             "#7201a8"
            ],
            [
             0.3333333333333333,
             "#9c179e"
            ],
            [
             0.4444444444444444,
             "#bd3786"
            ],
            [
             0.5555555555555556,
             "#d8576b"
            ],
            [
             0.6666666666666666,
             "#ed7953"
            ],
            [
             0.7777777777777778,
             "#fb9f3a"
            ],
            [
             0.8888888888888888,
             "#fdca26"
            ],
            [
             1,
             "#f0f921"
            ]
           ],
           "sequentialminus": [
            [
             0,
             "#0d0887"
            ],
            [
             0.1111111111111111,
             "#46039f"
            ],
            [
             0.2222222222222222,
             "#7201a8"
            ],
            [
             0.3333333333333333,
             "#9c179e"
            ],
            [
             0.4444444444444444,
             "#bd3786"
            ],
            [
             0.5555555555555556,
             "#d8576b"
            ],
            [
             0.6666666666666666,
             "#ed7953"
            ],
            [
             0.7777777777777778,
             "#fb9f3a"
            ],
            [
             0.8888888888888888,
             "#fdca26"
            ],
            [
             1,
             "#f0f921"
            ]
           ]
          },
          "colorway": [
           "#636efa",
           "#EF553B",
           "#00cc96",
           "#ab63fa",
           "#FFA15A",
           "#19d3f3",
           "#FF6692",
           "#B6E880",
           "#FF97FF",
           "#FECB52"
          ],
          "font": {
           "color": "#2a3f5f"
          },
          "geo": {
           "bgcolor": "white",
           "lakecolor": "white",
           "landcolor": "#E5ECF6",
           "showlakes": true,
           "showland": true,
           "subunitcolor": "white"
          },
          "hoverlabel": {
           "align": "left"
          },
          "hovermode": "closest",
          "mapbox": {
           "style": "light"
          },
          "paper_bgcolor": "white",
          "plot_bgcolor": "#E5ECF6",
          "polar": {
           "angularaxis": {
            "gridcolor": "white",
            "linecolor": "white",
            "ticks": ""
           },
           "bgcolor": "#E5ECF6",
           "radialaxis": {
            "gridcolor": "white",
            "linecolor": "white",
            "ticks": ""
           }
          },
          "scene": {
           "xaxis": {
            "backgroundcolor": "#E5ECF6",
            "gridcolor": "white",
            "gridwidth": 2,
            "linecolor": "white",
            "showbackground": true,
            "ticks": "",
            "zerolinecolor": "white"
           },
           "yaxis": {
            "backgroundcolor": "#E5ECF6",
            "gridcolor": "white",
            "gridwidth": 2,
            "linecolor": "white",
            "showbackground": true,
            "ticks": "",
            "zerolinecolor": "white"
           },
           "zaxis": {
            "backgroundcolor": "#E5ECF6",
            "gridcolor": "white",
            "gridwidth": 2,
            "linecolor": "white",
            "showbackground": true,
            "ticks": "",
            "zerolinecolor": "white"
           }
          },
          "shapedefaults": {
           "line": {
            "color": "#2a3f5f"
           }
          },
          "ternary": {
           "aaxis": {
            "gridcolor": "white",
            "linecolor": "white",
            "ticks": ""
           },
           "baxis": {
            "gridcolor": "white",
            "linecolor": "white",
            "ticks": ""
           },
           "bgcolor": "#E5ECF6",
           "caxis": {
            "gridcolor": "white",
            "linecolor": "white",
            "ticks": ""
           }
          },
          "title": {
           "x": 0.05
          },
          "xaxis": {
           "automargin": true,
           "gridcolor": "white",
           "linecolor": "white",
           "ticks": "",
           "title": {
            "standoff": 15
           },
           "zerolinecolor": "white",
           "zerolinewidth": 2
          },
          "yaxis": {
           "automargin": true,
           "gridcolor": "white",
           "linecolor": "white",
           "ticks": "",
           "title": {
            "standoff": 15
           },
           "zerolinecolor": "white",
           "zerolinewidth": 2
          }
         }
        },
        "title": {
         "text": "AdaBoost Feature Importance"
        },
        "yaxis": {
         "gridwidth": 2,
         "ticklen": 5,
         "title": {
          "text": "Feature Importance"
         }
        }
       }
      },
      "text/html": [
       "<div>\n",
       "        \n",
       "        \n",
       "            <div id=\"3c5038ac-64c6-49fd-97d6-d101ff040413\" class=\"plotly-graph-div\" style=\"height:525px; width:100%;\"></div>\n",
       "            <script type=\"text/javascript\">\n",
       "                require([\"plotly\"], function(Plotly) {\n",
       "                    window.PLOTLYENV=window.PLOTLYENV || {};\n",
       "                    \n",
       "                if (document.getElementById(\"3c5038ac-64c6-49fd-97d6-d101ff040413\")) {\n",
       "                    Plotly.newPlot(\n",
       "                        '3c5038ac-64c6-49fd-97d6-d101ff040413',\n",
       "                        [{\"marker\": {\"color\": [0.00036219590137878785, 0.0013231701357071617, 0.026344557263706547, 0.003906130051431602, 0.025202591604112003, 0.0024780824971578855, 0.0, 0.0034997377143755784, 0.0, 0.002785969337260571, 0.0, 0.012838905152781287, 0.0, 0.0, 0.01829029036532346, 0.011566489569078095, 0.0002648346714949119, 0.0006271870851552082, 0.013602463639188182, 0.021311408218491763, 0.0, 0.011483192309813933, 0.0002662458746229211, 0.0, 0.0, 0.00016069561044559108, 0.00013857305212195014, 0.0, 0.025131938641728052, 0.026362869251536886, 0.007537497141805666, 0.0029482682335259507, 0.00046336681120130827, 0.00032716171387389703, 0.0, 0.0003623118040327052, 0.0, 0.001833897552929347, 0.0007967466794330805, 0.0006660884574069052, 0.21038632011215008, 0.3578195025170155, 0.0196007040422249, 0.007665942253601034, 0.16242997757228606, 0.010195089189990356, 0.0004184206309152044, 0.0026817292135128228, 0.0, 0.0, 0.0, 0.0, 0.0, 0.0, 0.0, 0.0, 0.0, 0.0, 0.0, 0.0, 0.0, 0.0, 0.0, 0.0, 0.0, 0.0, 0.0, 0.0, 0.0, 0.0, 0.00023115860365725865, 0.0025819033674562017, 0.0, 0.000729150068954492, 0.0, 0.00038172495641915693, 0.0, 0.0, 0.0, 0.0, 0.0, 0.0, 0.0, 0.0, 0.0, 0.0, 0.0, 0.0, 5.566455251324216e-05, 0.0018162821889911931, 0.0, 0.0, 0.0, 0.0, 0.0, 0.0001235643891910223, 0.0, 0.0, 0.0, 0.0, 0.0], \"colorscale\": [[0.0, \"rgb(12,51,131)\"], [0.25, \"rgb(10,136,186)\"], [0.5, \"rgb(242,211,56)\"], [0.75, \"rgb(242,143,56)\"], [1.0, \"rgb(217,30,30)\"]], \"showscale\": true, \"size\": 25, \"sizemode\": \"diameter\", \"sizeref\": 1}, \"mode\": \"markers\", \"text\": [\"LotFrontage\", \"LotArea\", \"OverallQual\", \"OverallCond\", \"MasVnrArea\", \"ExterQual\", \"ExterCond\", \"BsmtQual\", \"BsmtCond\", \"BsmtExposure\", \"BsmtFinType1\", \"BsmtFinSF1\", \"BsmtFinType2\", \"BsmtFinSF2\", \"BsmtUnfSF\", \"TotalBsmtSF\", \"HeatingQC\", \"CentralAir\", \"1stFlrSF\", \"2ndFlrSF\", \"LowQualFinSF\", \"GrLivArea\", \"BsmtFullBath\", \"BsmtHalfBath\", \"FullBath\", \"HalfBath\", \"BedroomAbvGr\", \"KitchenAbvGr\", \"KitchenQual\", \"TotRmsAbvGrd\", \"Fireplaces\", \"FireplaceQu\", \"GarageCars\", \"GarageArea\", \"GarageQual\", \"GarageCond\", \"PavedDrive\", \"WoodDeckSF\", \"OpenPorchSF\", \"NeighborhoodLotArea\", \"NeighborhoodBldgType\", \"TotalSquareFeet\", \"NeighborhoodHouseStyle\", \"OverallQualNCond\", \"NeighborhoodOverallQualNCond\", \"AdjRemodAdd\", \"QuarterMeanNorm\", \"MonthMeanNorm\", \"Neighborhood_2\", \"Neighborhood_3\", \"Neighborhood_4\", \"Neighborhood_5\", \"Neighborhood_6\", \"Neighborhood_7\", \"Neighborhood_8\", \"Neighborhood_9\", \"Neighborhood_10\", \"Neighborhood_11\", \"Neighborhood_12\", \"Neighborhood_13\", \"Neighborhood_14\", \"Neighborhood_15\", \"Neighborhood_16\", \"Neighborhood_17\", \"Neighborhood_18\", \"Neighborhood_19\", \"Neighborhood_20\", \"Neighborhood_21\", \"Neighborhood_22\", \"Neighborhood_23\", \"Neighborhood_24\", \"Neighborhood_25\", \"LotConfig_2\", \"LotConfig_3\", \"LotConfig_4\", \"LotConfig_5\", \"BldgType_2\", \"BldgType_3\", \"BldgType_4\", \"BldgType_5\", \"HouseStyle_2\", \"HouseStyle_3\", \"HouseStyle_4\", \"HouseStyle_5\", \"HouseStyle_6\", \"HouseStyle_7\", \"HouseStyle_8\", \"SaleCondition_1\", \"SaleCondition_2\", \"SaleCondition_3\", \"GarageFinish_1\", \"GarageFinish_2\", \"GarageFinish_3\", \"GarageType_1\", \"GarageType_2\", \"GarageType_3\", \"GarageType_4\", \"Foundation_1\", \"Foundation_2\", \"Foundation_3\", \"Foundation_4\"], \"type\": \"scatter\", \"x\": [\"LotFrontage\", \"LotArea\", \"OverallQual\", \"OverallCond\", \"MasVnrArea\", \"ExterQual\", \"ExterCond\", \"BsmtQual\", \"BsmtCond\", \"BsmtExposure\", \"BsmtFinType1\", \"BsmtFinSF1\", \"BsmtFinType2\", \"BsmtFinSF2\", \"BsmtUnfSF\", \"TotalBsmtSF\", \"HeatingQC\", \"CentralAir\", \"1stFlrSF\", \"2ndFlrSF\", \"LowQualFinSF\", \"GrLivArea\", \"BsmtFullBath\", \"BsmtHalfBath\", \"FullBath\", \"HalfBath\", \"BedroomAbvGr\", \"KitchenAbvGr\", \"KitchenQual\", \"TotRmsAbvGrd\", \"Fireplaces\", \"FireplaceQu\", \"GarageCars\", \"GarageArea\", \"GarageQual\", \"GarageCond\", \"PavedDrive\", \"WoodDeckSF\", \"OpenPorchSF\", \"NeighborhoodLotArea\", \"NeighborhoodBldgType\", \"TotalSquareFeet\", \"NeighborhoodHouseStyle\", \"OverallQualNCond\", \"NeighborhoodOverallQualNCond\", \"AdjRemodAdd\", \"QuarterMeanNorm\", \"MonthMeanNorm\", \"Neighborhood_2\", \"Neighborhood_3\", \"Neighborhood_4\", \"Neighborhood_5\", \"Neighborhood_6\", \"Neighborhood_7\", \"Neighborhood_8\", \"Neighborhood_9\", \"Neighborhood_10\", \"Neighborhood_11\", \"Neighborhood_12\", \"Neighborhood_13\", \"Neighborhood_14\", \"Neighborhood_15\", \"Neighborhood_16\", \"Neighborhood_17\", \"Neighborhood_18\", \"Neighborhood_19\", \"Neighborhood_20\", \"Neighborhood_21\", \"Neighborhood_22\", \"Neighborhood_23\", \"Neighborhood_24\", \"Neighborhood_25\", \"LotConfig_2\", \"LotConfig_3\", \"LotConfig_4\", \"LotConfig_5\", \"BldgType_2\", \"BldgType_3\", \"BldgType_4\", \"BldgType_5\", \"HouseStyle_2\", \"HouseStyle_3\", \"HouseStyle_4\", \"HouseStyle_5\", \"HouseStyle_6\", \"HouseStyle_7\", \"HouseStyle_8\", \"SaleCondition_1\", \"SaleCondition_2\", \"SaleCondition_3\", \"GarageFinish_1\", \"GarageFinish_2\", \"GarageFinish_3\", \"GarageType_1\", \"GarageType_2\", \"GarageType_3\", \"GarageType_4\", \"Foundation_1\", \"Foundation_2\", \"Foundation_3\", \"Foundation_4\"], \"y\": [0.00036219590137878785, 0.0013231701357071617, 0.026344557263706547, 0.003906130051431602, 0.025202591604112003, 0.0024780824971578855, 0.0, 0.0034997377143755784, 0.0, 0.002785969337260571, 0.0, 0.012838905152781287, 0.0, 0.0, 0.01829029036532346, 0.011566489569078095, 0.0002648346714949119, 0.0006271870851552082, 0.013602463639188182, 0.021311408218491763, 0.0, 0.011483192309813933, 0.0002662458746229211, 0.0, 0.0, 0.00016069561044559108, 0.00013857305212195014, 0.0, 0.025131938641728052, 0.026362869251536886, 0.007537497141805666, 0.0029482682335259507, 0.00046336681120130827, 0.00032716171387389703, 0.0, 0.0003623118040327052, 0.0, 0.001833897552929347, 0.0007967466794330805, 0.0006660884574069052, 0.21038632011215008, 0.3578195025170155, 0.0196007040422249, 0.007665942253601034, 0.16242997757228606, 0.010195089189990356, 0.0004184206309152044, 0.0026817292135128228, 0.0, 0.0, 0.0, 0.0, 0.0, 0.0, 0.0, 0.0, 0.0, 0.0, 0.0, 0.0, 0.0, 0.0, 0.0, 0.0, 0.0, 0.0, 0.0, 0.0, 0.0, 0.0, 0.00023115860365725865, 0.0025819033674562017, 0.0, 0.000729150068954492, 0.0, 0.00038172495641915693, 0.0, 0.0, 0.0, 0.0, 0.0, 0.0, 0.0, 0.0, 0.0, 0.0, 0.0, 0.0, 5.566455251324216e-05, 0.0018162821889911931, 0.0, 0.0, 0.0, 0.0, 0.0, 0.0001235643891910223, 0.0, 0.0, 0.0, 0.0, 0.0]}],\n",
       "                        {\"autosize\": true, \"hovermode\": \"closest\", \"showlegend\": false, \"template\": {\"data\": {\"bar\": [{\"error_x\": {\"color\": \"#2a3f5f\"}, \"error_y\": {\"color\": \"#2a3f5f\"}, \"marker\": {\"line\": {\"color\": \"#E5ECF6\", \"width\": 0.5}}, \"type\": \"bar\"}], \"barpolar\": [{\"marker\": {\"line\": {\"color\": \"#E5ECF6\", \"width\": 0.5}}, \"type\": \"barpolar\"}], \"carpet\": [{\"aaxis\": {\"endlinecolor\": \"#2a3f5f\", \"gridcolor\": \"white\", \"linecolor\": \"white\", \"minorgridcolor\": \"white\", \"startlinecolor\": \"#2a3f5f\"}, \"baxis\": {\"endlinecolor\": \"#2a3f5f\", \"gridcolor\": \"white\", \"linecolor\": \"white\", \"minorgridcolor\": \"white\", \"startlinecolor\": \"#2a3f5f\"}, \"type\": \"carpet\"}], \"choropleth\": [{\"colorbar\": {\"outlinewidth\": 0, \"ticks\": \"\"}, \"type\": \"choropleth\"}], \"contour\": [{\"colorbar\": {\"outlinewidth\": 0, \"ticks\": \"\"}, \"colorscale\": [[0.0, \"#0d0887\"], [0.1111111111111111, \"#46039f\"], [0.2222222222222222, \"#7201a8\"], [0.3333333333333333, \"#9c179e\"], [0.4444444444444444, \"#bd3786\"], [0.5555555555555556, \"#d8576b\"], [0.6666666666666666, \"#ed7953\"], [0.7777777777777778, \"#fb9f3a\"], [0.8888888888888888, \"#fdca26\"], [1.0, \"#f0f921\"]], \"type\": \"contour\"}], \"contourcarpet\": [{\"colorbar\": {\"outlinewidth\": 0, \"ticks\": \"\"}, \"type\": \"contourcarpet\"}], \"heatmap\": [{\"colorbar\": {\"outlinewidth\": 0, \"ticks\": \"\"}, \"colorscale\": [[0.0, \"#0d0887\"], [0.1111111111111111, \"#46039f\"], [0.2222222222222222, \"#7201a8\"], [0.3333333333333333, \"#9c179e\"], [0.4444444444444444, \"#bd3786\"], [0.5555555555555556, \"#d8576b\"], [0.6666666666666666, \"#ed7953\"], [0.7777777777777778, \"#fb9f3a\"], [0.8888888888888888, \"#fdca26\"], [1.0, \"#f0f921\"]], \"type\": \"heatmap\"}], \"heatmapgl\": [{\"colorbar\": {\"outlinewidth\": 0, \"ticks\": \"\"}, \"colorscale\": [[0.0, \"#0d0887\"], [0.1111111111111111, \"#46039f\"], [0.2222222222222222, \"#7201a8\"], [0.3333333333333333, \"#9c179e\"], [0.4444444444444444, \"#bd3786\"], [0.5555555555555556, \"#d8576b\"], [0.6666666666666666, \"#ed7953\"], [0.7777777777777778, \"#fb9f3a\"], [0.8888888888888888, \"#fdca26\"], [1.0, \"#f0f921\"]], \"type\": \"heatmapgl\"}], \"histogram\": [{\"marker\": {\"colorbar\": {\"outlinewidth\": 0, \"ticks\": \"\"}}, \"type\": \"histogram\"}], \"histogram2d\": [{\"colorbar\": {\"outlinewidth\": 0, \"ticks\": \"\"}, \"colorscale\": [[0.0, \"#0d0887\"], [0.1111111111111111, \"#46039f\"], [0.2222222222222222, \"#7201a8\"], [0.3333333333333333, \"#9c179e\"], [0.4444444444444444, \"#bd3786\"], [0.5555555555555556, \"#d8576b\"], [0.6666666666666666, \"#ed7953\"], [0.7777777777777778, \"#fb9f3a\"], [0.8888888888888888, \"#fdca26\"], [1.0, \"#f0f921\"]], \"type\": \"histogram2d\"}], \"histogram2dcontour\": [{\"colorbar\": {\"outlinewidth\": 0, \"ticks\": \"\"}, \"colorscale\": [[0.0, \"#0d0887\"], [0.1111111111111111, \"#46039f\"], [0.2222222222222222, \"#7201a8\"], [0.3333333333333333, \"#9c179e\"], [0.4444444444444444, \"#bd3786\"], [0.5555555555555556, \"#d8576b\"], [0.6666666666666666, \"#ed7953\"], [0.7777777777777778, \"#fb9f3a\"], [0.8888888888888888, \"#fdca26\"], [1.0, \"#f0f921\"]], \"type\": \"histogram2dcontour\"}], \"mesh3d\": [{\"colorbar\": {\"outlinewidth\": 0, \"ticks\": \"\"}, \"type\": \"mesh3d\"}], \"parcoords\": [{\"line\": {\"colorbar\": {\"outlinewidth\": 0, \"ticks\": \"\"}}, \"type\": \"parcoords\"}], \"pie\": [{\"automargin\": true, \"type\": \"pie\"}], \"scatter\": [{\"marker\": {\"colorbar\": {\"outlinewidth\": 0, \"ticks\": \"\"}}, \"type\": \"scatter\"}], \"scatter3d\": [{\"line\": {\"colorbar\": {\"outlinewidth\": 0, \"ticks\": \"\"}}, \"marker\": {\"colorbar\": {\"outlinewidth\": 0, \"ticks\": \"\"}}, \"type\": \"scatter3d\"}], \"scattercarpet\": [{\"marker\": {\"colorbar\": {\"outlinewidth\": 0, \"ticks\": \"\"}}, \"type\": \"scattercarpet\"}], \"scattergeo\": [{\"marker\": {\"colorbar\": {\"outlinewidth\": 0, \"ticks\": \"\"}}, \"type\": \"scattergeo\"}], \"scattergl\": [{\"marker\": {\"colorbar\": {\"outlinewidth\": 0, \"ticks\": \"\"}}, \"type\": \"scattergl\"}], \"scattermapbox\": [{\"marker\": {\"colorbar\": {\"outlinewidth\": 0, \"ticks\": \"\"}}, \"type\": \"scattermapbox\"}], \"scatterpolar\": [{\"marker\": {\"colorbar\": {\"outlinewidth\": 0, \"ticks\": \"\"}}, \"type\": \"scatterpolar\"}], \"scatterpolargl\": [{\"marker\": {\"colorbar\": {\"outlinewidth\": 0, \"ticks\": \"\"}}, \"type\": \"scatterpolargl\"}], \"scatterternary\": [{\"marker\": {\"colorbar\": {\"outlinewidth\": 0, \"ticks\": \"\"}}, \"type\": \"scatterternary\"}], \"surface\": [{\"colorbar\": {\"outlinewidth\": 0, \"ticks\": \"\"}, \"colorscale\": [[0.0, \"#0d0887\"], [0.1111111111111111, \"#46039f\"], [0.2222222222222222, \"#7201a8\"], [0.3333333333333333, \"#9c179e\"], [0.4444444444444444, \"#bd3786\"], [0.5555555555555556, \"#d8576b\"], [0.6666666666666666, \"#ed7953\"], [0.7777777777777778, \"#fb9f3a\"], [0.8888888888888888, \"#fdca26\"], [1.0, \"#f0f921\"]], \"type\": \"surface\"}], \"table\": [{\"cells\": {\"fill\": {\"color\": \"#EBF0F8\"}, \"line\": {\"color\": \"white\"}}, \"header\": {\"fill\": {\"color\": \"#C8D4E3\"}, \"line\": {\"color\": \"white\"}}, \"type\": \"table\"}]}, \"layout\": {\"annotationdefaults\": {\"arrowcolor\": \"#2a3f5f\", \"arrowhead\": 0, \"arrowwidth\": 1}, \"coloraxis\": {\"colorbar\": {\"outlinewidth\": 0, \"ticks\": \"\"}}, \"colorscale\": {\"diverging\": [[0, \"#8e0152\"], [0.1, \"#c51b7d\"], [0.2, \"#de77ae\"], [0.3, \"#f1b6da\"], [0.4, \"#fde0ef\"], [0.5, \"#f7f7f7\"], [0.6, \"#e6f5d0\"], [0.7, \"#b8e186\"], [0.8, \"#7fbc41\"], [0.9, \"#4d9221\"], [1, \"#276419\"]], \"sequential\": [[0.0, \"#0d0887\"], [0.1111111111111111, \"#46039f\"], [0.2222222222222222, \"#7201a8\"], [0.3333333333333333, \"#9c179e\"], [0.4444444444444444, \"#bd3786\"], [0.5555555555555556, \"#d8576b\"], [0.6666666666666666, \"#ed7953\"], [0.7777777777777778, \"#fb9f3a\"], [0.8888888888888888, \"#fdca26\"], [1.0, \"#f0f921\"]], \"sequentialminus\": [[0.0, \"#0d0887\"], [0.1111111111111111, \"#46039f\"], [0.2222222222222222, \"#7201a8\"], [0.3333333333333333, \"#9c179e\"], [0.4444444444444444, \"#bd3786\"], [0.5555555555555556, \"#d8576b\"], [0.6666666666666666, \"#ed7953\"], [0.7777777777777778, \"#fb9f3a\"], [0.8888888888888888, \"#fdca26\"], [1.0, \"#f0f921\"]]}, \"colorway\": [\"#636efa\", \"#EF553B\", \"#00cc96\", \"#ab63fa\", \"#FFA15A\", \"#19d3f3\", \"#FF6692\", \"#B6E880\", \"#FF97FF\", \"#FECB52\"], \"font\": {\"color\": \"#2a3f5f\"}, \"geo\": {\"bgcolor\": \"white\", \"lakecolor\": \"white\", \"landcolor\": \"#E5ECF6\", \"showlakes\": true, \"showland\": true, \"subunitcolor\": \"white\"}, \"hoverlabel\": {\"align\": \"left\"}, \"hovermode\": \"closest\", \"mapbox\": {\"style\": \"light\"}, \"paper_bgcolor\": \"white\", \"plot_bgcolor\": \"#E5ECF6\", \"polar\": {\"angularaxis\": {\"gridcolor\": \"white\", \"linecolor\": \"white\", \"ticks\": \"\"}, \"bgcolor\": \"#E5ECF6\", \"radialaxis\": {\"gridcolor\": \"white\", \"linecolor\": \"white\", \"ticks\": \"\"}}, \"scene\": {\"xaxis\": {\"backgroundcolor\": \"#E5ECF6\", \"gridcolor\": \"white\", \"gridwidth\": 2, \"linecolor\": \"white\", \"showbackground\": true, \"ticks\": \"\", \"zerolinecolor\": \"white\"}, \"yaxis\": {\"backgroundcolor\": \"#E5ECF6\", \"gridcolor\": \"white\", \"gridwidth\": 2, \"linecolor\": \"white\", \"showbackground\": true, \"ticks\": \"\", \"zerolinecolor\": \"white\"}, \"zaxis\": {\"backgroundcolor\": \"#E5ECF6\", \"gridcolor\": \"white\", \"gridwidth\": 2, \"linecolor\": \"white\", \"showbackground\": true, \"ticks\": \"\", \"zerolinecolor\": \"white\"}}, \"shapedefaults\": {\"line\": {\"color\": \"#2a3f5f\"}}, \"ternary\": {\"aaxis\": {\"gridcolor\": \"white\", \"linecolor\": \"white\", \"ticks\": \"\"}, \"baxis\": {\"gridcolor\": \"white\", \"linecolor\": \"white\", \"ticks\": \"\"}, \"bgcolor\": \"#E5ECF6\", \"caxis\": {\"gridcolor\": \"white\", \"linecolor\": \"white\", \"ticks\": \"\"}}, \"title\": {\"x\": 0.05}, \"xaxis\": {\"automargin\": true, \"gridcolor\": \"white\", \"linecolor\": \"white\", \"ticks\": \"\", \"title\": {\"standoff\": 15}, \"zerolinecolor\": \"white\", \"zerolinewidth\": 2}, \"yaxis\": {\"automargin\": true, \"gridcolor\": \"white\", \"linecolor\": \"white\", \"ticks\": \"\", \"title\": {\"standoff\": 15}, \"zerolinecolor\": \"white\", \"zerolinewidth\": 2}}}, \"title\": {\"text\": \"AdaBoost Feature Importance\"}, \"yaxis\": {\"gridwidth\": 2, \"ticklen\": 5, \"title\": {\"text\": \"Feature Importance\"}}},\n",
       "                        {\"responsive\": true}\n",
       "                    ).then(function(){\n",
       "                            \n",
       "var gd = document.getElementById('3c5038ac-64c6-49fd-97d6-d101ff040413');\n",
       "var x = new MutationObserver(function (mutations, observer) {{\n",
       "        var display = window.getComputedStyle(gd).display;\n",
       "        if (!display || display === 'none') {{\n",
       "            console.log([gd, 'removed!']);\n",
       "            Plotly.purge(gd);\n",
       "            observer.disconnect();\n",
       "        }}\n",
       "}});\n",
       "\n",
       "// Listen for the removal of the full notebook cells\n",
       "var notebookContainer = gd.closest('#notebook-container');\n",
       "if (notebookContainer) {{\n",
       "    x.observe(notebookContainer, {childList: true});\n",
       "}}\n",
       "\n",
       "// Listen for the clearing of the current output cell\n",
       "var outputEl = gd.closest('.output');\n",
       "if (outputEl) {{\n",
       "    x.observe(outputEl, {childList: true});\n",
       "}}\n",
       "\n",
       "                        })\n",
       "                };\n",
       "                });\n",
       "            </script>\n",
       "        </div>"
      ]
     },
     "metadata": {},
     "output_type": "display_data"
    },
    {
     "data": {
      "application/vnd.plotly.v1+json": {
       "config": {
        "linkText": "Export to plot.ly",
        "plotlyServerURL": "https://plot.ly",
        "showLink": false
       },
       "data": [
        {
         "marker": {
          "color": [
           0.0027706725163149336,
           0.006763307980718018,
           0.24195557547529759,
           0.0012385025087206516,
           0.004252227279990576,
           0.003604631868342813,
           0.0002652123050828187,
           0.011666564031860109,
           0.0003585675684685889,
           0.0022459410312162427,
           0.002561393004054001,
           0.012996580867799937,
           5.336476591098051e-05,
           0.0001793441983828437,
           0.002734683050013625,
           0.01809230130837868,
           0.0002297790606380399,
           0.0009091785794393017,
           0.010165610035148443,
           0.008054185299377212,
           3.042697448470313e-07,
           0.03167116505555325,
           0.0009038626389994884,
           0.0011165001192338874,
           0.004875605952090655,
           0.002258401442376913,
           0.00044958948268463626,
           0.0005964394969346675,
           0.01571942448111297,
           0.005289110633857992,
           0.0011496804600439157,
           0.00215552164816617,
           0.02718777029600319,
           0.0029077018589694745,
           0.0001672998538246336,
           0.0022191269992152683,
           4.354067324922497e-05,
           0.001180659745956293,
           0.0010089053748128026,
           0.007003889561955896,
           0.0653794342888041,
           0.33934318883056624,
           0.01917669473050312,
           0.008732977786877422,
           0.10606541704933907,
           0.008003795832070426,
           0.0022425931968943994,
           0.002997271623847962,
           3.4651825441351412e-06,
           1.354317072828555e-06,
           0.0013079457917797724,
           0.00010836549340818803,
           0.0002482282101337863,
           0.0001790241029587677,
           0,
           9.92715275323989e-05,
           0,
           5.90720169031305e-06,
           5.355307737248414e-06,
           3.8144575565009145e-05,
           0.00014325291922887047,
           4.768417870988686e-05,
           8.285879418619802e-05,
           4.3510635632295694e-05,
           6.884721648337296e-05,
           1.8343458562092124e-05,
           0.00020428406515171337,
           5.049241675871776e-05,
           0.0002481743643875156,
           0.0007498864194912037,
           0.00018564264758169036,
           1.9133419303800517e-05,
           0.00018575667829196405,
           2.728722164763877e-05,
           0,
           0.00019770495417802686,
           0,
           1.235531265376713e-05,
           2.9344123654250917e-05,
           0.00011131951069903548,
           7.639033237739593e-06,
           5.2745981883567675e-05,
           8.221854965763906e-05,
           0.00025647279108620164,
           0.00015240359485159274,
           7.846785280720132e-06,
           0,
           0.0006679911021434313,
           0.00022033295808912792,
           0.0017107339750276037,
           0.00039113154698189144,
           3.5369409679166994e-05,
           0.00019780795328046895,
           0.0002150419262954991,
           0.0001599991706864744,
           5.422579012243453e-07,
           1.0389348792359063e-05,
           0.00037908866673591694,
           1.6052275522129693e-05,
           0,
           6.975650699846205e-05
          ],
          "colorscale": [
           [
            0,
            "rgb(12,51,131)"
           ],
           [
            0.25,
            "rgb(10,136,186)"
           ],
           [
            0.5,
            "rgb(242,211,56)"
           ],
           [
            0.75,
            "rgb(242,143,56)"
           ],
           [
            1,
            "rgb(217,30,30)"
           ]
          ],
          "showscale": true,
          "size": 25,
          "sizemode": "diameter",
          "sizeref": 1
         },
         "mode": "markers",
         "text": [
          "LotFrontage",
          "LotArea",
          "OverallQual",
          "OverallCond",
          "MasVnrArea",
          "ExterQual",
          "ExterCond",
          "BsmtQual",
          "BsmtCond",
          "BsmtExposure",
          "BsmtFinType1",
          "BsmtFinSF1",
          "BsmtFinType2",
          "BsmtFinSF2",
          "BsmtUnfSF",
          "TotalBsmtSF",
          "HeatingQC",
          "CentralAir",
          "1stFlrSF",
          "2ndFlrSF",
          "LowQualFinSF",
          "GrLivArea",
          "BsmtFullBath",
          "BsmtHalfBath",
          "FullBath",
          "HalfBath",
          "BedroomAbvGr",
          "KitchenAbvGr",
          "KitchenQual",
          "TotRmsAbvGrd",
          "Fireplaces",
          "FireplaceQu",
          "GarageCars",
          "GarageArea",
          "GarageQual",
          "GarageCond",
          "PavedDrive",
          "WoodDeckSF",
          "OpenPorchSF",
          "NeighborhoodLotArea",
          "NeighborhoodBldgType",
          "TotalSquareFeet",
          "NeighborhoodHouseStyle",
          "OverallQualNCond",
          "NeighborhoodOverallQualNCond",
          "AdjRemodAdd",
          "QuarterMeanNorm",
          "MonthMeanNorm",
          "Neighborhood_2",
          "Neighborhood_3",
          "Neighborhood_4",
          "Neighborhood_5",
          "Neighborhood_6",
          "Neighborhood_7",
          "Neighborhood_8",
          "Neighborhood_9",
          "Neighborhood_10",
          "Neighborhood_11",
          "Neighborhood_12",
          "Neighborhood_13",
          "Neighborhood_14",
          "Neighborhood_15",
          "Neighborhood_16",
          "Neighborhood_17",
          "Neighborhood_18",
          "Neighborhood_19",
          "Neighborhood_20",
          "Neighborhood_21",
          "Neighborhood_22",
          "Neighborhood_23",
          "Neighborhood_24",
          "Neighborhood_25",
          "LotConfig_2",
          "LotConfig_3",
          "LotConfig_4",
          "LotConfig_5",
          "BldgType_2",
          "BldgType_3",
          "BldgType_4",
          "BldgType_5",
          "HouseStyle_2",
          "HouseStyle_3",
          "HouseStyle_4",
          "HouseStyle_5",
          "HouseStyle_6",
          "HouseStyle_7",
          "HouseStyle_8",
          "SaleCondition_1",
          "SaleCondition_2",
          "SaleCondition_3",
          "GarageFinish_1",
          "GarageFinish_2",
          "GarageFinish_3",
          "GarageType_1",
          "GarageType_2",
          "GarageType_3",
          "GarageType_4",
          "Foundation_1",
          "Foundation_2",
          "Foundation_3",
          "Foundation_4"
         ],
         "type": "scatter",
         "x": [
          "LotFrontage",
          "LotArea",
          "OverallQual",
          "OverallCond",
          "MasVnrArea",
          "ExterQual",
          "ExterCond",
          "BsmtQual",
          "BsmtCond",
          "BsmtExposure",
          "BsmtFinType1",
          "BsmtFinSF1",
          "BsmtFinType2",
          "BsmtFinSF2",
          "BsmtUnfSF",
          "TotalBsmtSF",
          "HeatingQC",
          "CentralAir",
          "1stFlrSF",
          "2ndFlrSF",
          "LowQualFinSF",
          "GrLivArea",
          "BsmtFullBath",
          "BsmtHalfBath",
          "FullBath",
          "HalfBath",
          "BedroomAbvGr",
          "KitchenAbvGr",
          "KitchenQual",
          "TotRmsAbvGrd",
          "Fireplaces",
          "FireplaceQu",
          "GarageCars",
          "GarageArea",
          "GarageQual",
          "GarageCond",
          "PavedDrive",
          "WoodDeckSF",
          "OpenPorchSF",
          "NeighborhoodLotArea",
          "NeighborhoodBldgType",
          "TotalSquareFeet",
          "NeighborhoodHouseStyle",
          "OverallQualNCond",
          "NeighborhoodOverallQualNCond",
          "AdjRemodAdd",
          "QuarterMeanNorm",
          "MonthMeanNorm",
          "Neighborhood_2",
          "Neighborhood_3",
          "Neighborhood_4",
          "Neighborhood_5",
          "Neighborhood_6",
          "Neighborhood_7",
          "Neighborhood_8",
          "Neighborhood_9",
          "Neighborhood_10",
          "Neighborhood_11",
          "Neighborhood_12",
          "Neighborhood_13",
          "Neighborhood_14",
          "Neighborhood_15",
          "Neighborhood_16",
          "Neighborhood_17",
          "Neighborhood_18",
          "Neighborhood_19",
          "Neighborhood_20",
          "Neighborhood_21",
          "Neighborhood_22",
          "Neighborhood_23",
          "Neighborhood_24",
          "Neighborhood_25",
          "LotConfig_2",
          "LotConfig_3",
          "LotConfig_4",
          "LotConfig_5",
          "BldgType_2",
          "BldgType_3",
          "BldgType_4",
          "BldgType_5",
          "HouseStyle_2",
          "HouseStyle_3",
          "HouseStyle_4",
          "HouseStyle_5",
          "HouseStyle_6",
          "HouseStyle_7",
          "HouseStyle_8",
          "SaleCondition_1",
          "SaleCondition_2",
          "SaleCondition_3",
          "GarageFinish_1",
          "GarageFinish_2",
          "GarageFinish_3",
          "GarageType_1",
          "GarageType_2",
          "GarageType_3",
          "GarageType_4",
          "Foundation_1",
          "Foundation_2",
          "Foundation_3",
          "Foundation_4"
         ],
         "y": [
          0.0027706725163149336,
          0.006763307980718018,
          0.24195557547529759,
          0.0012385025087206516,
          0.004252227279990576,
          0.003604631868342813,
          0.0002652123050828187,
          0.011666564031860109,
          0.0003585675684685889,
          0.0022459410312162427,
          0.002561393004054001,
          0.012996580867799937,
          5.336476591098051e-05,
          0.0001793441983828437,
          0.002734683050013625,
          0.01809230130837868,
          0.0002297790606380399,
          0.0009091785794393017,
          0.010165610035148443,
          0.008054185299377212,
          3.042697448470313e-07,
          0.03167116505555325,
          0.0009038626389994884,
          0.0011165001192338874,
          0.004875605952090655,
          0.002258401442376913,
          0.00044958948268463626,
          0.0005964394969346675,
          0.01571942448111297,
          0.005289110633857992,
          0.0011496804600439157,
          0.00215552164816617,
          0.02718777029600319,
          0.0029077018589694745,
          0.0001672998538246336,
          0.0022191269992152683,
          4.354067324922497e-05,
          0.001180659745956293,
          0.0010089053748128026,
          0.007003889561955896,
          0.0653794342888041,
          0.33934318883056624,
          0.01917669473050312,
          0.008732977786877422,
          0.10606541704933907,
          0.008003795832070426,
          0.0022425931968943994,
          0.002997271623847962,
          3.4651825441351412e-06,
          1.354317072828555e-06,
          0.0013079457917797724,
          0.00010836549340818803,
          0.0002482282101337863,
          0.0001790241029587677,
          0,
          9.92715275323989e-05,
          0,
          5.90720169031305e-06,
          5.355307737248414e-06,
          3.8144575565009145e-05,
          0.00014325291922887047,
          4.768417870988686e-05,
          8.285879418619802e-05,
          4.3510635632295694e-05,
          6.884721648337296e-05,
          1.8343458562092124e-05,
          0.00020428406515171337,
          5.049241675871776e-05,
          0.0002481743643875156,
          0.0007498864194912037,
          0.00018564264758169036,
          1.9133419303800517e-05,
          0.00018575667829196405,
          2.728722164763877e-05,
          0,
          0.00019770495417802686,
          0,
          1.235531265376713e-05,
          2.9344123654250917e-05,
          0.00011131951069903548,
          7.639033237739593e-06,
          5.2745981883567675e-05,
          8.221854965763906e-05,
          0.00025647279108620164,
          0.00015240359485159274,
          7.846785280720132e-06,
          0,
          0.0006679911021434313,
          0.00022033295808912792,
          0.0017107339750276037,
          0.00039113154698189144,
          3.5369409679166994e-05,
          0.00019780795328046895,
          0.0002150419262954991,
          0.0001599991706864744,
          5.422579012243453e-07,
          1.0389348792359063e-05,
          0.00037908866673591694,
          1.6052275522129693e-05,
          0,
          6.975650699846205e-05
         ]
        }
       ],
       "layout": {
        "autosize": true,
        "hovermode": "closest",
        "showlegend": false,
        "template": {
         "data": {
          "bar": [
           {
            "error_x": {
             "color": "#2a3f5f"
            },
            "error_y": {
             "color": "#2a3f5f"
            },
            "marker": {
             "line": {
              "color": "#E5ECF6",
              "width": 0.5
             }
            },
            "type": "bar"
           }
          ],
          "barpolar": [
           {
            "marker": {
             "line": {
              "color": "#E5ECF6",
              "width": 0.5
             }
            },
            "type": "barpolar"
           }
          ],
          "carpet": [
           {
            "aaxis": {
             "endlinecolor": "#2a3f5f",
             "gridcolor": "white",
             "linecolor": "white",
             "minorgridcolor": "white",
             "startlinecolor": "#2a3f5f"
            },
            "baxis": {
             "endlinecolor": "#2a3f5f",
             "gridcolor": "white",
             "linecolor": "white",
             "minorgridcolor": "white",
             "startlinecolor": "#2a3f5f"
            },
            "type": "carpet"
           }
          ],
          "choropleth": [
           {
            "colorbar": {
             "outlinewidth": 0,
             "ticks": ""
            },
            "type": "choropleth"
           }
          ],
          "contour": [
           {
            "colorbar": {
             "outlinewidth": 0,
             "ticks": ""
            },
            "colorscale": [
             [
              0,
              "#0d0887"
             ],
             [
              0.1111111111111111,
              "#46039f"
             ],
             [
              0.2222222222222222,
              "#7201a8"
             ],
             [
              0.3333333333333333,
              "#9c179e"
             ],
             [
              0.4444444444444444,
              "#bd3786"
             ],
             [
              0.5555555555555556,
              "#d8576b"
             ],
             [
              0.6666666666666666,
              "#ed7953"
             ],
             [
              0.7777777777777778,
              "#fb9f3a"
             ],
             [
              0.8888888888888888,
              "#fdca26"
             ],
             [
              1,
              "#f0f921"
             ]
            ],
            "type": "contour"
           }
          ],
          "contourcarpet": [
           {
            "colorbar": {
             "outlinewidth": 0,
             "ticks": ""
            },
            "type": "contourcarpet"
           }
          ],
          "heatmap": [
           {
            "colorbar": {
             "outlinewidth": 0,
             "ticks": ""
            },
            "colorscale": [
             [
              0,
              "#0d0887"
             ],
             [
              0.1111111111111111,
              "#46039f"
             ],
             [
              0.2222222222222222,
              "#7201a8"
             ],
             [
              0.3333333333333333,
              "#9c179e"
             ],
             [
              0.4444444444444444,
              "#bd3786"
             ],
             [
              0.5555555555555556,
              "#d8576b"
             ],
             [
              0.6666666666666666,
              "#ed7953"
             ],
             [
              0.7777777777777778,
              "#fb9f3a"
             ],
             [
              0.8888888888888888,
              "#fdca26"
             ],
             [
              1,
              "#f0f921"
             ]
            ],
            "type": "heatmap"
           }
          ],
          "heatmapgl": [
           {
            "colorbar": {
             "outlinewidth": 0,
             "ticks": ""
            },
            "colorscale": [
             [
              0,
              "#0d0887"
             ],
             [
              0.1111111111111111,
              "#46039f"
             ],
             [
              0.2222222222222222,
              "#7201a8"
             ],
             [
              0.3333333333333333,
              "#9c179e"
             ],
             [
              0.4444444444444444,
              "#bd3786"
             ],
             [
              0.5555555555555556,
              "#d8576b"
             ],
             [
              0.6666666666666666,
              "#ed7953"
             ],
             [
              0.7777777777777778,
              "#fb9f3a"
             ],
             [
              0.8888888888888888,
              "#fdca26"
             ],
             [
              1,
              "#f0f921"
             ]
            ],
            "type": "heatmapgl"
           }
          ],
          "histogram": [
           {
            "marker": {
             "colorbar": {
              "outlinewidth": 0,
              "ticks": ""
             }
            },
            "type": "histogram"
           }
          ],
          "histogram2d": [
           {
            "colorbar": {
             "outlinewidth": 0,
             "ticks": ""
            },
            "colorscale": [
             [
              0,
              "#0d0887"
             ],
             [
              0.1111111111111111,
              "#46039f"
             ],
             [
              0.2222222222222222,
              "#7201a8"
             ],
             [
              0.3333333333333333,
              "#9c179e"
             ],
             [
              0.4444444444444444,
              "#bd3786"
             ],
             [
              0.5555555555555556,
              "#d8576b"
             ],
             [
              0.6666666666666666,
              "#ed7953"
             ],
             [
              0.7777777777777778,
              "#fb9f3a"
             ],
             [
              0.8888888888888888,
              "#fdca26"
             ],
             [
              1,
              "#f0f921"
             ]
            ],
            "type": "histogram2d"
           }
          ],
          "histogram2dcontour": [
           {
            "colorbar": {
             "outlinewidth": 0,
             "ticks": ""
            },
            "colorscale": [
             [
              0,
              "#0d0887"
             ],
             [
              0.1111111111111111,
              "#46039f"
             ],
             [
              0.2222222222222222,
              "#7201a8"
             ],
             [
              0.3333333333333333,
              "#9c179e"
             ],
             [
              0.4444444444444444,
              "#bd3786"
             ],
             [
              0.5555555555555556,
              "#d8576b"
             ],
             [
              0.6666666666666666,
              "#ed7953"
             ],
             [
              0.7777777777777778,
              "#fb9f3a"
             ],
             [
              0.8888888888888888,
              "#fdca26"
             ],
             [
              1,
              "#f0f921"
             ]
            ],
            "type": "histogram2dcontour"
           }
          ],
          "mesh3d": [
           {
            "colorbar": {
             "outlinewidth": 0,
             "ticks": ""
            },
            "type": "mesh3d"
           }
          ],
          "parcoords": [
           {
            "line": {
             "colorbar": {
              "outlinewidth": 0,
              "ticks": ""
             }
            },
            "type": "parcoords"
           }
          ],
          "pie": [
           {
            "automargin": true,
            "type": "pie"
           }
          ],
          "scatter": [
           {
            "marker": {
             "colorbar": {
              "outlinewidth": 0,
              "ticks": ""
             }
            },
            "type": "scatter"
           }
          ],
          "scatter3d": [
           {
            "line": {
             "colorbar": {
              "outlinewidth": 0,
              "ticks": ""
             }
            },
            "marker": {
             "colorbar": {
              "outlinewidth": 0,
              "ticks": ""
             }
            },
            "type": "scatter3d"
           }
          ],
          "scattercarpet": [
           {
            "marker": {
             "colorbar": {
              "outlinewidth": 0,
              "ticks": ""
             }
            },
            "type": "scattercarpet"
           }
          ],
          "scattergeo": [
           {
            "marker": {
             "colorbar": {
              "outlinewidth": 0,
              "ticks": ""
             }
            },
            "type": "scattergeo"
           }
          ],
          "scattergl": [
           {
            "marker": {
             "colorbar": {
              "outlinewidth": 0,
              "ticks": ""
             }
            },
            "type": "scattergl"
           }
          ],
          "scattermapbox": [
           {
            "marker": {
             "colorbar": {
              "outlinewidth": 0,
              "ticks": ""
             }
            },
            "type": "scattermapbox"
           }
          ],
          "scatterpolar": [
           {
            "marker": {
             "colorbar": {
              "outlinewidth": 0,
              "ticks": ""
             }
            },
            "type": "scatterpolar"
           }
          ],
          "scatterpolargl": [
           {
            "marker": {
             "colorbar": {
              "outlinewidth": 0,
              "ticks": ""
             }
            },
            "type": "scatterpolargl"
           }
          ],
          "scatterternary": [
           {
            "marker": {
             "colorbar": {
              "outlinewidth": 0,
              "ticks": ""
             }
            },
            "type": "scatterternary"
           }
          ],
          "surface": [
           {
            "colorbar": {
             "outlinewidth": 0,
             "ticks": ""
            },
            "colorscale": [
             [
              0,
              "#0d0887"
             ],
             [
              0.1111111111111111,
              "#46039f"
             ],
             [
              0.2222222222222222,
              "#7201a8"
             ],
             [
              0.3333333333333333,
              "#9c179e"
             ],
             [
              0.4444444444444444,
              "#bd3786"
             ],
             [
              0.5555555555555556,
              "#d8576b"
             ],
             [
              0.6666666666666666,
              "#ed7953"
             ],
             [
              0.7777777777777778,
              "#fb9f3a"
             ],
             [
              0.8888888888888888,
              "#fdca26"
             ],
             [
              1,
              "#f0f921"
             ]
            ],
            "type": "surface"
           }
          ],
          "table": [
           {
            "cells": {
             "fill": {
              "color": "#EBF0F8"
             },
             "line": {
              "color": "white"
             }
            },
            "header": {
             "fill": {
              "color": "#C8D4E3"
             },
             "line": {
              "color": "white"
             }
            },
            "type": "table"
           }
          ]
         },
         "layout": {
          "annotationdefaults": {
           "arrowcolor": "#2a3f5f",
           "arrowhead": 0,
           "arrowwidth": 1
          },
          "coloraxis": {
           "colorbar": {
            "outlinewidth": 0,
            "ticks": ""
           }
          },
          "colorscale": {
           "diverging": [
            [
             0,
             "#8e0152"
            ],
            [
             0.1,
             "#c51b7d"
            ],
            [
             0.2,
             "#de77ae"
            ],
            [
             0.3,
             "#f1b6da"
            ],
            [
             0.4,
             "#fde0ef"
            ],
            [
             0.5,
             "#f7f7f7"
            ],
            [
             0.6,
             "#e6f5d0"
            ],
            [
             0.7,
             "#b8e186"
            ],
            [
             0.8,
             "#7fbc41"
            ],
            [
             0.9,
             "#4d9221"
            ],
            [
             1,
             "#276419"
            ]
           ],
           "sequential": [
            [
             0,
             "#0d0887"
            ],
            [
             0.1111111111111111,
             "#46039f"
            ],
            [
             0.2222222222222222,
             "#7201a8"
            ],
            [
             0.3333333333333333,
             "#9c179e"
            ],
            [
             0.4444444444444444,
             "#bd3786"
            ],
            [
             0.5555555555555556,
             "#d8576b"
            ],
            [
             0.6666666666666666,
             "#ed7953"
            ],
            [
             0.7777777777777778,
             "#fb9f3a"
            ],
            [
             0.8888888888888888,
             "#fdca26"
            ],
            [
             1,
             "#f0f921"
            ]
           ],
           "sequentialminus": [
            [
             0,
             "#0d0887"
            ],
            [
             0.1111111111111111,
             "#46039f"
            ],
            [
             0.2222222222222222,
             "#7201a8"
            ],
            [
             0.3333333333333333,
             "#9c179e"
            ],
            [
             0.4444444444444444,
             "#bd3786"
            ],
            [
             0.5555555555555556,
             "#d8576b"
            ],
            [
             0.6666666666666666,
             "#ed7953"
            ],
            [
             0.7777777777777778,
             "#fb9f3a"
            ],
            [
             0.8888888888888888,
             "#fdca26"
            ],
            [
             1,
             "#f0f921"
            ]
           ]
          },
          "colorway": [
           "#636efa",
           "#EF553B",
           "#00cc96",
           "#ab63fa",
           "#FFA15A",
           "#19d3f3",
           "#FF6692",
           "#B6E880",
           "#FF97FF",
           "#FECB52"
          ],
          "font": {
           "color": "#2a3f5f"
          },
          "geo": {
           "bgcolor": "white",
           "lakecolor": "white",
           "landcolor": "#E5ECF6",
           "showlakes": true,
           "showland": true,
           "subunitcolor": "white"
          },
          "hoverlabel": {
           "align": "left"
          },
          "hovermode": "closest",
          "mapbox": {
           "style": "light"
          },
          "paper_bgcolor": "white",
          "plot_bgcolor": "#E5ECF6",
          "polar": {
           "angularaxis": {
            "gridcolor": "white",
            "linecolor": "white",
            "ticks": ""
           },
           "bgcolor": "#E5ECF6",
           "radialaxis": {
            "gridcolor": "white",
            "linecolor": "white",
            "ticks": ""
           }
          },
          "scene": {
           "xaxis": {
            "backgroundcolor": "#E5ECF6",
            "gridcolor": "white",
            "gridwidth": 2,
            "linecolor": "white",
            "showbackground": true,
            "ticks": "",
            "zerolinecolor": "white"
           },
           "yaxis": {
            "backgroundcolor": "#E5ECF6",
            "gridcolor": "white",
            "gridwidth": 2,
            "linecolor": "white",
            "showbackground": true,
            "ticks": "",
            "zerolinecolor": "white"
           },
           "zaxis": {
            "backgroundcolor": "#E5ECF6",
            "gridcolor": "white",
            "gridwidth": 2,
            "linecolor": "white",
            "showbackground": true,
            "ticks": "",
            "zerolinecolor": "white"
           }
          },
          "shapedefaults": {
           "line": {
            "color": "#2a3f5f"
           }
          },
          "ternary": {
           "aaxis": {
            "gridcolor": "white",
            "linecolor": "white",
            "ticks": ""
           },
           "baxis": {
            "gridcolor": "white",
            "linecolor": "white",
            "ticks": ""
           },
           "bgcolor": "#E5ECF6",
           "caxis": {
            "gridcolor": "white",
            "linecolor": "white",
            "ticks": ""
           }
          },
          "title": {
           "x": 0.05
          },
          "xaxis": {
           "automargin": true,
           "gridcolor": "white",
           "linecolor": "white",
           "ticks": "",
           "title": {
            "standoff": 15
           },
           "zerolinecolor": "white",
           "zerolinewidth": 2
          },
          "yaxis": {
           "automargin": true,
           "gridcolor": "white",
           "linecolor": "white",
           "ticks": "",
           "title": {
            "standoff": 15
           },
           "zerolinecolor": "white",
           "zerolinewidth": 2
          }
         }
        },
        "title": {
         "text": "Gradient Boosting Feature Importance"
        },
        "yaxis": {
         "gridwidth": 2,
         "ticklen": 5,
         "title": {
          "text": "Feature Importance"
         }
        }
       }
      },
      "text/html": [
       "<div>\n",
       "        \n",
       "        \n",
       "            <div id=\"704bfd74-6141-4255-8415-7855e6e930d0\" class=\"plotly-graph-div\" style=\"height:525px; width:100%;\"></div>\n",
       "            <script type=\"text/javascript\">\n",
       "                require([\"plotly\"], function(Plotly) {\n",
       "                    window.PLOTLYENV=window.PLOTLYENV || {};\n",
       "                    \n",
       "                if (document.getElementById(\"704bfd74-6141-4255-8415-7855e6e930d0\")) {\n",
       "                    Plotly.newPlot(\n",
       "                        '704bfd74-6141-4255-8415-7855e6e930d0',\n",
       "                        [{\"marker\": {\"color\": [0.0027706725163149336, 0.006763307980718018, 0.24195557547529759, 0.0012385025087206516, 0.004252227279990576, 0.003604631868342813, 0.0002652123050828187, 0.011666564031860109, 0.0003585675684685889, 0.0022459410312162427, 0.002561393004054001, 0.012996580867799937, 5.336476591098051e-05, 0.0001793441983828437, 0.002734683050013625, 0.01809230130837868, 0.0002297790606380399, 0.0009091785794393017, 0.010165610035148443, 0.008054185299377212, 3.042697448470313e-07, 0.03167116505555325, 0.0009038626389994884, 0.0011165001192338874, 0.004875605952090655, 0.002258401442376913, 0.00044958948268463626, 0.0005964394969346675, 0.01571942448111297, 0.005289110633857992, 0.0011496804600439157, 0.00215552164816617, 0.02718777029600319, 0.0029077018589694745, 0.0001672998538246336, 0.0022191269992152683, 4.354067324922497e-05, 0.001180659745956293, 0.0010089053748128026, 0.007003889561955896, 0.0653794342888041, 0.33934318883056624, 0.01917669473050312, 0.008732977786877422, 0.10606541704933907, 0.008003795832070426, 0.0022425931968943994, 0.002997271623847962, 3.4651825441351412e-06, 1.354317072828555e-06, 0.0013079457917797724, 0.00010836549340818803, 0.0002482282101337863, 0.0001790241029587677, 0.0, 9.92715275323989e-05, 0.0, 5.90720169031305e-06, 5.355307737248414e-06, 3.8144575565009145e-05, 0.00014325291922887047, 4.768417870988686e-05, 8.285879418619802e-05, 4.3510635632295694e-05, 6.884721648337296e-05, 1.8343458562092124e-05, 0.00020428406515171337, 5.049241675871776e-05, 0.0002481743643875156, 0.0007498864194912037, 0.00018564264758169036, 1.9133419303800517e-05, 0.00018575667829196405, 2.728722164763877e-05, 0.0, 0.00019770495417802686, 0.0, 1.235531265376713e-05, 2.9344123654250917e-05, 0.00011131951069903548, 7.639033237739593e-06, 5.2745981883567675e-05, 8.221854965763906e-05, 0.00025647279108620164, 0.00015240359485159274, 7.846785280720132e-06, 0.0, 0.0006679911021434313, 0.00022033295808912792, 0.0017107339750276037, 0.00039113154698189144, 3.5369409679166994e-05, 0.00019780795328046895, 0.0002150419262954991, 0.0001599991706864744, 5.422579012243453e-07, 1.0389348792359063e-05, 0.00037908866673591694, 1.6052275522129693e-05, 0.0, 6.975650699846205e-05], \"colorscale\": [[0.0, \"rgb(12,51,131)\"], [0.25, \"rgb(10,136,186)\"], [0.5, \"rgb(242,211,56)\"], [0.75, \"rgb(242,143,56)\"], [1.0, \"rgb(217,30,30)\"]], \"showscale\": true, \"size\": 25, \"sizemode\": \"diameter\", \"sizeref\": 1}, \"mode\": \"markers\", \"text\": [\"LotFrontage\", \"LotArea\", \"OverallQual\", \"OverallCond\", \"MasVnrArea\", \"ExterQual\", \"ExterCond\", \"BsmtQual\", \"BsmtCond\", \"BsmtExposure\", \"BsmtFinType1\", \"BsmtFinSF1\", \"BsmtFinType2\", \"BsmtFinSF2\", \"BsmtUnfSF\", \"TotalBsmtSF\", \"HeatingQC\", \"CentralAir\", \"1stFlrSF\", \"2ndFlrSF\", \"LowQualFinSF\", \"GrLivArea\", \"BsmtFullBath\", \"BsmtHalfBath\", \"FullBath\", \"HalfBath\", \"BedroomAbvGr\", \"KitchenAbvGr\", \"KitchenQual\", \"TotRmsAbvGrd\", \"Fireplaces\", \"FireplaceQu\", \"GarageCars\", \"GarageArea\", \"GarageQual\", \"GarageCond\", \"PavedDrive\", \"WoodDeckSF\", \"OpenPorchSF\", \"NeighborhoodLotArea\", \"NeighborhoodBldgType\", \"TotalSquareFeet\", \"NeighborhoodHouseStyle\", \"OverallQualNCond\", \"NeighborhoodOverallQualNCond\", \"AdjRemodAdd\", \"QuarterMeanNorm\", \"MonthMeanNorm\", \"Neighborhood_2\", \"Neighborhood_3\", \"Neighborhood_4\", \"Neighborhood_5\", \"Neighborhood_6\", \"Neighborhood_7\", \"Neighborhood_8\", \"Neighborhood_9\", \"Neighborhood_10\", \"Neighborhood_11\", \"Neighborhood_12\", \"Neighborhood_13\", \"Neighborhood_14\", \"Neighborhood_15\", \"Neighborhood_16\", \"Neighborhood_17\", \"Neighborhood_18\", \"Neighborhood_19\", \"Neighborhood_20\", \"Neighborhood_21\", \"Neighborhood_22\", \"Neighborhood_23\", \"Neighborhood_24\", \"Neighborhood_25\", \"LotConfig_2\", \"LotConfig_3\", \"LotConfig_4\", \"LotConfig_5\", \"BldgType_2\", \"BldgType_3\", \"BldgType_4\", \"BldgType_5\", \"HouseStyle_2\", \"HouseStyle_3\", \"HouseStyle_4\", \"HouseStyle_5\", \"HouseStyle_6\", \"HouseStyle_7\", \"HouseStyle_8\", \"SaleCondition_1\", \"SaleCondition_2\", \"SaleCondition_3\", \"GarageFinish_1\", \"GarageFinish_2\", \"GarageFinish_3\", \"GarageType_1\", \"GarageType_2\", \"GarageType_3\", \"GarageType_4\", \"Foundation_1\", \"Foundation_2\", \"Foundation_3\", \"Foundation_4\"], \"type\": \"scatter\", \"x\": [\"LotFrontage\", \"LotArea\", \"OverallQual\", \"OverallCond\", \"MasVnrArea\", \"ExterQual\", \"ExterCond\", \"BsmtQual\", \"BsmtCond\", \"BsmtExposure\", \"BsmtFinType1\", \"BsmtFinSF1\", \"BsmtFinType2\", \"BsmtFinSF2\", \"BsmtUnfSF\", \"TotalBsmtSF\", \"HeatingQC\", \"CentralAir\", \"1stFlrSF\", \"2ndFlrSF\", \"LowQualFinSF\", \"GrLivArea\", \"BsmtFullBath\", \"BsmtHalfBath\", \"FullBath\", \"HalfBath\", \"BedroomAbvGr\", \"KitchenAbvGr\", \"KitchenQual\", \"TotRmsAbvGrd\", \"Fireplaces\", \"FireplaceQu\", \"GarageCars\", \"GarageArea\", \"GarageQual\", \"GarageCond\", \"PavedDrive\", \"WoodDeckSF\", \"OpenPorchSF\", \"NeighborhoodLotArea\", \"NeighborhoodBldgType\", \"TotalSquareFeet\", \"NeighborhoodHouseStyle\", \"OverallQualNCond\", \"NeighborhoodOverallQualNCond\", \"AdjRemodAdd\", \"QuarterMeanNorm\", \"MonthMeanNorm\", \"Neighborhood_2\", \"Neighborhood_3\", \"Neighborhood_4\", \"Neighborhood_5\", \"Neighborhood_6\", \"Neighborhood_7\", \"Neighborhood_8\", \"Neighborhood_9\", \"Neighborhood_10\", \"Neighborhood_11\", \"Neighborhood_12\", \"Neighborhood_13\", \"Neighborhood_14\", \"Neighborhood_15\", \"Neighborhood_16\", \"Neighborhood_17\", \"Neighborhood_18\", \"Neighborhood_19\", \"Neighborhood_20\", \"Neighborhood_21\", \"Neighborhood_22\", \"Neighborhood_23\", \"Neighborhood_24\", \"Neighborhood_25\", \"LotConfig_2\", \"LotConfig_3\", \"LotConfig_4\", \"LotConfig_5\", \"BldgType_2\", \"BldgType_3\", \"BldgType_4\", \"BldgType_5\", \"HouseStyle_2\", \"HouseStyle_3\", \"HouseStyle_4\", \"HouseStyle_5\", \"HouseStyle_6\", \"HouseStyle_7\", \"HouseStyle_8\", \"SaleCondition_1\", \"SaleCondition_2\", \"SaleCondition_3\", \"GarageFinish_1\", \"GarageFinish_2\", \"GarageFinish_3\", \"GarageType_1\", \"GarageType_2\", \"GarageType_3\", \"GarageType_4\", \"Foundation_1\", \"Foundation_2\", \"Foundation_3\", \"Foundation_4\"], \"y\": [0.0027706725163149336, 0.006763307980718018, 0.24195557547529759, 0.0012385025087206516, 0.004252227279990576, 0.003604631868342813, 0.0002652123050828187, 0.011666564031860109, 0.0003585675684685889, 0.0022459410312162427, 0.002561393004054001, 0.012996580867799937, 5.336476591098051e-05, 0.0001793441983828437, 0.002734683050013625, 0.01809230130837868, 0.0002297790606380399, 0.0009091785794393017, 0.010165610035148443, 0.008054185299377212, 3.042697448470313e-07, 0.03167116505555325, 0.0009038626389994884, 0.0011165001192338874, 0.004875605952090655, 0.002258401442376913, 0.00044958948268463626, 0.0005964394969346675, 0.01571942448111297, 0.005289110633857992, 0.0011496804600439157, 0.00215552164816617, 0.02718777029600319, 0.0029077018589694745, 0.0001672998538246336, 0.0022191269992152683, 4.354067324922497e-05, 0.001180659745956293, 0.0010089053748128026, 0.007003889561955896, 0.0653794342888041, 0.33934318883056624, 0.01917669473050312, 0.008732977786877422, 0.10606541704933907, 0.008003795832070426, 0.0022425931968943994, 0.002997271623847962, 3.4651825441351412e-06, 1.354317072828555e-06, 0.0013079457917797724, 0.00010836549340818803, 0.0002482282101337863, 0.0001790241029587677, 0.0, 9.92715275323989e-05, 0.0, 5.90720169031305e-06, 5.355307737248414e-06, 3.8144575565009145e-05, 0.00014325291922887047, 4.768417870988686e-05, 8.285879418619802e-05, 4.3510635632295694e-05, 6.884721648337296e-05, 1.8343458562092124e-05, 0.00020428406515171337, 5.049241675871776e-05, 0.0002481743643875156, 0.0007498864194912037, 0.00018564264758169036, 1.9133419303800517e-05, 0.00018575667829196405, 2.728722164763877e-05, 0.0, 0.00019770495417802686, 0.0, 1.235531265376713e-05, 2.9344123654250917e-05, 0.00011131951069903548, 7.639033237739593e-06, 5.2745981883567675e-05, 8.221854965763906e-05, 0.00025647279108620164, 0.00015240359485159274, 7.846785280720132e-06, 0.0, 0.0006679911021434313, 0.00022033295808912792, 0.0017107339750276037, 0.00039113154698189144, 3.5369409679166994e-05, 0.00019780795328046895, 0.0002150419262954991, 0.0001599991706864744, 5.422579012243453e-07, 1.0389348792359063e-05, 0.00037908866673591694, 1.6052275522129693e-05, 0.0, 6.975650699846205e-05]}],\n",
       "                        {\"autosize\": true, \"hovermode\": \"closest\", \"showlegend\": false, \"template\": {\"data\": {\"bar\": [{\"error_x\": {\"color\": \"#2a3f5f\"}, \"error_y\": {\"color\": \"#2a3f5f\"}, \"marker\": {\"line\": {\"color\": \"#E5ECF6\", \"width\": 0.5}}, \"type\": \"bar\"}], \"barpolar\": [{\"marker\": {\"line\": {\"color\": \"#E5ECF6\", \"width\": 0.5}}, \"type\": \"barpolar\"}], \"carpet\": [{\"aaxis\": {\"endlinecolor\": \"#2a3f5f\", \"gridcolor\": \"white\", \"linecolor\": \"white\", \"minorgridcolor\": \"white\", \"startlinecolor\": \"#2a3f5f\"}, \"baxis\": {\"endlinecolor\": \"#2a3f5f\", \"gridcolor\": \"white\", \"linecolor\": \"white\", \"minorgridcolor\": \"white\", \"startlinecolor\": \"#2a3f5f\"}, \"type\": \"carpet\"}], \"choropleth\": [{\"colorbar\": {\"outlinewidth\": 0, \"ticks\": \"\"}, \"type\": \"choropleth\"}], \"contour\": [{\"colorbar\": {\"outlinewidth\": 0, \"ticks\": \"\"}, \"colorscale\": [[0.0, \"#0d0887\"], [0.1111111111111111, \"#46039f\"], [0.2222222222222222, \"#7201a8\"], [0.3333333333333333, \"#9c179e\"], [0.4444444444444444, \"#bd3786\"], [0.5555555555555556, \"#d8576b\"], [0.6666666666666666, \"#ed7953\"], [0.7777777777777778, \"#fb9f3a\"], [0.8888888888888888, \"#fdca26\"], [1.0, \"#f0f921\"]], \"type\": \"contour\"}], \"contourcarpet\": [{\"colorbar\": {\"outlinewidth\": 0, \"ticks\": \"\"}, \"type\": \"contourcarpet\"}], \"heatmap\": [{\"colorbar\": {\"outlinewidth\": 0, \"ticks\": \"\"}, \"colorscale\": [[0.0, \"#0d0887\"], [0.1111111111111111, \"#46039f\"], [0.2222222222222222, \"#7201a8\"], [0.3333333333333333, \"#9c179e\"], [0.4444444444444444, \"#bd3786\"], [0.5555555555555556, \"#d8576b\"], [0.6666666666666666, \"#ed7953\"], [0.7777777777777778, \"#fb9f3a\"], [0.8888888888888888, \"#fdca26\"], [1.0, \"#f0f921\"]], \"type\": \"heatmap\"}], \"heatmapgl\": [{\"colorbar\": {\"outlinewidth\": 0, \"ticks\": \"\"}, \"colorscale\": [[0.0, \"#0d0887\"], [0.1111111111111111, \"#46039f\"], [0.2222222222222222, \"#7201a8\"], [0.3333333333333333, \"#9c179e\"], [0.4444444444444444, \"#bd3786\"], [0.5555555555555556, \"#d8576b\"], [0.6666666666666666, \"#ed7953\"], [0.7777777777777778, \"#fb9f3a\"], [0.8888888888888888, \"#fdca26\"], [1.0, \"#f0f921\"]], \"type\": \"heatmapgl\"}], \"histogram\": [{\"marker\": {\"colorbar\": {\"outlinewidth\": 0, \"ticks\": \"\"}}, \"type\": \"histogram\"}], \"histogram2d\": [{\"colorbar\": {\"outlinewidth\": 0, \"ticks\": \"\"}, \"colorscale\": [[0.0, \"#0d0887\"], [0.1111111111111111, \"#46039f\"], [0.2222222222222222, \"#7201a8\"], [0.3333333333333333, \"#9c179e\"], [0.4444444444444444, \"#bd3786\"], [0.5555555555555556, \"#d8576b\"], [0.6666666666666666, \"#ed7953\"], [0.7777777777777778, \"#fb9f3a\"], [0.8888888888888888, \"#fdca26\"], [1.0, \"#f0f921\"]], \"type\": \"histogram2d\"}], \"histogram2dcontour\": [{\"colorbar\": {\"outlinewidth\": 0, \"ticks\": \"\"}, \"colorscale\": [[0.0, \"#0d0887\"], [0.1111111111111111, \"#46039f\"], [0.2222222222222222, \"#7201a8\"], [0.3333333333333333, \"#9c179e\"], [0.4444444444444444, \"#bd3786\"], [0.5555555555555556, \"#d8576b\"], [0.6666666666666666, \"#ed7953\"], [0.7777777777777778, \"#fb9f3a\"], [0.8888888888888888, \"#fdca26\"], [1.0, \"#f0f921\"]], \"type\": \"histogram2dcontour\"}], \"mesh3d\": [{\"colorbar\": {\"outlinewidth\": 0, \"ticks\": \"\"}, \"type\": \"mesh3d\"}], \"parcoords\": [{\"line\": {\"colorbar\": {\"outlinewidth\": 0, \"ticks\": \"\"}}, \"type\": \"parcoords\"}], \"pie\": [{\"automargin\": true, \"type\": \"pie\"}], \"scatter\": [{\"marker\": {\"colorbar\": {\"outlinewidth\": 0, \"ticks\": \"\"}}, \"type\": \"scatter\"}], \"scatter3d\": [{\"line\": {\"colorbar\": {\"outlinewidth\": 0, \"ticks\": \"\"}}, \"marker\": {\"colorbar\": {\"outlinewidth\": 0, \"ticks\": \"\"}}, \"type\": \"scatter3d\"}], \"scattercarpet\": [{\"marker\": {\"colorbar\": {\"outlinewidth\": 0, \"ticks\": \"\"}}, \"type\": \"scattercarpet\"}], \"scattergeo\": [{\"marker\": {\"colorbar\": {\"outlinewidth\": 0, \"ticks\": \"\"}}, \"type\": \"scattergeo\"}], \"scattergl\": [{\"marker\": {\"colorbar\": {\"outlinewidth\": 0, \"ticks\": \"\"}}, \"type\": \"scattergl\"}], \"scattermapbox\": [{\"marker\": {\"colorbar\": {\"outlinewidth\": 0, \"ticks\": \"\"}}, \"type\": \"scattermapbox\"}], \"scatterpolar\": [{\"marker\": {\"colorbar\": {\"outlinewidth\": 0, \"ticks\": \"\"}}, \"type\": \"scatterpolar\"}], \"scatterpolargl\": [{\"marker\": {\"colorbar\": {\"outlinewidth\": 0, \"ticks\": \"\"}}, \"type\": \"scatterpolargl\"}], \"scatterternary\": [{\"marker\": {\"colorbar\": {\"outlinewidth\": 0, \"ticks\": \"\"}}, \"type\": \"scatterternary\"}], \"surface\": [{\"colorbar\": {\"outlinewidth\": 0, \"ticks\": \"\"}, \"colorscale\": [[0.0, \"#0d0887\"], [0.1111111111111111, \"#46039f\"], [0.2222222222222222, \"#7201a8\"], [0.3333333333333333, \"#9c179e\"], [0.4444444444444444, \"#bd3786\"], [0.5555555555555556, \"#d8576b\"], [0.6666666666666666, \"#ed7953\"], [0.7777777777777778, \"#fb9f3a\"], [0.8888888888888888, \"#fdca26\"], [1.0, \"#f0f921\"]], \"type\": \"surface\"}], \"table\": [{\"cells\": {\"fill\": {\"color\": \"#EBF0F8\"}, \"line\": {\"color\": \"white\"}}, \"header\": {\"fill\": {\"color\": \"#C8D4E3\"}, \"line\": {\"color\": \"white\"}}, \"type\": \"table\"}]}, \"layout\": {\"annotationdefaults\": {\"arrowcolor\": \"#2a3f5f\", \"arrowhead\": 0, \"arrowwidth\": 1}, \"coloraxis\": {\"colorbar\": {\"outlinewidth\": 0, \"ticks\": \"\"}}, \"colorscale\": {\"diverging\": [[0, \"#8e0152\"], [0.1, \"#c51b7d\"], [0.2, \"#de77ae\"], [0.3, \"#f1b6da\"], [0.4, \"#fde0ef\"], [0.5, \"#f7f7f7\"], [0.6, \"#e6f5d0\"], [0.7, \"#b8e186\"], [0.8, \"#7fbc41\"], [0.9, \"#4d9221\"], [1, \"#276419\"]], \"sequential\": [[0.0, \"#0d0887\"], [0.1111111111111111, \"#46039f\"], [0.2222222222222222, \"#7201a8\"], [0.3333333333333333, \"#9c179e\"], [0.4444444444444444, \"#bd3786\"], [0.5555555555555556, \"#d8576b\"], [0.6666666666666666, \"#ed7953\"], [0.7777777777777778, \"#fb9f3a\"], [0.8888888888888888, \"#fdca26\"], [1.0, \"#f0f921\"]], \"sequentialminus\": [[0.0, \"#0d0887\"], [0.1111111111111111, \"#46039f\"], [0.2222222222222222, \"#7201a8\"], [0.3333333333333333, \"#9c179e\"], [0.4444444444444444, \"#bd3786\"], [0.5555555555555556, \"#d8576b\"], [0.6666666666666666, \"#ed7953\"], [0.7777777777777778, \"#fb9f3a\"], [0.8888888888888888, \"#fdca26\"], [1.0, \"#f0f921\"]]}, \"colorway\": [\"#636efa\", \"#EF553B\", \"#00cc96\", \"#ab63fa\", \"#FFA15A\", \"#19d3f3\", \"#FF6692\", \"#B6E880\", \"#FF97FF\", \"#FECB52\"], \"font\": {\"color\": \"#2a3f5f\"}, \"geo\": {\"bgcolor\": \"white\", \"lakecolor\": \"white\", \"landcolor\": \"#E5ECF6\", \"showlakes\": true, \"showland\": true, \"subunitcolor\": \"white\"}, \"hoverlabel\": {\"align\": \"left\"}, \"hovermode\": \"closest\", \"mapbox\": {\"style\": \"light\"}, \"paper_bgcolor\": \"white\", \"plot_bgcolor\": \"#E5ECF6\", \"polar\": {\"angularaxis\": {\"gridcolor\": \"white\", \"linecolor\": \"white\", \"ticks\": \"\"}, \"bgcolor\": \"#E5ECF6\", \"radialaxis\": {\"gridcolor\": \"white\", \"linecolor\": \"white\", \"ticks\": \"\"}}, \"scene\": {\"xaxis\": {\"backgroundcolor\": \"#E5ECF6\", \"gridcolor\": \"white\", \"gridwidth\": 2, \"linecolor\": \"white\", \"showbackground\": true, \"ticks\": \"\", \"zerolinecolor\": \"white\"}, \"yaxis\": {\"backgroundcolor\": \"#E5ECF6\", \"gridcolor\": \"white\", \"gridwidth\": 2, \"linecolor\": \"white\", \"showbackground\": true, \"ticks\": \"\", \"zerolinecolor\": \"white\"}, \"zaxis\": {\"backgroundcolor\": \"#E5ECF6\", \"gridcolor\": \"white\", \"gridwidth\": 2, \"linecolor\": \"white\", \"showbackground\": true, \"ticks\": \"\", \"zerolinecolor\": \"white\"}}, \"shapedefaults\": {\"line\": {\"color\": \"#2a3f5f\"}}, \"ternary\": {\"aaxis\": {\"gridcolor\": \"white\", \"linecolor\": \"white\", \"ticks\": \"\"}, \"baxis\": {\"gridcolor\": \"white\", \"linecolor\": \"white\", \"ticks\": \"\"}, \"bgcolor\": \"#E5ECF6\", \"caxis\": {\"gridcolor\": \"white\", \"linecolor\": \"white\", \"ticks\": \"\"}}, \"title\": {\"x\": 0.05}, \"xaxis\": {\"automargin\": true, \"gridcolor\": \"white\", \"linecolor\": \"white\", \"ticks\": \"\", \"title\": {\"standoff\": 15}, \"zerolinecolor\": \"white\", \"zerolinewidth\": 2}, \"yaxis\": {\"automargin\": true, \"gridcolor\": \"white\", \"linecolor\": \"white\", \"ticks\": \"\", \"title\": {\"standoff\": 15}, \"zerolinecolor\": \"white\", \"zerolinewidth\": 2}}}, \"title\": {\"text\": \"Gradient Boosting Feature Importance\"}, \"yaxis\": {\"gridwidth\": 2, \"ticklen\": 5, \"title\": {\"text\": \"Feature Importance\"}}},\n",
       "                        {\"responsive\": true}\n",
       "                    ).then(function(){\n",
       "                            \n",
       "var gd = document.getElementById('704bfd74-6141-4255-8415-7855e6e930d0');\n",
       "var x = new MutationObserver(function (mutations, observer) {{\n",
       "        var display = window.getComputedStyle(gd).display;\n",
       "        if (!display || display === 'none') {{\n",
       "            console.log([gd, 'removed!']);\n",
       "            Plotly.purge(gd);\n",
       "            observer.disconnect();\n",
       "        }}\n",
       "}});\n",
       "\n",
       "// Listen for the removal of the full notebook cells\n",
       "var notebookContainer = gd.closest('#notebook-container');\n",
       "if (notebookContainer) {{\n",
       "    x.observe(notebookContainer, {childList: true});\n",
       "}}\n",
       "\n",
       "// Listen for the clearing of the current output cell\n",
       "var outputEl = gd.closest('.output');\n",
       "if (outputEl) {{\n",
       "    x.observe(outputEl, {childList: true});\n",
       "}}\n",
       "\n",
       "                        })\n",
       "                };\n",
       "                });\n",
       "            </script>\n",
       "        </div>"
      ]
     },
     "metadata": {},
     "output_type": "display_data"
    }
   ],
   "source": [
    "import plotly.offline as py\n",
    "py.init_notebook_mode(connected=True)\n",
    "import plotly.graph_objs as go\n",
    "\n",
    "# Scatter plot \n",
    "trace = go.Scatter(\n",
    "    y = feature_dataframe['Random Forest feature importances'].values,\n",
    "    x = feature_dataframe['features'].values,\n",
    "    mode='markers',\n",
    "    marker=dict(\n",
    "        sizemode = 'diameter',\n",
    "        sizeref = 1,\n",
    "        size = 25,\n",
    "#       size= feature_dataframe['AdaBoost feature importances'].values,\n",
    "        #color = np.random.randn(500), #set color equal to a variable\n",
    "        color = feature_dataframe['Random Forest feature importances'].values,\n",
    "        colorscale='Portland',\n",
    "        showscale=True\n",
    "    ),\n",
    "    text = feature_dataframe['features'].values\n",
    ")\n",
    "data = [trace]\n",
    "\n",
    "layout= go.Layout(\n",
    "    autosize= True,\n",
    "    title= 'Random Forest Feature Importance',\n",
    "    hovermode= 'closest',\n",
    "#     xaxis= dict(\n",
    "#         title= 'Pop',\n",
    "#         ticklen= 5,\n",
    "#         zeroline= False,\n",
    "#         gridwidth= 2,\n",
    "#     ),\n",
    "    yaxis=dict(\n",
    "        title= 'Feature Importance',\n",
    "        ticklen= 5,\n",
    "        gridwidth= 2\n",
    "    ),\n",
    "    showlegend= False\n",
    ")\n",
    "fig = go.Figure(data=data, layout=layout)\n",
    "py.iplot(fig,filename='scatter2010')\n",
    "\n",
    "# Scatter plot \n",
    "trace = go.Scatter(\n",
    "    y = feature_dataframe['Extra Trees  feature importances'].values,\n",
    "    x = feature_dataframe['features'].values,\n",
    "    mode='markers',\n",
    "    marker=dict(\n",
    "        sizemode = 'diameter',\n",
    "        sizeref = 1,\n",
    "        size = 25,\n",
    "#       size= feature_dataframe['AdaBoost feature importances'].values,\n",
    "        #color = np.random.randn(500), #set color equal to a variable\n",
    "        color = feature_dataframe['Extra Trees  feature importances'].values,\n",
    "        colorscale='Portland',\n",
    "        showscale=True\n",
    "    ),\n",
    "    text = feature_dataframe['features'].values\n",
    ")\n",
    "data = [trace]\n",
    "\n",
    "layout= go.Layout(\n",
    "    autosize= True,\n",
    "    title= 'Extra Trees Feature Importance',\n",
    "    hovermode= 'closest',\n",
    "#     xaxis= dict(\n",
    "#         title= 'Pop',\n",
    "#         ticklen= 5,\n",
    "#         zeroline= False,\n",
    "#         gridwidth= 2,\n",
    "#     ),\n",
    "    yaxis=dict(\n",
    "        title= 'Feature Importance',\n",
    "        ticklen= 5,\n",
    "        gridwidth= 2\n",
    "    ),\n",
    "    showlegend= False\n",
    ")\n",
    "fig = go.Figure(data=data, layout=layout)\n",
    "py.iplot(fig,filename='scatter2010')\n",
    "\n",
    "# Scatter plot \n",
    "trace = go.Scatter(\n",
    "    y = feature_dataframe['AdaBoost feature importances'].values,\n",
    "    x = feature_dataframe['features'].values,\n",
    "    mode='markers',\n",
    "    marker=dict(\n",
    "        sizemode = 'diameter',\n",
    "        sizeref = 1,\n",
    "        size = 25,\n",
    "#       size= feature_dataframe['AdaBoost feature importances'].values,\n",
    "        #color = np.random.randn(500), #set color equal to a variable\n",
    "        color = feature_dataframe['AdaBoost feature importances'].values,\n",
    "        colorscale='Portland',\n",
    "        showscale=True\n",
    "    ),\n",
    "    text = feature_dataframe['features'].values\n",
    ")\n",
    "data = [trace]\n",
    "\n",
    "layout= go.Layout(\n",
    "    autosize= True,\n",
    "    title= 'AdaBoost Feature Importance',\n",
    "    hovermode= 'closest',\n",
    "#     xaxis= dict(\n",
    "#         title= 'Pop',\n",
    "#         ticklen= 5,\n",
    "#         zeroline= False,\n",
    "#         gridwidth= 2,\n",
    "#     ),\n",
    "    yaxis=dict(\n",
    "        title= 'Feature Importance',\n",
    "        ticklen= 5,\n",
    "        gridwidth= 2\n",
    "    ),\n",
    "    showlegend= False\n",
    ")\n",
    "fig = go.Figure(data=data, layout=layout)\n",
    "py.iplot(fig,filename='scatter2010')\n",
    "\n",
    "# Scatter plot \n",
    "trace = go.Scatter(\n",
    "    y = feature_dataframe['Gradient Boost feature importances'].values,\n",
    "    x = feature_dataframe['features'].values,\n",
    "    mode='markers',\n",
    "    marker=dict(\n",
    "        sizemode = 'diameter',\n",
    "        sizeref = 1,\n",
    "        size = 25,\n",
    "#       size= feature_dataframe['AdaBoost feature importances'].values,\n",
    "        #color = np.random.randn(500), #set color equal to a variable\n",
    "        color = feature_dataframe['Gradient Boost feature importances'].values,\n",
    "        colorscale='Portland',\n",
    "        showscale=True\n",
    "    ),\n",
    "    text = feature_dataframe['features'].values\n",
    ")\n",
    "data = [trace]\n",
    "\n",
    "layout= go.Layout(\n",
    "    autosize= True,\n",
    "    title= 'Gradient Boosting Feature Importance',\n",
    "    hovermode= 'closest',\n",
    "#     xaxis= dict(\n",
    "#         title= 'Pop',\n",
    "#         ticklen= 5,\n",
    "#         zeroline= False,\n",
    "#         gridwidth= 2,\n",
    "#     ),\n",
    "    yaxis=dict(\n",
    "        title= 'Feature Importance',\n",
    "        ticklen= 5,\n",
    "        gridwidth= 2\n",
    "    ),\n",
    "    showlegend= False\n",
    ")\n",
    "fig = go.Figure(data=data, layout=layout)\n",
    "py.iplot(fig,filename='scatter2010')"
   ]
  },
  {
   "cell_type": "code",
   "execution_count": 17,
   "metadata": {},
   "outputs": [
    {
     "data": {
      "application/vnd.plotly.v1+json": {
       "config": {
        "linkText": "Export to plot.ly",
        "plotlyServerURL": "https://plot.ly",
        "showLink": false
       },
       "data": [
        {
         "marker": {
          "color": [
           0.0022296571698377276,
           0.004190415590439706,
           0.13272704153999842,
           0.00303214821111213,
           0.009415373024285422,
           0.03103043208675591,
           0.0003246694468283078,
           0.01815857655904886,
           0.0004879224633163586,
           0.002489594163395805,
           0.0016119898257136245,
           0.010245194721541704,
           0.0001370874389743148,
           0.00023749204120890175,
           0.007101948723110723,
           0.019617729781654835,
           0.0006386264445827696,
           0.0012148246799564525,
           0.012569783715858207,
           0.010758039101387982,
           4.7269645075134386e-05,
           0.028050025649999186,
           0.001073023923622051,
           0.0011101617076744307,
           0.005587776857458987,
           0.0014574458106775966,
           0.0011755299711273392,
           0.00026751391044277275,
           0.017257874293978105,
           0.013234609303749909,
           0.0036355506607028444,
           0.003956442161541973,
           0.02356361274341275,
           0.006126955801387816,
           0.00025817144513442527,
           0.0009985491660317975,
           0.00016349365474415206,
           0.0018297534431751855,
           0.002010887813577064,
           0.004404298970980087,
           0.10162379930289253,
           0.3007222401968029,
           0.026450625632308763,
           0.00966489462404233,
           0.14558987154915448,
           0.007655638944646843,
           0.001939124854299854,
           0.0026800730409944767,
           4.4181942944236266e-05,
           3.56204359613385e-06,
           0.0007997241021299559,
           0.00040043821165766186,
           0.00043697873573465536,
           0.00010890709903075066,
           6.548847603113423e-07,
           5.642856852722798e-05,
           7.885365460635016e-07,
           0.0001991436091630353,
           0.00010873169961951141,
           0.00018178925958629936,
           8.900885943365932e-05,
           0.0001155201698332394,
           3.806479085790249e-05,
           0.0001497837599600378,
           0.00015589987677151342,
           6.390901630783833e-05,
           0.00024437574374120373,
           5.242512673600062e-05,
           0.00023285845940161754,
           0.0009716548649053647,
           0.00030553197529174266,
           0.0015286558967669975,
           0.00017886198159187887,
           0.0005846598362032654,
           2.3628370796055288e-07,
           0.0005277915123510052,
           7.242373414759392e-05,
           3.81201707669422e-05,
           9.655109784532604e-05,
           0.0002576266863605136,
           1.3550666995024522e-05,
           0.0001947145885823184,
           0.00010460839830355329,
           0.00017809946931256283,
           0.00038005012897296886,
           0.0004487090759335088,
           7.177190271760035e-05,
           0.0004311607105008103,
           0.0007639571218106521,
           0.0015770494433929867,
           0.0006150676383006488,
           0.00036171758498920807,
           0.0005804510724130088,
           0.00028748269926840125,
           0.0001800410707138852,
           0.0006400914578567359,
           0.00028619482496832345,
           0.00031312902553130243,
           0.00033711139156537953,
           2.7276756946423166e-05,
           0.0034087146260031423
          ],
          "colorscale": [
           [
            0,
            "rgb(12,51,131)"
           ],
           [
            0.25,
            "rgb(10,136,186)"
           ],
           [
            0.5,
            "rgb(242,211,56)"
           ],
           [
            0.75,
            "rgb(242,143,56)"
           ],
           [
            1,
            "rgb(217,30,30)"
           ]
          ],
          "reversescale": false,
          "showscale": true
         },
         "opacity": 0.6,
         "type": "bar",
         "width": 0.5,
         "x": [
          "LotFrontage",
          "LotArea",
          "OverallQual",
          "OverallCond",
          "MasVnrArea",
          "ExterQual",
          "ExterCond",
          "BsmtQual",
          "BsmtCond",
          "BsmtExposure",
          "BsmtFinType1",
          "BsmtFinSF1",
          "BsmtFinType2",
          "BsmtFinSF2",
          "BsmtUnfSF",
          "TotalBsmtSF",
          "HeatingQC",
          "CentralAir",
          "1stFlrSF",
          "2ndFlrSF",
          "LowQualFinSF",
          "GrLivArea",
          "BsmtFullBath",
          "BsmtHalfBath",
          "FullBath",
          "HalfBath",
          "BedroomAbvGr",
          "KitchenAbvGr",
          "KitchenQual",
          "TotRmsAbvGrd",
          "Fireplaces",
          "FireplaceQu",
          "GarageCars",
          "GarageArea",
          "GarageQual",
          "GarageCond",
          "PavedDrive",
          "WoodDeckSF",
          "OpenPorchSF",
          "NeighborhoodLotArea",
          "NeighborhoodBldgType",
          "TotalSquareFeet",
          "NeighborhoodHouseStyle",
          "OverallQualNCond",
          "NeighborhoodOverallQualNCond",
          "AdjRemodAdd",
          "QuarterMeanNorm",
          "MonthMeanNorm",
          "Neighborhood_2",
          "Neighborhood_3",
          "Neighborhood_4",
          "Neighborhood_5",
          "Neighborhood_6",
          "Neighborhood_7",
          "Neighborhood_8",
          "Neighborhood_9",
          "Neighborhood_10",
          "Neighborhood_11",
          "Neighborhood_12",
          "Neighborhood_13",
          "Neighborhood_14",
          "Neighborhood_15",
          "Neighborhood_16",
          "Neighborhood_17",
          "Neighborhood_18",
          "Neighborhood_19",
          "Neighborhood_20",
          "Neighborhood_21",
          "Neighborhood_22",
          "Neighborhood_23",
          "Neighborhood_24",
          "Neighborhood_25",
          "LotConfig_2",
          "LotConfig_3",
          "LotConfig_4",
          "LotConfig_5",
          "BldgType_2",
          "BldgType_3",
          "BldgType_4",
          "BldgType_5",
          "HouseStyle_2",
          "HouseStyle_3",
          "HouseStyle_4",
          "HouseStyle_5",
          "HouseStyle_6",
          "HouseStyle_7",
          "HouseStyle_8",
          "SaleCondition_1",
          "SaleCondition_2",
          "SaleCondition_3",
          "GarageFinish_1",
          "GarageFinish_2",
          "GarageFinish_3",
          "GarageType_1",
          "GarageType_2",
          "GarageType_3",
          "GarageType_4",
          "Foundation_1",
          "Foundation_2",
          "Foundation_3",
          "Foundation_4"
         ],
         "y": [
          0.0022296571698377276,
          0.004190415590439706,
          0.13272704153999842,
          0.00303214821111213,
          0.009415373024285422,
          0.03103043208675591,
          0.0003246694468283078,
          0.01815857655904886,
          0.0004879224633163586,
          0.002489594163395805,
          0.0016119898257136245,
          0.010245194721541704,
          0.0001370874389743148,
          0.00023749204120890175,
          0.007101948723110723,
          0.019617729781654835,
          0.0006386264445827696,
          0.0012148246799564525,
          0.012569783715858207,
          0.010758039101387982,
          4.7269645075134386e-05,
          0.028050025649999186,
          0.001073023923622051,
          0.0011101617076744307,
          0.005587776857458987,
          0.0014574458106775966,
          0.0011755299711273392,
          0.00026751391044277275,
          0.017257874293978105,
          0.013234609303749909,
          0.0036355506607028444,
          0.003956442161541973,
          0.02356361274341275,
          0.006126955801387816,
          0.00025817144513442527,
          0.0009985491660317975,
          0.00016349365474415206,
          0.0018297534431751855,
          0.002010887813577064,
          0.004404298970980087,
          0.10162379930289253,
          0.3007222401968029,
          0.026450625632308763,
          0.00966489462404233,
          0.14558987154915448,
          0.007655638944646843,
          0.001939124854299854,
          0.0026800730409944767,
          4.4181942944236266e-05,
          3.56204359613385e-06,
          0.0007997241021299559,
          0.00040043821165766186,
          0.00043697873573465536,
          0.00010890709903075066,
          6.548847603113423e-07,
          5.642856852722798e-05,
          7.885365460635016e-07,
          0.0001991436091630353,
          0.00010873169961951141,
          0.00018178925958629936,
          8.900885943365932e-05,
          0.0001155201698332394,
          3.806479085790249e-05,
          0.0001497837599600378,
          0.00015589987677151342,
          6.390901630783833e-05,
          0.00024437574374120373,
          5.242512673600062e-05,
          0.00023285845940161754,
          0.0009716548649053647,
          0.00030553197529174266,
          0.0015286558967669975,
          0.00017886198159187887,
          0.0005846598362032654,
          2.3628370796055288e-07,
          0.0005277915123510052,
          7.242373414759392e-05,
          3.81201707669422e-05,
          9.655109784532604e-05,
          0.0002576266863605136,
          1.3550666995024522e-05,
          0.0001947145885823184,
          0.00010460839830355329,
          0.00017809946931256283,
          0.00038005012897296886,
          0.0004487090759335088,
          7.177190271760035e-05,
          0.0004311607105008103,
          0.0007639571218106521,
          0.0015770494433929867,
          0.0006150676383006488,
          0.00036171758498920807,
          0.0005804510724130088,
          0.00028748269926840125,
          0.0001800410707138852,
          0.0006400914578567359,
          0.00028619482496832345,
          0.00031312902553130243,
          0.00033711139156537953,
          2.7276756946423166e-05,
          0.0034087146260031423
         ]
        }
       ],
       "layout": {
        "autosize": true,
        "hovermode": "closest",
        "showlegend": false,
        "template": {
         "data": {
          "bar": [
           {
            "error_x": {
             "color": "#2a3f5f"
            },
            "error_y": {
             "color": "#2a3f5f"
            },
            "marker": {
             "line": {
              "color": "#E5ECF6",
              "width": 0.5
             }
            },
            "type": "bar"
           }
          ],
          "barpolar": [
           {
            "marker": {
             "line": {
              "color": "#E5ECF6",
              "width": 0.5
             }
            },
            "type": "barpolar"
           }
          ],
          "carpet": [
           {
            "aaxis": {
             "endlinecolor": "#2a3f5f",
             "gridcolor": "white",
             "linecolor": "white",
             "minorgridcolor": "white",
             "startlinecolor": "#2a3f5f"
            },
            "baxis": {
             "endlinecolor": "#2a3f5f",
             "gridcolor": "white",
             "linecolor": "white",
             "minorgridcolor": "white",
             "startlinecolor": "#2a3f5f"
            },
            "type": "carpet"
           }
          ],
          "choropleth": [
           {
            "colorbar": {
             "outlinewidth": 0,
             "ticks": ""
            },
            "type": "choropleth"
           }
          ],
          "contour": [
           {
            "colorbar": {
             "outlinewidth": 0,
             "ticks": ""
            },
            "colorscale": [
             [
              0,
              "#0d0887"
             ],
             [
              0.1111111111111111,
              "#46039f"
             ],
             [
              0.2222222222222222,
              "#7201a8"
             ],
             [
              0.3333333333333333,
              "#9c179e"
             ],
             [
              0.4444444444444444,
              "#bd3786"
             ],
             [
              0.5555555555555556,
              "#d8576b"
             ],
             [
              0.6666666666666666,
              "#ed7953"
             ],
             [
              0.7777777777777778,
              "#fb9f3a"
             ],
             [
              0.8888888888888888,
              "#fdca26"
             ],
             [
              1,
              "#f0f921"
             ]
            ],
            "type": "contour"
           }
          ],
          "contourcarpet": [
           {
            "colorbar": {
             "outlinewidth": 0,
             "ticks": ""
            },
            "type": "contourcarpet"
           }
          ],
          "heatmap": [
           {
            "colorbar": {
             "outlinewidth": 0,
             "ticks": ""
            },
            "colorscale": [
             [
              0,
              "#0d0887"
             ],
             [
              0.1111111111111111,
              "#46039f"
             ],
             [
              0.2222222222222222,
              "#7201a8"
             ],
             [
              0.3333333333333333,
              "#9c179e"
             ],
             [
              0.4444444444444444,
              "#bd3786"
             ],
             [
              0.5555555555555556,
              "#d8576b"
             ],
             [
              0.6666666666666666,
              "#ed7953"
             ],
             [
              0.7777777777777778,
              "#fb9f3a"
             ],
             [
              0.8888888888888888,
              "#fdca26"
             ],
             [
              1,
              "#f0f921"
             ]
            ],
            "type": "heatmap"
           }
          ],
          "heatmapgl": [
           {
            "colorbar": {
             "outlinewidth": 0,
             "ticks": ""
            },
            "colorscale": [
             [
              0,
              "#0d0887"
             ],
             [
              0.1111111111111111,
              "#46039f"
             ],
             [
              0.2222222222222222,
              "#7201a8"
             ],
             [
              0.3333333333333333,
              "#9c179e"
             ],
             [
              0.4444444444444444,
              "#bd3786"
             ],
             [
              0.5555555555555556,
              "#d8576b"
             ],
             [
              0.6666666666666666,
              "#ed7953"
             ],
             [
              0.7777777777777778,
              "#fb9f3a"
             ],
             [
              0.8888888888888888,
              "#fdca26"
             ],
             [
              1,
              "#f0f921"
             ]
            ],
            "type": "heatmapgl"
           }
          ],
          "histogram": [
           {
            "marker": {
             "colorbar": {
              "outlinewidth": 0,
              "ticks": ""
             }
            },
            "type": "histogram"
           }
          ],
          "histogram2d": [
           {
            "colorbar": {
             "outlinewidth": 0,
             "ticks": ""
            },
            "colorscale": [
             [
              0,
              "#0d0887"
             ],
             [
              0.1111111111111111,
              "#46039f"
             ],
             [
              0.2222222222222222,
              "#7201a8"
             ],
             [
              0.3333333333333333,
              "#9c179e"
             ],
             [
              0.4444444444444444,
              "#bd3786"
             ],
             [
              0.5555555555555556,
              "#d8576b"
             ],
             [
              0.6666666666666666,
              "#ed7953"
             ],
             [
              0.7777777777777778,
              "#fb9f3a"
             ],
             [
              0.8888888888888888,
              "#fdca26"
             ],
             [
              1,
              "#f0f921"
             ]
            ],
            "type": "histogram2d"
           }
          ],
          "histogram2dcontour": [
           {
            "colorbar": {
             "outlinewidth": 0,
             "ticks": ""
            },
            "colorscale": [
             [
              0,
              "#0d0887"
             ],
             [
              0.1111111111111111,
              "#46039f"
             ],
             [
              0.2222222222222222,
              "#7201a8"
             ],
             [
              0.3333333333333333,
              "#9c179e"
             ],
             [
              0.4444444444444444,
              "#bd3786"
             ],
             [
              0.5555555555555556,
              "#d8576b"
             ],
             [
              0.6666666666666666,
              "#ed7953"
             ],
             [
              0.7777777777777778,
              "#fb9f3a"
             ],
             [
              0.8888888888888888,
              "#fdca26"
             ],
             [
              1,
              "#f0f921"
             ]
            ],
            "type": "histogram2dcontour"
           }
          ],
          "mesh3d": [
           {
            "colorbar": {
             "outlinewidth": 0,
             "ticks": ""
            },
            "type": "mesh3d"
           }
          ],
          "parcoords": [
           {
            "line": {
             "colorbar": {
              "outlinewidth": 0,
              "ticks": ""
             }
            },
            "type": "parcoords"
           }
          ],
          "pie": [
           {
            "automargin": true,
            "type": "pie"
           }
          ],
          "scatter": [
           {
            "marker": {
             "colorbar": {
              "outlinewidth": 0,
              "ticks": ""
             }
            },
            "type": "scatter"
           }
          ],
          "scatter3d": [
           {
            "line": {
             "colorbar": {
              "outlinewidth": 0,
              "ticks": ""
             }
            },
            "marker": {
             "colorbar": {
              "outlinewidth": 0,
              "ticks": ""
             }
            },
            "type": "scatter3d"
           }
          ],
          "scattercarpet": [
           {
            "marker": {
             "colorbar": {
              "outlinewidth": 0,
              "ticks": ""
             }
            },
            "type": "scattercarpet"
           }
          ],
          "scattergeo": [
           {
            "marker": {
             "colorbar": {
              "outlinewidth": 0,
              "ticks": ""
             }
            },
            "type": "scattergeo"
           }
          ],
          "scattergl": [
           {
            "marker": {
             "colorbar": {
              "outlinewidth": 0,
              "ticks": ""
             }
            },
            "type": "scattergl"
           }
          ],
          "scattermapbox": [
           {
            "marker": {
             "colorbar": {
              "outlinewidth": 0,
              "ticks": ""
             }
            },
            "type": "scattermapbox"
           }
          ],
          "scatterpolar": [
           {
            "marker": {
             "colorbar": {
              "outlinewidth": 0,
              "ticks": ""
             }
            },
            "type": "scatterpolar"
           }
          ],
          "scatterpolargl": [
           {
            "marker": {
             "colorbar": {
              "outlinewidth": 0,
              "ticks": ""
             }
            },
            "type": "scatterpolargl"
           }
          ],
          "scatterternary": [
           {
            "marker": {
             "colorbar": {
              "outlinewidth": 0,
              "ticks": ""
             }
            },
            "type": "scatterternary"
           }
          ],
          "surface": [
           {
            "colorbar": {
             "outlinewidth": 0,
             "ticks": ""
            },
            "colorscale": [
             [
              0,
              "#0d0887"
             ],
             [
              0.1111111111111111,
              "#46039f"
             ],
             [
              0.2222222222222222,
              "#7201a8"
             ],
             [
              0.3333333333333333,
              "#9c179e"
             ],
             [
              0.4444444444444444,
              "#bd3786"
             ],
             [
              0.5555555555555556,
              "#d8576b"
             ],
             [
              0.6666666666666666,
              "#ed7953"
             ],
             [
              0.7777777777777778,
              "#fb9f3a"
             ],
             [
              0.8888888888888888,
              "#fdca26"
             ],
             [
              1,
              "#f0f921"
             ]
            ],
            "type": "surface"
           }
          ],
          "table": [
           {
            "cells": {
             "fill": {
              "color": "#EBF0F8"
             },
             "line": {
              "color": "white"
             }
            },
            "header": {
             "fill": {
              "color": "#C8D4E3"
             },
             "line": {
              "color": "white"
             }
            },
            "type": "table"
           }
          ]
         },
         "layout": {
          "annotationdefaults": {
           "arrowcolor": "#2a3f5f",
           "arrowhead": 0,
           "arrowwidth": 1
          },
          "coloraxis": {
           "colorbar": {
            "outlinewidth": 0,
            "ticks": ""
           }
          },
          "colorscale": {
           "diverging": [
            [
             0,
             "#8e0152"
            ],
            [
             0.1,
             "#c51b7d"
            ],
            [
             0.2,
             "#de77ae"
            ],
            [
             0.3,
             "#f1b6da"
            ],
            [
             0.4,
             "#fde0ef"
            ],
            [
             0.5,
             "#f7f7f7"
            ],
            [
             0.6,
             "#e6f5d0"
            ],
            [
             0.7,
             "#b8e186"
            ],
            [
             0.8,
             "#7fbc41"
            ],
            [
             0.9,
             "#4d9221"
            ],
            [
             1,
             "#276419"
            ]
           ],
           "sequential": [
            [
             0,
             "#0d0887"
            ],
            [
             0.1111111111111111,
             "#46039f"
            ],
            [
             0.2222222222222222,
             "#7201a8"
            ],
            [
             0.3333333333333333,
             "#9c179e"
            ],
            [
             0.4444444444444444,
             "#bd3786"
            ],
            [
             0.5555555555555556,
             "#d8576b"
            ],
            [
             0.6666666666666666,
             "#ed7953"
            ],
            [
             0.7777777777777778,
             "#fb9f3a"
            ],
            [
             0.8888888888888888,
             "#fdca26"
            ],
            [
             1,
             "#f0f921"
            ]
           ],
           "sequentialminus": [
            [
             0,
             "#0d0887"
            ],
            [
             0.1111111111111111,
             "#46039f"
            ],
            [
             0.2222222222222222,
             "#7201a8"
            ],
            [
             0.3333333333333333,
             "#9c179e"
            ],
            [
             0.4444444444444444,
             "#bd3786"
            ],
            [
             0.5555555555555556,
             "#d8576b"
            ],
            [
             0.6666666666666666,
             "#ed7953"
            ],
            [
             0.7777777777777778,
             "#fb9f3a"
            ],
            [
             0.8888888888888888,
             "#fdca26"
            ],
            [
             1,
             "#f0f921"
            ]
           ]
          },
          "colorway": [
           "#636efa",
           "#EF553B",
           "#00cc96",
           "#ab63fa",
           "#FFA15A",
           "#19d3f3",
           "#FF6692",
           "#B6E880",
           "#FF97FF",
           "#FECB52"
          ],
          "font": {
           "color": "#2a3f5f"
          },
          "geo": {
           "bgcolor": "white",
           "lakecolor": "white",
           "landcolor": "#E5ECF6",
           "showlakes": true,
           "showland": true,
           "subunitcolor": "white"
          },
          "hoverlabel": {
           "align": "left"
          },
          "hovermode": "closest",
          "mapbox": {
           "style": "light"
          },
          "paper_bgcolor": "white",
          "plot_bgcolor": "#E5ECF6",
          "polar": {
           "angularaxis": {
            "gridcolor": "white",
            "linecolor": "white",
            "ticks": ""
           },
           "bgcolor": "#E5ECF6",
           "radialaxis": {
            "gridcolor": "white",
            "linecolor": "white",
            "ticks": ""
           }
          },
          "scene": {
           "xaxis": {
            "backgroundcolor": "#E5ECF6",
            "gridcolor": "white",
            "gridwidth": 2,
            "linecolor": "white",
            "showbackground": true,
            "ticks": "",
            "zerolinecolor": "white"
           },
           "yaxis": {
            "backgroundcolor": "#E5ECF6",
            "gridcolor": "white",
            "gridwidth": 2,
            "linecolor": "white",
            "showbackground": true,
            "ticks": "",
            "zerolinecolor": "white"
           },
           "zaxis": {
            "backgroundcolor": "#E5ECF6",
            "gridcolor": "white",
            "gridwidth": 2,
            "linecolor": "white",
            "showbackground": true,
            "ticks": "",
            "zerolinecolor": "white"
           }
          },
          "shapedefaults": {
           "line": {
            "color": "#2a3f5f"
           }
          },
          "ternary": {
           "aaxis": {
            "gridcolor": "white",
            "linecolor": "white",
            "ticks": ""
           },
           "baxis": {
            "gridcolor": "white",
            "linecolor": "white",
            "ticks": ""
           },
           "bgcolor": "#E5ECF6",
           "caxis": {
            "gridcolor": "white",
            "linecolor": "white",
            "ticks": ""
           }
          },
          "title": {
           "x": 0.05
          },
          "xaxis": {
           "automargin": true,
           "gridcolor": "white",
           "linecolor": "white",
           "ticks": "",
           "title": {
            "standoff": 15
           },
           "zerolinecolor": "white",
           "zerolinewidth": 2
          },
          "yaxis": {
           "automargin": true,
           "gridcolor": "white",
           "linecolor": "white",
           "ticks": "",
           "title": {
            "standoff": 15
           },
           "zerolinecolor": "white",
           "zerolinewidth": 2
          }
         }
        },
        "title": {
         "text": "Barplots of Mean Feature Importance"
        },
        "yaxis": {
         "gridwidth": 2,
         "ticklen": 5,
         "title": {
          "text": "Feature Importance"
         }
        }
       }
      },
      "text/html": [
       "<div>\n",
       "        \n",
       "        \n",
       "            <div id=\"f3002547-843d-4423-97c3-d3000b41fa1e\" class=\"plotly-graph-div\" style=\"height:525px; width:100%;\"></div>\n",
       "            <script type=\"text/javascript\">\n",
       "                require([\"plotly\"], function(Plotly) {\n",
       "                    window.PLOTLYENV=window.PLOTLYENV || {};\n",
       "                    \n",
       "                if (document.getElementById(\"f3002547-843d-4423-97c3-d3000b41fa1e\")) {\n",
       "                    Plotly.newPlot(\n",
       "                        'f3002547-843d-4423-97c3-d3000b41fa1e',\n",
       "                        [{\"marker\": {\"color\": [0.0022296571698377276, 0.004190415590439706, 0.13272704153999842, 0.00303214821111213, 0.009415373024285422, 0.03103043208675591, 0.0003246694468283078, 0.01815857655904886, 0.0004879224633163586, 0.002489594163395805, 0.0016119898257136245, 0.010245194721541704, 0.0001370874389743148, 0.00023749204120890175, 0.007101948723110723, 0.019617729781654835, 0.0006386264445827696, 0.0012148246799564525, 0.012569783715858207, 0.010758039101387982, 4.7269645075134386e-05, 0.028050025649999186, 0.001073023923622051, 0.0011101617076744307, 0.005587776857458987, 0.0014574458106775966, 0.0011755299711273392, 0.00026751391044277275, 0.017257874293978105, 0.013234609303749909, 0.0036355506607028444, 0.003956442161541973, 0.02356361274341275, 0.006126955801387816, 0.00025817144513442527, 0.0009985491660317975, 0.00016349365474415206, 0.0018297534431751855, 0.002010887813577064, 0.004404298970980087, 0.10162379930289253, 0.3007222401968029, 0.026450625632308763, 0.00966489462404233, 0.14558987154915448, 0.007655638944646843, 0.001939124854299854, 0.0026800730409944767, 4.4181942944236266e-05, 3.56204359613385e-06, 0.0007997241021299559, 0.00040043821165766186, 0.00043697873573465536, 0.00010890709903075066, 6.548847603113423e-07, 5.642856852722798e-05, 7.885365460635016e-07, 0.0001991436091630353, 0.00010873169961951141, 0.00018178925958629936, 8.900885943365932e-05, 0.0001155201698332394, 3.806479085790249e-05, 0.0001497837599600378, 0.00015589987677151342, 6.390901630783833e-05, 0.00024437574374120373, 5.242512673600062e-05, 0.00023285845940161754, 0.0009716548649053647, 0.00030553197529174266, 0.0015286558967669975, 0.00017886198159187887, 0.0005846598362032654, 2.3628370796055288e-07, 0.0005277915123510052, 7.242373414759392e-05, 3.81201707669422e-05, 9.655109784532604e-05, 0.0002576266863605136, 1.3550666995024522e-05, 0.0001947145885823184, 0.00010460839830355329, 0.00017809946931256283, 0.00038005012897296886, 0.0004487090759335088, 7.177190271760035e-05, 0.0004311607105008103, 0.0007639571218106521, 0.0015770494433929867, 0.0006150676383006488, 0.00036171758498920807, 0.0005804510724130088, 0.00028748269926840125, 0.0001800410707138852, 0.0006400914578567359, 0.00028619482496832345, 0.00031312902553130243, 0.00033711139156537953, 2.7276756946423166e-05, 0.0034087146260031423], \"colorscale\": [[0.0, \"rgb(12,51,131)\"], [0.25, \"rgb(10,136,186)\"], [0.5, \"rgb(242,211,56)\"], [0.75, \"rgb(242,143,56)\"], [1.0, \"rgb(217,30,30)\"]], \"reversescale\": false, \"showscale\": true}, \"opacity\": 0.6, \"type\": \"bar\", \"width\": 0.5, \"x\": [\"LotFrontage\", \"LotArea\", \"OverallQual\", \"OverallCond\", \"MasVnrArea\", \"ExterQual\", \"ExterCond\", \"BsmtQual\", \"BsmtCond\", \"BsmtExposure\", \"BsmtFinType1\", \"BsmtFinSF1\", \"BsmtFinType2\", \"BsmtFinSF2\", \"BsmtUnfSF\", \"TotalBsmtSF\", \"HeatingQC\", \"CentralAir\", \"1stFlrSF\", \"2ndFlrSF\", \"LowQualFinSF\", \"GrLivArea\", \"BsmtFullBath\", \"BsmtHalfBath\", \"FullBath\", \"HalfBath\", \"BedroomAbvGr\", \"KitchenAbvGr\", \"KitchenQual\", \"TotRmsAbvGrd\", \"Fireplaces\", \"FireplaceQu\", \"GarageCars\", \"GarageArea\", \"GarageQual\", \"GarageCond\", \"PavedDrive\", \"WoodDeckSF\", \"OpenPorchSF\", \"NeighborhoodLotArea\", \"NeighborhoodBldgType\", \"TotalSquareFeet\", \"NeighborhoodHouseStyle\", \"OverallQualNCond\", \"NeighborhoodOverallQualNCond\", \"AdjRemodAdd\", \"QuarterMeanNorm\", \"MonthMeanNorm\", \"Neighborhood_2\", \"Neighborhood_3\", \"Neighborhood_4\", \"Neighborhood_5\", \"Neighborhood_6\", \"Neighborhood_7\", \"Neighborhood_8\", \"Neighborhood_9\", \"Neighborhood_10\", \"Neighborhood_11\", \"Neighborhood_12\", \"Neighborhood_13\", \"Neighborhood_14\", \"Neighborhood_15\", \"Neighborhood_16\", \"Neighborhood_17\", \"Neighborhood_18\", \"Neighborhood_19\", \"Neighborhood_20\", \"Neighborhood_21\", \"Neighborhood_22\", \"Neighborhood_23\", \"Neighborhood_24\", \"Neighborhood_25\", \"LotConfig_2\", \"LotConfig_3\", \"LotConfig_4\", \"LotConfig_5\", \"BldgType_2\", \"BldgType_3\", \"BldgType_4\", \"BldgType_5\", \"HouseStyle_2\", \"HouseStyle_3\", \"HouseStyle_4\", \"HouseStyle_5\", \"HouseStyle_6\", \"HouseStyle_7\", \"HouseStyle_8\", \"SaleCondition_1\", \"SaleCondition_2\", \"SaleCondition_3\", \"GarageFinish_1\", \"GarageFinish_2\", \"GarageFinish_3\", \"GarageType_1\", \"GarageType_2\", \"GarageType_3\", \"GarageType_4\", \"Foundation_1\", \"Foundation_2\", \"Foundation_3\", \"Foundation_4\"], \"y\": [0.0022296571698377276, 0.004190415590439706, 0.13272704153999842, 0.00303214821111213, 0.009415373024285422, 0.03103043208675591, 0.0003246694468283078, 0.01815857655904886, 0.0004879224633163586, 0.002489594163395805, 0.0016119898257136245, 0.010245194721541704, 0.0001370874389743148, 0.00023749204120890175, 0.007101948723110723, 0.019617729781654835, 0.0006386264445827696, 0.0012148246799564525, 0.012569783715858207, 0.010758039101387982, 4.7269645075134386e-05, 0.028050025649999186, 0.001073023923622051, 0.0011101617076744307, 0.005587776857458987, 0.0014574458106775966, 0.0011755299711273392, 0.00026751391044277275, 0.017257874293978105, 0.013234609303749909, 0.0036355506607028444, 0.003956442161541973, 0.02356361274341275, 0.006126955801387816, 0.00025817144513442527, 0.0009985491660317975, 0.00016349365474415206, 0.0018297534431751855, 0.002010887813577064, 0.004404298970980087, 0.10162379930289253, 0.3007222401968029, 0.026450625632308763, 0.00966489462404233, 0.14558987154915448, 0.007655638944646843, 0.001939124854299854, 0.0026800730409944767, 4.4181942944236266e-05, 3.56204359613385e-06, 0.0007997241021299559, 0.00040043821165766186, 0.00043697873573465536, 0.00010890709903075066, 6.548847603113423e-07, 5.642856852722798e-05, 7.885365460635016e-07, 0.0001991436091630353, 0.00010873169961951141, 0.00018178925958629936, 8.900885943365932e-05, 0.0001155201698332394, 3.806479085790249e-05, 0.0001497837599600378, 0.00015589987677151342, 6.390901630783833e-05, 0.00024437574374120373, 5.242512673600062e-05, 0.00023285845940161754, 0.0009716548649053647, 0.00030553197529174266, 0.0015286558967669975, 0.00017886198159187887, 0.0005846598362032654, 2.3628370796055288e-07, 0.0005277915123510052, 7.242373414759392e-05, 3.81201707669422e-05, 9.655109784532604e-05, 0.0002576266863605136, 1.3550666995024522e-05, 0.0001947145885823184, 0.00010460839830355329, 0.00017809946931256283, 0.00038005012897296886, 0.0004487090759335088, 7.177190271760035e-05, 0.0004311607105008103, 0.0007639571218106521, 0.0015770494433929867, 0.0006150676383006488, 0.00036171758498920807, 0.0005804510724130088, 0.00028748269926840125, 0.0001800410707138852, 0.0006400914578567359, 0.00028619482496832345, 0.00031312902553130243, 0.00033711139156537953, 2.7276756946423166e-05, 0.0034087146260031423]}],\n",
       "                        {\"autosize\": true, \"hovermode\": \"closest\", \"showlegend\": false, \"template\": {\"data\": {\"bar\": [{\"error_x\": {\"color\": \"#2a3f5f\"}, \"error_y\": {\"color\": \"#2a3f5f\"}, \"marker\": {\"line\": {\"color\": \"#E5ECF6\", \"width\": 0.5}}, \"type\": \"bar\"}], \"barpolar\": [{\"marker\": {\"line\": {\"color\": \"#E5ECF6\", \"width\": 0.5}}, \"type\": \"barpolar\"}], \"carpet\": [{\"aaxis\": {\"endlinecolor\": \"#2a3f5f\", \"gridcolor\": \"white\", \"linecolor\": \"white\", \"minorgridcolor\": \"white\", \"startlinecolor\": \"#2a3f5f\"}, \"baxis\": {\"endlinecolor\": \"#2a3f5f\", \"gridcolor\": \"white\", \"linecolor\": \"white\", \"minorgridcolor\": \"white\", \"startlinecolor\": \"#2a3f5f\"}, \"type\": \"carpet\"}], \"choropleth\": [{\"colorbar\": {\"outlinewidth\": 0, \"ticks\": \"\"}, \"type\": \"choropleth\"}], \"contour\": [{\"colorbar\": {\"outlinewidth\": 0, \"ticks\": \"\"}, \"colorscale\": [[0.0, \"#0d0887\"], [0.1111111111111111, \"#46039f\"], [0.2222222222222222, \"#7201a8\"], [0.3333333333333333, \"#9c179e\"], [0.4444444444444444, \"#bd3786\"], [0.5555555555555556, \"#d8576b\"], [0.6666666666666666, \"#ed7953\"], [0.7777777777777778, \"#fb9f3a\"], [0.8888888888888888, \"#fdca26\"], [1.0, \"#f0f921\"]], \"type\": \"contour\"}], \"contourcarpet\": [{\"colorbar\": {\"outlinewidth\": 0, \"ticks\": \"\"}, \"type\": \"contourcarpet\"}], \"heatmap\": [{\"colorbar\": {\"outlinewidth\": 0, \"ticks\": \"\"}, \"colorscale\": [[0.0, \"#0d0887\"], [0.1111111111111111, \"#46039f\"], [0.2222222222222222, \"#7201a8\"], [0.3333333333333333, \"#9c179e\"], [0.4444444444444444, \"#bd3786\"], [0.5555555555555556, \"#d8576b\"], [0.6666666666666666, \"#ed7953\"], [0.7777777777777778, \"#fb9f3a\"], [0.8888888888888888, \"#fdca26\"], [1.0, \"#f0f921\"]], \"type\": \"heatmap\"}], \"heatmapgl\": [{\"colorbar\": {\"outlinewidth\": 0, \"ticks\": \"\"}, \"colorscale\": [[0.0, \"#0d0887\"], [0.1111111111111111, \"#46039f\"], [0.2222222222222222, \"#7201a8\"], [0.3333333333333333, \"#9c179e\"], [0.4444444444444444, \"#bd3786\"], [0.5555555555555556, \"#d8576b\"], [0.6666666666666666, \"#ed7953\"], [0.7777777777777778, \"#fb9f3a\"], [0.8888888888888888, \"#fdca26\"], [1.0, \"#f0f921\"]], \"type\": \"heatmapgl\"}], \"histogram\": [{\"marker\": {\"colorbar\": {\"outlinewidth\": 0, \"ticks\": \"\"}}, \"type\": \"histogram\"}], \"histogram2d\": [{\"colorbar\": {\"outlinewidth\": 0, \"ticks\": \"\"}, \"colorscale\": [[0.0, \"#0d0887\"], [0.1111111111111111, \"#46039f\"], [0.2222222222222222, \"#7201a8\"], [0.3333333333333333, \"#9c179e\"], [0.4444444444444444, \"#bd3786\"], [0.5555555555555556, \"#d8576b\"], [0.6666666666666666, \"#ed7953\"], [0.7777777777777778, \"#fb9f3a\"], [0.8888888888888888, \"#fdca26\"], [1.0, \"#f0f921\"]], \"type\": \"histogram2d\"}], \"histogram2dcontour\": [{\"colorbar\": {\"outlinewidth\": 0, \"ticks\": \"\"}, \"colorscale\": [[0.0, \"#0d0887\"], [0.1111111111111111, \"#46039f\"], [0.2222222222222222, \"#7201a8\"], [0.3333333333333333, \"#9c179e\"], [0.4444444444444444, \"#bd3786\"], [0.5555555555555556, \"#d8576b\"], [0.6666666666666666, \"#ed7953\"], [0.7777777777777778, \"#fb9f3a\"], [0.8888888888888888, \"#fdca26\"], [1.0, \"#f0f921\"]], \"type\": \"histogram2dcontour\"}], \"mesh3d\": [{\"colorbar\": {\"outlinewidth\": 0, \"ticks\": \"\"}, \"type\": \"mesh3d\"}], \"parcoords\": [{\"line\": {\"colorbar\": {\"outlinewidth\": 0, \"ticks\": \"\"}}, \"type\": \"parcoords\"}], \"pie\": [{\"automargin\": true, \"type\": \"pie\"}], \"scatter\": [{\"marker\": {\"colorbar\": {\"outlinewidth\": 0, \"ticks\": \"\"}}, \"type\": \"scatter\"}], \"scatter3d\": [{\"line\": {\"colorbar\": {\"outlinewidth\": 0, \"ticks\": \"\"}}, \"marker\": {\"colorbar\": {\"outlinewidth\": 0, \"ticks\": \"\"}}, \"type\": \"scatter3d\"}], \"scattercarpet\": [{\"marker\": {\"colorbar\": {\"outlinewidth\": 0, \"ticks\": \"\"}}, \"type\": \"scattercarpet\"}], \"scattergeo\": [{\"marker\": {\"colorbar\": {\"outlinewidth\": 0, \"ticks\": \"\"}}, \"type\": \"scattergeo\"}], \"scattergl\": [{\"marker\": {\"colorbar\": {\"outlinewidth\": 0, \"ticks\": \"\"}}, \"type\": \"scattergl\"}], \"scattermapbox\": [{\"marker\": {\"colorbar\": {\"outlinewidth\": 0, \"ticks\": \"\"}}, \"type\": \"scattermapbox\"}], \"scatterpolar\": [{\"marker\": {\"colorbar\": {\"outlinewidth\": 0, \"ticks\": \"\"}}, \"type\": \"scatterpolar\"}], \"scatterpolargl\": [{\"marker\": {\"colorbar\": {\"outlinewidth\": 0, \"ticks\": \"\"}}, \"type\": \"scatterpolargl\"}], \"scatterternary\": [{\"marker\": {\"colorbar\": {\"outlinewidth\": 0, \"ticks\": \"\"}}, \"type\": \"scatterternary\"}], \"surface\": [{\"colorbar\": {\"outlinewidth\": 0, \"ticks\": \"\"}, \"colorscale\": [[0.0, \"#0d0887\"], [0.1111111111111111, \"#46039f\"], [0.2222222222222222, \"#7201a8\"], [0.3333333333333333, \"#9c179e\"], [0.4444444444444444, \"#bd3786\"], [0.5555555555555556, \"#d8576b\"], [0.6666666666666666, \"#ed7953\"], [0.7777777777777778, \"#fb9f3a\"], [0.8888888888888888, \"#fdca26\"], [1.0, \"#f0f921\"]], \"type\": \"surface\"}], \"table\": [{\"cells\": {\"fill\": {\"color\": \"#EBF0F8\"}, \"line\": {\"color\": \"white\"}}, \"header\": {\"fill\": {\"color\": \"#C8D4E3\"}, \"line\": {\"color\": \"white\"}}, \"type\": \"table\"}]}, \"layout\": {\"annotationdefaults\": {\"arrowcolor\": \"#2a3f5f\", \"arrowhead\": 0, \"arrowwidth\": 1}, \"coloraxis\": {\"colorbar\": {\"outlinewidth\": 0, \"ticks\": \"\"}}, \"colorscale\": {\"diverging\": [[0, \"#8e0152\"], [0.1, \"#c51b7d\"], [0.2, \"#de77ae\"], [0.3, \"#f1b6da\"], [0.4, \"#fde0ef\"], [0.5, \"#f7f7f7\"], [0.6, \"#e6f5d0\"], [0.7, \"#b8e186\"], [0.8, \"#7fbc41\"], [0.9, \"#4d9221\"], [1, \"#276419\"]], \"sequential\": [[0.0, \"#0d0887\"], [0.1111111111111111, \"#46039f\"], [0.2222222222222222, \"#7201a8\"], [0.3333333333333333, \"#9c179e\"], [0.4444444444444444, \"#bd3786\"], [0.5555555555555556, \"#d8576b\"], [0.6666666666666666, \"#ed7953\"], [0.7777777777777778, \"#fb9f3a\"], [0.8888888888888888, \"#fdca26\"], [1.0, \"#f0f921\"]], \"sequentialminus\": [[0.0, \"#0d0887\"], [0.1111111111111111, \"#46039f\"], [0.2222222222222222, \"#7201a8\"], [0.3333333333333333, \"#9c179e\"], [0.4444444444444444, \"#bd3786\"], [0.5555555555555556, \"#d8576b\"], [0.6666666666666666, \"#ed7953\"], [0.7777777777777778, \"#fb9f3a\"], [0.8888888888888888, \"#fdca26\"], [1.0, \"#f0f921\"]]}, \"colorway\": [\"#636efa\", \"#EF553B\", \"#00cc96\", \"#ab63fa\", \"#FFA15A\", \"#19d3f3\", \"#FF6692\", \"#B6E880\", \"#FF97FF\", \"#FECB52\"], \"font\": {\"color\": \"#2a3f5f\"}, \"geo\": {\"bgcolor\": \"white\", \"lakecolor\": \"white\", \"landcolor\": \"#E5ECF6\", \"showlakes\": true, \"showland\": true, \"subunitcolor\": \"white\"}, \"hoverlabel\": {\"align\": \"left\"}, \"hovermode\": \"closest\", \"mapbox\": {\"style\": \"light\"}, \"paper_bgcolor\": \"white\", \"plot_bgcolor\": \"#E5ECF6\", \"polar\": {\"angularaxis\": {\"gridcolor\": \"white\", \"linecolor\": \"white\", \"ticks\": \"\"}, \"bgcolor\": \"#E5ECF6\", \"radialaxis\": {\"gridcolor\": \"white\", \"linecolor\": \"white\", \"ticks\": \"\"}}, \"scene\": {\"xaxis\": {\"backgroundcolor\": \"#E5ECF6\", \"gridcolor\": \"white\", \"gridwidth\": 2, \"linecolor\": \"white\", \"showbackground\": true, \"ticks\": \"\", \"zerolinecolor\": \"white\"}, \"yaxis\": {\"backgroundcolor\": \"#E5ECF6\", \"gridcolor\": \"white\", \"gridwidth\": 2, \"linecolor\": \"white\", \"showbackground\": true, \"ticks\": \"\", \"zerolinecolor\": \"white\"}, \"zaxis\": {\"backgroundcolor\": \"#E5ECF6\", \"gridcolor\": \"white\", \"gridwidth\": 2, \"linecolor\": \"white\", \"showbackground\": true, \"ticks\": \"\", \"zerolinecolor\": \"white\"}}, \"shapedefaults\": {\"line\": {\"color\": \"#2a3f5f\"}}, \"ternary\": {\"aaxis\": {\"gridcolor\": \"white\", \"linecolor\": \"white\", \"ticks\": \"\"}, \"baxis\": {\"gridcolor\": \"white\", \"linecolor\": \"white\", \"ticks\": \"\"}, \"bgcolor\": \"#E5ECF6\", \"caxis\": {\"gridcolor\": \"white\", \"linecolor\": \"white\", \"ticks\": \"\"}}, \"title\": {\"x\": 0.05}, \"xaxis\": {\"automargin\": true, \"gridcolor\": \"white\", \"linecolor\": \"white\", \"ticks\": \"\", \"title\": {\"standoff\": 15}, \"zerolinecolor\": \"white\", \"zerolinewidth\": 2}, \"yaxis\": {\"automargin\": true, \"gridcolor\": \"white\", \"linecolor\": \"white\", \"ticks\": \"\", \"title\": {\"standoff\": 15}, \"zerolinecolor\": \"white\", \"zerolinewidth\": 2}}}, \"title\": {\"text\": \"Barplots of Mean Feature Importance\"}, \"yaxis\": {\"gridwidth\": 2, \"ticklen\": 5, \"title\": {\"text\": \"Feature Importance\"}}},\n",
       "                        {\"responsive\": true}\n",
       "                    ).then(function(){\n",
       "                            \n",
       "var gd = document.getElementById('f3002547-843d-4423-97c3-d3000b41fa1e');\n",
       "var x = new MutationObserver(function (mutations, observer) {{\n",
       "        var display = window.getComputedStyle(gd).display;\n",
       "        if (!display || display === 'none') {{\n",
       "            console.log([gd, 'removed!']);\n",
       "            Plotly.purge(gd);\n",
       "            observer.disconnect();\n",
       "        }}\n",
       "}});\n",
       "\n",
       "// Listen for the removal of the full notebook cells\n",
       "var notebookContainer = gd.closest('#notebook-container');\n",
       "if (notebookContainer) {{\n",
       "    x.observe(notebookContainer, {childList: true});\n",
       "}}\n",
       "\n",
       "// Listen for the clearing of the current output cell\n",
       "var outputEl = gd.closest('.output');\n",
       "if (outputEl) {{\n",
       "    x.observe(outputEl, {childList: true});\n",
       "}}\n",
       "\n",
       "                        })\n",
       "                };\n",
       "                });\n",
       "            </script>\n",
       "        </div>"
      ]
     },
     "metadata": {},
     "output_type": "display_data"
    }
   ],
   "source": [
    "feature_dataframe['mean'] = feature_dataframe.mean(axis= 1) # axis = 1 computes the mean row-wise\n",
    "\n",
    "y_mean = feature_dataframe['mean'].values\n",
    "x_feat = feature_dataframe['features'].values\n",
    "data = [go.Bar(\n",
    "            x= x_feat,\n",
    "             y= y_mean,\n",
    "            width = 0.5,\n",
    "            marker=dict(\n",
    "               color = feature_dataframe['mean'].values,\n",
    "            colorscale='Portland',\n",
    "            showscale=True,\n",
    "            reversescale = False\n",
    "            ),\n",
    "            opacity=0.6\n",
    "        )]\n",
    "\n",
    "layout= go.Layout(\n",
    "    autosize= True,\n",
    "    title= 'Barplots of Mean Feature Importance',\n",
    "    hovermode= 'closest',\n",
    "#     xaxis= dict(\n",
    "#         title= 'Pop',\n",
    "#         ticklen= 5,\n",
    "#         zeroline= False,\n",
    "#         gridwidth= 2,\n",
    "#     ),\n",
    "    yaxis=dict(\n",
    "        title= 'Feature Importance',\n",
    "        ticklen= 5,\n",
    "        gridwidth= 2\n",
    "    ),\n",
    "    showlegend= False\n",
    ")\n",
    "fig = go.Figure(data=data, layout=layout)\n",
    "py.iplot(fig, filename='bar-direct-labels')"
   ]
  },
  {
   "cell_type": "code",
   "execution_count": 18,
   "metadata": {},
   "outputs": [
    {
     "data": {
      "application/vnd.plotly.v1+json": {
       "config": {
        "linkText": "Export to plot.ly",
        "plotlyServerURL": "https://plot.ly",
        "showLink": false
       },
       "data": [
        {
         "colorscale": [
          [
           0,
           "#440154"
          ],
          [
           0.1111111111111111,
           "#482878"
          ],
          [
           0.2222222222222222,
           "#3e4989"
          ],
          [
           0.3333333333333333,
           "#31688e"
          ],
          [
           0.4444444444444444,
           "#26828e"
          ],
          [
           0.5555555555555556,
           "#1f9e89"
          ],
          [
           0.6666666666666666,
           "#35b779"
          ],
          [
           0.7777777777777778,
           "#6ece58"
          ],
          [
           0.8888888888888888,
           "#b5de2b"
          ],
          [
           1,
           "#fde725"
          ]
         ],
         "reversescale": true,
         "showscale": true,
         "type": "heatmap",
         "x": [
          "RandomForest",
          "ExtraTrees",
          "AdaBoost",
          "GradientBoost"
         ],
         "y": [
          "RandomForest",
          "ExtraTrees",
          "AdaBoost",
          "GradientBoost"
         ],
         "z": [
          [
           1,
           0.9934441923163144,
           0.9828581452143111,
           0.9893703680797352
          ],
          [
           0.9934441923163144,
           1,
           0.9761594052985885,
           0.9852112386660339
          ],
          [
           0.9828581452143111,
           0.9761594052985885,
           1,
           0.974156278569086
          ],
          [
           0.9893703680797352,
           0.9852112386660339,
           0.974156278569086,
           1
          ]
         ]
        }
       ],
       "layout": {
        "template": {
         "data": {
          "bar": [
           {
            "error_x": {
             "color": "#2a3f5f"
            },
            "error_y": {
             "color": "#2a3f5f"
            },
            "marker": {
             "line": {
              "color": "#E5ECF6",
              "width": 0.5
             }
            },
            "type": "bar"
           }
          ],
          "barpolar": [
           {
            "marker": {
             "line": {
              "color": "#E5ECF6",
              "width": 0.5
             }
            },
            "type": "barpolar"
           }
          ],
          "carpet": [
           {
            "aaxis": {
             "endlinecolor": "#2a3f5f",
             "gridcolor": "white",
             "linecolor": "white",
             "minorgridcolor": "white",
             "startlinecolor": "#2a3f5f"
            },
            "baxis": {
             "endlinecolor": "#2a3f5f",
             "gridcolor": "white",
             "linecolor": "white",
             "minorgridcolor": "white",
             "startlinecolor": "#2a3f5f"
            },
            "type": "carpet"
           }
          ],
          "choropleth": [
           {
            "colorbar": {
             "outlinewidth": 0,
             "ticks": ""
            },
            "type": "choropleth"
           }
          ],
          "contour": [
           {
            "colorbar": {
             "outlinewidth": 0,
             "ticks": ""
            },
            "colorscale": [
             [
              0,
              "#0d0887"
             ],
             [
              0.1111111111111111,
              "#46039f"
             ],
             [
              0.2222222222222222,
              "#7201a8"
             ],
             [
              0.3333333333333333,
              "#9c179e"
             ],
             [
              0.4444444444444444,
              "#bd3786"
             ],
             [
              0.5555555555555556,
              "#d8576b"
             ],
             [
              0.6666666666666666,
              "#ed7953"
             ],
             [
              0.7777777777777778,
              "#fb9f3a"
             ],
             [
              0.8888888888888888,
              "#fdca26"
             ],
             [
              1,
              "#f0f921"
             ]
            ],
            "type": "contour"
           }
          ],
          "contourcarpet": [
           {
            "colorbar": {
             "outlinewidth": 0,
             "ticks": ""
            },
            "type": "contourcarpet"
           }
          ],
          "heatmap": [
           {
            "colorbar": {
             "outlinewidth": 0,
             "ticks": ""
            },
            "colorscale": [
             [
              0,
              "#0d0887"
             ],
             [
              0.1111111111111111,
              "#46039f"
             ],
             [
              0.2222222222222222,
              "#7201a8"
             ],
             [
              0.3333333333333333,
              "#9c179e"
             ],
             [
              0.4444444444444444,
              "#bd3786"
             ],
             [
              0.5555555555555556,
              "#d8576b"
             ],
             [
              0.6666666666666666,
              "#ed7953"
             ],
             [
              0.7777777777777778,
              "#fb9f3a"
             ],
             [
              0.8888888888888888,
              "#fdca26"
             ],
             [
              1,
              "#f0f921"
             ]
            ],
            "type": "heatmap"
           }
          ],
          "heatmapgl": [
           {
            "colorbar": {
             "outlinewidth": 0,
             "ticks": ""
            },
            "colorscale": [
             [
              0,
              "#0d0887"
             ],
             [
              0.1111111111111111,
              "#46039f"
             ],
             [
              0.2222222222222222,
              "#7201a8"
             ],
             [
              0.3333333333333333,
              "#9c179e"
             ],
             [
              0.4444444444444444,
              "#bd3786"
             ],
             [
              0.5555555555555556,
              "#d8576b"
             ],
             [
              0.6666666666666666,
              "#ed7953"
             ],
             [
              0.7777777777777778,
              "#fb9f3a"
             ],
             [
              0.8888888888888888,
              "#fdca26"
             ],
             [
              1,
              "#f0f921"
             ]
            ],
            "type": "heatmapgl"
           }
          ],
          "histogram": [
           {
            "marker": {
             "colorbar": {
              "outlinewidth": 0,
              "ticks": ""
             }
            },
            "type": "histogram"
           }
          ],
          "histogram2d": [
           {
            "colorbar": {
             "outlinewidth": 0,
             "ticks": ""
            },
            "colorscale": [
             [
              0,
              "#0d0887"
             ],
             [
              0.1111111111111111,
              "#46039f"
             ],
             [
              0.2222222222222222,
              "#7201a8"
             ],
             [
              0.3333333333333333,
              "#9c179e"
             ],
             [
              0.4444444444444444,
              "#bd3786"
             ],
             [
              0.5555555555555556,
              "#d8576b"
             ],
             [
              0.6666666666666666,
              "#ed7953"
             ],
             [
              0.7777777777777778,
              "#fb9f3a"
             ],
             [
              0.8888888888888888,
              "#fdca26"
             ],
             [
              1,
              "#f0f921"
             ]
            ],
            "type": "histogram2d"
           }
          ],
          "histogram2dcontour": [
           {
            "colorbar": {
             "outlinewidth": 0,
             "ticks": ""
            },
            "colorscale": [
             [
              0,
              "#0d0887"
             ],
             [
              0.1111111111111111,
              "#46039f"
             ],
             [
              0.2222222222222222,
              "#7201a8"
             ],
             [
              0.3333333333333333,
              "#9c179e"
             ],
             [
              0.4444444444444444,
              "#bd3786"
             ],
             [
              0.5555555555555556,
              "#d8576b"
             ],
             [
              0.6666666666666666,
              "#ed7953"
             ],
             [
              0.7777777777777778,
              "#fb9f3a"
             ],
             [
              0.8888888888888888,
              "#fdca26"
             ],
             [
              1,
              "#f0f921"
             ]
            ],
            "type": "histogram2dcontour"
           }
          ],
          "mesh3d": [
           {
            "colorbar": {
             "outlinewidth": 0,
             "ticks": ""
            },
            "type": "mesh3d"
           }
          ],
          "parcoords": [
           {
            "line": {
             "colorbar": {
              "outlinewidth": 0,
              "ticks": ""
             }
            },
            "type": "parcoords"
           }
          ],
          "pie": [
           {
            "automargin": true,
            "type": "pie"
           }
          ],
          "scatter": [
           {
            "marker": {
             "colorbar": {
              "outlinewidth": 0,
              "ticks": ""
             }
            },
            "type": "scatter"
           }
          ],
          "scatter3d": [
           {
            "line": {
             "colorbar": {
              "outlinewidth": 0,
              "ticks": ""
             }
            },
            "marker": {
             "colorbar": {
              "outlinewidth": 0,
              "ticks": ""
             }
            },
            "type": "scatter3d"
           }
          ],
          "scattercarpet": [
           {
            "marker": {
             "colorbar": {
              "outlinewidth": 0,
              "ticks": ""
             }
            },
            "type": "scattercarpet"
           }
          ],
          "scattergeo": [
           {
            "marker": {
             "colorbar": {
              "outlinewidth": 0,
              "ticks": ""
             }
            },
            "type": "scattergeo"
           }
          ],
          "scattergl": [
           {
            "marker": {
             "colorbar": {
              "outlinewidth": 0,
              "ticks": ""
             }
            },
            "type": "scattergl"
           }
          ],
          "scattermapbox": [
           {
            "marker": {
             "colorbar": {
              "outlinewidth": 0,
              "ticks": ""
             }
            },
            "type": "scattermapbox"
           }
          ],
          "scatterpolar": [
           {
            "marker": {
             "colorbar": {
              "outlinewidth": 0,
              "ticks": ""
             }
            },
            "type": "scatterpolar"
           }
          ],
          "scatterpolargl": [
           {
            "marker": {
             "colorbar": {
              "outlinewidth": 0,
              "ticks": ""
             }
            },
            "type": "scatterpolargl"
           }
          ],
          "scatterternary": [
           {
            "marker": {
             "colorbar": {
              "outlinewidth": 0,
              "ticks": ""
             }
            },
            "type": "scatterternary"
           }
          ],
          "surface": [
           {
            "colorbar": {
             "outlinewidth": 0,
             "ticks": ""
            },
            "colorscale": [
             [
              0,
              "#0d0887"
             ],
             [
              0.1111111111111111,
              "#46039f"
             ],
             [
              0.2222222222222222,
              "#7201a8"
             ],
             [
              0.3333333333333333,
              "#9c179e"
             ],
             [
              0.4444444444444444,
              "#bd3786"
             ],
             [
              0.5555555555555556,
              "#d8576b"
             ],
             [
              0.6666666666666666,
              "#ed7953"
             ],
             [
              0.7777777777777778,
              "#fb9f3a"
             ],
             [
              0.8888888888888888,
              "#fdca26"
             ],
             [
              1,
              "#f0f921"
             ]
            ],
            "type": "surface"
           }
          ],
          "table": [
           {
            "cells": {
             "fill": {
              "color": "#EBF0F8"
             },
             "line": {
              "color": "white"
             }
            },
            "header": {
             "fill": {
              "color": "#C8D4E3"
             },
             "line": {
              "color": "white"
             }
            },
            "type": "table"
           }
          ]
         },
         "layout": {
          "annotationdefaults": {
           "arrowcolor": "#2a3f5f",
           "arrowhead": 0,
           "arrowwidth": 1
          },
          "coloraxis": {
           "colorbar": {
            "outlinewidth": 0,
            "ticks": ""
           }
          },
          "colorscale": {
           "diverging": [
            [
             0,
             "#8e0152"
            ],
            [
             0.1,
             "#c51b7d"
            ],
            [
             0.2,
             "#de77ae"
            ],
            [
             0.3,
             "#f1b6da"
            ],
            [
             0.4,
             "#fde0ef"
            ],
            [
             0.5,
             "#f7f7f7"
            ],
            [
             0.6,
             "#e6f5d0"
            ],
            [
             0.7,
             "#b8e186"
            ],
            [
             0.8,
             "#7fbc41"
            ],
            [
             0.9,
             "#4d9221"
            ],
            [
             1,
             "#276419"
            ]
           ],
           "sequential": [
            [
             0,
             "#0d0887"
            ],
            [
             0.1111111111111111,
             "#46039f"
            ],
            [
             0.2222222222222222,
             "#7201a8"
            ],
            [
             0.3333333333333333,
             "#9c179e"
            ],
            [
             0.4444444444444444,
             "#bd3786"
            ],
            [
             0.5555555555555556,
             "#d8576b"
            ],
            [
             0.6666666666666666,
             "#ed7953"
            ],
            [
             0.7777777777777778,
             "#fb9f3a"
            ],
            [
             0.8888888888888888,
             "#fdca26"
            ],
            [
             1,
             "#f0f921"
            ]
           ],
           "sequentialminus": [
            [
             0,
             "#0d0887"
            ],
            [
             0.1111111111111111,
             "#46039f"
            ],
            [
             0.2222222222222222,
             "#7201a8"
            ],
            [
             0.3333333333333333,
             "#9c179e"
            ],
            [
             0.4444444444444444,
             "#bd3786"
            ],
            [
             0.5555555555555556,
             "#d8576b"
            ],
            [
             0.6666666666666666,
             "#ed7953"
            ],
            [
             0.7777777777777778,
             "#fb9f3a"
            ],
            [
             0.8888888888888888,
             "#fdca26"
            ],
            [
             1,
             "#f0f921"
            ]
           ]
          },
          "colorway": [
           "#636efa",
           "#EF553B",
           "#00cc96",
           "#ab63fa",
           "#FFA15A",
           "#19d3f3",
           "#FF6692",
           "#B6E880",
           "#FF97FF",
           "#FECB52"
          ],
          "font": {
           "color": "#2a3f5f"
          },
          "geo": {
           "bgcolor": "white",
           "lakecolor": "white",
           "landcolor": "#E5ECF6",
           "showlakes": true,
           "showland": true,
           "subunitcolor": "white"
          },
          "hoverlabel": {
           "align": "left"
          },
          "hovermode": "closest",
          "mapbox": {
           "style": "light"
          },
          "paper_bgcolor": "white",
          "plot_bgcolor": "#E5ECF6",
          "polar": {
           "angularaxis": {
            "gridcolor": "white",
            "linecolor": "white",
            "ticks": ""
           },
           "bgcolor": "#E5ECF6",
           "radialaxis": {
            "gridcolor": "white",
            "linecolor": "white",
            "ticks": ""
           }
          },
          "scene": {
           "xaxis": {
            "backgroundcolor": "#E5ECF6",
            "gridcolor": "white",
            "gridwidth": 2,
            "linecolor": "white",
            "showbackground": true,
            "ticks": "",
            "zerolinecolor": "white"
           },
           "yaxis": {
            "backgroundcolor": "#E5ECF6",
            "gridcolor": "white",
            "gridwidth": 2,
            "linecolor": "white",
            "showbackground": true,
            "ticks": "",
            "zerolinecolor": "white"
           },
           "zaxis": {
            "backgroundcolor": "#E5ECF6",
            "gridcolor": "white",
            "gridwidth": 2,
            "linecolor": "white",
            "showbackground": true,
            "ticks": "",
            "zerolinecolor": "white"
           }
          },
          "shapedefaults": {
           "line": {
            "color": "#2a3f5f"
           }
          },
          "ternary": {
           "aaxis": {
            "gridcolor": "white",
            "linecolor": "white",
            "ticks": ""
           },
           "baxis": {
            "gridcolor": "white",
            "linecolor": "white",
            "ticks": ""
           },
           "bgcolor": "#E5ECF6",
           "caxis": {
            "gridcolor": "white",
            "linecolor": "white",
            "ticks": ""
           }
          },
          "title": {
           "x": 0.05
          },
          "xaxis": {
           "automargin": true,
           "gridcolor": "white",
           "linecolor": "white",
           "ticks": "",
           "title": {
            "standoff": 15
           },
           "zerolinecolor": "white",
           "zerolinewidth": 2
          },
          "yaxis": {
           "automargin": true,
           "gridcolor": "white",
           "linecolor": "white",
           "ticks": "",
           "title": {
            "standoff": 15
           },
           "zerolinecolor": "white",
           "zerolinewidth": 2
          }
         }
        }
       }
      },
      "text/html": [
       "<div>\n",
       "        \n",
       "        \n",
       "            <div id=\"81c5d2af-6afa-41d8-9a70-72449b24d33b\" class=\"plotly-graph-div\" style=\"height:525px; width:100%;\"></div>\n",
       "            <script type=\"text/javascript\">\n",
       "                require([\"plotly\"], function(Plotly) {\n",
       "                    window.PLOTLYENV=window.PLOTLYENV || {};\n",
       "                    \n",
       "                if (document.getElementById(\"81c5d2af-6afa-41d8-9a70-72449b24d33b\")) {\n",
       "                    Plotly.newPlot(\n",
       "                        '81c5d2af-6afa-41d8-9a70-72449b24d33b',\n",
       "                        [{\"colorscale\": [[0.0, \"#440154\"], [0.1111111111111111, \"#482878\"], [0.2222222222222222, \"#3e4989\"], [0.3333333333333333, \"#31688e\"], [0.4444444444444444, \"#26828e\"], [0.5555555555555556, \"#1f9e89\"], [0.6666666666666666, \"#35b779\"], [0.7777777777777778, \"#6ece58\"], [0.8888888888888888, \"#b5de2b\"], [1.0, \"#fde725\"]], \"reversescale\": true, \"showscale\": true, \"type\": \"heatmap\", \"x\": [\"RandomForest\", \"ExtraTrees\", \"AdaBoost\", \"GradientBoost\"], \"y\": [\"RandomForest\", \"ExtraTrees\", \"AdaBoost\", \"GradientBoost\"], \"z\": [[1.0, 0.9934441923163144, 0.9828581452143111, 0.9893703680797352], [0.9934441923163144, 1.0, 0.9761594052985885, 0.9852112386660339], [0.9828581452143111, 0.9761594052985885, 1.0, 0.974156278569086], [0.9893703680797352, 0.9852112386660339, 0.974156278569086, 1.0]]}],\n",
       "                        {\"template\": {\"data\": {\"bar\": [{\"error_x\": {\"color\": \"#2a3f5f\"}, \"error_y\": {\"color\": \"#2a3f5f\"}, \"marker\": {\"line\": {\"color\": \"#E5ECF6\", \"width\": 0.5}}, \"type\": \"bar\"}], \"barpolar\": [{\"marker\": {\"line\": {\"color\": \"#E5ECF6\", \"width\": 0.5}}, \"type\": \"barpolar\"}], \"carpet\": [{\"aaxis\": {\"endlinecolor\": \"#2a3f5f\", \"gridcolor\": \"white\", \"linecolor\": \"white\", \"minorgridcolor\": \"white\", \"startlinecolor\": \"#2a3f5f\"}, \"baxis\": {\"endlinecolor\": \"#2a3f5f\", \"gridcolor\": \"white\", \"linecolor\": \"white\", \"minorgridcolor\": \"white\", \"startlinecolor\": \"#2a3f5f\"}, \"type\": \"carpet\"}], \"choropleth\": [{\"colorbar\": {\"outlinewidth\": 0, \"ticks\": \"\"}, \"type\": \"choropleth\"}], \"contour\": [{\"colorbar\": {\"outlinewidth\": 0, \"ticks\": \"\"}, \"colorscale\": [[0.0, \"#0d0887\"], [0.1111111111111111, \"#46039f\"], [0.2222222222222222, \"#7201a8\"], [0.3333333333333333, \"#9c179e\"], [0.4444444444444444, \"#bd3786\"], [0.5555555555555556, \"#d8576b\"], [0.6666666666666666, \"#ed7953\"], [0.7777777777777778, \"#fb9f3a\"], [0.8888888888888888, \"#fdca26\"], [1.0, \"#f0f921\"]], \"type\": \"contour\"}], \"contourcarpet\": [{\"colorbar\": {\"outlinewidth\": 0, \"ticks\": \"\"}, \"type\": \"contourcarpet\"}], \"heatmap\": [{\"colorbar\": {\"outlinewidth\": 0, \"ticks\": \"\"}, \"colorscale\": [[0.0, \"#0d0887\"], [0.1111111111111111, \"#46039f\"], [0.2222222222222222, \"#7201a8\"], [0.3333333333333333, \"#9c179e\"], [0.4444444444444444, \"#bd3786\"], [0.5555555555555556, \"#d8576b\"], [0.6666666666666666, \"#ed7953\"], [0.7777777777777778, \"#fb9f3a\"], [0.8888888888888888, \"#fdca26\"], [1.0, \"#f0f921\"]], \"type\": \"heatmap\"}], \"heatmapgl\": [{\"colorbar\": {\"outlinewidth\": 0, \"ticks\": \"\"}, \"colorscale\": [[0.0, \"#0d0887\"], [0.1111111111111111, \"#46039f\"], [0.2222222222222222, \"#7201a8\"], [0.3333333333333333, \"#9c179e\"], [0.4444444444444444, \"#bd3786\"], [0.5555555555555556, \"#d8576b\"], [0.6666666666666666, \"#ed7953\"], [0.7777777777777778, \"#fb9f3a\"], [0.8888888888888888, \"#fdca26\"], [1.0, \"#f0f921\"]], \"type\": \"heatmapgl\"}], \"histogram\": [{\"marker\": {\"colorbar\": {\"outlinewidth\": 0, \"ticks\": \"\"}}, \"type\": \"histogram\"}], \"histogram2d\": [{\"colorbar\": {\"outlinewidth\": 0, \"ticks\": \"\"}, \"colorscale\": [[0.0, \"#0d0887\"], [0.1111111111111111, \"#46039f\"], [0.2222222222222222, \"#7201a8\"], [0.3333333333333333, \"#9c179e\"], [0.4444444444444444, \"#bd3786\"], [0.5555555555555556, \"#d8576b\"], [0.6666666666666666, \"#ed7953\"], [0.7777777777777778, \"#fb9f3a\"], [0.8888888888888888, \"#fdca26\"], [1.0, \"#f0f921\"]], \"type\": \"histogram2d\"}], \"histogram2dcontour\": [{\"colorbar\": {\"outlinewidth\": 0, \"ticks\": \"\"}, \"colorscale\": [[0.0, \"#0d0887\"], [0.1111111111111111, \"#46039f\"], [0.2222222222222222, \"#7201a8\"], [0.3333333333333333, \"#9c179e\"], [0.4444444444444444, \"#bd3786\"], [0.5555555555555556, \"#d8576b\"], [0.6666666666666666, \"#ed7953\"], [0.7777777777777778, \"#fb9f3a\"], [0.8888888888888888, \"#fdca26\"], [1.0, \"#f0f921\"]], \"type\": \"histogram2dcontour\"}], \"mesh3d\": [{\"colorbar\": {\"outlinewidth\": 0, \"ticks\": \"\"}, \"type\": \"mesh3d\"}], \"parcoords\": [{\"line\": {\"colorbar\": {\"outlinewidth\": 0, \"ticks\": \"\"}}, \"type\": \"parcoords\"}], \"pie\": [{\"automargin\": true, \"type\": \"pie\"}], \"scatter\": [{\"marker\": {\"colorbar\": {\"outlinewidth\": 0, \"ticks\": \"\"}}, \"type\": \"scatter\"}], \"scatter3d\": [{\"line\": {\"colorbar\": {\"outlinewidth\": 0, \"ticks\": \"\"}}, \"marker\": {\"colorbar\": {\"outlinewidth\": 0, \"ticks\": \"\"}}, \"type\": \"scatter3d\"}], \"scattercarpet\": [{\"marker\": {\"colorbar\": {\"outlinewidth\": 0, \"ticks\": \"\"}}, \"type\": \"scattercarpet\"}], \"scattergeo\": [{\"marker\": {\"colorbar\": {\"outlinewidth\": 0, \"ticks\": \"\"}}, \"type\": \"scattergeo\"}], \"scattergl\": [{\"marker\": {\"colorbar\": {\"outlinewidth\": 0, \"ticks\": \"\"}}, \"type\": \"scattergl\"}], \"scattermapbox\": [{\"marker\": {\"colorbar\": {\"outlinewidth\": 0, \"ticks\": \"\"}}, \"type\": \"scattermapbox\"}], \"scatterpolar\": [{\"marker\": {\"colorbar\": {\"outlinewidth\": 0, \"ticks\": \"\"}}, \"type\": \"scatterpolar\"}], \"scatterpolargl\": [{\"marker\": {\"colorbar\": {\"outlinewidth\": 0, \"ticks\": \"\"}}, \"type\": \"scatterpolargl\"}], \"scatterternary\": [{\"marker\": {\"colorbar\": {\"outlinewidth\": 0, \"ticks\": \"\"}}, \"type\": \"scatterternary\"}], \"surface\": [{\"colorbar\": {\"outlinewidth\": 0, \"ticks\": \"\"}, \"colorscale\": [[0.0, \"#0d0887\"], [0.1111111111111111, \"#46039f\"], [0.2222222222222222, \"#7201a8\"], [0.3333333333333333, \"#9c179e\"], [0.4444444444444444, \"#bd3786\"], [0.5555555555555556, \"#d8576b\"], [0.6666666666666666, \"#ed7953\"], [0.7777777777777778, \"#fb9f3a\"], [0.8888888888888888, \"#fdca26\"], [1.0, \"#f0f921\"]], \"type\": \"surface\"}], \"table\": [{\"cells\": {\"fill\": {\"color\": \"#EBF0F8\"}, \"line\": {\"color\": \"white\"}}, \"header\": {\"fill\": {\"color\": \"#C8D4E3\"}, \"line\": {\"color\": \"white\"}}, \"type\": \"table\"}]}, \"layout\": {\"annotationdefaults\": {\"arrowcolor\": \"#2a3f5f\", \"arrowhead\": 0, \"arrowwidth\": 1}, \"coloraxis\": {\"colorbar\": {\"outlinewidth\": 0, \"ticks\": \"\"}}, \"colorscale\": {\"diverging\": [[0, \"#8e0152\"], [0.1, \"#c51b7d\"], [0.2, \"#de77ae\"], [0.3, \"#f1b6da\"], [0.4, \"#fde0ef\"], [0.5, \"#f7f7f7\"], [0.6, \"#e6f5d0\"], [0.7, \"#b8e186\"], [0.8, \"#7fbc41\"], [0.9, \"#4d9221\"], [1, \"#276419\"]], \"sequential\": [[0.0, \"#0d0887\"], [0.1111111111111111, \"#46039f\"], [0.2222222222222222, \"#7201a8\"], [0.3333333333333333, \"#9c179e\"], [0.4444444444444444, \"#bd3786\"], [0.5555555555555556, \"#d8576b\"], [0.6666666666666666, \"#ed7953\"], [0.7777777777777778, \"#fb9f3a\"], [0.8888888888888888, \"#fdca26\"], [1.0, \"#f0f921\"]], \"sequentialminus\": [[0.0, \"#0d0887\"], [0.1111111111111111, \"#46039f\"], [0.2222222222222222, \"#7201a8\"], [0.3333333333333333, \"#9c179e\"], [0.4444444444444444, \"#bd3786\"], [0.5555555555555556, \"#d8576b\"], [0.6666666666666666, \"#ed7953\"], [0.7777777777777778, \"#fb9f3a\"], [0.8888888888888888, \"#fdca26\"], [1.0, \"#f0f921\"]]}, \"colorway\": [\"#636efa\", \"#EF553B\", \"#00cc96\", \"#ab63fa\", \"#FFA15A\", \"#19d3f3\", \"#FF6692\", \"#B6E880\", \"#FF97FF\", \"#FECB52\"], \"font\": {\"color\": \"#2a3f5f\"}, \"geo\": {\"bgcolor\": \"white\", \"lakecolor\": \"white\", \"landcolor\": \"#E5ECF6\", \"showlakes\": true, \"showland\": true, \"subunitcolor\": \"white\"}, \"hoverlabel\": {\"align\": \"left\"}, \"hovermode\": \"closest\", \"mapbox\": {\"style\": \"light\"}, \"paper_bgcolor\": \"white\", \"plot_bgcolor\": \"#E5ECF6\", \"polar\": {\"angularaxis\": {\"gridcolor\": \"white\", \"linecolor\": \"white\", \"ticks\": \"\"}, \"bgcolor\": \"#E5ECF6\", \"radialaxis\": {\"gridcolor\": \"white\", \"linecolor\": \"white\", \"ticks\": \"\"}}, \"scene\": {\"xaxis\": {\"backgroundcolor\": \"#E5ECF6\", \"gridcolor\": \"white\", \"gridwidth\": 2, \"linecolor\": \"white\", \"showbackground\": true, \"ticks\": \"\", \"zerolinecolor\": \"white\"}, \"yaxis\": {\"backgroundcolor\": \"#E5ECF6\", \"gridcolor\": \"white\", \"gridwidth\": 2, \"linecolor\": \"white\", \"showbackground\": true, \"ticks\": \"\", \"zerolinecolor\": \"white\"}, \"zaxis\": {\"backgroundcolor\": \"#E5ECF6\", \"gridcolor\": \"white\", \"gridwidth\": 2, \"linecolor\": \"white\", \"showbackground\": true, \"ticks\": \"\", \"zerolinecolor\": \"white\"}}, \"shapedefaults\": {\"line\": {\"color\": \"#2a3f5f\"}}, \"ternary\": {\"aaxis\": {\"gridcolor\": \"white\", \"linecolor\": \"white\", \"ticks\": \"\"}, \"baxis\": {\"gridcolor\": \"white\", \"linecolor\": \"white\", \"ticks\": \"\"}, \"bgcolor\": \"#E5ECF6\", \"caxis\": {\"gridcolor\": \"white\", \"linecolor\": \"white\", \"ticks\": \"\"}}, \"title\": {\"x\": 0.05}, \"xaxis\": {\"automargin\": true, \"gridcolor\": \"white\", \"linecolor\": \"white\", \"ticks\": \"\", \"title\": {\"standoff\": 15}, \"zerolinecolor\": \"white\", \"zerolinewidth\": 2}, \"yaxis\": {\"automargin\": true, \"gridcolor\": \"white\", \"linecolor\": \"white\", \"ticks\": \"\", \"title\": {\"standoff\": 15}, \"zerolinecolor\": \"white\", \"zerolinewidth\": 2}}}},\n",
       "                        {\"responsive\": true}\n",
       "                    ).then(function(){\n",
       "                            \n",
       "var gd = document.getElementById('81c5d2af-6afa-41d8-9a70-72449b24d33b');\n",
       "var x = new MutationObserver(function (mutations, observer) {{\n",
       "        var display = window.getComputedStyle(gd).display;\n",
       "        if (!display || display === 'none') {{\n",
       "            console.log([gd, 'removed!']);\n",
       "            Plotly.purge(gd);\n",
       "            observer.disconnect();\n",
       "        }}\n",
       "}});\n",
       "\n",
       "// Listen for the removal of the full notebook cells\n",
       "var notebookContainer = gd.closest('#notebook-container');\n",
       "if (notebookContainer) {{\n",
       "    x.observe(notebookContainer, {childList: true});\n",
       "}}\n",
       "\n",
       "// Listen for the clearing of the current output cell\n",
       "var outputEl = gd.closest('.output');\n",
       "if (outputEl) {{\n",
       "    x.observe(outputEl, {childList: true});\n",
       "}}\n",
       "\n",
       "                        })\n",
       "                };\n",
       "                });\n",
       "            </script>\n",
       "        </div>"
      ]
     },
     "metadata": {},
     "output_type": "display_data"
    }
   ],
   "source": [
    "base_predictions_train = pd.DataFrame( {'RandomForest': rf_oof_train.ravel(),\n",
    "     'ExtraTrees': et_oof_train.ravel(),\n",
    "     'AdaBoost': ad_oof_train.ravel(),\n",
    "      'GradientBoost': gb_oof_train.ravel()\n",
    "    })\n",
    "base_predictions_train.head()\n",
    "\n",
    "data = [\n",
    "    go.Heatmap(\n",
    "        z= base_predictions_train.astype(float).corr().values ,\n",
    "        x=base_predictions_train.columns.values,\n",
    "        y= base_predictions_train.columns.values,\n",
    "          colorscale='Viridis',\n",
    "            showscale=True,\n",
    "            reversescale = True\n",
    "    )\n",
    "]\n",
    "py.iplot(data, filename='labelled-heatmap')"
   ]
  },
  {
   "cell_type": "markdown",
   "metadata": {},
   "source": [
    "### Final Training with XGBoost"
   ]
  },
  {
   "cell_type": "code",
   "execution_count": 20,
   "metadata": {},
   "outputs": [],
   "source": [
    "x_ensembled_train = np.concatenate(( et_oof_train, rf_oof_train, ad_oof_train, gb_oof_train), axis=1)\n",
    "x_ensembled_test = np.concatenate(( et_oof_test, rf_oof_test, ad_oof_test, gb_oof_test), axis=1)"
   ]
  },
  {
   "cell_type": "code",
   "execution_count": 14,
   "metadata": {},
   "outputs": [],
   "source": [
    "import xgboost as xgb\n",
    "\n",
    "gbm = xgb.XGBRegressor(\n",
    " learning_rate = 0.2, #0.2=0.1364, 0.5=0.1476, 1=0.1699\n",
    " n_estimators= 20, #20=0.1377, 50=0.1413, 100=0.1462, 200=0.1503, 500=0.1544, 5000=0.1552, \n",
    " max_depth= 4,\n",
    " min_child_weight= 4,\n",
    " #gamma=1,\n",
    " gamma=0.9, #0.9=0.1356                 \n",
    " subsample=0.8, #0.8\n",
    " colsample_bytree=0.8,\n",
    " objective= 'reg:squarederror',\n",
    " nthread= -1,\n",
    " scale_pos_weight=1 #1\n",
    ").fit(x_ensembled_train, y_ens_train)\n",
    "predictions = gbm.predict(x_ensembled_test)"
   ]
  },
  {
   "cell_type": "markdown",
   "metadata": {},
   "source": [
    "### Final evaluation"
   ]
  },
  {
   "cell_type": "code",
   "execution_count": 77,
   "metadata": {},
   "outputs": [
    {
     "name": "stdout",
     "output_type": "stream",
     "text": [
      "Evaluate = 0.13566928554158408\n"
     ]
    }
   ],
   "source": [
    "import xgboost as xgb\n",
    "\n",
    "gbm = xgb.XGBRegressor(\n",
    " learning_rate = 0.2, #0.2=0.1364, 0.5=0.1476, 1=0.1699\n",
    " n_estimators= 20, #20=0.1377, 50=0.1413, 100=0.1462, 200=0.1503, 500=0.1544, 5000=0.1552, \n",
    " max_depth= 4,\n",
    " min_child_weight= 4,\n",
    " #gamma=1,\n",
    " gamma=0.9, #0.9=0.1356                 \n",
    " subsample=0.8, #0.8\n",
    " colsample_bytree=0.8,\n",
    " objective= 'reg:squarederror',\n",
    " nthread= -1,\n",
    " scale_pos_weight=1 #1\n",
    ").fit(x_ensembled_train, y_ens_train)\n",
    "predictions = gbm.predict(x_ensembled_test)\n",
    "\n",
    "acc_eval = np.sqrt(mean_squared_log_error(Y_eval, predictions))\n",
    "print (f'Evaluate = {acc_eval}')"
   ]
  },
  {
   "cell_type": "markdown",
   "metadata": {},
   "source": [
    "### Output results"
   ]
  },
  {
   "cell_type": "code",
   "execution_count": null,
   "metadata": {},
   "outputs": [],
   "source": [
    "output = pd.DataFrame({'Id': test_df.Id, 'SalePrice': predictions})\n",
    "output.to_csv('my_submission2.csv', index=False)"
   ]
  }
 ],
 "metadata": {
  "kernelspec": {
   "display_name": "Python 3",
   "language": "python",
   "name": "python3"
  },
  "language_info": {
   "codemirror_mode": {
    "name": "ipython",
    "version": 3
   },
   "file_extension": ".py",
   "mimetype": "text/x-python",
   "name": "python",
   "nbconvert_exporter": "python",
   "pygments_lexer": "ipython3",
   "version": "3.7.6"
  }
 },
 "nbformat": 4,
 "nbformat_minor": 4
}
