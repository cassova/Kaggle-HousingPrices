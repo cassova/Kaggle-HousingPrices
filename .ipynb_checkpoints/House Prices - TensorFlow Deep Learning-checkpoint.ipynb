{
 "cells": [
  {
   "cell_type": "code",
   "execution_count": 5,
   "metadata": {},
   "outputs": [],
   "source": [
    "# Based on this article: https://www.tensorflow.org/tutorials/keras/regression#the_model\n",
    "\n",
    "# How to use GPU: https://www.tensorflow.org/install/gpu#hardware_requirements\n",
    "\n",
    "import numpy as np\n",
    "import pandas as pd\n",
    "from sklearn.metrics import mean_squared_log_error\n",
    "\n",
    "train_df_full = pd.read_csv(\"new_train_1h.csv\")\n",
    "test_df = pd.read_csv(\"new_test_1h.csv\")"
   ]
  },
  {
   "cell_type": "code",
   "execution_count": 6,
   "metadata": {},
   "outputs": [],
   "source": [
    "train_df = train_df_full.sample(frac=0.6,random_state=200)\n",
    "evaluate_df = train_df_full.drop(train_df.index)\n",
    "\n",
    "X_train = train_df.drop(['Id','SalePrice'], axis=1)\n",
    "Y_train = train_df[\"SalePrice\"]\n",
    "X_train_full = train_df_full.drop(['Id','SalePrice'], axis=1)\n",
    "Y_train_full = train_df_full[\"SalePrice\"]\n",
    "X_eval  = evaluate_df.drop(['Id','SalePrice'], axis=1)\n",
    "Y_eval  = evaluate_df[\"SalePrice\"]\n",
    "X_test = test_df.drop('Id', axis=1)"
   ]
  },
  {
   "cell_type": "code",
   "execution_count": 7,
   "metadata": {},
   "outputs": [],
   "source": [
    "import matplotlib.pyplot as plt\n",
    "\n",
    "import tensorflow as tf\n",
    "from tensorflow import keras\n",
    "from tensorflow.keras import layers\n",
    "import tensorflow_docs as tfdocs\n",
    "import tensorflow_docs.plots\n",
    "import tensorflow_docs.modeling"
   ]
  },
  {
   "cell_type": "code",
   "execution_count": 8,
   "metadata": {},
   "outputs": [
    {
     "data": {
      "text/html": [
       "<div>\n",
       "<style scoped>\n",
       "    .dataframe tbody tr th:only-of-type {\n",
       "        vertical-align: middle;\n",
       "    }\n",
       "\n",
       "    .dataframe tbody tr th {\n",
       "        vertical-align: top;\n",
       "    }\n",
       "\n",
       "    .dataframe thead th {\n",
       "        text-align: right;\n",
       "    }\n",
       "</style>\n",
       "<table border=\"1\" class=\"dataframe\">\n",
       "  <thead>\n",
       "    <tr style=\"text-align: right;\">\n",
       "      <th></th>\n",
       "      <th>LotFrontage</th>\n",
       "      <th>LotArea</th>\n",
       "      <th>OverallQual</th>\n",
       "      <th>OverallCond</th>\n",
       "      <th>MasVnrArea</th>\n",
       "      <th>ExterQual</th>\n",
       "      <th>ExterCond</th>\n",
       "      <th>BsmtQual</th>\n",
       "      <th>BsmtCond</th>\n",
       "      <th>BsmtExposure</th>\n",
       "      <th>...</th>\n",
       "      <th>GarageFinish_2</th>\n",
       "      <th>GarageFinish_3</th>\n",
       "      <th>GarageType_1</th>\n",
       "      <th>GarageType_2</th>\n",
       "      <th>GarageType_3</th>\n",
       "      <th>GarageType_4</th>\n",
       "      <th>Foundation_1</th>\n",
       "      <th>Foundation_2</th>\n",
       "      <th>Foundation_3</th>\n",
       "      <th>Foundation_4</th>\n",
       "    </tr>\n",
       "  </thead>\n",
       "  <tbody>\n",
       "    <tr>\n",
       "      <th>0</th>\n",
       "      <td>0.216038</td>\n",
       "      <td>-0.217841</td>\n",
       "      <td>0.666667</td>\n",
       "      <td>0.500</td>\n",
       "      <td>0.12250</td>\n",
       "      <td>0.75</td>\n",
       "      <td>0.5</td>\n",
       "      <td>0.75</td>\n",
       "      <td>0.50</td>\n",
       "      <td>0.25</td>\n",
       "      <td>...</td>\n",
       "      <td>1</td>\n",
       "      <td>0</td>\n",
       "      <td>0</td>\n",
       "      <td>0</td>\n",
       "      <td>1</td>\n",
       "      <td>0</td>\n",
       "      <td>0</td>\n",
       "      <td>0</td>\n",
       "      <td>0</td>\n",
       "      <td>1</td>\n",
       "    </tr>\n",
       "    <tr>\n",
       "      <th>1</th>\n",
       "      <td>0.664045</td>\n",
       "      <td>-0.072032</td>\n",
       "      <td>0.555556</td>\n",
       "      <td>0.875</td>\n",
       "      <td>0.00000</td>\n",
       "      <td>0.50</td>\n",
       "      <td>0.5</td>\n",
       "      <td>0.75</td>\n",
       "      <td>0.50</td>\n",
       "      <td>1.00</td>\n",
       "      <td>...</td>\n",
       "      <td>1</td>\n",
       "      <td>0</td>\n",
       "      <td>0</td>\n",
       "      <td>0</td>\n",
       "      <td>1</td>\n",
       "      <td>0</td>\n",
       "      <td>0</td>\n",
       "      <td>1</td>\n",
       "      <td>0</td>\n",
       "      <td>0</td>\n",
       "    </tr>\n",
       "    <tr>\n",
       "      <th>2</th>\n",
       "      <td>0.305639</td>\n",
       "      <td>0.137173</td>\n",
       "      <td>0.666667</td>\n",
       "      <td>0.500</td>\n",
       "      <td>0.10125</td>\n",
       "      <td>0.75</td>\n",
       "      <td>0.5</td>\n",
       "      <td>0.75</td>\n",
       "      <td>0.50</td>\n",
       "      <td>0.50</td>\n",
       "      <td>...</td>\n",
       "      <td>1</td>\n",
       "      <td>0</td>\n",
       "      <td>0</td>\n",
       "      <td>0</td>\n",
       "      <td>1</td>\n",
       "      <td>0</td>\n",
       "      <td>0</td>\n",
       "      <td>0</td>\n",
       "      <td>0</td>\n",
       "      <td>1</td>\n",
       "    </tr>\n",
       "    <tr>\n",
       "      <th>3</th>\n",
       "      <td>0.066702</td>\n",
       "      <td>-0.078371</td>\n",
       "      <td>0.666667</td>\n",
       "      <td>0.500</td>\n",
       "      <td>0.00000</td>\n",
       "      <td>0.50</td>\n",
       "      <td>0.5</td>\n",
       "      <td>0.50</td>\n",
       "      <td>0.75</td>\n",
       "      <td>0.25</td>\n",
       "      <td>...</td>\n",
       "      <td>0</td>\n",
       "      <td>0</td>\n",
       "      <td>1</td>\n",
       "      <td>0</td>\n",
       "      <td>0</td>\n",
       "      <td>0</td>\n",
       "      <td>1</td>\n",
       "      <td>0</td>\n",
       "      <td>0</td>\n",
       "      <td>0</td>\n",
       "    </tr>\n",
       "    <tr>\n",
       "      <th>4</th>\n",
       "      <td>0.783513</td>\n",
       "      <td>0.518814</td>\n",
       "      <td>0.777778</td>\n",
       "      <td>0.500</td>\n",
       "      <td>0.21875</td>\n",
       "      <td>0.75</td>\n",
       "      <td>0.5</td>\n",
       "      <td>0.75</td>\n",
       "      <td>0.50</td>\n",
       "      <td>0.75</td>\n",
       "      <td>...</td>\n",
       "      <td>1</td>\n",
       "      <td>0</td>\n",
       "      <td>0</td>\n",
       "      <td>0</td>\n",
       "      <td>1</td>\n",
       "      <td>0</td>\n",
       "      <td>0</td>\n",
       "      <td>0</td>\n",
       "      <td>0</td>\n",
       "      <td>1</td>\n",
       "    </tr>\n",
       "  </tbody>\n",
       "</table>\n",
       "<p>5 rows × 101 columns</p>\n",
       "</div>"
      ],
      "text/plain": [
       "   LotFrontage   LotArea  OverallQual  OverallCond  MasVnrArea  ExterQual  \\\n",
       "0     0.216038 -0.217841     0.666667        0.500     0.12250       0.75   \n",
       "1     0.664045 -0.072032     0.555556        0.875     0.00000       0.50   \n",
       "2     0.305639  0.137173     0.666667        0.500     0.10125       0.75   \n",
       "3     0.066702 -0.078371     0.666667        0.500     0.00000       0.50   \n",
       "4     0.783513  0.518814     0.777778        0.500     0.21875       0.75   \n",
       "\n",
       "   ExterCond  BsmtQual  BsmtCond  BsmtExposure  ...  GarageFinish_2  \\\n",
       "0        0.5      0.75      0.50          0.25  ...               1   \n",
       "1        0.5      0.75      0.50          1.00  ...               1   \n",
       "2        0.5      0.75      0.50          0.50  ...               1   \n",
       "3        0.5      0.50      0.75          0.25  ...               0   \n",
       "4        0.5      0.75      0.50          0.75  ...               1   \n",
       "\n",
       "   GarageFinish_3  GarageType_1  GarageType_2  GarageType_3  GarageType_4  \\\n",
       "0               0             0             0             1             0   \n",
       "1               0             0             0             1             0   \n",
       "2               0             0             0             1             0   \n",
       "3               0             1             0             0             0   \n",
       "4               0             0             0             1             0   \n",
       "\n",
       "   Foundation_1  Foundation_2  Foundation_3  Foundation_4  \n",
       "0             0             0             0             1  \n",
       "1             0             1             0             0  \n",
       "2             0             0             0             1  \n",
       "3             1             0             0             0  \n",
       "4             0             0             0             1  \n",
       "\n",
       "[5 rows x 101 columns]"
      ]
     },
     "execution_count": 8,
     "metadata": {},
     "output_type": "execute_result"
    }
   ],
   "source": [
    "X_train_full.head()"
   ]
  },
  {
   "cell_type": "code",
   "execution_count": 9,
   "metadata": {},
   "outputs": [],
   "source": [
    "def rmsle_K(y, y0):\n",
    "    return K.sqrt(K.mean(K.square(tf.log1p(y) - tf.log1p(y0))))"
   ]
  },
  {
   "cell_type": "code",
   "execution_count": 10,
   "metadata": {},
   "outputs": [],
   "source": [
    "def build_model():\n",
    "    model = keras.Sequential([\n",
    "        layers.Dense(1000, activation='relu', input_shape=[len(X_train_full.keys())]),\n",
    "        layers.Dense(1000, activation='relu'),\n",
    "        layers.Dense(1)\n",
    "    ])\n",
    "\n",
    "    optimizer = tf.keras.optimizers.RMSprop(0.001)\n",
    "\n",
    "    model.compile(loss='mse',\n",
    "                optimizer=optimizer,\n",
    "                metrics=['mae', 'mse', 'MeanSquaredLogarithmicError'])\n",
    "    return model\n",
    "\n",
    "model = build_model()"
   ]
  },
  {
   "cell_type": "code",
   "execution_count": 11,
   "metadata": {},
   "outputs": [
    {
     "name": "stdout",
     "output_type": "stream",
     "text": [
      "Model: \"sequential\"\n",
      "_________________________________________________________________\n",
      "Layer (type)                 Output Shape              Param #   \n",
      "=================================================================\n",
      "dense (Dense)                (None, 1000)              102000    \n",
      "_________________________________________________________________\n",
      "dense_1 (Dense)              (None, 1000)              1001000   \n",
      "_________________________________________________________________\n",
      "dense_2 (Dense)              (None, 1)                 1001      \n",
      "=================================================================\n",
      "Total params: 1,104,001\n",
      "Trainable params: 1,104,001\n",
      "Non-trainable params: 0\n",
      "_________________________________________________________________\n"
     ]
    }
   ],
   "source": [
    "model.summary()"
   ]
  },
  {
   "cell_type": "code",
   "execution_count": 12,
   "metadata": {},
   "outputs": [
    {
     "name": "stdout",
     "output_type": "stream",
     "text": [
      "\n",
      "Epoch: 0, loss:39006228480.0000,  mae:180776.4531,  mean_squared_logarithmic_error:40.4028,  mse:39006228480.0000,  val_loss:37034471424.0000,  val_mae:176220.7344,  val_mean_squared_logarithmic_error:17.2897,  val_mse:37034471424.0000,  \n",
      "....................................................................................................\n",
      "Epoch: 100, loss:638835648.0000,  mae:15310.7832,  mean_squared_logarithmic_error:0.0160,  mse:638835648.0000,  val_loss:1567682688.0000,  val_mae:18728.6113,  val_mean_squared_logarithmic_error:0.0233,  val_mse:1567682688.0000,  \n",
      "....................................................................................................\n",
      "Epoch: 200, loss:569969856.0000,  mae:14010.4863,  mean_squared_logarithmic_error:0.0138,  mse:569969856.0000,  val_loss:1650335488.0000,  val_mae:17844.6152,  val_mean_squared_logarithmic_error:0.0218,  val_mse:1650335488.0000,  \n",
      "....................................................................................................\n",
      "Epoch: 300, loss:531851040.0000,  mae:13208.4326,  mean_squared_logarithmic_error:0.0126,  mse:531851040.0000,  val_loss:1718807040.0000,  val_mae:17386.5547,  val_mean_squared_logarithmic_error:0.0215,  val_mse:1718807040.0000,  \n",
      "....................................................................................................\n",
      "Epoch: 400, loss:496178016.0000,  mae:12636.8145,  mean_squared_logarithmic_error:0.0116,  mse:496178016.0000,  val_loss:1801170560.0000,  val_mae:17572.4121,  val_mean_squared_logarithmic_error:0.0221,  val_mse:1801170560.0000,  \n",
      "............"
     ]
    }
   ],
   "source": [
    "EPOCHS = 1000\n",
    "\n",
    "early_stop = keras.callbacks.EarlyStopping(monitor='val_mean_squared_logarithmic_error', patience=100)\n",
    "\n",
    "history = model.fit(\n",
    "  X_train_full, Y_train_full,\n",
    "  epochs=EPOCHS, validation_split = 0.3, verbose=0,\n",
    "  callbacks=[early_stop, tfdocs.modeling.EpochDots()])"
   ]
  },
  {
   "cell_type": "code",
   "execution_count": 13,
   "metadata": {},
   "outputs": [
    {
     "data": {
      "text/html": [
       "<div>\n",
       "<style scoped>\n",
       "    .dataframe tbody tr th:only-of-type {\n",
       "        vertical-align: middle;\n",
       "    }\n",
       "\n",
       "    .dataframe tbody tr th {\n",
       "        vertical-align: top;\n",
       "    }\n",
       "\n",
       "    .dataframe thead th {\n",
       "        text-align: right;\n",
       "    }\n",
       "</style>\n",
       "<table border=\"1\" class=\"dataframe\">\n",
       "  <thead>\n",
       "    <tr style=\"text-align: right;\">\n",
       "      <th></th>\n",
       "      <th>loss</th>\n",
       "      <th>mae</th>\n",
       "      <th>mse</th>\n",
       "      <th>mean_squared_logarithmic_error</th>\n",
       "      <th>val_loss</th>\n",
       "      <th>val_mae</th>\n",
       "      <th>val_mse</th>\n",
       "      <th>val_mean_squared_logarithmic_error</th>\n",
       "      <th>epoch</th>\n",
       "      <th>rmsle</th>\n",
       "      <th>val_rmsle</th>\n",
       "    </tr>\n",
       "  </thead>\n",
       "  <tbody>\n",
       "    <tr>\n",
       "      <th>407</th>\n",
       "      <td>503936736.0</td>\n",
       "      <td>12570.273438</td>\n",
       "      <td>503936736.0</td>\n",
       "      <td>0.011773</td>\n",
       "      <td>1.830438e+09</td>\n",
       "      <td>17648.802734</td>\n",
       "      <td>1.830438e+09</td>\n",
       "      <td>0.022311</td>\n",
       "      <td>407</td>\n",
       "      <td>0.108503</td>\n",
       "      <td>0.149370</td>\n",
       "    </tr>\n",
       "    <tr>\n",
       "      <th>408</th>\n",
       "      <td>489536640.0</td>\n",
       "      <td>12577.779297</td>\n",
       "      <td>489536640.0</td>\n",
       "      <td>0.011679</td>\n",
       "      <td>1.783941e+09</td>\n",
       "      <td>17536.517578</td>\n",
       "      <td>1.783941e+09</td>\n",
       "      <td>0.021955</td>\n",
       "      <td>408</td>\n",
       "      <td>0.108067</td>\n",
       "      <td>0.148171</td>\n",
       "    </tr>\n",
       "    <tr>\n",
       "      <th>409</th>\n",
       "      <td>506345888.0</td>\n",
       "      <td>12646.830078</td>\n",
       "      <td>506345888.0</td>\n",
       "      <td>0.011745</td>\n",
       "      <td>1.782980e+09</td>\n",
       "      <td>17492.093750</td>\n",
       "      <td>1.782980e+09</td>\n",
       "      <td>0.021926</td>\n",
       "      <td>409</td>\n",
       "      <td>0.108376</td>\n",
       "      <td>0.148076</td>\n",
       "    </tr>\n",
       "    <tr>\n",
       "      <th>410</th>\n",
       "      <td>488596448.0</td>\n",
       "      <td>12500.196289</td>\n",
       "      <td>488596448.0</td>\n",
       "      <td>0.011583</td>\n",
       "      <td>1.804554e+09</td>\n",
       "      <td>17552.035156</td>\n",
       "      <td>1.804554e+09</td>\n",
       "      <td>0.022074</td>\n",
       "      <td>410</td>\n",
       "      <td>0.107626</td>\n",
       "      <td>0.148574</td>\n",
       "    </tr>\n",
       "    <tr>\n",
       "      <th>411</th>\n",
       "      <td>500597600.0</td>\n",
       "      <td>12381.243164</td>\n",
       "      <td>500597600.0</td>\n",
       "      <td>0.011640</td>\n",
       "      <td>1.809389e+09</td>\n",
       "      <td>17576.070312</td>\n",
       "      <td>1.809389e+09</td>\n",
       "      <td>0.022142</td>\n",
       "      <td>411</td>\n",
       "      <td>0.107887</td>\n",
       "      <td>0.148803</td>\n",
       "    </tr>\n",
       "  </tbody>\n",
       "</table>\n",
       "</div>"
      ],
      "text/plain": [
       "            loss           mae          mse  mean_squared_logarithmic_error  \\\n",
       "407  503936736.0  12570.273438  503936736.0                        0.011773   \n",
       "408  489536640.0  12577.779297  489536640.0                        0.011679   \n",
       "409  506345888.0  12646.830078  506345888.0                        0.011745   \n",
       "410  488596448.0  12500.196289  488596448.0                        0.011583   \n",
       "411  500597600.0  12381.243164  500597600.0                        0.011640   \n",
       "\n",
       "         val_loss       val_mae       val_mse  \\\n",
       "407  1.830438e+09  17648.802734  1.830438e+09   \n",
       "408  1.783941e+09  17536.517578  1.783941e+09   \n",
       "409  1.782980e+09  17492.093750  1.782980e+09   \n",
       "410  1.804554e+09  17552.035156  1.804554e+09   \n",
       "411  1.809389e+09  17576.070312  1.809389e+09   \n",
       "\n",
       "     val_mean_squared_logarithmic_error  epoch     rmsle  val_rmsle  \n",
       "407                            0.022311    407  0.108503   0.149370  \n",
       "408                            0.021955    408  0.108067   0.148171  \n",
       "409                            0.021926    409  0.108376   0.148076  \n",
       "410                            0.022074    410  0.107626   0.148574  \n",
       "411                            0.022142    411  0.107887   0.148803  "
      ]
     },
     "execution_count": 13,
     "metadata": {},
     "output_type": "execute_result"
    }
   ],
   "source": [
    "hist = pd.DataFrame(history.history)\n",
    "hist['epoch'] = history.epoch\n",
    "hist['rmsle'] = np.sqrt(hist['mean_squared_logarithmic_error'])\n",
    "hist['val_rmsle'] = np.sqrt(hist['val_mean_squared_logarithmic_error'])\n",
    "hist.tail()"
   ]
  },
  {
   "cell_type": "code",
   "execution_count": 14,
   "metadata": {},
   "outputs": [
    {
     "data": {
      "text/plain": [
       "411    0.01164\n",
       "Name: mean_squared_logarithmic_error, dtype: float64"
      ]
     },
     "execution_count": 14,
     "metadata": {},
     "output_type": "execute_result"
    }
   ],
   "source": [
    "hist.tail(1)['mean_squared_logarithmic_error']"
   ]
  },
  {
   "cell_type": "code",
   "execution_count": 16,
   "metadata": {},
   "outputs": [
    {
     "data": {
      "text/plain": [
       "Text(0, 0.5, 'MSLE')"
      ]
     },
     "execution_count": 16,
     "metadata": {},
     "output_type": "execute_result"
    },
    {
     "data": {
      "image/png": "[encoded data removed]",
      "text/plain": [
       "<Figure size 432x288 with 1 Axes>"
      ]
     },
     "metadata": {
      "needs_background": "light"
     },
     "output_type": "display_data"
    }
   ],
   "source": [
    "plotter = tfdocs.plots.HistoryPlotter(smoothing_std=2)\n",
    "plotter.plot({'Basic': history}, metric = \"mean_squared_logarithmic_error\")\n",
    "plt.ylim([0, 0.2])\n",
    "plt.ylabel('MSLE')\n",
    "\n",
    "#print (f'Test RMSLE: {np.sqrt(hist.tail(1)['mean_squared_logarithmic_error'])}')"
   ]
  },
  {
   "cell_type": "code",
   "execution_count": 17,
   "metadata": {},
   "outputs": [
    {
     "name": "stdout",
     "output_type": "stream",
     "text": [
      "WARNING:tensorflow:Callbacks method `on_test_batch_end` is slow compared to the batch time (batch time: 0.0000s vs `on_test_batch_end` time: 0.0010s). Check your callbacks.\n",
      "46/46 - 0s - loss: 880589888.0000 - mae: 13904.7715 - mse: 880589888.0000 - mean_squared_logarithmic_error: 0.0146\n",
      "\n",
      "Final RMSLE on full training set: 0.12094982885263453\n"
     ]
    }
   ],
   "source": [
    "final_rmsle = np.sqrt(model.evaluate(X_train_full, Y_train_full, verbose=2)[3])\n",
    "print (f'\\nFinal RMSLE on full training set: {final_rmsle}')"
   ]
  },
  {
   "cell_type": "code",
   "execution_count": 21,
   "metadata": {},
   "outputs": [
    {
     "data": {
      "image/png": "[encoded data removed]",
      "text/plain": [
       "<Figure size 432x288 with 1 Axes>"
      ]
     },
     "metadata": {
      "needs_background": "light"
     },
     "output_type": "display_data"
    }
   ],
   "source": [
    "test_predictions = model.predict(X_train_full).flatten()\n",
    "\n",
    "a = plt.axes(aspect='equal')\n",
    "plt.scatter(Y_train_full, test_predictions)\n",
    "plt.xlabel('True Values [MPG]')\n",
    "plt.ylabel('Predictions [MPG]')\n",
    "lims = [0, 1000000]\n",
    "plt.xlim(lims)\n",
    "plt.ylim(lims)\n",
    "_ = plt.plot(lims, lims)"
   ]
  },
  {
   "cell_type": "code",
   "execution_count": 19,
   "metadata": {},
   "outputs": [
    {
     "data": {
      "text/plain": [
       "True"
      ]
     },
     "execution_count": 19,
     "metadata": {},
     "output_type": "execute_result"
    }
   ],
   "source": [
    "tf.test.is_built_with_cuda()"
   ]
  },
  {
   "cell_type": "code",
   "execution_count": 20,
   "metadata": {},
   "outputs": [
    {
     "data": {
      "text/plain": [
       "[PhysicalDevice(name='/physical_device:GPU:0', device_type='GPU')]"
      ]
     },
     "execution_count": 20,
     "metadata": {},
     "output_type": "execute_result"
    }
   ],
   "source": [
    "tf.config.list_physical_devices('GPU')"
   ]
  },
  {
   "cell_type": "code",
   "execution_count": null,
   "metadata": {},
   "outputs": [],
   "source": []
  }
 ],
 "metadata": {
  "kernelspec": {
   "display_name": "Python 3",
   "language": "python",
   "name": "python3"
  },
  "language_info": {
   "codemirror_mode": {
    "name": "ipython",
    "version": 3
   },
   "file_extension": ".py",
   "mimetype": "text/x-python",
   "name": "python",
   "nbconvert_exporter": "python",
   "pygments_lexer": "ipython3",
   "version": "3.7.6"
  }
 },
 "nbformat": 4,
 "nbformat_minor": 4
}
